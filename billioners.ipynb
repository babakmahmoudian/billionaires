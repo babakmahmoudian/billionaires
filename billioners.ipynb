{
 "cells": [
  {
   "cell_type": "code",
   "execution_count": 111,
   "metadata": {},
   "outputs": [],
   "source": [
    "import numpy as np\n",
    "import pandas as pd\n",
    "import matplotlib.pyplot as plt\n",
    "\n",
    "import re"
   ]
  },
  {
   "cell_type": "code",
   "execution_count": 112,
   "metadata": {},
   "outputs": [
    {
     "data": {
      "text/html": [
       "<div>\n",
       "<style scoped>\n",
       "    .dataframe tbody tr th:only-of-type {\n",
       "        vertical-align: middle;\n",
       "    }\n",
       "\n",
       "    .dataframe tbody tr th {\n",
       "        vertical-align: top;\n",
       "    }\n",
       "\n",
       "    .dataframe thead th {\n",
       "        text-align: right;\n",
       "    }\n",
       "</style>\n",
       "<table border=\"1\" class=\"dataframe\">\n",
       "  <thead>\n",
       "    <tr style=\"text-align: right;\">\n",
       "      <th></th>\n",
       "      <th>name</th>\n",
       "      <th>rank</th>\n",
       "      <th>year</th>\n",
       "      <th>company.founded</th>\n",
       "      <th>company.name</th>\n",
       "      <th>company.relationship</th>\n",
       "      <th>company.sector</th>\n",
       "      <th>company.type</th>\n",
       "      <th>demographics.age</th>\n",
       "      <th>demographics.gender</th>\n",
       "      <th>location.citizenship</th>\n",
       "      <th>location.country code</th>\n",
       "      <th>location.gdp</th>\n",
       "      <th>location.region</th>\n",
       "      <th>wealth.type</th>\n",
       "      <th>wealth.worth in billions</th>\n",
       "      <th>wealth.how.category</th>\n",
       "      <th>wealth.how.from emerging</th>\n",
       "      <th>wealth.how.industry</th>\n",
       "      <th>wealth.how.inherited</th>\n",
       "      <th>wealth.how.was founder</th>\n",
       "      <th>wealth.how.was political</th>\n",
       "    </tr>\n",
       "  </thead>\n",
       "  <tbody>\n",
       "    <tr>\n",
       "      <th>0</th>\n",
       "      <td>Bill Gates</td>\n",
       "      <td>1</td>\n",
       "      <td>1996</td>\n",
       "      <td>1975</td>\n",
       "      <td>Microsoft</td>\n",
       "      <td>founder</td>\n",
       "      <td>Software</td>\n",
       "      <td>new</td>\n",
       "      <td>40</td>\n",
       "      <td>male</td>\n",
       "      <td>United States</td>\n",
       "      <td>USA</td>\n",
       "      <td>8.100000e+12</td>\n",
       "      <td>North America</td>\n",
       "      <td>founder non-finance</td>\n",
       "      <td>18.5</td>\n",
       "      <td>New Sectors</td>\n",
       "      <td>True</td>\n",
       "      <td>Technology-Computer</td>\n",
       "      <td>not inherited</td>\n",
       "      <td>True</td>\n",
       "      <td>True</td>\n",
       "    </tr>\n",
       "    <tr>\n",
       "      <th>1</th>\n",
       "      <td>Bill Gates</td>\n",
       "      <td>1</td>\n",
       "      <td>2001</td>\n",
       "      <td>1975</td>\n",
       "      <td>Microsoft</td>\n",
       "      <td>founder</td>\n",
       "      <td>Software</td>\n",
       "      <td>new</td>\n",
       "      <td>45</td>\n",
       "      <td>male</td>\n",
       "      <td>United States</td>\n",
       "      <td>USA</td>\n",
       "      <td>1.060000e+13</td>\n",
       "      <td>North America</td>\n",
       "      <td>founder non-finance</td>\n",
       "      <td>58.7</td>\n",
       "      <td>New Sectors</td>\n",
       "      <td>True</td>\n",
       "      <td>Technology-Computer</td>\n",
       "      <td>not inherited</td>\n",
       "      <td>True</td>\n",
       "      <td>True</td>\n",
       "    </tr>\n",
       "    <tr>\n",
       "      <th>2</th>\n",
       "      <td>Bill Gates</td>\n",
       "      <td>1</td>\n",
       "      <td>2014</td>\n",
       "      <td>1975</td>\n",
       "      <td>Microsoft</td>\n",
       "      <td>founder</td>\n",
       "      <td>Software</td>\n",
       "      <td>new</td>\n",
       "      <td>58</td>\n",
       "      <td>male</td>\n",
       "      <td>United States</td>\n",
       "      <td>USA</td>\n",
       "      <td>0.000000e+00</td>\n",
       "      <td>North America</td>\n",
       "      <td>founder non-finance</td>\n",
       "      <td>76.0</td>\n",
       "      <td>New Sectors</td>\n",
       "      <td>True</td>\n",
       "      <td>Technology-Computer</td>\n",
       "      <td>not inherited</td>\n",
       "      <td>True</td>\n",
       "      <td>True</td>\n",
       "    </tr>\n",
       "    <tr>\n",
       "      <th>3</th>\n",
       "      <td>Warren Buffett</td>\n",
       "      <td>2</td>\n",
       "      <td>1996</td>\n",
       "      <td>1962</td>\n",
       "      <td>Berkshire Hathaway</td>\n",
       "      <td>founder</td>\n",
       "      <td>Finance</td>\n",
       "      <td>new</td>\n",
       "      <td>65</td>\n",
       "      <td>male</td>\n",
       "      <td>United States</td>\n",
       "      <td>USA</td>\n",
       "      <td>8.100000e+12</td>\n",
       "      <td>North America</td>\n",
       "      <td>founder non-finance</td>\n",
       "      <td>15.0</td>\n",
       "      <td>Traded Sectors</td>\n",
       "      <td>True</td>\n",
       "      <td>Consumer</td>\n",
       "      <td>not inherited</td>\n",
       "      <td>True</td>\n",
       "      <td>True</td>\n",
       "    </tr>\n",
       "    <tr>\n",
       "      <th>4</th>\n",
       "      <td>Warren Buffett</td>\n",
       "      <td>2</td>\n",
       "      <td>2001</td>\n",
       "      <td>1962</td>\n",
       "      <td>Berkshire Hathaway</td>\n",
       "      <td>founder</td>\n",
       "      <td>Finance</td>\n",
       "      <td>new</td>\n",
       "      <td>70</td>\n",
       "      <td>male</td>\n",
       "      <td>United States</td>\n",
       "      <td>USA</td>\n",
       "      <td>1.060000e+13</td>\n",
       "      <td>North America</td>\n",
       "      <td>founder non-finance</td>\n",
       "      <td>32.3</td>\n",
       "      <td>Traded Sectors</td>\n",
       "      <td>True</td>\n",
       "      <td>Consumer</td>\n",
       "      <td>not inherited</td>\n",
       "      <td>True</td>\n",
       "      <td>True</td>\n",
       "    </tr>\n",
       "    <tr>\n",
       "      <th>...</th>\n",
       "      <td>...</td>\n",
       "      <td>...</td>\n",
       "      <td>...</td>\n",
       "      <td>...</td>\n",
       "      <td>...</td>\n",
       "      <td>...</td>\n",
       "      <td>...</td>\n",
       "      <td>...</td>\n",
       "      <td>...</td>\n",
       "      <td>...</td>\n",
       "      <td>...</td>\n",
       "      <td>...</td>\n",
       "      <td>...</td>\n",
       "      <td>...</td>\n",
       "      <td>...</td>\n",
       "      <td>...</td>\n",
       "      <td>...</td>\n",
       "      <td>...</td>\n",
       "      <td>...</td>\n",
       "      <td>...</td>\n",
       "      <td>...</td>\n",
       "      <td>...</td>\n",
       "    </tr>\n",
       "    <tr>\n",
       "      <th>2609</th>\n",
       "      <td>Wu Chung-Yi</td>\n",
       "      <td>1565</td>\n",
       "      <td>2014</td>\n",
       "      <td>1991</td>\n",
       "      <td>Tingyi</td>\n",
       "      <td>investor</td>\n",
       "      <td>beverages and food</td>\n",
       "      <td>new</td>\n",
       "      <td>55</td>\n",
       "      <td>male</td>\n",
       "      <td>Taiwan</td>\n",
       "      <td>Taiwan</td>\n",
       "      <td>0.000000e+00</td>\n",
       "      <td>East Asia</td>\n",
       "      <td>executive</td>\n",
       "      <td>1.0</td>\n",
       "      <td>Traded Sectors</td>\n",
       "      <td>True</td>\n",
       "      <td>Non-consumer industrial</td>\n",
       "      <td>not inherited</td>\n",
       "      <td>True</td>\n",
       "      <td>True</td>\n",
       "    </tr>\n",
       "    <tr>\n",
       "      <th>2610</th>\n",
       "      <td>Wu Xiong</td>\n",
       "      <td>1565</td>\n",
       "      <td>2014</td>\n",
       "      <td>1999</td>\n",
       "      <td>Biostime International Holdings</td>\n",
       "      <td>owner</td>\n",
       "      <td>infant formula</td>\n",
       "      <td>new</td>\n",
       "      <td>0</td>\n",
       "      <td>male</td>\n",
       "      <td>China</td>\n",
       "      <td>CHN</td>\n",
       "      <td>0.000000e+00</td>\n",
       "      <td>East Asia</td>\n",
       "      <td>executive</td>\n",
       "      <td>1.0</td>\n",
       "      <td>Traded Sectors</td>\n",
       "      <td>True</td>\n",
       "      <td>Consumer</td>\n",
       "      <td>not inherited</td>\n",
       "      <td>True</td>\n",
       "      <td>True</td>\n",
       "    </tr>\n",
       "    <tr>\n",
       "      <th>2611</th>\n",
       "      <td>Yang Keng</td>\n",
       "      <td>1565</td>\n",
       "      <td>2014</td>\n",
       "      <td>0</td>\n",
       "      <td>Blue Ray Corp</td>\n",
       "      <td>chairman</td>\n",
       "      <td>real estate</td>\n",
       "      <td>new</td>\n",
       "      <td>53</td>\n",
       "      <td>male</td>\n",
       "      <td>China</td>\n",
       "      <td>CHN</td>\n",
       "      <td>0.000000e+00</td>\n",
       "      <td>East Asia</td>\n",
       "      <td>self-made finance</td>\n",
       "      <td>1.0</td>\n",
       "      <td>Financial</td>\n",
       "      <td>True</td>\n",
       "      <td>Real Estate</td>\n",
       "      <td>not inherited</td>\n",
       "      <td>True</td>\n",
       "      <td>True</td>\n",
       "    </tr>\n",
       "    <tr>\n",
       "      <th>2612</th>\n",
       "      <td>Zdenek Bakala</td>\n",
       "      <td>1565</td>\n",
       "      <td>2014</td>\n",
       "      <td>1994</td>\n",
       "      <td>Patria Finance</td>\n",
       "      <td>founder</td>\n",
       "      <td>coal</td>\n",
       "      <td>new</td>\n",
       "      <td>53</td>\n",
       "      <td>male</td>\n",
       "      <td>Czech Republic</td>\n",
       "      <td>CZE</td>\n",
       "      <td>0.000000e+00</td>\n",
       "      <td>Europe</td>\n",
       "      <td>privatized and resources</td>\n",
       "      <td>1.0</td>\n",
       "      <td>Resource Related</td>\n",
       "      <td>True</td>\n",
       "      <td>Mining and metals</td>\n",
       "      <td>not inherited</td>\n",
       "      <td>True</td>\n",
       "      <td>True</td>\n",
       "    </tr>\n",
       "    <tr>\n",
       "      <th>2613</th>\n",
       "      <td>Zhu Wenchen</td>\n",
       "      <td>1565</td>\n",
       "      <td>2014</td>\n",
       "      <td>1999</td>\n",
       "      <td>Furen Pharmaceutical Group</td>\n",
       "      <td>chairman</td>\n",
       "      <td>pharmaceuticals</td>\n",
       "      <td>new</td>\n",
       "      <td>48</td>\n",
       "      <td>male</td>\n",
       "      <td>China</td>\n",
       "      <td>CHN</td>\n",
       "      <td>0.000000e+00</td>\n",
       "      <td>East Asia</td>\n",
       "      <td>executive</td>\n",
       "      <td>1.0</td>\n",
       "      <td>New Sectors</td>\n",
       "      <td>True</td>\n",
       "      <td>Technology-Medical</td>\n",
       "      <td>not inherited</td>\n",
       "      <td>True</td>\n",
       "      <td>True</td>\n",
       "    </tr>\n",
       "  </tbody>\n",
       "</table>\n",
       "<p>2614 rows × 22 columns</p>\n",
       "</div>"
      ],
      "text/plain": [
       "                name  rank  year  company.founded  \\\n",
       "0         Bill Gates     1  1996             1975   \n",
       "1         Bill Gates     1  2001             1975   \n",
       "2         Bill Gates     1  2014             1975   \n",
       "3     Warren Buffett     2  1996             1962   \n",
       "4     Warren Buffett     2  2001             1962   \n",
       "...              ...   ...   ...              ...   \n",
       "2609     Wu Chung-Yi  1565  2014             1991   \n",
       "2610        Wu Xiong  1565  2014             1999   \n",
       "2611       Yang Keng  1565  2014                0   \n",
       "2612   Zdenek Bakala  1565  2014             1994   \n",
       "2613     Zhu Wenchen  1565  2014             1999   \n",
       "\n",
       "                         company.name company.relationship  \\\n",
       "0                           Microsoft              founder   \n",
       "1                           Microsoft              founder   \n",
       "2                           Microsoft              founder   \n",
       "3                  Berkshire Hathaway              founder   \n",
       "4                  Berkshire Hathaway              founder   \n",
       "...                               ...                  ...   \n",
       "2609                           Tingyi             investor   \n",
       "2610  Biostime International Holdings                owner   \n",
       "2611                    Blue Ray Corp             chairman   \n",
       "2612                   Patria Finance              founder   \n",
       "2613       Furen Pharmaceutical Group             chairman   \n",
       "\n",
       "          company.sector company.type  demographics.age demographics.gender  \\\n",
       "0               Software          new                40                male   \n",
       "1               Software          new                45                male   \n",
       "2               Software          new                58                male   \n",
       "3                Finance          new                65                male   \n",
       "4                Finance          new                70                male   \n",
       "...                  ...          ...               ...                 ...   \n",
       "2609  beverages and food          new                55                male   \n",
       "2610      infant formula          new                 0                male   \n",
       "2611         real estate          new                53                male   \n",
       "2612                coal          new                53                male   \n",
       "2613     pharmaceuticals          new                48                male   \n",
       "\n",
       "     location.citizenship location.country code  location.gdp location.region  \\\n",
       "0           United States                   USA  8.100000e+12   North America   \n",
       "1           United States                   USA  1.060000e+13   North America   \n",
       "2           United States                   USA  0.000000e+00   North America   \n",
       "3           United States                   USA  8.100000e+12   North America   \n",
       "4           United States                   USA  1.060000e+13   North America   \n",
       "...                   ...                   ...           ...             ...   \n",
       "2609               Taiwan                Taiwan  0.000000e+00       East Asia   \n",
       "2610                China                   CHN  0.000000e+00       East Asia   \n",
       "2611                China                   CHN  0.000000e+00       East Asia   \n",
       "2612       Czech Republic                   CZE  0.000000e+00          Europe   \n",
       "2613                China                   CHN  0.000000e+00       East Asia   \n",
       "\n",
       "                   wealth.type  wealth.worth in billions wealth.how.category  \\\n",
       "0          founder non-finance                      18.5         New Sectors   \n",
       "1          founder non-finance                      58.7         New Sectors   \n",
       "2          founder non-finance                      76.0         New Sectors   \n",
       "3          founder non-finance                      15.0      Traded Sectors   \n",
       "4          founder non-finance                      32.3      Traded Sectors   \n",
       "...                        ...                       ...                 ...   \n",
       "2609                 executive                       1.0      Traded Sectors   \n",
       "2610                 executive                       1.0      Traded Sectors   \n",
       "2611         self-made finance                       1.0           Financial   \n",
       "2612  privatized and resources                       1.0    Resource Related   \n",
       "2613                 executive                       1.0         New Sectors   \n",
       "\n",
       "      wealth.how.from emerging      wealth.how.industry wealth.how.inherited  \\\n",
       "0                         True      Technology-Computer        not inherited   \n",
       "1                         True      Technology-Computer        not inherited   \n",
       "2                         True      Technology-Computer        not inherited   \n",
       "3                         True                 Consumer        not inherited   \n",
       "4                         True                 Consumer        not inherited   \n",
       "...                        ...                      ...                  ...   \n",
       "2609                      True  Non-consumer industrial        not inherited   \n",
       "2610                      True                 Consumer        not inherited   \n",
       "2611                      True              Real Estate        not inherited   \n",
       "2612                      True        Mining and metals        not inherited   \n",
       "2613                      True       Technology-Medical        not inherited   \n",
       "\n",
       "      wealth.how.was founder  wealth.how.was political  \n",
       "0                       True                      True  \n",
       "1                       True                      True  \n",
       "2                       True                      True  \n",
       "3                       True                      True  \n",
       "4                       True                      True  \n",
       "...                      ...                       ...  \n",
       "2609                    True                      True  \n",
       "2610                    True                      True  \n",
       "2611                    True                      True  \n",
       "2612                    True                      True  \n",
       "2613                    True                      True  \n",
       "\n",
       "[2614 rows x 22 columns]"
      ]
     },
     "execution_count": 112,
     "metadata": {},
     "output_type": "execute_result"
    }
   ],
   "source": [
    "df = pd.read_csv('./billionaires.csv')\n",
    "\n",
    "pd.set_option('display.max_columns', None)\n",
    "df"
   ]
  },
  {
   "cell_type": "code",
   "execution_count": 113,
   "metadata": {},
   "outputs": [
    {
     "name": "stdout",
     "output_type": "stream",
     "text": [
      "The dataset consists of 2614 features and 22 instances.\n"
     ]
    }
   ],
   "source": [
    "print(\"The dataset consists of %d features and %d instances.\" %df.shape)"
   ]
  },
  {
   "cell_type": "code",
   "execution_count": 114,
   "metadata": {},
   "outputs": [
    {
     "name": "stdout",
     "output_type": "stream",
     "text": [
      "<class 'pandas.core.frame.DataFrame'>\n",
      "RangeIndex: 2614 entries, 0 to 2613\n",
      "Data columns (total 22 columns):\n",
      " #   Column                    Non-Null Count  Dtype  \n",
      "---  ------                    --------------  -----  \n",
      " 0   name                      2614 non-null   object \n",
      " 1   rank                      2614 non-null   int64  \n",
      " 2   year                      2614 non-null   int64  \n",
      " 3   company.founded           2614 non-null   int64  \n",
      " 4   company.name              2576 non-null   object \n",
      " 5   company.relationship      2568 non-null   object \n",
      " 6   company.sector            2591 non-null   object \n",
      " 7   company.type              2578 non-null   object \n",
      " 8   demographics.age          2614 non-null   int64  \n",
      " 9   demographics.gender       2580 non-null   object \n",
      " 10  location.citizenship      2614 non-null   object \n",
      " 11  location.country code     2614 non-null   object \n",
      " 12  location.gdp              2614 non-null   float64\n",
      " 13  location.region           2614 non-null   object \n",
      " 14  wealth.type               2592 non-null   object \n",
      " 15  wealth.worth in billions  2614 non-null   float64\n",
      " 16  wealth.how.category       2613 non-null   object \n",
      " 17  wealth.how.from emerging  2614 non-null   bool   \n",
      " 18  wealth.how.industry       2613 non-null   object \n",
      " 19  wealth.how.inherited      2614 non-null   object \n",
      " 20  wealth.how.was founder    2614 non-null   bool   \n",
      " 21  wealth.how.was political  2614 non-null   bool   \n",
      "dtypes: bool(3), float64(2), int64(4), object(13)\n",
      "memory usage: 395.8+ KB\n"
     ]
    }
   ],
   "source": [
    "df.info()"
   ]
  },
  {
   "cell_type": "markdown",
   "metadata": {},
   "source": [
    "# Preprocessing\n",
    "This includes data cleanse, filling missing data, and removing duplicates."
   ]
  },
  {
   "cell_type": "markdown",
   "metadata": {},
   "source": [
    "## Cleaning up features"
   ]
  },
  {
   "cell_type": "markdown",
   "metadata": {},
   "source": [
    "### General touches"
   ]
  },
  {
   "cell_type": "code",
   "execution_count": 115,
   "metadata": {},
   "outputs": [],
   "source": [
    "# Removing trailing and leading spaces from names\n",
    "# Removing all consecutive spaces in the middle of the names\n",
    "# Removing all extra dots\n",
    "\n",
    "for col in df.select_dtypes(include=['object']).columns:\n",
    "    df[col] = df[col].apply(lambda x: x.strip().replace('..', '.').replace('  ', ' ') if isinstance(x, str) else x)"
   ]
  },
  {
   "cell_type": "markdown",
   "metadata": {},
   "source": [
    "### wealth.how.was political"
   ]
  },
  {
   "cell_type": "code",
   "execution_count": 116,
   "metadata": {},
   "outputs": [
    {
     "data": {
      "text/plain": [
       "True    2614\n",
       "Name: wealth.how.was political, dtype: int64"
      ]
     },
     "execution_count": 116,
     "metadata": {},
     "output_type": "execute_result"
    }
   ],
   "source": [
    "df['wealth.how.was political'].value_counts()"
   ]
  },
  {
   "cell_type": "markdown",
   "metadata": {},
   "source": [
    "### wealth.how.was founder"
   ]
  },
  {
   "cell_type": "code",
   "execution_count": 117,
   "metadata": {},
   "outputs": [
    {
     "data": {
      "text/plain": [
       "True    2614\n",
       "Name: wealth.how.was founder, dtype: int64"
      ]
     },
     "execution_count": 117,
     "metadata": {},
     "output_type": "execute_result"
    }
   ],
   "source": [
    "df['wealth.how.was founder'].value_counts()"
   ]
  },
  {
   "cell_type": "markdown",
   "metadata": {},
   "source": [
    "### wealth.how.inherited"
   ]
  },
  {
   "cell_type": "code",
   "execution_count": 118,
   "metadata": {},
   "outputs": [
    {
     "data": {
      "text/plain": [
       "not inherited               1688\n",
       "father                       558\n",
       "3rd generation               210\n",
       "4th generation                68\n",
       "spouse/widow                  59\n",
       "5th generation or longer      31\n",
       "Name: wealth.how.inherited, dtype: int64"
      ]
     },
     "execution_count": 118,
     "metadata": {},
     "output_type": "execute_result"
    }
   ],
   "source": [
    "df['wealth.how.inherited'].value_counts()"
   ]
  },
  {
   "cell_type": "markdown",
   "metadata": {},
   "source": [
    "### wealth.how.industry"
   ]
  },
  {
   "cell_type": "code",
   "execution_count": 119,
   "metadata": {},
   "outputs": [
    {
     "data": {
      "text/plain": [
       "Consumer                           471\n",
       "Retail, Restaurant                 281\n",
       "Real Estate                        280\n",
       "Money Management                   249\n",
       "Media                              219\n",
       "Technology-Computer                208\n",
       "Diversified financial              167\n",
       "Energy                             132\n",
       "Technology-Medical                 111\n",
       "Non-consumer industrial            107\n",
       "Constrution                         97\n",
       "Mining and metals                   90\n",
       "Other                               83\n",
       "Hedge funds                         67\n",
       "Private equity/leveraged buyout     25\n",
       "0                                   16\n",
       "Venture Capital                      8\n",
       "banking                              1\n",
       "services                             1\n",
       "Name: wealth.how.industry, dtype: int64"
      ]
     },
     "execution_count": 119,
     "metadata": {},
     "output_type": "execute_result"
    }
   ],
   "source": [
    "df['wealth.how.industry'].value_counts()"
   ]
  },
  {
   "cell_type": "code",
   "execution_count": 120,
   "metadata": {},
   "outputs": [],
   "source": [
    "df['wealth.how.industry'] = df['wealth.how.industry'].replace(\n",
    "    {\n",
    "        '0': 'Unspecified',\n",
    "        'Retail, Restaurant': 'Retail/Restaurant',\n",
    "        'Technology-Computer': 'Technology/Computer',\n",
    "        'Technology-Medical': 'Technology/Medical',\n",
    "    }\n",
    ")"
   ]
  },
  {
   "cell_type": "code",
   "execution_count": 121,
   "metadata": {},
   "outputs": [
    {
     "data": {
      "text/plain": [
       "1"
      ]
     },
     "execution_count": 121,
     "metadata": {},
     "output_type": "execute_result"
    }
   ],
   "source": [
    "df['wealth.how.industry'].isna().sum()"
   ]
  },
  {
   "cell_type": "code",
   "execution_count": 122,
   "metadata": {},
   "outputs": [],
   "source": [
    "df['wealth.how.industry'] = df['wealth.how.industry'].fillna('Unspecified')"
   ]
  },
  {
   "cell_type": "markdown",
   "metadata": {},
   "source": [
    "### wealth.how.from emerging"
   ]
  },
  {
   "cell_type": "code",
   "execution_count": 123,
   "metadata": {},
   "outputs": [
    {
     "data": {
      "text/plain": [
       "True    2614\n",
       "Name: wealth.how.from emerging, dtype: int64"
      ]
     },
     "execution_count": 123,
     "metadata": {},
     "output_type": "execute_result"
    }
   ],
   "source": [
    "df['wealth.how.from emerging'].value_counts()"
   ]
  },
  {
   "cell_type": "markdown",
   "metadata": {},
   "source": [
    "### wealth.how.category"
   ]
  },
  {
   "cell_type": "code",
   "execution_count": 124,
   "metadata": {},
   "outputs": [
    {
     "data": {
      "text/plain": [
       "Financial             800\n",
       "Non-Traded Sectors    597\n",
       "Traded Sectors        564\n",
       "New Sectors           319\n",
       "Resource Related      245\n",
       "0                      85\n",
       "Finance                 1\n",
       "Trucking                1\n",
       "energy                  1\n",
       "Name: wealth.how.category, dtype: int64"
      ]
     },
     "execution_count": 124,
     "metadata": {},
     "output_type": "execute_result"
    }
   ],
   "source": [
    "df['wealth.how.category'].value_counts()"
   ]
  },
  {
   "cell_type": "code",
   "execution_count": 125,
   "metadata": {},
   "outputs": [],
   "source": [
    "df['wealth.how.category'] = df['wealth.how.category'].replace(\n",
    "    {\n",
    "        '0': 'Unspecified'\n",
    "    }\n",
    ")"
   ]
  },
  {
   "cell_type": "code",
   "execution_count": 126,
   "metadata": {},
   "outputs": [
    {
     "data": {
      "text/plain": [
       "1"
      ]
     },
     "execution_count": 126,
     "metadata": {},
     "output_type": "execute_result"
    }
   ],
   "source": [
    "df['wealth.how.category'].isna().sum()"
   ]
  },
  {
   "cell_type": "code",
   "execution_count": 127,
   "metadata": {},
   "outputs": [],
   "source": [
    "df['wealth.how.category'] = df['wealth.how.category'].fillna('Unspecified')"
   ]
  },
  {
   "cell_type": "markdown",
   "metadata": {},
   "source": [
    "### wealth.type"
   ]
  },
  {
   "cell_type": "code",
   "execution_count": 128,
   "metadata": {},
   "outputs": [
    {
     "data": {
      "text/plain": [
       "inherited                   953\n",
       "founder non-finance         713\n",
       "self-made finance           500\n",
       "privatized and resources    236\n",
       "executive                   190\n",
       "Name: wealth.type, dtype: int64"
      ]
     },
     "execution_count": 128,
     "metadata": {},
     "output_type": "execute_result"
    }
   ],
   "source": [
    "df['wealth.type'].value_counts()"
   ]
  },
  {
   "cell_type": "code",
   "execution_count": 129,
   "metadata": {},
   "outputs": [
    {
     "data": {
      "text/plain": [
       "22"
      ]
     },
     "execution_count": 129,
     "metadata": {},
     "output_type": "execute_result"
    }
   ],
   "source": [
    "df['wealth.type'].isna().sum()"
   ]
  },
  {
   "cell_type": "code",
   "execution_count": 130,
   "metadata": {},
   "outputs": [],
   "source": [
    "df['wealth.type'] = df['wealth.type'].fillna('Unspecified')"
   ]
  },
  {
   "cell_type": "markdown",
   "metadata": {},
   "source": [
    "### location.region"
   ]
  },
  {
   "cell_type": "code",
   "execution_count": 131,
   "metadata": {},
   "outputs": [
    {
     "data": {
      "text/plain": [
       "North America               992\n",
       "Europe                      698\n",
       "East Asia                   535\n",
       "Latin America               182\n",
       "Middle East/North Africa    117\n",
       "South Asia                   69\n",
       "Sub-Saharan Africa           20\n",
       "0                             1\n",
       "Name: location.region, dtype: int64"
      ]
     },
     "execution_count": 131,
     "metadata": {},
     "output_type": "execute_result"
    }
   ],
   "source": [
    "df['location.region'].value_counts()"
   ]
  },
  {
   "cell_type": "code",
   "execution_count": 132,
   "metadata": {},
   "outputs": [],
   "source": [
    "df['location.region'] = df['location.region'].replace(\n",
    "    {\n",
    "        '0': 'Unspecified'\n",
    "    }\n",
    ")"
   ]
  },
  {
   "cell_type": "code",
   "execution_count": 133,
   "metadata": {},
   "outputs": [
    {
     "data": {
      "text/plain": [
       "0"
      ]
     },
     "execution_count": 133,
     "metadata": {},
     "output_type": "execute_result"
    }
   ],
   "source": [
    "df['location.region'].isna().sum()"
   ]
  },
  {
   "cell_type": "markdown",
   "metadata": {},
   "source": [
    "### location.country code"
   ]
  },
  {
   "cell_type": "code",
   "execution_count": 134,
   "metadata": {},
   "outputs": [
    {
     "data": {
      "text/plain": [
       "array(['AGO', 'ARE', 'ARG', 'AUS', 'AUT', 'BEL', 'BHR', 'BMU', 'BRA',\n",
       "       'CAN', 'CHE', 'CHL', 'CHN', 'COL', 'CYP', 'CZE', 'DEN', 'DEU',\n",
       "       'DNK', 'DZA', 'ECU', 'EGY', 'ESP', 'FIN', 'FRA', 'GBR', 'GEO',\n",
       "       'GGY', 'GRC', 'HKG', 'IDN', 'IND', 'IRL', 'ISR', 'ITA', 'JPN',\n",
       "       'KAZ', 'KNA', 'KOR', 'KWT', 'LBN', 'LIE', 'LTU', 'MAC', 'MAR',\n",
       "       'MCO', 'MEX', 'MYS', 'NGA', 'NLD', 'NOR', 'NPL', 'NZL', 'OMN',\n",
       "       'PER', 'PHL', 'POL', 'PRT', 'ROU', 'RUS', 'SAU', 'SGP', 'SWE',\n",
       "       'SWZ', 'THA', 'TUR', 'TZA', 'Taiwan', 'UGA', 'UKR', 'USA', 'VEN',\n",
       "       'VNM', 'ZAF'], dtype=object)"
      ]
     },
     "execution_count": 134,
     "metadata": {},
     "output_type": "execute_result"
    }
   ],
   "source": [
    "country_codes = df['location.country code'].unique()\n",
    "country_codes.sort()\n",
    "country_codes"
   ]
  },
  {
   "cell_type": "code",
   "execution_count": 135,
   "metadata": {},
   "outputs": [
    {
     "data": {
      "text/plain": [
       "0"
      ]
     },
     "execution_count": 135,
     "metadata": {},
     "output_type": "execute_result"
    }
   ],
   "source": [
    "df['location.country code'].isna().sum()"
   ]
  },
  {
   "cell_type": "markdown",
   "metadata": {},
   "source": [
    "### location.citizenship"
   ]
  },
  {
   "cell_type": "code",
   "execution_count": 136,
   "metadata": {},
   "outputs": [
    {
     "data": {
      "text/plain": [
       "array(['Algeria', 'Angola', 'Argentina', 'Australia', 'Austria',\n",
       "       'Bahrain', 'Belgium', 'Bermuda', 'Brazil', 'Canada', 'Chile',\n",
       "       'China', 'Colombia', 'Cyprus', 'Czech Republic', 'Denmark',\n",
       "       'Ecuador', 'Egypt', 'Finland', 'France', 'Georgia', 'Germany',\n",
       "       'Greece', 'Guernsey', 'Hong Kong', 'India', 'Indonesia', 'Ireland',\n",
       "       'Israel', 'Italy', 'Japan', 'Kazakhstan', 'Kuwait', 'Lebanon',\n",
       "       'Liechtenstein', 'Lithuania', 'Macau', 'Malaysia', 'Mexico',\n",
       "       'Monaco', 'Morocco', 'Nepal', 'Netherlands', 'New Zealand',\n",
       "       'Nigeria', 'Norway', 'Oman', 'Peru', 'Philippines', 'Poland',\n",
       "       'Portugal', 'Romania', 'Russia', 'Saudi Arabia', 'Singapore',\n",
       "       'South Africa', 'South Korea', 'Spain', 'St. Kitts and Nevis',\n",
       "       'Swaziland', 'Sweden', 'Switzerland', 'Taiwan', 'Tanzania',\n",
       "       'Thailand', 'Turkey', 'Uganda', 'Ukraine', 'United Arab Emirates',\n",
       "       'United Kingdom', 'United States', 'Venezuela', 'Vietnam'],\n",
       "      dtype=object)"
      ]
     },
     "execution_count": 136,
     "metadata": {},
     "output_type": "execute_result"
    }
   ],
   "source": [
    "citizenships = df['location.citizenship'].unique()\n",
    "citizenships.sort()\n",
    "citizenships"
   ]
  },
  {
   "cell_type": "code",
   "execution_count": 137,
   "metadata": {
    "tags": []
   },
   "outputs": [
    {
     "data": {
      "text/plain": [
       "0"
      ]
     },
     "execution_count": 137,
     "metadata": {},
     "output_type": "execute_result"
    }
   ],
   "source": [
    "df['location.citizenship'].isna().sum()"
   ]
  },
  {
   "cell_type": "markdown",
   "metadata": {},
   "source": [
    "### demographics.gender"
   ]
  },
  {
   "cell_type": "code",
   "execution_count": 138,
   "metadata": {},
   "outputs": [
    {
     "data": {
      "text/plain": [
       "male              2328\n",
       "female             249\n",
       "married couple       3\n",
       "Name: demographics.gender, dtype: int64"
      ]
     },
     "execution_count": 138,
     "metadata": {},
     "output_type": "execute_result"
    }
   ],
   "source": [
    "df['demographics.gender'].value_counts()"
   ]
  },
  {
   "cell_type": "code",
   "execution_count": 139,
   "metadata": {},
   "outputs": [
    {
     "data": {
      "text/plain": [
       "34"
      ]
     },
     "execution_count": 139,
     "metadata": {},
     "output_type": "execute_result"
    }
   ],
   "source": [
    "df['demographics.gender'].isna().sum()"
   ]
  },
  {
   "cell_type": "code",
   "execution_count": 140,
   "metadata": {},
   "outputs": [],
   "source": [
    "df['demographics.gender'] = df['demographics.gender'].fillna('Unspecified')"
   ]
  },
  {
   "cell_type": "markdown",
   "metadata": {},
   "source": [
    "### company.type"
   ]
  },
  {
   "cell_type": "code",
   "execution_count": 146,
   "metadata": {},
   "outputs": [
    {
     "data": {
      "text/plain": [
       "array(['acquired', 'franchise', 'joint venture', 'merger', 'new',\n",
       "       'new/aquired', 'new/privatized', 'privatized',\n",
       "       'state owned enterprise', 'subsidiary'], dtype=object)"
      ]
     },
     "execution_count": 146,
     "metadata": {},
     "output_type": "execute_result"
    }
   ],
   "source": [
    "company_types = df['company.type'].dropna().unique()\n",
    "company_types.sort()\n",
    "company_types"
   ]
  },
  {
   "cell_type": "code",
   "execution_count": 145,
   "metadata": {},
   "outputs": [],
   "source": [
    "df['company.type'] = df['company.type'].replace(\n",
    "    {\n",
    "        'aquired': 'acquired',\n",
    "        'franchise rights': 'franchise',\n",
    "        'neew': 'new',\n",
    "        'new division': 'new',\n",
    "        'new, privitization': 'new/privatized',\n",
    "        'privatization': 'privatized'\n",
    "    }\n",
    ")"
   ]
  },
  {
   "cell_type": "code",
   "execution_count": 150,
   "metadata": {},
   "outputs": [
    {
     "data": {
      "text/plain": [
       "0"
      ]
     },
     "execution_count": 150,
     "metadata": {},
     "output_type": "execute_result"
    }
   ],
   "source": [
    "df['company.type'].isna().sum()"
   ]
  },
  {
   "cell_type": "code",
   "execution_count": 149,
   "metadata": {},
   "outputs": [],
   "source": [
    "df['company.type'] = df['company.type'].fillna('Unspecified')"
   ]
  },
  {
   "cell_type": "markdown",
   "metadata": {},
   "source": [
    "### company.sector"
   ]
  },
  {
   "cell_type": "code",
   "execution_count": 159,
   "metadata": {},
   "outputs": [
    {
     "data": {
      "text/plain": [
       "array(['GPS technology', 'HR consulting', 'IT Consulting', 'Star Wars',\n",
       "       'advertising', 'aerospace and defense', 'agribusiness',\n",
       "       'agriculteral', 'agricultural products', 'agriculture',\n",
       "       'aigriculture', 'air compressors', 'aircraft leasing', 'airline',\n",
       "       'airplanes', 'airport', 'airport maintenance', 'airports',\n",
       "       'alcohol', 'aluminum', 'aluminum, oil', 'animal feed', 'animation',\n",
       "       'antennas', 'aplliances', 'apparel', 'apparel and eyewear',\n",
       "       'apparel retail', 'appliances', 'architectural products',\n",
       "       'armaments', 'art dealing', 'asset management', 'auto components',\n",
       "       'auto dealerships', 'auto engines', 'auto glass', 'auto parts',\n",
       "       'auto repair', 'auto retail', 'auto sales, energy',\n",
       "       'automobile dealers', 'automobiles', 'automotive',\n",
       "       'automotive components', 'automotive parts', 'automotives',\n",
       "       'autos', 'aviation', 'banannas', 'bank', 'banking',\n",
       "       'banking and insurance', 'banking and real estate',\n",
       "       'banking, media', 'banking, oil, aluminum', 'banking, real estate',\n",
       "       'banking/insurance', 'banking/publishing',\n",
       "       'beauty and health care products', 'beer',\n",
       "       'beer and food distribution', 'beverages', 'beverages and food',\n",
       "       'bicycles', 'biopharmaceutical', 'biotech', 'biotech investing',\n",
       "       'boats', 'bottled water', 'brake systems', 'braking systems',\n",
       "       'brewery', 'bridge to canada', 'broadcasting', 'brokerage/banking',\n",
       "       'building materials', 'business centers', 'cable', 'cameras',\n",
       "       'candy', 'cans', 'cars', 'cars, finance', 'casinos', 'catering',\n",
       "       'cell phones', 'cement', 'cheese', 'chemicals',\n",
       "       'chocolate and coffee', 'chocolates', 'cigarette', 'cigarettes',\n",
       "       'cleaning products', 'cleaning supplies', 'clothing',\n",
       "       'cloud computing', 'coal', 'coffee', 'cogeneration',\n",
       "       'commercial pilot training', 'commodities',\n",
       "       'commodities (sugar, cement flour)',\n",
       "       'commodities (wheat, oil, shipping)', 'commodities trading',\n",
       "       'commodity trading', 'communications', 'comodities',\n",
       "       'computer parts', 'computer services', 'computers',\n",
       "       'confectionary', 'construcion', 'construction',\n",
       "       'construction, hotels, gaming', 'construction, utilities',\n",
       "       'construction,banking', 'construction/insurance',\n",
       "       'construction/real estate', 'construction/real estate/banking',\n",
       "       'consumer goods', 'consumer loans', 'consumer retail', 'copper',\n",
       "       'copper, poultry', 'copper/mining', 'cork', 'cosmetics',\n",
       "       'cotton yarn', 'cranes', 'credit cards', 'cruises',\n",
       "       'currency trading', 'dairy', 'dairy products', 'data processing',\n",
       "       'data storage', 'dental implants', 'diamond jewelry', 'diamonds',\n",
       "       'diapers', 'diversified investments', 'domestic appliances',\n",
       "       'drinks', 'drug stores', 'e-commerce',\n",
       "       'e-commerce, venture capital', 'education',\n",
       "       'education, language schools', 'electonics',\n",
       "       'electonics components', 'electric motors', 'electricity',\n",
       "       'electronic componants', 'electronic interconnectors',\n",
       "       'electronics', 'elevators', 'elevators, escalators, engineering',\n",
       "       'energy', 'energy (coal, oil and gas)',\n",
       "       'energy, retail, manufacturing', 'engineering', 'entertainment',\n",
       "       'ethanol', 'express delivery services', 'eyeglasses', 'fashion',\n",
       "       'fashion retail', 'fashion/oil', 'fertalizers', 'fertilizer',\n",
       "       'fertilizers', 'fiber optic cables', 'film', 'finace', 'finance',\n",
       "       'financial information', 'financial services', 'flavorings',\n",
       "       'flooring', 'food', 'food and energy processess',\n",
       "       'food distribution', 'food manufacturing', 'food packaging',\n",
       "       'food processing', 'food processing/commodities',\n",
       "       'food production', 'food products', 'food retail',\n",
       "       'food sweeteners', 'food, entertainment', 'footwear',\n",
       "       'forestry and mining', 'frozen foods', 'furniture', 'gambing',\n",
       "       'gambling software', 'gaming', 'gas', 'gas and propane',\n",
       "       'gas pipeline', 'gas, petrochemicals', 'glass', 'glasses',\n",
       "       'golf courses', 'grain', 'greeting cards', 'groceries', 'gum',\n",
       "       'hair care', 'hair care products', 'hair care products/tequila',\n",
       "       'hardware stores', 'healthcare', 'healthcare IT',\n",
       "       'healthcare management', 'heating systems', 'heavy equipment',\n",
       "       'heavy equiptment (excavators, backhoes and tractors)',\n",
       "       'heavy manufacturing', 'hedge funds', 'holding company',\n",
       "       'home building materials', 'home furnishings',\n",
       "       'home improvement retail', 'hospitality',\n",
       "       'hospitality and food service', 'hospitals', 'hostile takeovers',\n",
       "       'hotels', 'hotels and supermarkets', 'industrial automation',\n",
       "       'industrial equipment', 'industrial goods',\n",
       "       'industrial manufacturing and banking', 'industrial software',\n",
       "       'industrial tools', 'infant formula', 'information services',\n",
       "       'infrastructure', 'insurance', 'insurancei, power', 'internet',\n",
       "       'internet companies', 'internet company',\n",
       "       'internet domain and web hosting', 'internet provider',\n",
       "       'internet service company', 'internet service provider',\n",
       "       'investment', 'investment (via holding company)',\n",
       "       'investment banking', 'investment banking/beer',\n",
       "       'investment mangagment', 'investments',\n",
       "       'investments/real estate, sports teams', 'invetsments', 'iron',\n",
       "       'iron and steel', 'iron ore', 'jeans', 'jewelry',\n",
       "       'kitchen appliances', 'laboratory services',\n",
       "       'landscape architecture', 'laptops', 'laundry soap', 'lawsuits',\n",
       "       'leather', 'leveraged buyout', 'leveraged buyouts',\n",
       "       'life insurance', 'linear actuators', 'liquor',\n",
       "       'locomotive manufacturing', 'logging', 'logistics', 'lumber',\n",
       "       'lumber, real estate', 'luxury fashion', 'luxury goods',\n",
       "       'mail order retail', 'makeup', 'manufacturing',\n",
       "       'manufacturing (agriculture, steel, electronics)',\n",
       "       'manufacturing, real estate, aviation', 'mass transit',\n",
       "       'measuring instruments', 'meat processing', 'meat products',\n",
       "       'media', 'media, exports', 'media, pipelines', 'medical devices',\n",
       "       'medical equipment', 'medical supplies', 'medical technology',\n",
       "       'metals', 'metals and mining', 'metals, paper, cement',\n",
       "       'metals/banking', 'mettallurgy', 'microchips', 'milk', 'mining',\n",
       "       'mining, banking', 'mining, investments', 'mining, steel',\n",
       "       'mobile app', 'mobile phone batteries', 'mobile phones',\n",
       "       'money management', 'mortgage banking', 'mortgages', 'motorcycles',\n",
       "       'movie theatres', 'movies', 'music', 'mutal funds', 'mutual funds',\n",
       "       'natural flavors', 'natural gas', 'networking equipment',\n",
       "       'new technology', 'nutrition supplements', 'oil', 'oil and gas',\n",
       "       'oil and natural gas', 'oil exploration equipment',\n",
       "       'oil field services', 'oil infrastructure', 'oil refining',\n",
       "       'oil services', 'oil tankers', 'oil trading',\n",
       "       'oil, railroad, investments', 'oil/investments',\n",
       "       'oil/telecommunications', 'oilfield equipment',\n",
       "       'oilfield services', 'oleochemicals and palm oil', 'online gaming',\n",
       "       'outsourcing', 'pachinko', 'pachinko gaming machines', 'paint',\n",
       "       'palm oil', 'palm oil, mining', 'palm oil/real estate', 'paper',\n",
       "       'paper manufacturing/investment', 'paper products',\n",
       "       'payroll processing', 'pet food', 'pet supplies, real estate',\n",
       "       'petrochemicals', 'petrochemicals and textiles',\n",
       "       'petrochemicals, textiles', 'petroleum', 'pharmaceuticals',\n",
       "       'pipelines', 'pipes', 'plastic', 'plastics', 'polymers', 'port',\n",
       "       'port containers', 'port logistics', 'ports, gas',\n",
       "       'postal service, beverages', 'power engineering',\n",
       "       'precious metals', 'printers', 'printing',\n",
       "       'printing and electronics', 'private equity',\n",
       "       'private investment company', 'processing machinary',\n",
       "       'property development', 'property, textile manufacturing',\n",
       "       'publishing', 'racing', 'real estate',\n",
       "       'real estate (shopping malls)', 'real estate and metals',\n",
       "       'real estate, financial services and computers',\n",
       "       'real estate, retail', 'real estate/banking',\n",
       "       'real estate/sports teams', 'relocation services', 'rental cars',\n",
       "       'restaurant', 'restaurants', 'retail',\n",
       "       'retail, financial services, real estate',\n",
       "       'retail, home appliances', 'rice trading, mining, infrastructure',\n",
       "       'risk management', 'roller bearings', 'roofing', 'salsa',\n",
       "       'satallite communications', 'screws', 'security',\n",
       "       'security and surveillance technology', 'security equipment',\n",
       "       'seeds', 'self storage', 'self-storage', 'semiconductors',\n",
       "       'service assurance instruments', 'sewage treatment',\n",
       "       'sewing machines', 'shale', 'shipbuilding', 'shipping',\n",
       "       'shoe retail', 'shoes', 'shopping centers',\n",
       "       'small-company lending', 'snack foods', 'social network',\n",
       "       'soft drinks', 'software', 'solar energy', 'soup', 'soy sauce',\n",
       "       'spirits', 'sporting goods', 'sports', 'sports equipment',\n",
       "       'sports retail', 'sports team', 'sportswear', 'staffing company',\n",
       "       'staffing services', 'steel', 'steel/banking', 'steel/oil',\n",
       "       'stock broker', 'stock brokerage', 'sugar, flour, cement',\n",
       "       'supermarkets', 'supply chain', 'technology',\n",
       "       'technology consulting', 'technology publishing', 'telecom',\n",
       "       'telecom, finance', 'telecom, oil, beer', 'telecom/investments',\n",
       "       'telecomm', 'telecommunications', 'television', 'textiles',\n",
       "       'textiles, industrial goods, media', 'timber', 'timber and paper',\n",
       "       'timber, plantations', 'tire manufacturing', 'tires', 'tobacco',\n",
       "       'tobacco/luxury brands', 'toll roads', 'tools', 'tortillas',\n",
       "       'toys', 'tractors', 'trade fairs', 'trade investment', 'trading',\n",
       "       'trading company', 'transportation', 'travel company',\n",
       "       'truck stop', 'truck stops', 'trucking', 'trucking and logistics',\n",
       "       'uniforms', 'utilities', 'utilities/financial services',\n",
       "       'vacuum cleaners', 'venture capitalist', 'video games',\n",
       "       'video technology', 'waste management', 'watch retail', 'watches',\n",
       "       'web broadcasting', 'wind energy', 'wine', 'wine and spirits',\n",
       "       'winter jackets', 'wireless products', 'wool',\n",
       "       'wrestling promotion', 'yogurt', 'zippers'], dtype=object)"
      ]
     },
     "execution_count": 159,
     "metadata": {},
     "output_type": "execute_result"
    }
   ],
   "source": [
    "sectors = df['company.sector'].dropna().unique()\n",
    "sectors.sort()\n",
    "sectors"
   ]
  },
  {
   "cell_type": "code",
   "execution_count": 158,
   "metadata": {},
   "outputs": [],
   "source": [
    "\n",
    "df['company.sector'] = df['company.sector'].replace(\n",
    "    {\n",
    "        'Banking': 'banking',\n",
    "        'Communications': 'communications',\n",
    "        'Fashion': 'fashion',\n",
    "        'Finance': 'finance',\n",
    "        'Oil refining': 'oil refining',\n",
    "        'Software': 'software'\n",
    "    }\n",
    ")"
   ]
  },
  {
   "cell_type": "markdown",
   "metadata": {},
   "source": [
    "### company.relationship"
   ]
  },
  {
   "cell_type": "code",
   "execution_count": 65,
   "metadata": {
    "execution": {
     "iopub.execute_input": "2022-11-10T10:30:02.757900Z",
     "iopub.status.busy": "2022-11-10T10:30:02.757500Z",
     "iopub.status.idle": "2022-11-10T10:30:02.767306Z",
     "shell.execute_reply": "2022-11-10T10:30:02.765983Z",
     "shell.execute_reply.started": "2022-11-10T10:30:02.757873Z"
    }
   },
   "outputs": [
    {
     "data": {
      "text/plain": [
       "['founder',\n",
       " 'nan',\n",
       " 'founder, chairman',\n",
       " 'relation',\n",
       " 'ceo',\n",
       " 'chairman',\n",
       " 'investor',\n",
       " 'founder and ceo',\n",
       " 'founder, ceo',\n",
       " 'owner',\n",
       " 'chairman of management committee',\n",
       " 'founder and chairman',\n",
       " 'chairman and chief executive officer',\n",
       " 'general director',\n",
       " 'executive chairman',\n",
       " 'chairman, founder',\n",
       " 'founder, chairman, ceo',\n",
       " 'former chairman and ceo',\n",
       " 'relation and chairman',\n",
       " 'investor, founder',\n",
       " 'partner',\n",
       " 'president',\n",
       " 'investor and ceo',\n",
       " 'founder ceo owner',\n",
       " 'chairman, shareholder',\n",
       " 'vice president',\n",
       " 'chairman of the board',\n",
       " 'founder, relation',\n",
       " 'founder, vice chairman',\n",
       " 'honorary president for life',\n",
       " 'former ceo',\n",
       " 'inherited',\n",
       " 'vice-chairman',\n",
       " 'owner and vice chair',\n",
       " 'founder, president',\n",
       " 'co-chairman',\n",
       " 'lawer',\n",
       " 'relation, vice chairman',\n",
       " 'chairman, ceo',\n",
       " 'employee',\n",
       " \"head of microsoft's application software group\",\n",
       " 'chariman',\n",
       " 'exectuitve director',\n",
       " 'vice chairman',\n",
       " 'shareholder',\n",
       " 'relation and ceo',\n",
       " 'founder, chairwoman, ceo',\n",
       " 'founder and executive chairman',\n",
       " 'leadership',\n",
       " 'co-director of zinc, copper and lead',\n",
       " 'head of high-yield bond trading dept',\n",
       " 'owner and former ceo',\n",
       " 'relative',\n",
       " 'president and ceo',\n",
       " 'chief executive',\n",
       " 'founder and chairwoman',\n",
       " 'supervisory board or directors',\n",
       " 'lawyer',\n",
       " 'inventor',\n",
       " 'founder and executive vice chairman',\n",
       " 'global head of real estate',\n",
       " 'head of board of directors',\n",
       " 'vice president of infrastructure software',\n",
       " 'chairman and ceo',\n",
       " 'coo',\n",
       " 'chairwomen',\n",
       " 'deputy chairman',\n",
       " 'director']"
      ]
     },
     "execution_count": 65,
     "metadata": {},
     "output_type": "execute_result"
    }
   ],
   "source": [
    "list(df['company.relationship'].unique())"
   ]
  },
  {
   "cell_type": "code",
   "execution_count": 63,
   "metadata": {
    "execution": {
     "iopub.execute_input": "2022-11-10T10:29:55.932677Z",
     "iopub.status.busy": "2022-11-10T10:29:55.932106Z",
     "iopub.status.idle": "2022-11-10T10:29:55.944642Z",
     "shell.execute_reply": "2022-11-10T10:29:55.943717Z",
     "shell.execute_reply.started": "2022-11-10T10:29:55.932641Z"
    }
   },
   "outputs": [],
   "source": [
    "df['company.relationship'] = df['company.relationship'].apply(\n",
    "    lambda x: str(x).lower().replace('/', ', ')\n",
    ")"
   ]
  },
  {
   "cell_type": "markdown",
   "metadata": {},
   "source": [
    "### name"
   ]
  },
  {
   "cell_type": "markdown",
   "metadata": {},
   "source": [
    "Listing possible inconsistancies where the names are different, but the following features are the same:\n",
    "<ul>\n",
    "    <li>company.founded</li>\n",
    "    <li>company.name</li>\n",
    "    <li>company.relationship</li>\n",
    "    <li>company.sector</li>\n",
    "    <li>company.type</li>\n",
    "    <li>demographics.gender</li>\n",
    "    <li>location.citizenship</li>\n",
    "    <li>location.country code</li>\n",
    "    <li>location.region</li>\n",
    "    <li>wealth.type</li>\n",
    "    <li>wealth.how.category</li>\n",
    "    <li>wealth.how.from emerging</li>\n",
    "    <li>wealth.how.industry</li>\n",
    "    <li>wealth.how.inherited</li>\n",
    "</ul>"
   ]
  },
  {
   "cell_type": "code",
   "execution_count": 64,
   "metadata": {
    "execution": {
     "iopub.execute_input": "2022-11-10T10:29:55.947293Z",
     "iopub.status.busy": "2022-11-10T10:29:55.946420Z",
     "iopub.status.idle": "2022-11-10T10:29:55.959434Z",
     "shell.execute_reply": "2022-11-10T10:29:55.957855Z",
     "shell.execute_reply.started": "2022-11-10T10:29:55.947247Z"
    }
   },
   "outputs": [
    {
     "ename": "SyntaxError",
     "evalue": "invalid syntax (1649346416.py, line 17)",
     "output_type": "error",
     "traceback": [
      "\u001b[0;36m  File \u001b[0;32m\"/tmp/ipykernel_27/1649346416.py\"\u001b[0;36m, line \u001b[0;32m17\u001b[0m\n\u001b[0;31m    dup_rows[duprows[]]\u001b[0m\n\u001b[0m                     ^\u001b[0m\n\u001b[0;31mSyntaxError\u001b[0m\u001b[0;31m:\u001b[0m invalid syntax\n"
     ]
    }
   ],
   "source": [
    "dup_cols = ['company.founded',\n",
    "            'company.name',\n",
    "            'company.relationship',\n",
    "            'company.sector',\n",
    "            'company.type',\n",
    "            'demographics.gender',\n",
    "            'location.citizenship',\n",
    "            'location.country code',\n",
    "            'location.region',\n",
    "            'wealth.type',\n",
    "            'wealth.how.category',\n",
    "            'wealth.how.from emerging',\n",
    "            'wealth.how.industry',\n",
    "            'wealth.how.inherited']\n",
    "\n",
    "dup_rows = df[df.duplicated(subset=dup_cols)]\n",
    "dup_rows[duprows[]]"
   ]
  },
  {
   "cell_type": "code",
   "execution_count": null,
   "metadata": {
    "execution": {
     "iopub.status.busy": "2022-11-10T10:29:55.961011Z",
     "iopub.status.idle": "2022-11-10T10:29:55.961480Z",
     "shell.execute_reply": "2022-11-10T10:29:55.961269Z",
     "shell.execute_reply.started": "2022-11-10T10:29:55.961245Z"
    }
   },
   "outputs": [],
   "source": [
    "import re\n",
    "\n",
    "df[df['name'].apply(lambda x: (re.search('abraham', x, re.IGNORECASE) is not None))]"
   ]
  },
  {
   "cell_type": "code",
   "execution_count": null,
   "metadata": {
    "execution": {
     "iopub.status.busy": "2022-11-10T10:29:55.963033Z",
     "iopub.status.idle": "2022-11-10T10:29:55.963879Z",
     "shell.execute_reply": "2022-11-10T10:29:55.963674Z",
     "shell.execute_reply.started": "2022-11-10T10:29:55.963650Z"
    }
   },
   "outputs": [],
   "source": [
    "import re\n",
    "\n",
    "df[df['name'].apply(lambda x: (re.search('abraham', x, re.IGNORECASE) is not None))]"
   ]
  }
 ],
 "metadata": {
  "kernelspec": {
   "display_name": "Python 3 (ipykernel)",
   "language": "python",
   "name": "python3"
  },
  "language_info": {
   "codemirror_mode": {
    "name": "ipython",
    "version": 3
   },
   "file_extension": ".py",
   "mimetype": "text/x-python",
   "name": "python",
   "nbconvert_exporter": "python",
   "pygments_lexer": "ipython3",
   "version": "3.10.6"
  }
 },
 "nbformat": 4,
 "nbformat_minor": 4
}
