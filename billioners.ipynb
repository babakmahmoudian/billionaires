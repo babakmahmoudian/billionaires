{
 "cells": [
  {
   "cell_type": "code",
   "execution_count": 335,
   "metadata": {},
   "outputs": [],
   "source": [
    "import numpy as np\n",
    "import pandas as pd\n",
    "import matplotlib.pyplot as plt\n",
    "\n",
    "import re"
   ]
  },
  {
   "cell_type": "code",
   "execution_count": 336,
   "metadata": {},
   "outputs": [
    {
     "data": {
      "text/html": [
       "<div>\n",
       "<style scoped>\n",
       "    .dataframe tbody tr th:only-of-type {\n",
       "        vertical-align: middle;\n",
       "    }\n",
       "\n",
       "    .dataframe tbody tr th {\n",
       "        vertical-align: top;\n",
       "    }\n",
       "\n",
       "    .dataframe thead th {\n",
       "        text-align: right;\n",
       "    }\n",
       "</style>\n",
       "<table border=\"1\" class=\"dataframe\">\n",
       "  <thead>\n",
       "    <tr style=\"text-align: right;\">\n",
       "      <th></th>\n",
       "      <th>name</th>\n",
       "      <th>rank</th>\n",
       "      <th>year</th>\n",
       "      <th>company.founded</th>\n",
       "      <th>company.name</th>\n",
       "      <th>company.relationship</th>\n",
       "      <th>company.sector</th>\n",
       "      <th>company.type</th>\n",
       "      <th>demographics.age</th>\n",
       "      <th>demographics.gender</th>\n",
       "      <th>location.citizenship</th>\n",
       "      <th>location.country code</th>\n",
       "      <th>location.gdp</th>\n",
       "      <th>location.region</th>\n",
       "      <th>wealth.type</th>\n",
       "      <th>wealth.worth in billions</th>\n",
       "      <th>wealth.how.category</th>\n",
       "      <th>wealth.how.from emerging</th>\n",
       "      <th>wealth.how.industry</th>\n",
       "      <th>wealth.how.inherited</th>\n",
       "      <th>wealth.how.was founder</th>\n",
       "      <th>wealth.how.was political</th>\n",
       "    </tr>\n",
       "  </thead>\n",
       "  <tbody>\n",
       "    <tr>\n",
       "      <th>0</th>\n",
       "      <td>Bill Gates</td>\n",
       "      <td>1</td>\n",
       "      <td>1996</td>\n",
       "      <td>1975</td>\n",
       "      <td>Microsoft</td>\n",
       "      <td>founder</td>\n",
       "      <td>Software</td>\n",
       "      <td>new</td>\n",
       "      <td>40</td>\n",
       "      <td>male</td>\n",
       "      <td>United States</td>\n",
       "      <td>USA</td>\n",
       "      <td>8.100000e+12</td>\n",
       "      <td>North America</td>\n",
       "      <td>founder non-finance</td>\n",
       "      <td>18.5</td>\n",
       "      <td>New Sectors</td>\n",
       "      <td>True</td>\n",
       "      <td>Technology-Computer</td>\n",
       "      <td>not inherited</td>\n",
       "      <td>True</td>\n",
       "      <td>True</td>\n",
       "    </tr>\n",
       "    <tr>\n",
       "      <th>1</th>\n",
       "      <td>Bill Gates</td>\n",
       "      <td>1</td>\n",
       "      <td>2001</td>\n",
       "      <td>1975</td>\n",
       "      <td>Microsoft</td>\n",
       "      <td>founder</td>\n",
       "      <td>Software</td>\n",
       "      <td>new</td>\n",
       "      <td>45</td>\n",
       "      <td>male</td>\n",
       "      <td>United States</td>\n",
       "      <td>USA</td>\n",
       "      <td>1.060000e+13</td>\n",
       "      <td>North America</td>\n",
       "      <td>founder non-finance</td>\n",
       "      <td>58.7</td>\n",
       "      <td>New Sectors</td>\n",
       "      <td>True</td>\n",
       "      <td>Technology-Computer</td>\n",
       "      <td>not inherited</td>\n",
       "      <td>True</td>\n",
       "      <td>True</td>\n",
       "    </tr>\n",
       "    <tr>\n",
       "      <th>2</th>\n",
       "      <td>Bill Gates</td>\n",
       "      <td>1</td>\n",
       "      <td>2014</td>\n",
       "      <td>1975</td>\n",
       "      <td>Microsoft</td>\n",
       "      <td>founder</td>\n",
       "      <td>Software</td>\n",
       "      <td>new</td>\n",
       "      <td>58</td>\n",
       "      <td>male</td>\n",
       "      <td>United States</td>\n",
       "      <td>USA</td>\n",
       "      <td>0.000000e+00</td>\n",
       "      <td>North America</td>\n",
       "      <td>founder non-finance</td>\n",
       "      <td>76.0</td>\n",
       "      <td>New Sectors</td>\n",
       "      <td>True</td>\n",
       "      <td>Technology-Computer</td>\n",
       "      <td>not inherited</td>\n",
       "      <td>True</td>\n",
       "      <td>True</td>\n",
       "    </tr>\n",
       "    <tr>\n",
       "      <th>3</th>\n",
       "      <td>Warren Buffett</td>\n",
       "      <td>2</td>\n",
       "      <td>1996</td>\n",
       "      <td>1962</td>\n",
       "      <td>Berkshire Hathaway</td>\n",
       "      <td>founder</td>\n",
       "      <td>Finance</td>\n",
       "      <td>new</td>\n",
       "      <td>65</td>\n",
       "      <td>male</td>\n",
       "      <td>United States</td>\n",
       "      <td>USA</td>\n",
       "      <td>8.100000e+12</td>\n",
       "      <td>North America</td>\n",
       "      <td>founder non-finance</td>\n",
       "      <td>15.0</td>\n",
       "      <td>Traded Sectors</td>\n",
       "      <td>True</td>\n",
       "      <td>Consumer</td>\n",
       "      <td>not inherited</td>\n",
       "      <td>True</td>\n",
       "      <td>True</td>\n",
       "    </tr>\n",
       "    <tr>\n",
       "      <th>4</th>\n",
       "      <td>Warren Buffett</td>\n",
       "      <td>2</td>\n",
       "      <td>2001</td>\n",
       "      <td>1962</td>\n",
       "      <td>Berkshire Hathaway</td>\n",
       "      <td>founder</td>\n",
       "      <td>Finance</td>\n",
       "      <td>new</td>\n",
       "      <td>70</td>\n",
       "      <td>male</td>\n",
       "      <td>United States</td>\n",
       "      <td>USA</td>\n",
       "      <td>1.060000e+13</td>\n",
       "      <td>North America</td>\n",
       "      <td>founder non-finance</td>\n",
       "      <td>32.3</td>\n",
       "      <td>Traded Sectors</td>\n",
       "      <td>True</td>\n",
       "      <td>Consumer</td>\n",
       "      <td>not inherited</td>\n",
       "      <td>True</td>\n",
       "      <td>True</td>\n",
       "    </tr>\n",
       "    <tr>\n",
       "      <th>...</th>\n",
       "      <td>...</td>\n",
       "      <td>...</td>\n",
       "      <td>...</td>\n",
       "      <td>...</td>\n",
       "      <td>...</td>\n",
       "      <td>...</td>\n",
       "      <td>...</td>\n",
       "      <td>...</td>\n",
       "      <td>...</td>\n",
       "      <td>...</td>\n",
       "      <td>...</td>\n",
       "      <td>...</td>\n",
       "      <td>...</td>\n",
       "      <td>...</td>\n",
       "      <td>...</td>\n",
       "      <td>...</td>\n",
       "      <td>...</td>\n",
       "      <td>...</td>\n",
       "      <td>...</td>\n",
       "      <td>...</td>\n",
       "      <td>...</td>\n",
       "      <td>...</td>\n",
       "    </tr>\n",
       "    <tr>\n",
       "      <th>2609</th>\n",
       "      <td>Wu Chung-Yi</td>\n",
       "      <td>1565</td>\n",
       "      <td>2014</td>\n",
       "      <td>1991</td>\n",
       "      <td>Tingyi</td>\n",
       "      <td>investor</td>\n",
       "      <td>beverages and food</td>\n",
       "      <td>new</td>\n",
       "      <td>55</td>\n",
       "      <td>male</td>\n",
       "      <td>Taiwan</td>\n",
       "      <td>Taiwan</td>\n",
       "      <td>0.000000e+00</td>\n",
       "      <td>East Asia</td>\n",
       "      <td>executive</td>\n",
       "      <td>1.0</td>\n",
       "      <td>Traded Sectors</td>\n",
       "      <td>True</td>\n",
       "      <td>Non-consumer industrial</td>\n",
       "      <td>not inherited</td>\n",
       "      <td>True</td>\n",
       "      <td>True</td>\n",
       "    </tr>\n",
       "    <tr>\n",
       "      <th>2610</th>\n",
       "      <td>Wu Xiong</td>\n",
       "      <td>1565</td>\n",
       "      <td>2014</td>\n",
       "      <td>1999</td>\n",
       "      <td>Biostime International Holdings</td>\n",
       "      <td>owner</td>\n",
       "      <td>infant formula</td>\n",
       "      <td>new</td>\n",
       "      <td>0</td>\n",
       "      <td>male</td>\n",
       "      <td>China</td>\n",
       "      <td>CHN</td>\n",
       "      <td>0.000000e+00</td>\n",
       "      <td>East Asia</td>\n",
       "      <td>executive</td>\n",
       "      <td>1.0</td>\n",
       "      <td>Traded Sectors</td>\n",
       "      <td>True</td>\n",
       "      <td>Consumer</td>\n",
       "      <td>not inherited</td>\n",
       "      <td>True</td>\n",
       "      <td>True</td>\n",
       "    </tr>\n",
       "    <tr>\n",
       "      <th>2611</th>\n",
       "      <td>Yang Keng</td>\n",
       "      <td>1565</td>\n",
       "      <td>2014</td>\n",
       "      <td>0</td>\n",
       "      <td>Blue Ray Corp</td>\n",
       "      <td>chairman</td>\n",
       "      <td>real estate</td>\n",
       "      <td>new</td>\n",
       "      <td>53</td>\n",
       "      <td>male</td>\n",
       "      <td>China</td>\n",
       "      <td>CHN</td>\n",
       "      <td>0.000000e+00</td>\n",
       "      <td>East Asia</td>\n",
       "      <td>self-made finance</td>\n",
       "      <td>1.0</td>\n",
       "      <td>Financial</td>\n",
       "      <td>True</td>\n",
       "      <td>Real Estate</td>\n",
       "      <td>not inherited</td>\n",
       "      <td>True</td>\n",
       "      <td>True</td>\n",
       "    </tr>\n",
       "    <tr>\n",
       "      <th>2612</th>\n",
       "      <td>Zdenek Bakala</td>\n",
       "      <td>1565</td>\n",
       "      <td>2014</td>\n",
       "      <td>1994</td>\n",
       "      <td>Patria Finance</td>\n",
       "      <td>founder</td>\n",
       "      <td>coal</td>\n",
       "      <td>new</td>\n",
       "      <td>53</td>\n",
       "      <td>male</td>\n",
       "      <td>Czech Republic</td>\n",
       "      <td>CZE</td>\n",
       "      <td>0.000000e+00</td>\n",
       "      <td>Europe</td>\n",
       "      <td>privatized and resources</td>\n",
       "      <td>1.0</td>\n",
       "      <td>Resource Related</td>\n",
       "      <td>True</td>\n",
       "      <td>Mining and metals</td>\n",
       "      <td>not inherited</td>\n",
       "      <td>True</td>\n",
       "      <td>True</td>\n",
       "    </tr>\n",
       "    <tr>\n",
       "      <th>2613</th>\n",
       "      <td>Zhu Wenchen</td>\n",
       "      <td>1565</td>\n",
       "      <td>2014</td>\n",
       "      <td>1999</td>\n",
       "      <td>Furen Pharmaceutical Group</td>\n",
       "      <td>chairman</td>\n",
       "      <td>pharmaceuticals</td>\n",
       "      <td>new</td>\n",
       "      <td>48</td>\n",
       "      <td>male</td>\n",
       "      <td>China</td>\n",
       "      <td>CHN</td>\n",
       "      <td>0.000000e+00</td>\n",
       "      <td>East Asia</td>\n",
       "      <td>executive</td>\n",
       "      <td>1.0</td>\n",
       "      <td>New Sectors</td>\n",
       "      <td>True</td>\n",
       "      <td>Technology-Medical</td>\n",
       "      <td>not inherited</td>\n",
       "      <td>True</td>\n",
       "      <td>True</td>\n",
       "    </tr>\n",
       "  </tbody>\n",
       "</table>\n",
       "<p>2614 rows × 22 columns</p>\n",
       "</div>"
      ],
      "text/plain": [
       "                name  rank  year  company.founded  \\\n",
       "0         Bill Gates     1  1996             1975   \n",
       "1         Bill Gates     1  2001             1975   \n",
       "2         Bill Gates     1  2014             1975   \n",
       "3     Warren Buffett     2  1996             1962   \n",
       "4     Warren Buffett     2  2001             1962   \n",
       "...              ...   ...   ...              ...   \n",
       "2609     Wu Chung-Yi  1565  2014             1991   \n",
       "2610        Wu Xiong  1565  2014             1999   \n",
       "2611       Yang Keng  1565  2014                0   \n",
       "2612   Zdenek Bakala  1565  2014             1994   \n",
       "2613     Zhu Wenchen  1565  2014             1999   \n",
       "\n",
       "                         company.name company.relationship  \\\n",
       "0                           Microsoft              founder   \n",
       "1                           Microsoft              founder   \n",
       "2                           Microsoft              founder   \n",
       "3                  Berkshire Hathaway              founder   \n",
       "4                  Berkshire Hathaway              founder   \n",
       "...                               ...                  ...   \n",
       "2609                           Tingyi             investor   \n",
       "2610  Biostime International Holdings                owner   \n",
       "2611                    Blue Ray Corp             chairman   \n",
       "2612                   Patria Finance              founder   \n",
       "2613       Furen Pharmaceutical Group             chairman   \n",
       "\n",
       "          company.sector company.type  demographics.age demographics.gender  \\\n",
       "0               Software          new                40                male   \n",
       "1               Software          new                45                male   \n",
       "2               Software          new                58                male   \n",
       "3                Finance          new                65                male   \n",
       "4                Finance          new                70                male   \n",
       "...                  ...          ...               ...                 ...   \n",
       "2609  beverages and food          new                55                male   \n",
       "2610      infant formula          new                 0                male   \n",
       "2611         real estate          new                53                male   \n",
       "2612                coal          new                53                male   \n",
       "2613     pharmaceuticals          new                48                male   \n",
       "\n",
       "     location.citizenship location.country code  location.gdp location.region  \\\n",
       "0           United States                   USA  8.100000e+12   North America   \n",
       "1           United States                   USA  1.060000e+13   North America   \n",
       "2           United States                   USA  0.000000e+00   North America   \n",
       "3           United States                   USA  8.100000e+12   North America   \n",
       "4           United States                   USA  1.060000e+13   North America   \n",
       "...                   ...                   ...           ...             ...   \n",
       "2609               Taiwan                Taiwan  0.000000e+00       East Asia   \n",
       "2610                China                   CHN  0.000000e+00       East Asia   \n",
       "2611                China                   CHN  0.000000e+00       East Asia   \n",
       "2612       Czech Republic                   CZE  0.000000e+00          Europe   \n",
       "2613                China                   CHN  0.000000e+00       East Asia   \n",
       "\n",
       "                   wealth.type  wealth.worth in billions wealth.how.category  \\\n",
       "0          founder non-finance                      18.5         New Sectors   \n",
       "1          founder non-finance                      58.7         New Sectors   \n",
       "2          founder non-finance                      76.0         New Sectors   \n",
       "3          founder non-finance                      15.0      Traded Sectors   \n",
       "4          founder non-finance                      32.3      Traded Sectors   \n",
       "...                        ...                       ...                 ...   \n",
       "2609                 executive                       1.0      Traded Sectors   \n",
       "2610                 executive                       1.0      Traded Sectors   \n",
       "2611         self-made finance                       1.0           Financial   \n",
       "2612  privatized and resources                       1.0    Resource Related   \n",
       "2613                 executive                       1.0         New Sectors   \n",
       "\n",
       "      wealth.how.from emerging      wealth.how.industry wealth.how.inherited  \\\n",
       "0                         True      Technology-Computer        not inherited   \n",
       "1                         True      Technology-Computer        not inherited   \n",
       "2                         True      Technology-Computer        not inherited   \n",
       "3                         True                 Consumer        not inherited   \n",
       "4                         True                 Consumer        not inherited   \n",
       "...                        ...                      ...                  ...   \n",
       "2609                      True  Non-consumer industrial        not inherited   \n",
       "2610                      True                 Consumer        not inherited   \n",
       "2611                      True              Real Estate        not inherited   \n",
       "2612                      True        Mining and metals        not inherited   \n",
       "2613                      True       Technology-Medical        not inherited   \n",
       "\n",
       "      wealth.how.was founder  wealth.how.was political  \n",
       "0                       True                      True  \n",
       "1                       True                      True  \n",
       "2                       True                      True  \n",
       "3                       True                      True  \n",
       "4                       True                      True  \n",
       "...                      ...                       ...  \n",
       "2609                    True                      True  \n",
       "2610                    True                      True  \n",
       "2611                    True                      True  \n",
       "2612                    True                      True  \n",
       "2613                    True                      True  \n",
       "\n",
       "[2614 rows x 22 columns]"
      ]
     },
     "execution_count": 336,
     "metadata": {},
     "output_type": "execute_result"
    }
   ],
   "source": [
    "df = pd.read_csv('./billionaires.csv')\n",
    "\n",
    "pd.set_option('display.max_columns', None)\n",
    "df"
   ]
  },
  {
   "cell_type": "code",
   "execution_count": 337,
   "metadata": {},
   "outputs": [
    {
     "name": "stdout",
     "output_type": "stream",
     "text": [
      "The dataset consists of 2614 features and 22 instances.\n"
     ]
    }
   ],
   "source": [
    "print(\"The dataset consists of %d features and %d instances.\" %df.shape)"
   ]
  },
  {
   "cell_type": "code",
   "execution_count": 338,
   "metadata": {},
   "outputs": [
    {
     "name": "stdout",
     "output_type": "stream",
     "text": [
      "<class 'pandas.core.frame.DataFrame'>\n",
      "RangeIndex: 2614 entries, 0 to 2613\n",
      "Data columns (total 22 columns):\n",
      " #   Column                    Non-Null Count  Dtype  \n",
      "---  ------                    --------------  -----  \n",
      " 0   name                      2614 non-null   object \n",
      " 1   rank                      2614 non-null   int64  \n",
      " 2   year                      2614 non-null   int64  \n",
      " 3   company.founded           2614 non-null   int64  \n",
      " 4   company.name              2576 non-null   object \n",
      " 5   company.relationship      2568 non-null   object \n",
      " 6   company.sector            2591 non-null   object \n",
      " 7   company.type              2578 non-null   object \n",
      " 8   demographics.age          2614 non-null   int64  \n",
      " 9   demographics.gender       2580 non-null   object \n",
      " 10  location.citizenship      2614 non-null   object \n",
      " 11  location.country code     2614 non-null   object \n",
      " 12  location.gdp              2614 non-null   float64\n",
      " 13  location.region           2614 non-null   object \n",
      " 14  wealth.type               2592 non-null   object \n",
      " 15  wealth.worth in billions  2614 non-null   float64\n",
      " 16  wealth.how.category       2613 non-null   object \n",
      " 17  wealth.how.from emerging  2614 non-null   bool   \n",
      " 18  wealth.how.industry       2613 non-null   object \n",
      " 19  wealth.how.inherited      2614 non-null   object \n",
      " 20  wealth.how.was founder    2614 non-null   bool   \n",
      " 21  wealth.how.was political  2614 non-null   bool   \n",
      "dtypes: bool(3), float64(2), int64(4), object(13)\n",
      "memory usage: 395.8+ KB\n"
     ]
    }
   ],
   "source": [
    "df.info()"
   ]
  },
  {
   "cell_type": "markdown",
   "metadata": {},
   "source": [
    "# Preprocessing\n",
    "This includes data cleanse, filling missing data, and removing duplicates."
   ]
  },
  {
   "cell_type": "markdown",
   "metadata": {},
   "source": [
    "## Cleaning up features"
   ]
  },
  {
   "cell_type": "markdown",
   "metadata": {},
   "source": [
    "### Common touches"
   ]
  },
  {
   "cell_type": "code",
   "execution_count": null,
   "metadata": {},
   "outputs": [],
   "source": [
    "from difflib import SequenceMatcher\n",
    "\n",
    "def similar(word_list):\n",
    "    for i in range(len(word_list)):\n",
    "        first_word = word_list[i]\n",
    "        if pd.isna(first_word):\n",
    "            continue\n",
    "        print(first_word, '\\n', '-'*30)\n",
    "        res = []\n",
    "        for j in range(i+1, len(word_list)):\n",
    "            second_word = word_list[j]\n",
    "            if pd.isna(second_word):\n",
    "                continue\n",
    "            if SequenceMatcher(None, first_word, second_word).ratio() > .7:\n",
    "                res = res + [second_word]\n",
    "        if len(res) > 0:\n",
    "            print(res, '\\n\\n')"
   ]
  },
  {
   "cell_type": "code",
   "execution_count": 339,
   "metadata": {},
   "outputs": [],
   "source": [
    "# Removing trailing and leading spaces from names\n",
    "# Removing all consecutive spaces in the middle of the names\n",
    "# Removing all extra dots\n",
    "\n",
    "for col in df.select_dtypes(include=['object']).columns:\n",
    "    df[col] = df[col].apply(lambda x: x.strip().replace('..', '.').replace('  ', ' ') if isinstance(x, str) else x)"
   ]
  },
  {
   "cell_type": "markdown",
   "metadata": {},
   "source": [
    "### wealth.how.was political"
   ]
  },
  {
   "cell_type": "code",
   "execution_count": 340,
   "metadata": {},
   "outputs": [
    {
     "data": {
      "text/plain": [
       "True    2614\n",
       "Name: wealth.how.was political, dtype: int64"
      ]
     },
     "execution_count": 340,
     "metadata": {},
     "output_type": "execute_result"
    }
   ],
   "source": [
    "df['wealth.how.was political'].value_counts()"
   ]
  },
  {
   "cell_type": "markdown",
   "metadata": {},
   "source": [
    "### wealth.how.was founder"
   ]
  },
  {
   "cell_type": "code",
   "execution_count": 341,
   "metadata": {},
   "outputs": [
    {
     "data": {
      "text/plain": [
       "True    2614\n",
       "Name: wealth.how.was founder, dtype: int64"
      ]
     },
     "execution_count": 341,
     "metadata": {},
     "output_type": "execute_result"
    }
   ],
   "source": [
    "df['wealth.how.was founder'].value_counts()"
   ]
  },
  {
   "cell_type": "markdown",
   "metadata": {},
   "source": [
    "### wealth.how.inherited"
   ]
  },
  {
   "cell_type": "code",
   "execution_count": 342,
   "metadata": {},
   "outputs": [
    {
     "data": {
      "text/plain": [
       "not inherited               1688\n",
       "father                       558\n",
       "3rd generation               210\n",
       "4th generation                68\n",
       "spouse/widow                  59\n",
       "5th generation or longer      31\n",
       "Name: wealth.how.inherited, dtype: int64"
      ]
     },
     "execution_count": 342,
     "metadata": {},
     "output_type": "execute_result"
    }
   ],
   "source": [
    "df['wealth.how.inherited'].value_counts()"
   ]
  },
  {
   "cell_type": "markdown",
   "metadata": {},
   "source": [
    "### wealth.how.industry"
   ]
  },
  {
   "cell_type": "code",
   "execution_count": 343,
   "metadata": {},
   "outputs": [
    {
     "data": {
      "text/plain": [
       "Consumer                           471\n",
       "Retail, Restaurant                 281\n",
       "Real Estate                        280\n",
       "Money Management                   249\n",
       "Media                              219\n",
       "Technology-Computer                208\n",
       "Diversified financial              167\n",
       "Energy                             132\n",
       "Technology-Medical                 111\n",
       "Non-consumer industrial            107\n",
       "Constrution                         97\n",
       "Mining and metals                   90\n",
       "Other                               83\n",
       "Hedge funds                         67\n",
       "Private equity/leveraged buyout     25\n",
       "0                                   16\n",
       "Venture Capital                      8\n",
       "banking                              1\n",
       "services                             1\n",
       "Name: wealth.how.industry, dtype: int64"
      ]
     },
     "execution_count": 343,
     "metadata": {},
     "output_type": "execute_result"
    }
   ],
   "source": [
    "df['wealth.how.industry'].value_counts()"
   ]
  },
  {
   "cell_type": "code",
   "execution_count": 344,
   "metadata": {},
   "outputs": [],
   "source": [
    "df['wealth.how.industry'] = df['wealth.how.industry'].replace(\n",
    "    {\n",
    "        '0': 'Unspecified',\n",
    "        'Retail, Restaurant': 'Retail/Restaurant',\n",
    "        'Technology-Computer': 'Technology/Computer',\n",
    "        'Technology-Medical': 'Technology/Medical',\n",
    "    }\n",
    ")"
   ]
  },
  {
   "cell_type": "code",
   "execution_count": 345,
   "metadata": {},
   "outputs": [
    {
     "data": {
      "text/plain": [
       "1"
      ]
     },
     "execution_count": 345,
     "metadata": {},
     "output_type": "execute_result"
    }
   ],
   "source": [
    "df['wealth.how.industry'].isna().sum()"
   ]
  },
  {
   "cell_type": "code",
   "execution_count": 346,
   "metadata": {},
   "outputs": [],
   "source": [
    "df['wealth.how.industry'] = df['wealth.how.industry'].fillna('Unspecified')"
   ]
  },
  {
   "cell_type": "markdown",
   "metadata": {},
   "source": [
    "### wealth.how.from emerging"
   ]
  },
  {
   "cell_type": "code",
   "execution_count": 347,
   "metadata": {},
   "outputs": [
    {
     "data": {
      "text/plain": [
       "True    2614\n",
       "Name: wealth.how.from emerging, dtype: int64"
      ]
     },
     "execution_count": 347,
     "metadata": {},
     "output_type": "execute_result"
    }
   ],
   "source": [
    "df['wealth.how.from emerging'].value_counts()"
   ]
  },
  {
   "cell_type": "markdown",
   "metadata": {},
   "source": [
    "### wealth.how.category"
   ]
  },
  {
   "cell_type": "code",
   "execution_count": 348,
   "metadata": {},
   "outputs": [
    {
     "data": {
      "text/plain": [
       "Financial             800\n",
       "Non-Traded Sectors    597\n",
       "Traded Sectors        564\n",
       "New Sectors           319\n",
       "Resource Related      245\n",
       "0                      85\n",
       "Finance                 1\n",
       "Trucking                1\n",
       "energy                  1\n",
       "Name: wealth.how.category, dtype: int64"
      ]
     },
     "execution_count": 348,
     "metadata": {},
     "output_type": "execute_result"
    }
   ],
   "source": [
    "df['wealth.how.category'].value_counts()"
   ]
  },
  {
   "cell_type": "code",
   "execution_count": 349,
   "metadata": {},
   "outputs": [],
   "source": [
    "df['wealth.how.category'] = df['wealth.how.category'].replace(\n",
    "    {\n",
    "        '0': 'Unspecified'\n",
    "    }\n",
    ")"
   ]
  },
  {
   "cell_type": "code",
   "execution_count": 350,
   "metadata": {},
   "outputs": [
    {
     "data": {
      "text/plain": [
       "1"
      ]
     },
     "execution_count": 350,
     "metadata": {},
     "output_type": "execute_result"
    }
   ],
   "source": [
    "df['wealth.how.category'].isna().sum()"
   ]
  },
  {
   "cell_type": "code",
   "execution_count": 351,
   "metadata": {},
   "outputs": [],
   "source": [
    "df['wealth.how.category'] = df['wealth.how.category'].fillna('Unspecified')"
   ]
  },
  {
   "cell_type": "markdown",
   "metadata": {},
   "source": [
    "### wealth.type"
   ]
  },
  {
   "cell_type": "code",
   "execution_count": 352,
   "metadata": {},
   "outputs": [
    {
     "data": {
      "text/plain": [
       "inherited                   953\n",
       "founder non-finance         713\n",
       "self-made finance           500\n",
       "privatized and resources    236\n",
       "executive                   190\n",
       "Name: wealth.type, dtype: int64"
      ]
     },
     "execution_count": 352,
     "metadata": {},
     "output_type": "execute_result"
    }
   ],
   "source": [
    "df['wealth.type'].value_counts()"
   ]
  },
  {
   "cell_type": "code",
   "execution_count": 353,
   "metadata": {},
   "outputs": [
    {
     "data": {
      "text/plain": [
       "22"
      ]
     },
     "execution_count": 353,
     "metadata": {},
     "output_type": "execute_result"
    }
   ],
   "source": [
    "df['wealth.type'].isna().sum()"
   ]
  },
  {
   "cell_type": "code",
   "execution_count": 354,
   "metadata": {},
   "outputs": [],
   "source": [
    "df['wealth.type'] = df['wealth.type'].fillna('Unspecified')"
   ]
  },
  {
   "cell_type": "markdown",
   "metadata": {},
   "source": [
    "### location.region"
   ]
  },
  {
   "cell_type": "code",
   "execution_count": 355,
   "metadata": {},
   "outputs": [
    {
     "data": {
      "text/plain": [
       "North America               992\n",
       "Europe                      698\n",
       "East Asia                   535\n",
       "Latin America               182\n",
       "Middle East/North Africa    117\n",
       "South Asia                   69\n",
       "Sub-Saharan Africa           20\n",
       "0                             1\n",
       "Name: location.region, dtype: int64"
      ]
     },
     "execution_count": 355,
     "metadata": {},
     "output_type": "execute_result"
    }
   ],
   "source": [
    "df['location.region'].value_counts()"
   ]
  },
  {
   "cell_type": "code",
   "execution_count": 356,
   "metadata": {},
   "outputs": [],
   "source": [
    "df['location.region'] = df['location.region'].replace(\n",
    "    {\n",
    "        '0': 'Unspecified'\n",
    "    }\n",
    ")"
   ]
  },
  {
   "cell_type": "code",
   "execution_count": 357,
   "metadata": {},
   "outputs": [
    {
     "data": {
      "text/plain": [
       "0"
      ]
     },
     "execution_count": 357,
     "metadata": {},
     "output_type": "execute_result"
    }
   ],
   "source": [
    "df['location.region'].isna().sum()"
   ]
  },
  {
   "cell_type": "markdown",
   "metadata": {},
   "source": [
    "### location.country code"
   ]
  },
  {
   "cell_type": "code",
   "execution_count": 376,
   "metadata": {},
   "outputs": [
    {
     "data": {
      "text/plain": [
       "array(['AGO', 'ARE', 'ARG', 'AUS', 'AUT', 'BEL', 'BHR', 'BMU', 'BRA',\n",
       "       'CAN', 'CHE', 'CHL', 'CHN', 'COL', 'CYP', 'CZE', 'DEN', 'DEU',\n",
       "       'DNK', 'DZA', 'ECU', 'EGY', 'ESP', 'FIN', 'FRA', 'GBR', 'GEO',\n",
       "       'GGY', 'GRC', 'HKG', 'IDN', 'IND', 'IRL', 'ISR', 'ITA', 'JPN',\n",
       "       'KAZ', 'KNA', 'KOR', 'KWT', 'LBN', 'LIE', 'LTU', 'MAC', 'MAR',\n",
       "       'MCO', 'MEX', 'MYS', 'NGA', 'NLD', 'NOR', 'NPL', 'NZL', 'OMN',\n",
       "       'PER', 'PHL', 'POL', 'PRT', 'ROU', 'RUS', 'SAU', 'SGP', 'SWE',\n",
       "       'SWZ', 'THA', 'TUR', 'TZA', 'Taiwan', 'UGA', 'UKR', 'USA', 'VEN',\n",
       "       'VNM', 'ZAF'], dtype=object)"
      ]
     },
     "execution_count": 376,
     "metadata": {},
     "output_type": "execute_result"
    }
   ],
   "source": [
    "df['location.country code'].sort_values().unique()"
   ]
  },
  {
   "cell_type": "code",
   "execution_count": 359,
   "metadata": {},
   "outputs": [
    {
     "data": {
      "text/plain": [
       "0"
      ]
     },
     "execution_count": 359,
     "metadata": {},
     "output_type": "execute_result"
    }
   ],
   "source": [
    "df['location.country code'].isna().sum()"
   ]
  },
  {
   "cell_type": "markdown",
   "metadata": {},
   "source": [
    "### location.citizenship"
   ]
  },
  {
   "cell_type": "code",
   "execution_count": 377,
   "metadata": {},
   "outputs": [
    {
     "data": {
      "text/plain": [
       "array(['Algeria', 'Angola', 'Argentina', 'Australia', 'Austria',\n",
       "       'Bahrain', 'Belgium', 'Bermuda', 'Brazil', 'Canada', 'Chile',\n",
       "       'China', 'Colombia', 'Cyprus', 'Czech Republic', 'Denmark',\n",
       "       'Ecuador', 'Egypt', 'Finland', 'France', 'Georgia', 'Germany',\n",
       "       'Greece', 'Guernsey', 'Hong Kong', 'India', 'Indonesia', 'Ireland',\n",
       "       'Israel', 'Italy', 'Japan', 'Kazakhstan', 'Kuwait', 'Lebanon',\n",
       "       'Liechtenstein', 'Lithuania', 'Macau', 'Malaysia', 'Mexico',\n",
       "       'Monaco', 'Morocco', 'Nepal', 'Netherlands', 'New Zealand',\n",
       "       'Nigeria', 'Norway', 'Oman', 'Peru', 'Philippines', 'Poland',\n",
       "       'Portugal', 'Romania', 'Russia', 'Saudi Arabia', 'Singapore',\n",
       "       'South Africa', 'South Korea', 'Spain', 'St. Kitts and Nevis',\n",
       "       'Swaziland', 'Sweden', 'Switzerland', 'Taiwan', 'Tanzania',\n",
       "       'Thailand', 'Turkey', 'Uganda', 'Ukraine', 'United Arab Emirates',\n",
       "       'United Kingdom', 'United States', 'Venezuela', 'Vietnam'],\n",
       "      dtype=object)"
      ]
     },
     "execution_count": 377,
     "metadata": {},
     "output_type": "execute_result"
    }
   ],
   "source": [
    "df['location.citizenship'].sort_values().unique()"
   ]
  },
  {
   "cell_type": "code",
   "execution_count": 361,
   "metadata": {
    "tags": []
   },
   "outputs": [
    {
     "data": {
      "text/plain": [
       "0"
      ]
     },
     "execution_count": 361,
     "metadata": {},
     "output_type": "execute_result"
    }
   ],
   "source": [
    "df['location.citizenship'].isna().sum()"
   ]
  },
  {
   "cell_type": "markdown",
   "metadata": {},
   "source": [
    "### demographics.gender"
   ]
  },
  {
   "cell_type": "code",
   "execution_count": 362,
   "metadata": {},
   "outputs": [
    {
     "data": {
      "text/plain": [
       "male              2328\n",
       "female             249\n",
       "married couple       3\n",
       "Name: demographics.gender, dtype: int64"
      ]
     },
     "execution_count": 362,
     "metadata": {},
     "output_type": "execute_result"
    }
   ],
   "source": [
    "df['demographics.gender'].value_counts()"
   ]
  },
  {
   "cell_type": "code",
   "execution_count": 363,
   "metadata": {},
   "outputs": [
    {
     "data": {
      "text/plain": [
       "34"
      ]
     },
     "execution_count": 363,
     "metadata": {},
     "output_type": "execute_result"
    }
   ],
   "source": [
    "df['demographics.gender'].isna().sum()"
   ]
  },
  {
   "cell_type": "code",
   "execution_count": 364,
   "metadata": {},
   "outputs": [],
   "source": [
    "df['demographics.gender'] = df['demographics.gender'].fillna('Unspecified')"
   ]
  },
  {
   "cell_type": "markdown",
   "metadata": {},
   "source": [
    "### company.type"
   ]
  },
  {
   "cell_type": "code",
   "execution_count": 378,
   "metadata": {},
   "outputs": [
    {
     "data": {
      "text/plain": [
       "array(['Unspecified', 'acquired', 'franchise', 'joint venture', 'merger',\n",
       "       'new', 'new/aquired', 'new/privatized', 'privatized',\n",
       "       'state owned enterprise', 'subsidiary'], dtype=object)"
      ]
     },
     "execution_count": 378,
     "metadata": {},
     "output_type": "execute_result"
    }
   ],
   "source": [
    "df['company.type'].sort_values().unique()"
   ]
  },
  {
   "cell_type": "code",
   "execution_count": 366,
   "metadata": {},
   "outputs": [],
   "source": [
    "df['company.type'] = df['company.type'].replace(\n",
    "    {\n",
    "        'aquired': 'acquired',\n",
    "        'franchise rights': 'franchise',\n",
    "        'neew': 'new',\n",
    "        'new division': 'new',\n",
    "        'new, privitization': 'new/privatized',\n",
    "        'privatization': 'privatized'\n",
    "    }\n",
    ")"
   ]
  },
  {
   "cell_type": "code",
   "execution_count": 367,
   "metadata": {},
   "outputs": [
    {
     "data": {
      "text/plain": [
       "36"
      ]
     },
     "execution_count": 367,
     "metadata": {},
     "output_type": "execute_result"
    }
   ],
   "source": [
    "df['company.type'].isna().sum()"
   ]
  },
  {
   "cell_type": "code",
   "execution_count": 368,
   "metadata": {},
   "outputs": [],
   "source": [
    "df['company.type'] = df['company.type'].fillna('Unspecified')"
   ]
  },
  {
   "cell_type": "markdown",
   "metadata": {},
   "source": [
    "### company.sector"
   ]
  },
  {
   "cell_type": "code",
   "execution_count": 379,
   "metadata": {},
   "outputs": [
    {
     "data": {
      "text/plain": [
       "array(['GPS technology', 'HR consulting', 'IT Consulting', 'Star Wars',\n",
       "       'advertising', 'aerospace and defense', 'agribusiness',\n",
       "       'agricultural', 'agricultural products', 'air compressors',\n",
       "       'aircraft leasing', 'airline', 'airplanes', 'airport',\n",
       "       'airport maintenance', 'alcohol', 'aluminum', 'aluminum/oil',\n",
       "       'animal feed', 'animation', 'antennas', 'apparel',\n",
       "       'apparel retail', 'apparel/eyewear', 'appliances',\n",
       "       'architectural products', 'armaments', 'art dealing',\n",
       "       'asset management', 'auto components', 'auto dealerships',\n",
       "       'auto engines', 'auto glass', 'auto parts', 'auto repair',\n",
       "       'auto retail', 'auto sales, energy', 'automobiles', 'autos',\n",
       "       'aviation', 'banannas', 'banking', 'banking/insurance',\n",
       "       'banking/media', 'banking/oil/aluminum', 'banking/publishing',\n",
       "       'banking/real estate', 'beauty and health care products', 'beer',\n",
       "       'beer and food distribution', 'beverages', 'beverages and food',\n",
       "       'bicycles', 'biopharmaceutical', 'biotech', 'biotech investing',\n",
       "       'boats', 'bottled water', 'brake systems', 'brewery',\n",
       "       'bridge to canada', 'broadcasting', 'broker/banking',\n",
       "       'building materials', 'business centers', 'cable', 'cameras',\n",
       "       'candy', 'cans', 'cars', 'cars/finance', 'casinos', 'catering',\n",
       "       'cell phones', 'cement', 'cheese', 'chemicals', 'chocolates',\n",
       "       'chocolates/coffee', 'cigarettes', 'cleaning products',\n",
       "       'cleaning supplies', 'clothing', 'cloud computing', 'coal',\n",
       "       'coffee', 'cogeneration', 'commercial pilot training',\n",
       "       'commodities', 'commodities (sugar, cement flour)',\n",
       "       'commodities (wheat, oil, shipping)', 'commodities trading',\n",
       "       'communications', 'computer parts', 'computer services',\n",
       "       'computers', 'confectionary', 'construction',\n",
       "       'construction/banking', 'construction/hotels/gaming',\n",
       "       'construction/insurance', 'construction/real estate',\n",
       "       'construction/real estate/banking', 'construction/utilities',\n",
       "       'consumer goods', 'consumer loans', 'consumer retail', 'copper',\n",
       "       'copper/mining', 'copper/poultry', 'cork', 'cosmetics',\n",
       "       'cotton yarn', 'cranes', 'credit cards', 'cruises',\n",
       "       'currency trading', 'dairy', 'dairy products', 'data processing',\n",
       "       'data storage', 'dental implants', 'diamond jewelry', 'diamonds',\n",
       "       'diapers', 'diversified investments', 'domestic appliances',\n",
       "       'drinks', 'drug stores', 'e-commerce',\n",
       "       'e-commerce/venture capital', 'education',\n",
       "       'education/language schools', 'electric motors', 'electricity',\n",
       "       'electronic components', 'electronic interconnectors',\n",
       "       'electronics', 'elevators', 'elevators/escalators/engineering',\n",
       "       'energy', 'energy (coal, oil and gas)',\n",
       "       'energy/retail/manufacturing', 'engineering', 'entertainment',\n",
       "       'ethanol', 'express delivery services', 'fashion',\n",
       "       'fashion retail', 'fashion/oil', 'fertilizers',\n",
       "       'fiber optic cables', 'film', 'finance', 'financial information',\n",
       "       'financial services', 'flavorings', 'flooring', 'food',\n",
       "       'food and energy processes', 'food distribution',\n",
       "       'food manufacturing', 'food packaging', 'food processing',\n",
       "       'food processing/commodities', 'food production', 'food products',\n",
       "       'food retail', 'food sweeteners', 'food/entertainment', 'footwear',\n",
       "       'forestry/mining', 'frozen foods', 'furniture', 'gambling',\n",
       "       'gambling software', 'gaming', 'gas', 'gas pipeline',\n",
       "       'gas/petrochemicals', 'gas/propane', 'glass', 'glasses',\n",
       "       'golf courses', 'grain', 'greeting cards', 'groceries', 'gum',\n",
       "       'hair care', 'hair care products', 'hair care products/tequila',\n",
       "       'hardware stores', 'healthcare', 'healthcare IT',\n",
       "       'healthcare management', 'heating systems', 'heavy equipment',\n",
       "       'heavy equiptment (excavators, backhoes and tractors)',\n",
       "       'heavy manufacturing', 'hedge funds', 'holding company',\n",
       "       'home building materials', 'home furnishings',\n",
       "       'home improvement retail', 'hospitality',\n",
       "       'hospitality/food service', 'hospitals', 'hostile takeovers',\n",
       "       'hotels', 'hotels/supermarkets', 'industrial automation',\n",
       "       'industrial equipment', 'industrial goods',\n",
       "       'industrial manufacturing/banking', 'industrial software',\n",
       "       'industrial tools', 'infant formula', 'information services',\n",
       "       'infrastructure', 'insurance', 'insurance/power', 'internet',\n",
       "       'internet company', 'internet domain and web hosting',\n",
       "       'internet service company', 'internet service provider',\n",
       "       'investment', 'investment (via holding company)',\n",
       "       'investment banking', 'investment banking/beer',\n",
       "       'investment mangagment', 'investments/real estate/sports teams',\n",
       "       'iron', 'iron ore', 'iron/steel', 'jeans', 'jewelry',\n",
       "       'kitchen appliances', 'laboratory services',\n",
       "       'landscape architecture', 'laptops', 'laundry soap', 'lawsuits',\n",
       "       'leather', 'leveraged buyouts', 'life insurance',\n",
       "       'linear actuators', 'liquor', 'locomotive manufacturing',\n",
       "       'logging', 'logistics', 'lumber', 'lumber/real estate',\n",
       "       'luxury fashion', 'luxury goods', 'mail order retail', 'makeup',\n",
       "       'manufacturing', 'manufacturing (agriculture, steel, electronics)',\n",
       "       'manufacturing/real estate/aviation', 'mass transit',\n",
       "       'measuring instruments', 'meat processing', 'meat products',\n",
       "       'media', 'media/exports', 'media/pipelines', 'medical devices',\n",
       "       'medical equipment', 'medical supplies', 'medical technology',\n",
       "       'metals', 'metals/banking', 'metals/mining', 'metals/paper/cement',\n",
       "       'mettallurgy', 'microchips', 'milk', 'mining', 'mining/banking',\n",
       "       'mining/investments', 'mining/steel', 'mobile app',\n",
       "       'mobile phone batteries', 'mobile phones', 'money management',\n",
       "       'mortgage banking', 'mortgages', 'motorcycles', 'movie theatres',\n",
       "       'movies', 'music', 'mutual funds', 'natural flavors',\n",
       "       'natural gas', 'networking equipment', 'new technology',\n",
       "       'nutrition supplements', 'oil', 'oil exploration equipment',\n",
       "       'oil infrastructure', 'oil refining', 'oil services',\n",
       "       'oil tankers', 'oil trading', 'oil/gas', 'oil/investments',\n",
       "       'oil/railroad/investments', 'oil/telecommunications',\n",
       "       'oilfield equipment', 'oilfield services',\n",
       "       'oleochemicals/palm oil', 'online gaming', 'outsourcing',\n",
       "       'pachinko', 'pachinko gaming machines', 'paint', 'palm oil',\n",
       "       'palm oil/mining', 'palm oil/real estate', 'paper',\n",
       "       'paper manufacturing/investment', 'paper products',\n",
       "       'payroll processing', 'pet food', 'pet supplies/real estate',\n",
       "       'petrochemicals', 'petrochemicals/textiles', 'petroleum',\n",
       "       'pharmaceuticals', 'pipelines', 'pipes', 'plastics', 'polymers',\n",
       "       'port', 'port containers', 'port logistics', 'ports/gas',\n",
       "       'postal service/beverages', 'power engineering', 'precious metals',\n",
       "       'printers', 'printing', 'printing/electronics', 'private equity',\n",
       "       'private investment company', 'processing machinary',\n",
       "       'property development', 'property/textile manufacturing',\n",
       "       'publishing', 'racing', 'real estate',\n",
       "       'real estate (shopping malls)', 'real estate/banking',\n",
       "       'real estate/financial services/computers', 'real estate/metals',\n",
       "       'real estate/retail', 'real estate/sports teams',\n",
       "       'relocation services', 'rental cars', 'restaurants', 'retail',\n",
       "       'retail/financial services/real estate', 'retail/home appliances',\n",
       "       'rice trading/mining/infrastructure', 'risk management',\n",
       "       'roller bearings', 'roofing', 'salsa', 'satallite communications',\n",
       "       'screws', 'security', 'security and surveillance technology',\n",
       "       'security equipment', 'seeds', 'self-storage', 'semiconductors',\n",
       "       'service assurance instruments', 'sewage treatment',\n",
       "       'sewing machines', 'shale', 'shipbuilding', 'shipping',\n",
       "       'shoe retail', 'shoes', 'shopping centers',\n",
       "       'small-company lending', 'snack foods', 'social network',\n",
       "       'soft drinks', 'software', 'solar energy', 'soup', 'soy sauce',\n",
       "       'spirits', 'sporting goods', 'sports', 'sports equipment',\n",
       "       'sports retail', 'sports team', 'sportswear', 'staffing company',\n",
       "       'staffing services', 'steel', 'steel/banking', 'steel/oil',\n",
       "       'stock broker', 'sugar/flour/cement', 'supermarkets',\n",
       "       'supply chain', 'technology', 'technology consulting',\n",
       "       'technology publishing', 'telecom', 'telecom/finance',\n",
       "       'telecom/investments', 'telecom/oil/beer', 'telecommunications',\n",
       "       'television', 'textiles', 'textiles/industrial goods/media',\n",
       "       'timber', 'timber/paper', 'timber/plantations',\n",
       "       'tire manufacturing', 'tires', 'tobacco', 'tobacco/luxury brands',\n",
       "       'toll roads', 'tools', 'tortillas', 'toys', 'tractors',\n",
       "       'trade fairs', 'trade investment', 'trading', 'transportation',\n",
       "       'travel company', 'truck stops', 'trucking', 'trucking/logistics',\n",
       "       'uniforms', 'utilities', 'utilities/financial services',\n",
       "       'vacuum cleaners', 'venture capitalist', 'video games',\n",
       "       'video technology', 'waste management', 'watch retail', 'watches',\n",
       "       'web broadcasting', 'wind energy', 'wine', 'wine and spirits',\n",
       "       'winter jackets', 'wireless products', 'wool',\n",
       "       'wrestling promotion', 'yogurt', 'zippers', nan], dtype=object)"
      ]
     },
     "execution_count": 379,
     "metadata": {},
     "output_type": "execute_result"
    }
   ],
   "source": [
    "df['company.sector'].sort_values().unique()"
   ]
  },
  {
   "cell_type": "code",
   "execution_count": 370,
   "metadata": {},
   "outputs": [],
   "source": [
    "\n",
    "df['company.sector'] = df['company.sector'].replace(\n",
    "    {\n",
    "        'Banking': 'banking',\n",
    "        'Communications': 'communications',\n",
    "        'Fashion': 'fashion',\n",
    "        'Finance': 'finance',\n",
    "        'Oil refining': 'oil refining',\n",
    "        'Software': 'software',\n",
    "        'agriculture': 'agricultural',\n",
    "        'agriculteral': 'agricultural',\n",
    "        'aigriculture': 'agricultural',\n",
    "        'airports': 'airport',\n",
    "        'aluminum, oil': 'aluminum/oil',\n",
    "        'aplliances': 'appliances',\n",
    "        'automobile dealers': 'auto dealerships',\n",
    "        'automotive parts': 'auto parts',\n",
    "        'automotive components': 'auto components',\n",
    "        'automotive': 'autos',\n",
    "        'automotives': 'autos',\n",
    "        'bank': 'banking',\n",
    "        'banking and insurance': 'banking/insurance',\n",
    "        'banking, real estate': 'banking/real estate',\n",
    "        'banking and real estate': 'banking/real estate',\n",
    "        'banking, media': 'banking/media',\n",
    "        'banking, oil, aluminum': 'banking/oil/aluminum',\n",
    "        'braking systems': 'brake systems',\n",
    "        'cars, finance': 'cars/finance',\n",
    "        'cigarette': 'cigarettes',\n",
    "        'comodities': 'commodities',\n",
    "        'commodity trading': 'commodities trading',\n",
    "        'construcion': 'construction',\n",
    "        'construction, hotels, gaming': 'construction/hotels/gaming',\n",
    "        'construction, utilities': 'construction/utilities',\n",
    "        'construction,banking': 'construction/banking',\n",
    "        'copper, poultry': 'copper/poultry',\n",
    "        'e-commerce, venture capital': 'e-commerce/venture capital',\n",
    "        'education, language schools': 'education/language schools',\n",
    "        'electonics': 'electronics',\n",
    "        'electonics components': 'electronic components',\n",
    "        'energy, retail, manufacturing': 'energy/retail/manufacturing',\n",
    "        'property, textile manufacturing': 'property/textile manufacturing',\n",
    "        'eyeglasses': 'glasses',\n",
    "        'fertalizers': 'fertilizers',\n",
    "        'fertilizer': 'fertilizers',\n",
    "        'finace': 'finance',\n",
    "        'forestry and mining': 'forestry/mining',\n",
    "        'metals and mining': 'metals/mining',\n",
    "        'gambing': 'gambling',\n",
    "        'media, pipelines': 'media/pipelines',\n",
    "        'gas, petrochemicals': 'gas/petrochemicals',\n",
    "        'internet companies': 'internet company',\n",
    "        'internet provider': 'internet service provider',\n",
    "        'investments': 'investment',\n",
    "        'invetsments': 'investment',\n",
    "        'investments/real estate, sports teams': 'investments/real estate/sports teams',\n",
    "        'iron and steel': 'iron/steel',\n",
    "        'leveraged buyout': 'leveraged buyouts',\n",
    "        'lumber, real estate': 'lumber/real estate',\n",
    "        'manufacturing, real estate, aviation': 'manufacturing/real estate/aviation',\n",
    "        'mining, investments': 'mining/investments',\n",
    "        'mining, steel': 'mining/steel',\n",
    "        'mutal funds': 'mutual funds',\n",
    "        'oil and gas': 'oil/gas',\n",
    "        'oil and natural gas': 'oil/gas',\n",
    "        'oil, railroad, investments': 'oil/railroad/investments',\n",
    "        'oil field services': 'oilfield services',\n",
    "        'petrochemicals and textiles': 'petrochemicals/textiles',\n",
    "        'petrochemicals, textiles': 'petrochemicals/textiles',\n",
    "        'plastic': 'plastics',\n",
    "        'ports, gas': 'ports/gas',\n",
    "        'postal service, beverages': 'postal service/beverages',\n",
    "        'real estate and metals': 'real estate/metals',\n",
    "        'real estate, financial services and computers': 'real estate/financial services/computers',\n",
    "        'real estate, retail': 'real estate/retail',\n",
    "        'restaurant': 'restaurants',\n",
    "        'retail, financial services, real estate': 'retail/financial services/real estate',\n",
    "        'retail, home appliances': 'retail/home appliances',\n",
    "        'rice trading, mining, infrastructure': 'rice trading/mining/infrastructure',\n",
    "        'self storage': 'self-storage',\n",
    "        'stock brokerage': 'stock broker',\n",
    "        'sugar, flour, cement': 'sugar/flour/cement',\n",
    "        'telecom, finance': 'telecom/finance',\n",
    "        'telecom, oil, beer': 'telecom/oil/beer',\n",
    "        'telecomm': 'telecom',\n",
    "        'textiles, industrial goods, media': 'textiles/industrial goods/media',\n",
    "        'timber and paper': 'timber/paper',\n",
    "        'timber, plantations': 'timber/plantations',\n",
    "        'trading company': 'trading',\n",
    "        'truck stop': 'truck stops',\n",
    "        'trucking and logistics': 'trucking/logistics',\n",
    "        'apparel and eyewear': 'apparel/eyewear',\n",
    "        'brokerage/banking': 'broker/banking',\n",
    "        'chocolate and coffee': 'chocolates/coffee',\n",
    "        'electronic componants': 'electronic components',\n",
    "        'elevators, escalators, engineering': 'elevators/escalators/engineering',\n",
    "        'food and energy processess': 'food and energy processes',\n",
    "        'food, entertainment': 'food/entertainment',\n",
    "        'gas and propane': 'gas/propane',\n",
    "        'hospitality and food service': 'hospitality/food service',\n",
    "        'hotels and supermarkets': 'hotels/supermarkets',\n",
    "        'industrial manufacturing and banking': 'industrial manufacturing/banking',\n",
    "        'insurancei, power': 'insurance/power',\n",
    "        'media, exports': 'media/exports',\n",
    "        'metals, paper, cement': 'metals/paper/cement',\n",
    "        'mining, banking': 'mining/banking',\n",
    "        'oleochemicals and palm oil': 'oleochemicals/palm oil',\n",
    "        'palm oil, mining': 'palm oil/mining',\n",
    "        'pet supplies, real estate': 'pet supplies/real estate',\n",
    "        'printing and electronics': 'printing/electronics'\n",
    "    }\n",
    ")"
   ]
  },
  {
   "cell_type": "raw",
   "metadata": {},
   "source": [
    "similar(df[\"company.sector\"].sort_values().unique())"
   ]
  },
  {
   "cell_type": "markdown",
   "metadata": {},
   "source": [
    "### company.relationship"
   ]
  },
  {
   "cell_type": "code",
   "execution_count": 380,
   "metadata": {
    "tags": []
   },
   "outputs": [
    {
     "data": {
      "text/plain": [
       "array(['CEO', 'COO', 'Chairman', 'Chairman and Chief Executive Officer',\n",
       "       'Chairman, CEO', 'Chairman/founder', 'Chairman/shareholder',\n",
       "       'Chief Executive', 'Exectuitve Director',\n",
       "       'Global Head of Real Estate', 'Head of Board of Directors',\n",
       "       'Honorary President for Life', 'Relation', 'Vice Chairman',\n",
       "       'Vice President', 'Vice President of Infrastructure Software',\n",
       "       'ceo', 'chairman', 'chairman and ceo',\n",
       "       'chairman of management committee', 'chairman of the board',\n",
       "       'chairwomen', 'chariman', 'co-chairman',\n",
       "       'co-director of zinc, copper and lead', 'deputy chairman',\n",
       "       'director', 'employee', 'executive chairman', 'former CEO',\n",
       "       'former chairman and CEO', 'founder', 'founder CEO owner',\n",
       "       'founder and CEO', 'founder and ceo', 'founder and chairman',\n",
       "       'founder and chairwoman', 'founder and executive chairman',\n",
       "       'founder and executive vice chairman', 'founder, chairman',\n",
       "       'founder, chairman, ceo', 'founder, chairwoman, ceo',\n",
       "       'founder/CEO', 'founder/chairman', 'founder/president',\n",
       "       'founder/relation', 'founder/vice chairman', 'general director',\n",
       "       \"head of Microsoft's application software group\",\n",
       "       'head of high-yield bond trading dept', 'inherited', 'inventor',\n",
       "       'investor', 'investor and CEO', 'investor/founder', 'lawer',\n",
       "       'lawyer', 'leadership', 'owner', 'owner and former CEO',\n",
       "       'owner and vice chair', 'partner', 'president',\n",
       "       'president and ceo', 'relation', 'relation and ceo',\n",
       "       'relation and chairman', 'relation/vice chairman', 'relative',\n",
       "       'shareholder', 'supervisory board or directors', 'vice chairman',\n",
       "       'vice-chairman', nan], dtype=object)"
      ]
     },
     "execution_count": 380,
     "metadata": {},
     "output_type": "execute_result"
    }
   ],
   "source": [
    "df['company.relationship'].sort_values().unique()"
   ]
  },
  {
   "cell_type": "code",
   "execution_count": 381,
   "metadata": {},
   "outputs": [
    {
     "name": "stdout",
     "output_type": "stream",
     "text": [
      "CEO \n",
      " ------------------------------\n",
      "COO \n",
      " ------------------------------\n",
      "Chairman \n",
      " ------------------------------\n",
      "['Chairman, CEO', 'Vice Chairman', 'chairman', 'chariman', 'co-chairman'] \n",
      "\n",
      "\n",
      "Chairman and Chief Executive Officer \n",
      " ------------------------------\n",
      "Chairman, CEO \n",
      " ------------------------------\n",
      "Chairman/founder \n",
      " ------------------------------\n",
      "['Chairman/shareholder'] \n",
      "\n",
      "\n",
      "Chairman/shareholder \n",
      " ------------------------------\n",
      "['shareholder'] \n",
      "\n",
      "\n",
      "Chief Executive \n",
      " ------------------------------\n",
      "Exectuitve Director \n",
      " ------------------------------\n",
      "Global Head of Real Estate \n",
      " ------------------------------\n",
      "Head of Board of Directors \n",
      " ------------------------------\n",
      "Honorary President for Life \n",
      " ------------------------------\n",
      "Relation \n",
      " ------------------------------\n",
      "['relation'] \n",
      "\n",
      "\n",
      "Vice Chairman \n",
      " ------------------------------\n",
      "['chairman', 'vice chairman', 'vice-chairman'] \n",
      "\n",
      "\n",
      "Vice President \n",
      " ------------------------------\n",
      "Vice President of Infrastructure Software \n",
      " ------------------------------\n",
      "ceo \n",
      " ------------------------------\n",
      "chairman \n",
      " ------------------------------\n",
      "['chairwomen', 'chariman', 'co-chairman', 'vice chairman', 'vice-chairman'] \n",
      "\n",
      "\n",
      "chairman and ceo \n",
      " ------------------------------\n",
      "chairman of management committee \n",
      " ------------------------------\n",
      "chairman of the board \n",
      " ------------------------------\n",
      "chairwomen \n",
      " ------------------------------\n",
      "chariman \n",
      " ------------------------------\n",
      "['co-chairman'] \n",
      "\n",
      "\n",
      "co-chairman \n",
      " ------------------------------\n",
      "['vice chairman', 'vice-chairman'] \n",
      "\n",
      "\n",
      "co-director of zinc, copper and lead \n",
      " ------------------------------\n",
      "deputy chairman \n",
      " ------------------------------\n",
      "['executive chairman', 'vice chairman'] \n",
      "\n",
      "\n",
      "director \n",
      " ------------------------------\n",
      "employee \n",
      " ------------------------------\n",
      "executive chairman \n",
      " ------------------------------\n",
      "['founder and executive chairman', 'vice chairman'] \n",
      "\n",
      "\n",
      "former CEO \n",
      " ------------------------------\n",
      "former chairman and CEO \n",
      " ------------------------------\n",
      "founder \n",
      " ------------------------------\n",
      "['founder/CEO'] \n",
      "\n",
      "\n",
      "founder CEO owner \n",
      " ------------------------------\n",
      "['founder/CEO'] \n",
      "\n",
      "\n",
      "founder and CEO \n",
      " ------------------------------\n",
      "['founder and ceo', 'founder/CEO'] \n",
      "\n",
      "\n",
      "founder and ceo \n",
      " ------------------------------\n",
      "['founder and chairman', 'founder and chairwoman', 'founder, chairman, ceo', 'founder, chairwoman, ceo'] \n",
      "\n",
      "\n",
      "founder and chairman \n",
      " ------------------------------\n",
      "['founder and chairwoman', 'founder and executive chairman', 'founder and executive vice chairman', 'founder, chairman', 'founder, chairman, ceo', 'founder, chairwoman, ceo', 'founder/chairman', 'founder/vice chairman', 'relation and chairman'] \n",
      "\n",
      "\n",
      "founder and chairwoman \n",
      " ------------------------------\n",
      "['founder and executive chairman', 'founder and executive vice chairman', 'founder, chairman', 'founder, chairman, ceo', 'founder, chairwoman, ceo', 'founder/chairman', 'founder/vice chairman'] \n",
      "\n",
      "\n",
      "founder and executive chairman \n",
      " ------------------------------\n",
      "['founder and executive vice chairman', 'founder/vice chairman'] \n",
      "\n",
      "\n",
      "founder and executive vice chairman \n",
      " ------------------------------\n",
      "['founder/vice chairman'] \n",
      "\n",
      "\n",
      "founder, chairman \n",
      " ------------------------------\n",
      "['founder, chairman, ceo', 'founder, chairwoman, ceo', 'founder/chairman', 'founder/vice chairman'] \n",
      "\n",
      "\n",
      "founder, chairman, ceo \n",
      " ------------------------------\n",
      "['founder, chairwoman, ceo', 'founder/chairman', 'founder/vice chairman'] \n",
      "\n",
      "\n",
      "founder, chairwoman, ceo \n",
      " ------------------------------\n",
      "['founder/chairman', 'founder/vice chairman'] \n",
      "\n",
      "\n",
      "founder/CEO \n",
      " ------------------------------\n",
      "founder/chairman \n",
      " ------------------------------\n",
      "['founder/vice chairman'] \n",
      "\n",
      "\n",
      "founder/president \n",
      " ------------------------------\n",
      "['founder/relation'] \n",
      "\n",
      "\n",
      "founder/relation \n",
      " ------------------------------\n",
      "founder/vice chairman \n",
      " ------------------------------\n",
      "['relation/vice chairman', 'vice chairman', 'vice-chairman'] \n",
      "\n",
      "\n",
      "general director \n",
      " ------------------------------\n",
      "head of Microsoft's application software group \n",
      " ------------------------------\n",
      "head of high-yield bond trading dept \n",
      " ------------------------------\n",
      "inherited \n",
      " ------------------------------\n",
      "inventor \n",
      " ------------------------------\n",
      "['investor'] \n",
      "\n",
      "\n",
      "investor \n",
      " ------------------------------\n",
      "investor and CEO \n",
      " ------------------------------\n",
      "investor/founder \n",
      " ------------------------------\n",
      "lawer \n",
      " ------------------------------\n",
      "['lawyer'] \n",
      "\n",
      "\n",
      "lawyer \n",
      " ------------------------------\n",
      "leadership \n",
      " ------------------------------\n",
      "owner \n",
      " ------------------------------\n",
      "owner and former CEO \n",
      " ------------------------------\n",
      "owner and vice chair \n",
      " ------------------------------\n",
      "partner \n",
      " ------------------------------\n",
      "president \n",
      " ------------------------------\n",
      "president and ceo \n",
      " ------------------------------\n",
      "['relation and ceo'] \n",
      "\n",
      "\n",
      "relation \n",
      " ------------------------------\n",
      "['relative'] \n",
      "\n",
      "\n",
      "relation and ceo \n",
      " ------------------------------\n",
      "['relation and chairman'] \n",
      "\n",
      "\n",
      "relation and chairman \n",
      " ------------------------------\n",
      "['relation/vice chairman'] \n",
      "\n",
      "\n",
      "relation/vice chairman \n",
      " ------------------------------\n",
      "['vice chairman'] \n",
      "\n",
      "\n",
      "relative \n",
      " ------------------------------\n",
      "shareholder \n",
      " ------------------------------\n",
      "supervisory board or directors \n",
      " ------------------------------\n",
      "vice chairman \n",
      " ------------------------------\n",
      "['vice-chairman'] \n",
      "\n",
      "\n",
      "vice-chairman \n",
      " ------------------------------\n"
     ]
    }
   ],
   "source": [
    "similar(df[\"company.relationship\"].sort_values().unique())"
   ]
  },
  {
   "cell_type": "markdown",
   "metadata": {},
   "source": [
    "### name"
   ]
  },
  {
   "cell_type": "markdown",
   "metadata": {},
   "source": [
    "Listing possible inconsistancies where the names are different, but the following features are the same:\n",
    "<ul>\n",
    "    <li>company.founded</li>\n",
    "    <li>company.name</li>\n",
    "    <li>company.relationship</li>\n",
    "    <li>company.sector</li>\n",
    "    <li>company.type</li>\n",
    "    <li>demographics.gender</li>\n",
    "    <li>location.citizenship</li>\n",
    "    <li>location.country code</li>\n",
    "    <li>location.region</li>\n",
    "    <li>wealth.type</li>\n",
    "    <li>wealth.how.category</li>\n",
    "    <li>wealth.how.from emerging</li>\n",
    "    <li>wealth.how.industry</li>\n",
    "    <li>wealth.how.inherited</li>\n",
    "</ul>"
   ]
  },
  {
   "cell_type": "code",
   "execution_count": 64,
   "metadata": {
    "execution": {
     "iopub.execute_input": "2022-11-10T10:29:55.947293Z",
     "iopub.status.busy": "2022-11-10T10:29:55.946420Z",
     "iopub.status.idle": "2022-11-10T10:29:55.959434Z",
     "shell.execute_reply": "2022-11-10T10:29:55.957855Z",
     "shell.execute_reply.started": "2022-11-10T10:29:55.947247Z"
    }
   },
   "outputs": [
    {
     "ename": "SyntaxError",
     "evalue": "invalid syntax (1649346416.py, line 17)",
     "output_type": "error",
     "traceback": [
      "\u001b[0;36m  File \u001b[0;32m\"/tmp/ipykernel_27/1649346416.py\"\u001b[0;36m, line \u001b[0;32m17\u001b[0m\n\u001b[0;31m    dup_rows[duprows[]]\u001b[0m\n\u001b[0m                     ^\u001b[0m\n\u001b[0;31mSyntaxError\u001b[0m\u001b[0;31m:\u001b[0m invalid syntax\n"
     ]
    }
   ],
   "source": [
    "dup_cols = ['company.founded',\n",
    "            'company.name',\n",
    "            'company.relationship',\n",
    "            'company.sector',\n",
    "            'company.type',\n",
    "            'demographics.gender',\n",
    "            'location.citizenship',\n",
    "            'location.country code',\n",
    "            'location.region',\n",
    "            'wealth.type',\n",
    "            'wealth.how.category',\n",
    "            'wealth.how.from emerging',\n",
    "            'wealth.how.industry',\n",
    "            'wealth.how.inherited']\n",
    "\n",
    "dup_rows = df[df.duplicated(subset=dup_cols)]\n",
    "dup_rows[duprows[]]"
   ]
  },
  {
   "cell_type": "code",
   "execution_count": null,
   "metadata": {
    "execution": {
     "iopub.status.busy": "2022-11-10T10:29:55.961011Z",
     "iopub.status.idle": "2022-11-10T10:29:55.961480Z",
     "shell.execute_reply": "2022-11-10T10:29:55.961269Z",
     "shell.execute_reply.started": "2022-11-10T10:29:55.961245Z"
    }
   },
   "outputs": [],
   "source": [
    "import re\n",
    "\n",
    "df[df['name'].apply(lambda x: (re.search('abraham', x, re.IGNORECASE) is not None))]"
   ]
  },
  {
   "cell_type": "code",
   "execution_count": null,
   "metadata": {
    "execution": {
     "iopub.status.busy": "2022-11-10T10:29:55.963033Z",
     "iopub.status.idle": "2022-11-10T10:29:55.963879Z",
     "shell.execute_reply": "2022-11-10T10:29:55.963674Z",
     "shell.execute_reply.started": "2022-11-10T10:29:55.963650Z"
    }
   },
   "outputs": [],
   "source": [
    "import re\n",
    "\n",
    "df[df['name'].apply(lambda x: (re.search('abraham', x, re.IGNORECASE) is not None))]"
   ]
  }
 ],
 "metadata": {
  "kernelspec": {
   "display_name": "Python 3 (ipykernel)",
   "language": "python",
   "name": "python3"
  },
  "language_info": {
   "codemirror_mode": {
    "name": "ipython",
    "version": 3
   },
   "file_extension": ".py",
   "mimetype": "text/x-python",
   "name": "python",
   "nbconvert_exporter": "python",
   "pygments_lexer": "ipython3",
   "version": "3.10.6"
  }
 },
 "nbformat": 4,
 "nbformat_minor": 4
}
