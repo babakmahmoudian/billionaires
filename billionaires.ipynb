{
 "cells": [
  {
   "cell_type": "code",
   "execution_count": 87,
   "metadata": {},
   "outputs": [],
   "source": [
    "import numpy as np\n",
    "import pandas as pd\n",
    "import matplotlib.pyplot as plt\n",
    "\n",
    "import re # The RegEx module used for string operations"
   ]
  },
  {
   "cell_type": "code",
   "execution_count": 88,
   "metadata": {},
   "outputs": [],
   "source": [
    "# Defining some text formatting constants:\n",
    "\n",
    "# Start making the text bold\n",
    "F_BOLD = '\\033[1m'\n",
    "\n",
    "# Start underlining the text\n",
    "F_UNDERLINE = '\\033[4m'\n",
    "\n",
    "# End text formatting\n",
    "F_END = '\\033[0m'\n",
    "\n",
    "# Divider line beneath text\n",
    "F_DIV = '─'*60"
   ]
  },
  {
   "cell_type": "markdown",
   "metadata": {},
   "source": [
    "# Loading the dataset"
   ]
  },
  {
   "cell_type": "code",
   "execution_count": 89,
   "metadata": {},
   "outputs": [],
   "source": [
    "df = pd.read_csv('./billionaires.csv')"
   ]
  },
  {
   "cell_type": "code",
   "execution_count": 90,
   "metadata": {},
   "outputs": [
    {
     "name": "stdout",
     "output_type": "stream",
     "text": [
      "\n",
      "The dataset consists of \u001b[1m2614 instances\u001b[0m and \u001b[1m22 features\u001b[0m:\n",
      "────────────────────────────────────────────────────────────\n",
      "\n"
     ]
    },
    {
     "data": {
      "text/html": [
       "<div>\n",
       "<style scoped>\n",
       "    .dataframe tbody tr th:only-of-type {\n",
       "        vertical-align: middle;\n",
       "    }\n",
       "\n",
       "    .dataframe tbody tr th {\n",
       "        vertical-align: top;\n",
       "    }\n",
       "\n",
       "    .dataframe thead th {\n",
       "        text-align: right;\n",
       "    }\n",
       "</style>\n",
       "<table border=\"1\" class=\"dataframe\">\n",
       "  <thead>\n",
       "    <tr style=\"text-align: right;\">\n",
       "      <th></th>\n",
       "      <th>name</th>\n",
       "      <th>rank</th>\n",
       "      <th>year</th>\n",
       "      <th>company.founded</th>\n",
       "      <th>company.name</th>\n",
       "      <th>company.relationship</th>\n",
       "      <th>company.sector</th>\n",
       "      <th>company.type</th>\n",
       "      <th>demographics.age</th>\n",
       "      <th>demographics.gender</th>\n",
       "      <th>location.citizenship</th>\n",
       "      <th>location.country code</th>\n",
       "      <th>location.gdp</th>\n",
       "      <th>location.region</th>\n",
       "      <th>wealth.type</th>\n",
       "      <th>wealth.worth in billions</th>\n",
       "      <th>wealth.how.category</th>\n",
       "      <th>wealth.how.from emerging</th>\n",
       "      <th>wealth.how.industry</th>\n",
       "      <th>wealth.how.inherited</th>\n",
       "      <th>wealth.how.was founder</th>\n",
       "      <th>wealth.how.was political</th>\n",
       "    </tr>\n",
       "  </thead>\n",
       "  <tbody>\n",
       "    <tr>\n",
       "      <th>366</th>\n",
       "      <td>Carrie Perrodo</td>\n",
       "      <td>122</td>\n",
       "      <td>2014</td>\n",
       "      <td>1975</td>\n",
       "      <td>Perenco</td>\n",
       "      <td>relation</td>\n",
       "      <td>oil</td>\n",
       "      <td>new</td>\n",
       "      <td>63</td>\n",
       "      <td>female</td>\n",
       "      <td>France</td>\n",
       "      <td>FRA</td>\n",
       "      <td>0.000000e+00</td>\n",
       "      <td>Europe</td>\n",
       "      <td>inherited</td>\n",
       "      <td>10.0</td>\n",
       "      <td>0</td>\n",
       "      <td>True</td>\n",
       "      <td>Other</td>\n",
       "      <td>spouse/widow</td>\n",
       "      <td>True</td>\n",
       "      <td>True</td>\n",
       "    </tr>\n",
       "    <tr>\n",
       "      <th>155</th>\n",
       "      <td>Lakshmi Mittal</td>\n",
       "      <td>52</td>\n",
       "      <td>2014</td>\n",
       "      <td>1989</td>\n",
       "      <td>ArcelorMittal</td>\n",
       "      <td>founder</td>\n",
       "      <td>steel</td>\n",
       "      <td>new</td>\n",
       "      <td>63</td>\n",
       "      <td>male</td>\n",
       "      <td>India</td>\n",
       "      <td>IND</td>\n",
       "      <td>0.000000e+00</td>\n",
       "      <td>South Asia</td>\n",
       "      <td>inherited</td>\n",
       "      <td>16.7</td>\n",
       "      <td>Resource Related</td>\n",
       "      <td>True</td>\n",
       "      <td>Non-consumer industrial</td>\n",
       "      <td>father</td>\n",
       "      <td>True</td>\n",
       "      <td>True</td>\n",
       "    </tr>\n",
       "    <tr>\n",
       "      <th>269</th>\n",
       "      <td>Rudolf Oetker</td>\n",
       "      <td>90</td>\n",
       "      <td>2001</td>\n",
       "      <td>1891</td>\n",
       "      <td>Oetker-Gruppe</td>\n",
       "      <td>relation</td>\n",
       "      <td>food</td>\n",
       "      <td>new</td>\n",
       "      <td>0</td>\n",
       "      <td>male</td>\n",
       "      <td>Germany</td>\n",
       "      <td>DEU</td>\n",
       "      <td>1.950000e+12</td>\n",
       "      <td>Europe</td>\n",
       "      <td>inherited</td>\n",
       "      <td>4.4</td>\n",
       "      <td>Traded Sectors</td>\n",
       "      <td>True</td>\n",
       "      <td>Consumer</td>\n",
       "      <td>3rd generation</td>\n",
       "      <td>True</td>\n",
       "      <td>True</td>\n",
       "    </tr>\n",
       "    <tr>\n",
       "      <th>2443</th>\n",
       "      <td>Aydin Dogan</td>\n",
       "      <td>1465</td>\n",
       "      <td>2014</td>\n",
       "      <td>1961</td>\n",
       "      <td>Dogan Holding</td>\n",
       "      <td>founder</td>\n",
       "      <td>media</td>\n",
       "      <td>new</td>\n",
       "      <td>77</td>\n",
       "      <td>male</td>\n",
       "      <td>Turkey</td>\n",
       "      <td>TUR</td>\n",
       "      <td>0.000000e+00</td>\n",
       "      <td>Middle East/North Africa</td>\n",
       "      <td>founder non-finance</td>\n",
       "      <td>1.1</td>\n",
       "      <td>Non-Traded Sectors</td>\n",
       "      <td>True</td>\n",
       "      <td>Media</td>\n",
       "      <td>not inherited</td>\n",
       "      <td>True</td>\n",
       "      <td>True</td>\n",
       "    </tr>\n",
       "    <tr>\n",
       "      <th>1139</th>\n",
       "      <td>Gustavo Cisneros</td>\n",
       "      <td>375</td>\n",
       "      <td>2014</td>\n",
       "      <td>1929</td>\n",
       "      <td>Cisneros Group</td>\n",
       "      <td>relation</td>\n",
       "      <td>media</td>\n",
       "      <td>new</td>\n",
       "      <td>68</td>\n",
       "      <td>male</td>\n",
       "      <td>Venezuela</td>\n",
       "      <td>VEN</td>\n",
       "      <td>0.000000e+00</td>\n",
       "      <td>Latin America</td>\n",
       "      <td>inherited</td>\n",
       "      <td>4.0</td>\n",
       "      <td>Non-Traded Sectors</td>\n",
       "      <td>True</td>\n",
       "      <td>Media</td>\n",
       "      <td>father</td>\n",
       "      <td>True</td>\n",
       "      <td>True</td>\n",
       "    </tr>\n",
       "  </tbody>\n",
       "</table>\n",
       "</div>"
      ],
      "text/plain": [
       "                  name  rank  year  company.founded    company.name  \\\n",
       "366     Carrie Perrodo   122  2014             1975         Perenco   \n",
       "155     Lakshmi Mittal    52  2014             1989   ArcelorMittal   \n",
       "269      Rudolf Oetker    90  2001             1891   Oetker-Gruppe   \n",
       "2443       Aydin Dogan  1465  2014             1961   Dogan Holding   \n",
       "1139  Gustavo Cisneros   375  2014             1929  Cisneros Group   \n",
       "\n",
       "     company.relationship company.sector company.type  demographics.age  \\\n",
       "366              relation            oil          new                63   \n",
       "155               founder          steel          new                63   \n",
       "269              relation           food          new                 0   \n",
       "2443              founder          media          new                77   \n",
       "1139             relation          media          new                68   \n",
       "\n",
       "     demographics.gender location.citizenship location.country code  \\\n",
       "366               female               France                   FRA   \n",
       "155                 male                India                   IND   \n",
       "269                 male              Germany                   DEU   \n",
       "2443                male               Turkey                   TUR   \n",
       "1139                male            Venezuela                   VEN   \n",
       "\n",
       "      location.gdp           location.region          wealth.type  \\\n",
       "366   0.000000e+00                    Europe            inherited   \n",
       "155   0.000000e+00                South Asia            inherited   \n",
       "269   1.950000e+12                    Europe            inherited   \n",
       "2443  0.000000e+00  Middle East/North Africa  founder non-finance   \n",
       "1139  0.000000e+00             Latin America            inherited   \n",
       "\n",
       "      wealth.worth in billions wealth.how.category  wealth.how.from emerging  \\\n",
       "366                       10.0                   0                      True   \n",
       "155                       16.7    Resource Related                      True   \n",
       "269                        4.4      Traded Sectors                      True   \n",
       "2443                       1.1  Non-Traded Sectors                      True   \n",
       "1139                       4.0  Non-Traded Sectors                      True   \n",
       "\n",
       "          wealth.how.industry wealth.how.inherited  wealth.how.was founder  \\\n",
       "366                     Other         spouse/widow                    True   \n",
       "155   Non-consumer industrial               father                    True   \n",
       "269                  Consumer       3rd generation                    True   \n",
       "2443                    Media        not inherited                    True   \n",
       "1139                    Media               father                    True   \n",
       "\n",
       "      wealth.how.was political  \n",
       "366                       True  \n",
       "155                       True  \n",
       "269                       True  \n",
       "2443                      True  \n",
       "1139                      True  "
      ]
     },
     "metadata": {},
     "output_type": "display_data"
    }
   ],
   "source": [
    "print((f\"\\nThe dataset consists of {F_BOLD}%d instances{F_END}\" +\n",
    "       f\" and {F_BOLD}%d features{F_END}:\\n{F_DIV}\\n\")\n",
    "      %df.shape)\n",
    "\n",
    "# Setting this option enables the presentation of all features instead of\n",
    "# omitting the middle ones:\n",
    "from IPython.display import display\n",
    "with pd.option_context('display.max_columns', None):\n",
    "    display(df.sample(5)) # Retrieves random instances from the dataset"
   ]
  },
  {
   "cell_type": "markdown",
   "metadata": {},
   "source": [
    "## Features and their initial types"
   ]
  },
  {
   "cell_type": "code",
   "execution_count": 91,
   "metadata": {},
   "outputs": [
    {
     "name": "stdout",
     "output_type": "stream",
     "text": [
      "The \u001b[1mstring\u001b[0m and/or \u001b[1mcategorical\u001b[0m features include:\n",
      "────────────────────────────────────────────────────────────\n",
      "name                     object\n",
      "company.name             object\n",
      "company.relationship     object\n",
      "company.sector           object\n",
      "company.type             object\n",
      "demographics.gender      object\n",
      "location.citizenship     object\n",
      "location.country code    object\n",
      "location.region          object\n",
      "wealth.type              object\n",
      "wealth.how.category      object\n",
      "wealth.how.industry      object\n",
      "wealth.how.inherited     object\n",
      "dtype: object\n",
      "\n",
      "The \u001b[1mnumerical\u001b[0m features include:\n",
      "────────────────────────────────────────────────────────────\n",
      "rank                          int64\n",
      "year                          int64\n",
      "company.founded               int64\n",
      "demographics.age              int64\n",
      "location.gdp                float64\n",
      "wealth.worth in billions    float64\n",
      "dtype: object\n",
      "\n",
      "There are also several \u001b[1mboolean\u001b[0m features, including:\n",
      "────────────────────────────────────────────────────────────\n",
      "wealth.how.from emerging    bool\n",
      "wealth.how.was founder      bool\n",
      "wealth.how.was political    bool\n",
      "dtype: object\n",
      "\n"
     ]
    }
   ],
   "source": [
    "print((f\"The {F_BOLD}string{F_END} and/or {F_BOLD}categorical{F_END} features\" +\n",
    "       f\" include:\\n{F_DIV}\\n{df.select_dtypes(include=['object']).dtypes}\\n\"))\n",
    "\n",
    "print((f\"The {F_BOLD}numerical{F_END} features include:\\n{F_DIV}\\n\" +\n",
    "       f\"{df.select_dtypes(include=['int64', 'float64']).dtypes}\\n\"))\n",
    "\n",
    "print((f\"There are also several {F_BOLD}boolean{F_END} features, including:\\n\" +\n",
    "       f\"{F_DIV}\\n{df.select_dtypes(include=['bool']).dtypes}\\n\"))"
   ]
  },
  {
   "cell_type": "markdown",
   "metadata": {},
   "source": [
    "# Data cleaning up\n",
    "This includes all data cleanse measures, including:\n",
    "<ul>\n",
    "    <li>Identification and correction of spelling errors</li>\n",
    "    <li>Making common categories (values in categorical features) consistent</li>\n",
    "    <li>Filling in missing data</li>\n",
    "    <li>Removing duplicates</li>\n",
    "    <li>Inspecting outliers</li>\n",
    "    <li>Casting features to the suitable types according to the data that they contain</li>\n",
    "</ul>"
   ]
  },
  {
   "cell_type": "markdown",
   "metadata": {},
   "source": [
    "## Processing the Boolean features\n",
    "All of these features contain only a single value (True), and as a result, they do not mandate any data cleanse tasks."
   ]
  },
  {
   "cell_type": "markdown",
   "metadata": {},
   "source": [
    "### wealth.how.from emerging"
   ]
  },
  {
   "cell_type": "code",
   "execution_count": 92,
   "metadata": {},
   "outputs": [
    {
     "data": {
      "text/plain": [
       "array([ True])"
      ]
     },
     "execution_count": 92,
     "metadata": {},
     "output_type": "execute_result"
    }
   ],
   "source": [
    "df['wealth.how.from emerging'].unique()"
   ]
  },
  {
   "cell_type": "markdown",
   "metadata": {},
   "source": [
    "### wealth.how.was political"
   ]
  },
  {
   "cell_type": "code",
   "execution_count": 93,
   "metadata": {},
   "outputs": [
    {
     "data": {
      "text/plain": [
       "array([ True])"
      ]
     },
     "execution_count": 93,
     "metadata": {},
     "output_type": "execute_result"
    }
   ],
   "source": [
    "df['wealth.how.was political'].unique()"
   ]
  },
  {
   "cell_type": "markdown",
   "metadata": {},
   "source": [
    "### wealth.how.was founder"
   ]
  },
  {
   "cell_type": "code",
   "execution_count": 94,
   "metadata": {},
   "outputs": [
    {
     "data": {
      "text/plain": [
       "array([ True])"
      ]
     },
     "execution_count": 94,
     "metadata": {},
     "output_type": "execute_result"
    }
   ],
   "source": [
    "df['wealth.how.was founder'].unique()"
   ]
  },
  {
   "cell_type": "markdown",
   "metadata": {},
   "source": [
    "## Processing the categorical features"
   ]
  },
  {
   "cell_type": "markdown",
   "metadata": {},
   "source": [
    "### Common pre-processings\n",
    "These features generally need the following <b>pre-processings</b>:\n",
    "<ul>\n",
    "    <li>Removing trailing and leading spaces from names</li>\n",
    "    <li>Removing all consecutive spaces in the middle of the names</li>\n",
    "    <li>Removing all extra dots</li>\n",
    "    <li>Capitalizing the first letter of each word</li>\n",
    "    <li>Transforming 'and' and '/' to ','\n",
    "    <li>Correcting the spelling errors and typos</li>\n",
    "</ul>"
   ]
  },
  {
   "cell_type": "code",
   "execution_count": 95,
   "metadata": {},
   "outputs": [],
   "source": [
    "# The piece of code below performs all mentioned pre-processings except for\n",
    "# Spelling errors correction which needs to be done case by case\n",
    "\n",
    "for col in df.select_dtypes(include=['object']).columns:\n",
    "    df[col] = df[col].apply(\n",
    "        lambda x: ' '.join(\n",
    "            x.replace('..', '.')\n",
    "             .title()\n",
    "             .replace(' And ', ', ')\n",
    "             .replace('/', ', ')\n",
    "             .split())\n",
    "            if isinstance(x, str) else x\n",
    "    )"
   ]
  },
  {
   "cell_type": "code",
   "execution_count": 96,
   "metadata": {},
   "outputs": [],
   "source": [
    "# The following function receives a lists of words and maps the similar ones\n",
    "# together; it is used to clean up categorical features by pinpointing the\n",
    "# 'almost' similar words and consequently helping in the identification of the\n",
    "# spelling errors.\n",
    "\n",
    "from difflib import SequenceMatcher\n",
    "\n",
    "def similar(word_list, similarity_degree = .8):\n",
    "    for i in range(len(word_list)):\n",
    "        first_word = word_list[i]\n",
    "        if pd.isna(first_word):\n",
    "            continue\n",
    "        res = []\n",
    "        for j in range(i+1, len(word_list)):\n",
    "            second_word = word_list[j]\n",
    "            if pd.isna(second_word):\n",
    "                continue\n",
    "            if SequenceMatcher(\n",
    "                None, \n",
    "                first_word, second_word).ratio() > similarity_degree:\n",
    "                res = res + [second_word]\n",
    "        if len(res) > 0:\n",
    "            print(first_word, '\\n', '-'*30)\n",
    "            print(res, '\\n\\n')"
   ]
  },
  {
   "cell_type": "markdown",
   "metadata": {},
   "source": [
    "### Checking and correcting spelling errors"
   ]
  },
  {
   "cell_type": "markdown",
   "metadata": {},
   "source": [
    "#### wealth.how.inherited"
   ]
  },
  {
   "cell_type": "code",
   "execution_count": 97,
   "metadata": {},
   "outputs": [
    {
     "data": {
      "text/plain": [
       "Not Inherited               1688\n",
       "Father                       558\n",
       "3Rd Generation               210\n",
       "4Th Generation                68\n",
       "Spouse, Widow                 59\n",
       "5Th Generation Or Longer      31\n",
       "Name: wealth.how.inherited, dtype: int64"
      ]
     },
     "execution_count": 97,
     "metadata": {},
     "output_type": "execute_result"
    }
   ],
   "source": [
    "df['wealth.how.inherited'].value_counts(dropna=False)"
   ]
  },
  {
   "cell_type": "markdown",
   "metadata": {},
   "source": [
    "#### wealth.how.industry"
   ]
  },
  {
   "cell_type": "code",
   "execution_count": 98,
   "metadata": {},
   "outputs": [
    {
     "data": {
      "text/plain": [
       "Consumer                            471\n",
       "Retail, Restaurant                  281\n",
       "Real Estate                         280\n",
       "Money Management                    249\n",
       "Media                               219\n",
       "Technology-Computer                 208\n",
       "Diversified Financial               167\n",
       "Energy                              132\n",
       "Technology-Medical                  111\n",
       "Non-Consumer Industrial             107\n",
       "Constrution                          97\n",
       "Mining, Metals                       90\n",
       "Other                                83\n",
       "Hedge Funds                          67\n",
       "Private Equity, Leveraged Buyout     25\n",
       "0                                    16\n",
       "Venture Capital                       8\n",
       "Banking                               1\n",
       "Services                              1\n",
       "NaN                                   1\n",
       "Name: wealth.how.industry, dtype: int64"
      ]
     },
     "execution_count": 98,
     "metadata": {},
     "output_type": "execute_result"
    }
   ],
   "source": [
    "df['wealth.how.industry'].value_counts(dropna=False)"
   ]
  },
  {
   "cell_type": "markdown",
   "metadata": {},
   "source": [
    "#### wealth.how.category"
   ]
  },
  {
   "cell_type": "code",
   "execution_count": 99,
   "metadata": {},
   "outputs": [
    {
     "data": {
      "text/plain": [
       "Financial             800\n",
       "Non-Traded Sectors    597\n",
       "Traded Sectors        564\n",
       "New Sectors           319\n",
       "Resource Related      245\n",
       "0                      85\n",
       "NaN                     1\n",
       "Finance                 1\n",
       "Trucking                1\n",
       "Energy                  1\n",
       "Name: wealth.how.category, dtype: int64"
      ]
     },
     "execution_count": 99,
     "metadata": {},
     "output_type": "execute_result"
    }
   ],
   "source": [
    "df['wealth.how.category'].value_counts(dropna=False)"
   ]
  },
  {
   "cell_type": "markdown",
   "metadata": {},
   "source": [
    "#### wealth.type"
   ]
  },
  {
   "cell_type": "code",
   "execution_count": 100,
   "metadata": {},
   "outputs": [
    {
     "data": {
      "text/plain": [
       "Inherited                953\n",
       "Founder Non-Finance      713\n",
       "Self-Made Finance        500\n",
       "Privatized, Resources    236\n",
       "Executive                190\n",
       "NaN                       22\n",
       "Name: wealth.type, dtype: int64"
      ]
     },
     "execution_count": 100,
     "metadata": {},
     "output_type": "execute_result"
    }
   ],
   "source": [
    "df['wealth.type'].value_counts(dropna=False)"
   ]
  },
  {
   "cell_type": "markdown",
   "metadata": {},
   "source": [
    "#### location.region"
   ]
  },
  {
   "cell_type": "code",
   "execution_count": 101,
   "metadata": {},
   "outputs": [
    {
     "data": {
      "text/plain": [
       "North America                992\n",
       "Europe                       698\n",
       "East Asia                    535\n",
       "Latin America                182\n",
       "Middle East, North Africa    117\n",
       "South Asia                    69\n",
       "Sub-Saharan Africa            20\n",
       "0                              1\n",
       "Name: location.region, dtype: int64"
      ]
     },
     "execution_count": 101,
     "metadata": {},
     "output_type": "execute_result"
    }
   ],
   "source": [
    "df['location.region'].value_counts(dropna=False)"
   ]
  },
  {
   "cell_type": "markdown",
   "metadata": {},
   "source": [
    "#### location.country code"
   ]
  },
  {
   "cell_type": "code",
   "execution_count": 102,
   "metadata": {},
   "outputs": [
    {
     "data": {
      "text/plain": [
       "Usa    903\n",
       "Deu    160\n",
       "Chn    153\n",
       "Rus    119\n",
       "Jpn     96\n",
       "      ... \n",
       "Bmu      1\n",
       "Swz      1\n",
       "Ago      1\n",
       "Bhr      1\n",
       "Tza      1\n",
       "Name: location.country code, Length: 74, dtype: int64"
      ]
     },
     "execution_count": 102,
     "metadata": {},
     "output_type": "execute_result"
    }
   ],
   "source": [
    "df['location.country code'].value_counts(dropna=False)"
   ]
  },
  {
   "cell_type": "markdown",
   "metadata": {},
   "source": [
    "#### location.citizenship"
   ]
  },
  {
   "cell_type": "code",
   "execution_count": 103,
   "metadata": {},
   "outputs": [
    {
     "data": {
      "text/plain": [
       "United States    903\n",
       "Germany          160\n",
       "China            153\n",
       "Russia           119\n",
       "Japan             96\n",
       "                ... \n",
       "Bahrain            1\n",
       "Ecuador            1\n",
       "Georgia            1\n",
       "Bermuda            1\n",
       "Tanzania           1\n",
       "Name: location.citizenship, Length: 73, dtype: int64"
      ]
     },
     "execution_count": 103,
     "metadata": {},
     "output_type": "execute_result"
    }
   ],
   "source": [
    "df['location.citizenship'].value_counts(dropna=False)"
   ]
  },
  {
   "cell_type": "markdown",
   "metadata": {},
   "source": [
    "#### demographics.gender"
   ]
  },
  {
   "cell_type": "code",
   "execution_count": 104,
   "metadata": {},
   "outputs": [
    {
     "data": {
      "text/plain": [
       "Male              2328\n",
       "Female             249\n",
       "NaN                 34\n",
       "Married Couple       3\n",
       "Name: demographics.gender, dtype: int64"
      ]
     },
     "execution_count": 104,
     "metadata": {},
     "output_type": "execute_result"
    }
   ],
   "source": [
    "df['demographics.gender'].value_counts(dropna=False)"
   ]
  },
  {
   "cell_type": "markdown",
   "metadata": {},
   "source": [
    "#### company.type"
   ]
  },
  {
   "cell_type": "code",
   "execution_count": 105,
   "metadata": {},
   "outputs": [
    {
     "data": {
      "text/plain": [
       "New                       2302\n",
       "Aquired                    196\n",
       "Privatization               42\n",
       "NaN                         36\n",
       "Subsidiary                   9\n",
       "Acquired                     7\n",
       "State Owned Enterprise       7\n",
       "New, Aquired                 3\n",
       "Merger                       3\n",
       "Franchise                    2\n",
       "New, Privitization           2\n",
       "New Division                 1\n",
       "Privatized                   1\n",
       "Neew                         1\n",
       "Franchise Rights             1\n",
       "Joint Venture                1\n",
       "Name: company.type, dtype: int64"
      ]
     },
     "execution_count": 105,
     "metadata": {},
     "output_type": "execute_result"
    }
   ],
   "source": [
    "df['company.type'].value_counts(dropna=False)"
   ]
  },
  {
   "cell_type": "code",
   "execution_count": 106,
   "metadata": {},
   "outputs": [],
   "source": [
    "df['company.type'] = df['company.type'].replace(\n",
    "    {\n",
    "        'Aquired': 'Acquired',\n",
    "        'Neew': 'New',\n",
    "        'New, Privitization': 'New, Privatization',\n",
    "    }\n",
    ")"
   ]
  },
  {
   "cell_type": "markdown",
   "metadata": {},
   "source": [
    "#### company.sector"
   ]
  },
  {
   "cell_type": "code",
   "execution_count": 107,
   "metadata": {},
   "outputs": [
    {
     "data": {
      "text/plain": [
       "array(['Advertising', 'Aerospace, Defense', 'Agribusiness',\n",
       "       'Agriculteral', 'Agricultural Products', 'Agriculture',\n",
       "       'Aigriculture', 'Air Compressors', 'Aircraft Leasing', 'Airline',\n",
       "       'Airplanes', 'Airport', 'Airport Maintenance', 'Airports',\n",
       "       'Alcohol', 'Aluminum', 'Aluminum, Oil', 'Animal Feed', 'Animation',\n",
       "       'Antennas', 'Aplliances', 'Apparel', 'Apparel Retail',\n",
       "       'Apparel, Eyewear', 'Appliances', 'Architectural Products',\n",
       "       'Armaments', 'Art Dealing', 'Asset Management', 'Auto Components',\n",
       "       'Auto Dealerships', 'Auto Engines', 'Auto Glass', 'Auto Parts',\n",
       "       'Auto Repair', 'Auto Retail', 'Auto Sales, Energy',\n",
       "       'Automobile Dealers', 'Automobiles', 'Automotive',\n",
       "       'Automotive Components', 'Automotive Parts', 'Automotives',\n",
       "       'Autos', 'Aviation', 'Banannas', 'Bank', 'Banking',\n",
       "       'Banking, Insurance', 'Banking, Media', 'Banking, Oil, Aluminum',\n",
       "       'Banking, Publishing', 'Banking, Real Estate',\n",
       "       'Beauty, Health Care Products', 'Beer', 'Beer, Food Distribution',\n",
       "       'Beverages', 'Beverages, Food', 'Bicycles', 'Biopharmaceutical',\n",
       "       'Biotech', 'Biotech Investing', 'Boats', 'Bottled Water',\n",
       "       'Brake Systems', 'Braking Systems', 'Brewery', 'Bridge To Canada',\n",
       "       'Broadcasting', 'Brokerage, Banking', 'Building Materials',\n",
       "       'Business Centers', 'Cable', 'Cameras', 'Candy', 'Cans', 'Cars',\n",
       "       'Cars, Finance', 'Casinos', 'Catering', 'Cell Phones', 'Cement',\n",
       "       'Cheese', 'Chemicals', 'Chocolate, Coffee', 'Chocolates',\n",
       "       'Cigarette', 'Cigarettes', 'Cleaning Products',\n",
       "       'Cleaning Supplies', 'Clothing', 'Cloud Computing', 'Coal',\n",
       "       'Coffee', 'Cogeneration', 'Commercial Pilot Training',\n",
       "       'Commodities', 'Commodities (Sugar, Cement Flour)',\n",
       "       'Commodities (Wheat, Oil, Shipping)', 'Commodities Trading',\n",
       "       'Commodity Trading', 'Communications', 'Comodities',\n",
       "       'Computer Parts', 'Computer Services', 'Computers',\n",
       "       'Confectionary', 'Construcion', 'Construction',\n",
       "       'Construction, Hotels, Gaming', 'Construction, Insurance',\n",
       "       'Construction, Real Estate', 'Construction, Real Estate, Banking',\n",
       "       'Construction, Utilities', 'Construction,Banking',\n",
       "       'Consumer Goods', 'Consumer Loans', 'Consumer Retail', 'Copper',\n",
       "       'Copper, Mining', 'Copper, Poultry', 'Cork', 'Cosmetics',\n",
       "       'Cotton Yarn', 'Cranes', 'Credit Cards', 'Cruises',\n",
       "       'Currency Trading', 'Dairy', 'Dairy Products', 'Data Processing',\n",
       "       'Data Storage', 'Dental Implants', 'Diamond Jewelry', 'Diamonds',\n",
       "       'Diapers', 'Diversified Investments', 'Domestic Appliances',\n",
       "       'Drinks', 'Drug Stores', 'E-Commerce',\n",
       "       'E-Commerce, Venture Capital', 'Education',\n",
       "       'Education, Language Schools', 'Electonics',\n",
       "       'Electonics Components', 'Electric Motors', 'Electricity',\n",
       "       'Electronic Componants', 'Electronic Interconnectors',\n",
       "       'Electronics', 'Elevators', 'Elevators, Escalators, Engineering',\n",
       "       'Energy', 'Energy (Coal, Oil, Gas)',\n",
       "       'Energy, Retail, Manufacturing', 'Engineering', 'Entertainment',\n",
       "       'Ethanol', 'Express Delivery Services', 'Eyeglasses', 'Fashion',\n",
       "       'Fashion Retail', 'Fashion, Oil', 'Fertalizers', 'Fertilizer',\n",
       "       'Fertilizers', 'Fiber Optic Cables', 'Film', 'Finace', 'Finance',\n",
       "       'Financial Information', 'Financial Services', 'Flavorings',\n",
       "       'Flooring', 'Food', 'Food Distribution', 'Food Manufacturing',\n",
       "       'Food Packaging', 'Food Processing',\n",
       "       'Food Processing, Commodities', 'Food Production', 'Food Products',\n",
       "       'Food Retail', 'Food Sweeteners', 'Food, Energy Processess',\n",
       "       'Food, Entertainment', 'Footwear', 'Forestry, Mining',\n",
       "       'Frozen Foods', 'Furniture', 'Gambing', 'Gambling Software',\n",
       "       'Gaming', 'Gas', 'Gas Pipeline', 'Gas, Petrochemicals',\n",
       "       'Gas, Propane', 'Glass', 'Glasses', 'Golf Courses',\n",
       "       'Gps Technology', 'Grain', 'Greeting Cards', 'Groceries', 'Gum',\n",
       "       'Hair Care', 'Hair Care Products', 'Hair Care Products, Tequila',\n",
       "       'Hardware Stores', 'Healthcare', 'Healthcare It',\n",
       "       'Healthcare Management', 'Heating Systems', 'Heavy Equipment',\n",
       "       'Heavy Equiptment (Excavators, Backhoes, Tractors)',\n",
       "       'Heavy Manufacturing', 'Hedge Funds', 'Holding Company',\n",
       "       'Home Building Materials', 'Home Furnishings',\n",
       "       'Home Improvement Retail', 'Hospitality',\n",
       "       'Hospitality, Food Service', 'Hospitals', 'Hostile Takeovers',\n",
       "       'Hotels', 'Hotels, Supermarkets', 'Hr Consulting',\n",
       "       'Industrial Automation', 'Industrial Equipment',\n",
       "       'Industrial Goods', 'Industrial Manufacturing, Banking',\n",
       "       'Industrial Software', 'Industrial Tools', 'Infant Formula',\n",
       "       'Information Services', 'Infrastructure', 'Insurance',\n",
       "       'Insurancei, Power', 'Internet', 'Internet Companies',\n",
       "       'Internet Company', 'Internet Domain, Web Hosting',\n",
       "       'Internet Provider', 'Internet Service Company',\n",
       "       'Internet Service Provider', 'Investment',\n",
       "       'Investment (Via Holding Company)', 'Investment Banking',\n",
       "       'Investment Banking, Beer', 'Investment Mangagment', 'Investments',\n",
       "       'Investments, Real Estate, Sports Teams', 'Invetsments', 'Iron',\n",
       "       'Iron Ore', 'Iron, Steel', 'It Consulting', 'Jeans', 'Jewelry',\n",
       "       'Kitchen Appliances', 'Laboratory Services',\n",
       "       'Landscape Architecture', 'Laptops', 'Laundry Soap', 'Lawsuits',\n",
       "       'Leather', 'Leveraged Buyout', 'Leveraged Buyouts',\n",
       "       'Life Insurance', 'Linear Actuators', 'Liquor',\n",
       "       'Locomotive Manufacturing', 'Logging', 'Logistics', 'Lumber',\n",
       "       'Lumber, Real Estate', 'Luxury Fashion', 'Luxury Goods',\n",
       "       'Mail Order Retail', 'Makeup', 'Manufacturing',\n",
       "       'Manufacturing (Agriculture, Steel, Electronics)',\n",
       "       'Manufacturing, Real Estate, Aviation', 'Mass Transit',\n",
       "       'Measuring Instruments', 'Meat Processing', 'Meat Products',\n",
       "       'Media', 'Media, Exports', 'Media, Pipelines', 'Medical Devices',\n",
       "       'Medical Equipment', 'Medical Supplies', 'Medical Technology',\n",
       "       'Metals', 'Metals, Banking', 'Metals, Mining',\n",
       "       'Metals, Paper, Cement', 'Mettallurgy', 'Microchips', 'Milk',\n",
       "       'Mining', 'Mining, Banking', 'Mining, Investments',\n",
       "       'Mining, Steel', 'Mobile App', 'Mobile Phone Batteries',\n",
       "       'Mobile Phones', 'Money Management', 'Mortgage Banking',\n",
       "       'Mortgages', 'Motorcycles', 'Movie Theatres', 'Movies', 'Music',\n",
       "       'Mutal Funds', 'Mutual Funds', 'Natural Flavors', 'Natural Gas',\n",
       "       'Networking Equipment', 'New Technology', 'Nutrition Supplements',\n",
       "       'Oil', 'Oil Exploration Equipment', 'Oil Field Services',\n",
       "       'Oil Infrastructure', 'Oil Refining', 'Oil Services',\n",
       "       'Oil Tankers', 'Oil Trading', 'Oil, Gas', 'Oil, Investments',\n",
       "       'Oil, Natural Gas', 'Oil, Railroad, Investments',\n",
       "       'Oil, Telecommunications', 'Oilfield Equipment',\n",
       "       'Oilfield Services', 'Oleochemicals, Palm Oil', 'Online Gaming',\n",
       "       'Outsourcing', 'Pachinko', 'Pachinko Gaming Machines', 'Paint',\n",
       "       'Palm Oil', 'Palm Oil, Mining', 'Palm Oil, Real Estate', 'Paper',\n",
       "       'Paper Manufacturing, Investment', 'Paper Products',\n",
       "       'Payroll Processing', 'Pet Food', 'Pet Supplies, Real Estate',\n",
       "       'Petrochemicals', 'Petrochemicals, Textiles', 'Petroleum',\n",
       "       'Pharmaceuticals', 'Pipelines', 'Pipes', 'Plastic', 'Plastics',\n",
       "       'Polymers', 'Port', 'Port Containers', 'Port Logistics',\n",
       "       'Ports, Gas', 'Postal Service, Beverages', 'Power Engineering',\n",
       "       'Precious Metals', 'Printers', 'Printing', 'Printing, Electronics',\n",
       "       'Private Equity', 'Private Investment Company',\n",
       "       'Processing Machinary', 'Property Development',\n",
       "       'Property, Textile Manufacturing', 'Publishing', 'Racing',\n",
       "       'Real Estate', 'Real Estate (Shopping Malls)',\n",
       "       'Real Estate, Banking',\n",
       "       'Real Estate, Financial Services, Computers',\n",
       "       'Real Estate, Metals', 'Real Estate, Retail',\n",
       "       'Real Estate, Sports Teams', 'Relocation Services', 'Rental Cars',\n",
       "       'Restaurant', 'Restaurants', 'Retail',\n",
       "       'Retail, Financial Services, Real Estate',\n",
       "       'Retail, Home Appliances', 'Rice Trading, Mining, Infrastructure',\n",
       "       'Risk Management', 'Roller Bearings', 'Roofing', 'Salsa',\n",
       "       'Satallite Communications', 'Screws', 'Security',\n",
       "       'Security Equipment', 'Security, Surveillance Technology', 'Seeds',\n",
       "       'Self Storage', 'Self-Storage', 'Semiconductors',\n",
       "       'Service Assurance Instruments', 'Sewage Treatment',\n",
       "       'Sewing Machines', 'Shale', 'Shipbuilding', 'Shipping',\n",
       "       'Shoe Retail', 'Shoes', 'Shopping Centers',\n",
       "       'Small-Company Lending', 'Snack Foods', 'Social Network',\n",
       "       'Soft Drinks', 'Software', 'Solar Energy', 'Soup', 'Soy Sauce',\n",
       "       'Spirits', 'Sporting Goods', 'Sports', 'Sports Equipment',\n",
       "       'Sports Retail', 'Sports Team', 'Sportswear', 'Staffing Company',\n",
       "       'Staffing Services', 'Star Wars', 'Steel', 'Steel, Banking',\n",
       "       'Steel, Oil', 'Stock Broker', 'Stock Brokerage',\n",
       "       'Sugar, Flour, Cement', 'Supermarkets', 'Supply Chain',\n",
       "       'Technology', 'Technology Consulting', 'Technology Publishing',\n",
       "       'Telecom', 'Telecom, Finance', 'Telecom, Investments',\n",
       "       'Telecom, Oil, Beer', 'Telecomm', 'Telecommunications',\n",
       "       'Television', 'Textiles', 'Textiles, Industrial Goods, Media',\n",
       "       'Timber', 'Timber, Paper', 'Timber, Plantations',\n",
       "       'Tire Manufacturing', 'Tires', 'Tobacco', 'Tobacco, Luxury Brands',\n",
       "       'Toll Roads', 'Tools', 'Tortillas', 'Toys', 'Tractors',\n",
       "       'Trade Fairs', 'Trade Investment', 'Trading', 'Trading Company',\n",
       "       'Transportation', 'Travel Company', 'Truck Stop', 'Truck Stops',\n",
       "       'Trucking', 'Trucking, Logistics', 'Uniforms', 'Utilities',\n",
       "       'Utilities, Financial Services', 'Vacuum Cleaners',\n",
       "       'Venture Capitalist', 'Video Games', 'Video Technology',\n",
       "       'Waste Management', 'Watch Retail', 'Watches', 'Web Broadcasting',\n",
       "       'Wind Energy', 'Wine', 'Wine, Spirits', 'Winter Jackets',\n",
       "       'Wireless Products', 'Wool', 'Wrestling Promotion', 'Yogurt',\n",
       "       'Zippers', nan], dtype=object)"
      ]
     },
     "execution_count": 107,
     "metadata": {},
     "output_type": "execute_result"
    }
   ],
   "source": [
    "df['company.sector'].sort_values().unique()"
   ]
  },
  {
   "cell_type": "code",
   "execution_count": 108,
   "metadata": {},
   "outputs": [
    {
     "name": "stdout",
     "output_type": "stream",
     "text": [
      "Agricultural Products \n",
      " ------------------------------\n",
      "['Architectural Products'] \n",
      "\n",
      "\n",
      "Agriculture \n",
      " ------------------------------\n",
      "['Aigriculture'] \n",
      "\n",
      "\n",
      "Airport \n",
      " ------------------------------\n",
      "['Airports'] \n",
      "\n",
      "\n",
      "Animation \n",
      " ------------------------------\n",
      "['Aviation'] \n",
      "\n",
      "\n",
      "Aplliances \n",
      " ------------------------------\n",
      "['Appliances'] \n",
      "\n",
      "\n",
      "Asset Management \n",
      " ------------------------------\n",
      "['Waste Management'] \n",
      "\n",
      "\n",
      "Auto Components \n",
      " ------------------------------\n",
      "['Automotive Components'] \n",
      "\n",
      "\n",
      "Auto Repair \n",
      " ------------------------------\n",
      "['Auto Retail'] \n",
      "\n",
      "\n",
      "Automobiles \n",
      " ------------------------------\n",
      "['Automotives'] \n",
      "\n",
      "\n",
      "Automotive \n",
      " ------------------------------\n",
      "['Automotives'] \n",
      "\n",
      "\n",
      "Automotive Parts \n",
      " ------------------------------\n",
      "['Automotives'] \n",
      "\n",
      "\n",
      "Beer, Food Distribution \n",
      " ------------------------------\n",
      "['Food Distribution'] \n",
      "\n",
      "\n",
      "Biopharmaceutical \n",
      " ------------------------------\n",
      "['Pharmaceuticals'] \n",
      "\n",
      "\n",
      "Brake Systems \n",
      " ------------------------------\n",
      "['Braking Systems'] \n",
      "\n",
      "\n",
      "Broadcasting \n",
      " ------------------------------\n",
      "['Web Broadcasting'] \n",
      "\n",
      "\n",
      "Building Materials \n",
      " ------------------------------\n",
      "['Home Building Materials'] \n",
      "\n",
      "\n",
      "Cigarette \n",
      " ------------------------------\n",
      "['Cigarettes'] \n",
      "\n",
      "\n",
      "Commodities \n",
      " ------------------------------\n",
      "['Comodities'] \n",
      "\n",
      "\n",
      "Commodities Trading \n",
      " ------------------------------\n",
      "['Commodity Trading'] \n",
      "\n",
      "\n",
      "Communications \n",
      " ------------------------------\n",
      "['Telecommunications'] \n",
      "\n",
      "\n",
      "Construcion \n",
      " ------------------------------\n",
      "['Construction'] \n",
      "\n",
      "\n",
      "Construction, Real Estate \n",
      " ------------------------------\n",
      "['Construction, Real Estate, Banking'] \n",
      "\n",
      "\n",
      "Data Processing \n",
      " ------------------------------\n",
      "['Meat Processing'] \n",
      "\n",
      "\n",
      "Electonics \n",
      " ------------------------------\n",
      "['Electronics'] \n",
      "\n",
      "\n",
      "Electonics Components \n",
      " ------------------------------\n",
      "['Electronic Componants'] \n",
      "\n",
      "\n",
      "Entertainment \n",
      " ------------------------------\n",
      "['Food, Entertainment'] \n",
      "\n",
      "\n",
      "Fertalizers \n",
      " ------------------------------\n",
      "['Fertilizer', 'Fertilizers'] \n",
      "\n",
      "\n",
      "Fertilizer \n",
      " ------------------------------\n",
      "['Fertilizers'] \n",
      "\n",
      "\n",
      "Finace \n",
      " ------------------------------\n",
      "['Finance'] \n",
      "\n",
      "\n",
      "Food Manufacturing \n",
      " ------------------------------\n",
      "['Manufacturing'] \n",
      "\n",
      "\n",
      "Food Production \n",
      " ------------------------------\n",
      "['Food Products'] \n",
      "\n",
      "\n",
      "Gambing \n",
      " ------------------------------\n",
      "['Gaming'] \n",
      "\n",
      "\n",
      "Gas, Petrochemicals \n",
      " ------------------------------\n",
      "['Petrochemicals'] \n",
      "\n",
      "\n",
      "Glass \n",
      " ------------------------------\n",
      "['Glasses'] \n",
      "\n",
      "\n",
      "Gps Technology \n",
      " ------------------------------\n",
      "['Technology'] \n",
      "\n",
      "\n",
      "Healthcare \n",
      " ------------------------------\n",
      "['Healthcare It'] \n",
      "\n",
      "\n",
      "Heavy Manufacturing \n",
      " ------------------------------\n",
      "['Manufacturing', 'Tire Manufacturing'] \n",
      "\n",
      "\n",
      "Hr Consulting \n",
      " ------------------------------\n",
      "['It Consulting'] \n",
      "\n",
      "\n",
      "Industrial Goods \n",
      " ------------------------------\n",
      "['Industrial Tools'] \n",
      "\n",
      "\n",
      "Infrastructure \n",
      " ------------------------------\n",
      "['Oil Infrastructure'] \n",
      "\n",
      "\n",
      "Internet Companies \n",
      " ------------------------------\n",
      "['Internet Company'] \n",
      "\n",
      "\n",
      "Internet Provider \n",
      " ------------------------------\n",
      "['Internet Service Provider'] \n",
      "\n",
      "\n",
      "Investment \n",
      " ------------------------------\n",
      "['Investments', 'Invetsments'] \n",
      "\n",
      "\n",
      "Investment Banking \n",
      " ------------------------------\n",
      "['Investment Banking, Beer'] \n",
      "\n",
      "\n",
      "Investments \n",
      " ------------------------------\n",
      "['Invetsments', 'Oil, Investments'] \n",
      "\n",
      "\n",
      "Leveraged Buyout \n",
      " ------------------------------\n",
      "['Leveraged Buyouts'] \n",
      "\n",
      "\n",
      "Manufacturing \n",
      " ------------------------------\n",
      "['Tire Manufacturing'] \n",
      "\n",
      "\n",
      "Metals, Banking \n",
      " ------------------------------\n",
      "['Metals, Mining'] \n",
      "\n",
      "\n",
      "Mutal Funds \n",
      " ------------------------------\n",
      "['Mutual Funds'] \n",
      "\n",
      "\n",
      "Natural Gas \n",
      " ------------------------------\n",
      "['Oil, Natural Gas'] \n",
      "\n",
      "\n",
      "New Technology \n",
      " ------------------------------\n",
      "['Technology'] \n",
      "\n",
      "\n",
      "Oil Field Services \n",
      " ------------------------------\n",
      "['Oilfield Services'] \n",
      "\n",
      "\n",
      "Oil Services \n",
      " ------------------------------\n",
      "['Oilfield Services'] \n",
      "\n",
      "\n",
      "Oil, Telecommunications \n",
      " ------------------------------\n",
      "['Telecommunications'] \n",
      "\n",
      "\n",
      "Plastic \n",
      " ------------------------------\n",
      "['Plastics'] \n",
      "\n",
      "\n",
      "Real Estate, Metals \n",
      " ------------------------------\n",
      "['Real Estate, Retail'] \n",
      "\n",
      "\n",
      "Restaurant \n",
      " ------------------------------\n",
      "['Restaurants'] \n",
      "\n",
      "\n",
      "Self Storage \n",
      " ------------------------------\n",
      "['Self-Storage'] \n",
      "\n",
      "\n",
      "Stock Broker \n",
      " ------------------------------\n",
      "['Stock Brokerage'] \n",
      "\n",
      "\n",
      "Telecom \n",
      " ------------------------------\n",
      "['Telecomm'] \n",
      "\n",
      "\n",
      "Truck Stop \n",
      " ------------------------------\n",
      "['Truck Stops'] \n",
      "\n",
      "\n"
     ]
    }
   ],
   "source": [
    "similar(df[\"company.sector\"].sort_values().unique())"
   ]
  },
  {
   "cell_type": "code",
   "execution_count": 109,
   "metadata": {},
   "outputs": [],
   "source": [
    "df['company.sector'] = df['company.sector'].replace(\n",
    "    {\n",
    "        'Agriculteral': 'Agricultural',\n",
    "        'Aigriculture': 'Agriculture',\n",
    "        'Aplliances': 'Appliances',\n",
    "        'Comodities': 'Commodities',\n",
    "        'Construcion': 'Construction',\n",
    "        'Electonics': 'Electronics',\n",
    "        'Electonics Components': 'Electronic Components',\n",
    "        'Fertalizers': 'Fertilizers',\n",
    "        'Finace': 'Finance',\n",
    "        'Gambing': 'Gambling',\n",
    "        'Invetsments': 'Investments',\n",
    "        'Mutal Funds': 'Mutual Funds',\n",
    "        'Telecomm': 'Telecom',\n",
    "        'Electronic Componants': 'Electronic Components',\n",
    "        'Food And Energy Processess': 'Food And Energy Processes',\n",
    "        'Insurancei, Power': 'Insurance, Power',\n",
    "    }\n",
    ")"
   ]
  },
  {
   "cell_type": "markdown",
   "metadata": {},
   "source": [
    "#### company.relationship"
   ]
  },
  {
   "cell_type": "code",
   "execution_count": 110,
   "metadata": {
    "tags": []
   },
   "outputs": [
    {
     "data": {
      "text/plain": [
       "array(['Ceo', 'Chairman', 'Chairman Of Management Committee',\n",
       "       'Chairman Of The Board', 'Chairman, Ceo',\n",
       "       'Chairman, Chief Executive Officer', 'Chairman, Founder',\n",
       "       'Chairman, Shareholder', 'Chairwomen', 'Chariman',\n",
       "       'Chief Executive', 'Co-Chairman',\n",
       "       'Co-Director Of Zinc, Copper, Lead', 'Coo', 'Deputy Chairman',\n",
       "       'Director', 'Employee', 'Exectuitve Director',\n",
       "       'Executive Chairman', 'Former Ceo', 'Former Chairman, Ceo',\n",
       "       'Founder', 'Founder Ceo Owner', 'Founder, Ceo',\n",
       "       'Founder, Chairman', 'Founder, Chairman, Ceo',\n",
       "       'Founder, Chairwoman', 'Founder, Chairwoman, Ceo',\n",
       "       'Founder, Executive Chairman', 'Founder, Executive Vice Chairman',\n",
       "       'Founder, President', 'Founder, Relation',\n",
       "       'Founder, Vice Chairman', 'General Director',\n",
       "       'Global Head Of Real Estate', 'Head Of Board Of Directors',\n",
       "       'Head Of High-Yield Bond Trading Dept',\n",
       "       \"Head Of Microsoft'S Application Software Group\",\n",
       "       'Honorary President For Life', 'Inherited', 'Inventor', 'Investor',\n",
       "       'Investor, Ceo', 'Investor, Founder', 'Lawer', 'Lawyer',\n",
       "       'Leadership', 'Owner', 'Owner, Former Ceo', 'Owner, Vice Chair',\n",
       "       'Partner', 'President', 'President, Ceo', 'Relation',\n",
       "       'Relation, Ceo', 'Relation, Chairman', 'Relation, Vice Chairman',\n",
       "       'Relative', 'Shareholder', 'Supervisory Board Or Directors',\n",
       "       'Vice Chairman', 'Vice President',\n",
       "       'Vice President Of Infrastructure Software', 'Vice-Chairman', nan],\n",
       "      dtype=object)"
      ]
     },
     "execution_count": 110,
     "metadata": {},
     "output_type": "execute_result"
    }
   ],
   "source": [
    "df['company.relationship'].sort_values().unique()"
   ]
  },
  {
   "cell_type": "code",
   "execution_count": 111,
   "metadata": {},
   "outputs": [
    {
     "name": "stdout",
     "output_type": "stream",
     "text": [
      "Chairman \n",
      " ------------------------------\n",
      "['Chariman', 'Co-Chairman'] \n",
      "\n",
      "\n",
      "Former Chairman, Ceo \n",
      " ------------------------------\n",
      "['Founder, Chairman, Ceo', 'Founder, Chairwoman, Ceo'] \n",
      "\n",
      "\n",
      "Founder, Chairman \n",
      " ------------------------------\n",
      "['Founder, Chairman, Ceo', 'Founder, Chairwoman', 'Founder, Chairwoman, Ceo', 'Founder, Vice Chairman'] \n",
      "\n",
      "\n",
      "Founder, Chairman, Ceo \n",
      " ------------------------------\n",
      "['Founder, Chairwoman', 'Founder, Chairwoman, Ceo'] \n",
      "\n",
      "\n",
      "Founder, Chairwoman \n",
      " ------------------------------\n",
      "['Founder, Chairwoman, Ceo', 'Founder, Vice Chairman'] \n",
      "\n",
      "\n",
      "Founder, Executive Chairman \n",
      " ------------------------------\n",
      "['Founder, Executive Vice Chairman', 'Founder, Vice Chairman'] \n",
      "\n",
      "\n",
      "Founder, Executive Vice Chairman \n",
      " ------------------------------\n",
      "['Founder, Vice Chairman'] \n",
      "\n",
      "\n",
      "Inventor \n",
      " ------------------------------\n",
      "['Investor'] \n",
      "\n",
      "\n",
      "Lawer \n",
      " ------------------------------\n",
      "['Lawyer'] \n",
      "\n",
      "\n",
      "Relation, Chairman \n",
      " ------------------------------\n",
      "['Relation, Vice Chairman'] \n",
      "\n",
      "\n",
      "Vice Chairman \n",
      " ------------------------------\n",
      "['Vice-Chairman'] \n",
      "\n",
      "\n"
     ]
    }
   ],
   "source": [
    "similar(df[\"company.relationship\"].sort_values().unique())"
   ]
  },
  {
   "cell_type": "code",
   "execution_count": 112,
   "metadata": {},
   "outputs": [],
   "source": [
    "df['company.relationship'] = df['company.relationship'].replace(\n",
    "    {\n",
    "        'Chariman': 'Chairman',\n",
    "        'Lawer': 'Lawyer',\n",
    "        'Vice-Chairman': 'Vice Chairman',\n",
    "    }\n",
    ")"
   ]
  },
  {
   "cell_type": "markdown",
   "metadata": {},
   "source": [
    "### Common post-processings\n",
    "The features require the following <b>post-processings</b>:\n",
    "<ul>\n",
    "    <li>Filling in the missing values (NAs) with 'Unspecified'</li>\n",
    "    <li>Replacing the value '0' with 'Unspecified'</li>\n",
    "    <li>Casting the variable from string (object) to categorical</li>\n",
    "</ul>"
   ]
  },
  {
   "cell_type": "code",
   "execution_count": 113,
   "metadata": {},
   "outputs": [],
   "source": [
    "# The piece of code below performs all mentioned post-processings for all the\n",
    "# string features except for 'name' which is not supposed to be transformed\n",
    "# to categorical\n",
    "\n",
    "\n",
    "for col in df.select_dtypes(include=['object']).columns:\n",
    "    if col == 'name':\n",
    "        continue\n",
    "    \n",
    "    # Replacing the value of '0' with Null\n",
    "    df[col] = df[col].replace(\n",
    "        {\n",
    "            '0': None,\n",
    "        }\n",
    "    )\n",
    "\n",
    "    # Filling Null values with the value 'Unspecified'\n",
    "    df[col] = df[col].fillna('Unspecified')\n",
    "\n",
    "    # Casting the feature into categorical type\n",
    "    df[col] = df[col].astype('category')"
   ]
  },
  {
   "cell_type": "markdown",
   "metadata": {},
   "source": [
    "### name"
   ]
  },
  {
   "cell_type": "markdown",
   "metadata": {},
   "source": [
    "Listing possible inconsistancies where the names are different, but the following features are the same:\n",
    "<ul>\n",
    "    <li>company.founded</li>\n",
    "    <li>company.name</li>\n",
    "    <li>company.relationship</li>\n",
    "    <li>company.sector</li>\n",
    "    <li>company.type</li>\n",
    "    <li>demographics.gender</li>\n",
    "    <li>location.citizenship</li>\n",
    "    <li>location.country code</li>\n",
    "    <li>location.region</li>\n",
    "    <li>wealth.type</li>\n",
    "    <li>wealth.how.category</li>\n",
    "    <li>wealth.how.from emerging</li>\n",
    "    <li>wealth.how.industry</li>\n",
    "    <li>wealth.how.inherited</li>\n",
    "</ul>"
   ]
  },
  {
   "cell_type": "code",
   "execution_count": null,
   "metadata": {},
   "outputs": [],
   "source": [
    "dup_cols = ['company.founded',\n",
    "            'company.name',\n",
    "            'company.relationship',\n",
    "            'company.sector',\n",
    "            'company.type',\n",
    "            'demographics.gender',\n",
    "            'location.citizenship',\n",
    "            'location.country code',\n",
    "            'location.region',\n",
    "            'wealth.type',\n",
    "            'wealth.how.category',\n",
    "            'wealth.how.from emerging',\n",
    "            'wealth.how.industry',\n",
    "            'wealth.how.inherited']\n",
    "\n",
    "dup_rows = df[df.duplicated(subset=dup_cols)]\n",
    "dup_rows[duprows[]]"
   ]
  },
  {
   "cell_type": "code",
   "execution_count": null,
   "metadata": {},
   "outputs": [],
   "source": [
    "import re\n",
    "\n",
    "df[df['name'].apply(lambda x: (re.search('abraham', x, re.IGNORECASE) is not None))]"
   ]
  },
  {
   "cell_type": "code",
   "execution_count": null,
   "metadata": {},
   "outputs": [],
   "source": [
    "import re\n",
    "\n",
    "df[df['name'].apply(lambda x: (re.search('abraham', x, re.IGNORECASE) is not None))]"
   ]
  }
 ],
 "metadata": {
  "kernelspec": {
   "display_name": "Python 3 (ipykernel)",
   "language": "python",
   "name": "python3"
  },
  "language_info": {
   "codemirror_mode": {
    "name": "ipython",
    "version": 3
   },
   "file_extension": ".py",
   "mimetype": "text/x-python",
   "name": "python",
   "nbconvert_exporter": "python",
   "pygments_lexer": "ipython3",
   "version": "3.10.9"
  }
 },
 "nbformat": 4,
 "nbformat_minor": 4
}
