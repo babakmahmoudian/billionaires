{
 "cells": [
  {
   "cell_type": "code",
   "execution_count": 122,
   "metadata": {},
   "outputs": [],
   "source": [
    "import numpy as np\n",
    "import pandas as pd\n",
    "import matplotlib.pyplot as plt\n",
    "\n",
    "import re # The RegEx module used for string operations"
   ]
  },
  {
   "cell_type": "code",
   "execution_count": 123,
   "metadata": {},
   "outputs": [],
   "source": [
    "# Defining some text formatting constants:\n",
    "\n",
    "# Start making the text bold\n",
    "F_BOLD = '\\033[1m'\n",
    "\n",
    "# Start underlining the text\n",
    "F_UNDERLINE = '\\033[4m'\n",
    "\n",
    "# End text formatting\n",
    "F_END = '\\033[0m'\n",
    "\n",
    "# Divider line beneath text\n",
    "F_DIV = '─'*60"
   ]
  },
  {
   "cell_type": "markdown",
   "metadata": {},
   "source": [
    "# Loading the dataset"
   ]
  },
  {
   "cell_type": "code",
   "execution_count": 124,
   "metadata": {},
   "outputs": [],
   "source": [
    "df = pd.read_csv('./billionaires.csv')"
   ]
  },
  {
   "cell_type": "code",
   "execution_count": 125,
   "metadata": {},
   "outputs": [
    {
     "name": "stdout",
     "output_type": "stream",
     "text": [
      "\n",
      "The dataset consists of \u001b[1m2614 instances\u001b[0m and \u001b[1m22 features\u001b[0m:\n",
      "────────────────────────────────────────────────────────────\n",
      "\n"
     ]
    },
    {
     "data": {
      "text/html": [
       "<div>\n",
       "<style scoped>\n",
       "    .dataframe tbody tr th:only-of-type {\n",
       "        vertical-align: middle;\n",
       "    }\n",
       "\n",
       "    .dataframe tbody tr th {\n",
       "        vertical-align: top;\n",
       "    }\n",
       "\n",
       "    .dataframe thead th {\n",
       "        text-align: right;\n",
       "    }\n",
       "</style>\n",
       "<table border=\"1\" class=\"dataframe\">\n",
       "  <thead>\n",
       "    <tr style=\"text-align: right;\">\n",
       "      <th></th>\n",
       "      <th>name</th>\n",
       "      <th>rank</th>\n",
       "      <th>year</th>\n",
       "      <th>company.founded</th>\n",
       "      <th>company.name</th>\n",
       "      <th>company.relationship</th>\n",
       "      <th>company.sector</th>\n",
       "      <th>company.type</th>\n",
       "      <th>demographics.age</th>\n",
       "      <th>demographics.gender</th>\n",
       "      <th>location.citizenship</th>\n",
       "      <th>location.country code</th>\n",
       "      <th>location.gdp</th>\n",
       "      <th>location.region</th>\n",
       "      <th>wealth.type</th>\n",
       "      <th>wealth.worth in billions</th>\n",
       "      <th>wealth.how.category</th>\n",
       "      <th>wealth.how.from emerging</th>\n",
       "      <th>wealth.how.industry</th>\n",
       "      <th>wealth.how.inherited</th>\n",
       "      <th>wealth.how.was founder</th>\n",
       "      <th>wealth.how.was political</th>\n",
       "    </tr>\n",
       "  </thead>\n",
       "  <tbody>\n",
       "    <tr>\n",
       "      <th>1475</th>\n",
       "      <td>Victor Pinchuk</td>\n",
       "      <td>506</td>\n",
       "      <td>2014</td>\n",
       "      <td>1983</td>\n",
       "      <td>Interpipe</td>\n",
       "      <td>founder</td>\n",
       "      <td>pipelines</td>\n",
       "      <td>new</td>\n",
       "      <td>53</td>\n",
       "      <td>male</td>\n",
       "      <td>Ukraine</td>\n",
       "      <td>UKR</td>\n",
       "      <td>0.000000e+00</td>\n",
       "      <td>Europe</td>\n",
       "      <td>privatized and resources</td>\n",
       "      <td>3.2</td>\n",
       "      <td>Resource Related</td>\n",
       "      <td>True</td>\n",
       "      <td>Non-consumer industrial</td>\n",
       "      <td>not inherited</td>\n",
       "      <td>True</td>\n",
       "      <td>True</td>\n",
       "    </tr>\n",
       "    <tr>\n",
       "      <th>461</th>\n",
       "      <td>Saleh Kamel</td>\n",
       "      <td>151</td>\n",
       "      <td>2001</td>\n",
       "      <td>1969</td>\n",
       "      <td>Dallah al Baraka Group</td>\n",
       "      <td>founder</td>\n",
       "      <td>airport maintenance</td>\n",
       "      <td>new</td>\n",
       "      <td>59</td>\n",
       "      <td>male</td>\n",
       "      <td>Saudi Arabia</td>\n",
       "      <td>SAU</td>\n",
       "      <td>1.830000e+11</td>\n",
       "      <td>Middle East/North Africa</td>\n",
       "      <td>self-made finance</td>\n",
       "      <td>3.0</td>\n",
       "      <td>Financial</td>\n",
       "      <td>True</td>\n",
       "      <td>Money Management</td>\n",
       "      <td>not inherited</td>\n",
       "      <td>True</td>\n",
       "      <td>True</td>\n",
       "    </tr>\n",
       "    <tr>\n",
       "      <th>1246</th>\n",
       "      <td>Murat Ulker</td>\n",
       "      <td>408</td>\n",
       "      <td>2014</td>\n",
       "      <td>1944</td>\n",
       "      <td>Yildiz Holding</td>\n",
       "      <td>relation</td>\n",
       "      <td>food products</td>\n",
       "      <td>new</td>\n",
       "      <td>54</td>\n",
       "      <td>male</td>\n",
       "      <td>Turkey</td>\n",
       "      <td>TUR</td>\n",
       "      <td>0.000000e+00</td>\n",
       "      <td>Middle East/North Africa</td>\n",
       "      <td>inherited</td>\n",
       "      <td>3.7</td>\n",
       "      <td>Traded Sectors</td>\n",
       "      <td>True</td>\n",
       "      <td>Consumer</td>\n",
       "      <td>father</td>\n",
       "      <td>True</td>\n",
       "      <td>True</td>\n",
       "    </tr>\n",
       "    <tr>\n",
       "      <th>2392</th>\n",
       "      <td>Rakesh Jhunjhunwala</td>\n",
       "      <td>1372</td>\n",
       "      <td>2014</td>\n",
       "      <td>1968</td>\n",
       "      <td>Lupin</td>\n",
       "      <td>investor</td>\n",
       "      <td>pharmaceuticals</td>\n",
       "      <td>new</td>\n",
       "      <td>53</td>\n",
       "      <td>male</td>\n",
       "      <td>India</td>\n",
       "      <td>IND</td>\n",
       "      <td>0.000000e+00</td>\n",
       "      <td>South Asia</td>\n",
       "      <td>self-made finance</td>\n",
       "      <td>1.2</td>\n",
       "      <td>Financial</td>\n",
       "      <td>True</td>\n",
       "      <td>Other</td>\n",
       "      <td>not inherited</td>\n",
       "      <td>True</td>\n",
       "      <td>True</td>\n",
       "    </tr>\n",
       "    <tr>\n",
       "      <th>2399</th>\n",
       "      <td>Tu Jianhua</td>\n",
       "      <td>1372</td>\n",
       "      <td>2014</td>\n",
       "      <td>0</td>\n",
       "      <td>Lancing Motor</td>\n",
       "      <td>chairman</td>\n",
       "      <td>motorcycles</td>\n",
       "      <td>new</td>\n",
       "      <td>50</td>\n",
       "      <td>male</td>\n",
       "      <td>China</td>\n",
       "      <td>CHN</td>\n",
       "      <td>0.000000e+00</td>\n",
       "      <td>East Asia</td>\n",
       "      <td>executive</td>\n",
       "      <td>1.2</td>\n",
       "      <td>Traded Sectors</td>\n",
       "      <td>True</td>\n",
       "      <td>Consumer</td>\n",
       "      <td>not inherited</td>\n",
       "      <td>True</td>\n",
       "      <td>True</td>\n",
       "    </tr>\n",
       "  </tbody>\n",
       "</table>\n",
       "</div>"
      ],
      "text/plain": [
       "                     name  rank  year  company.founded  \\\n",
       "1475       Victor Pinchuk   506  2014             1983   \n",
       "461           Saleh Kamel   151  2001             1969   \n",
       "1246          Murat Ulker   408  2014             1944   \n",
       "2392  Rakesh Jhunjhunwala  1372  2014             1968   \n",
       "2399           Tu Jianhua  1372  2014                0   \n",
       "\n",
       "                company.name company.relationship       company.sector  \\\n",
       "1475               Interpipe              founder            pipelines   \n",
       "461   Dallah al Baraka Group              founder  airport maintenance   \n",
       "1246          Yildiz Holding             relation        food products   \n",
       "2392                   Lupin             investor      pharmaceuticals   \n",
       "2399           Lancing Motor             chairman          motorcycles   \n",
       "\n",
       "     company.type  demographics.age demographics.gender location.citizenship  \\\n",
       "1475          new                53                male              Ukraine   \n",
       "461           new                59                male         Saudi Arabia   \n",
       "1246          new                54                male               Turkey   \n",
       "2392          new                53                male                India   \n",
       "2399          new                50                male                China   \n",
       "\n",
       "     location.country code  location.gdp           location.region  \\\n",
       "1475                   UKR  0.000000e+00                    Europe   \n",
       "461                    SAU  1.830000e+11  Middle East/North Africa   \n",
       "1246                   TUR  0.000000e+00  Middle East/North Africa   \n",
       "2392                   IND  0.000000e+00                South Asia   \n",
       "2399                   CHN  0.000000e+00                 East Asia   \n",
       "\n",
       "                   wealth.type  wealth.worth in billions wealth.how.category  \\\n",
       "1475  privatized and resources                       3.2    Resource Related   \n",
       "461          self-made finance                       3.0           Financial   \n",
       "1246                 inherited                       3.7      Traded Sectors   \n",
       "2392         self-made finance                       1.2           Financial   \n",
       "2399                 executive                       1.2      Traded Sectors   \n",
       "\n",
       "      wealth.how.from emerging      wealth.how.industry wealth.how.inherited  \\\n",
       "1475                      True  Non-consumer industrial        not inherited   \n",
       "461                       True         Money Management        not inherited   \n",
       "1246                      True                 Consumer               father   \n",
       "2392                      True                    Other        not inherited   \n",
       "2399                      True                 Consumer        not inherited   \n",
       "\n",
       "      wealth.how.was founder  wealth.how.was political  \n",
       "1475                    True                      True  \n",
       "461                     True                      True  \n",
       "1246                    True                      True  \n",
       "2392                    True                      True  \n",
       "2399                    True                      True  "
      ]
     },
     "metadata": {},
     "output_type": "display_data"
    }
   ],
   "source": [
    "print((f\"\\nThe dataset consists of {F_BOLD}%d instances{F_END}\" +\n",
    "       f\" and {F_BOLD}%d features{F_END}:\\n{F_DIV}\\n\")\n",
    "      %df.shape)\n",
    "\n",
    "# Setting this option enables the presentation of all features instead of\n",
    "# omitting the middle ones:\n",
    "from IPython.display import display\n",
    "with pd.option_context('display.max_columns', None):\n",
    "    display(df.sample(5)) # Retrieves random instances from the dataset"
   ]
  },
  {
   "cell_type": "markdown",
   "metadata": {},
   "source": [
    "## Features and their initial types"
   ]
  },
  {
   "cell_type": "code",
   "execution_count": 126,
   "metadata": {},
   "outputs": [
    {
     "name": "stdout",
     "output_type": "stream",
     "text": [
      "The \u001b[1mstring\u001b[0m and/or \u001b[1mcategorical\u001b[0m features include:\n",
      "────────────────────────────────────────────────────────────\n",
      "name                     object\n",
      "company.name             object\n",
      "company.relationship     object\n",
      "company.sector           object\n",
      "company.type             object\n",
      "demographics.gender      object\n",
      "location.citizenship     object\n",
      "location.country code    object\n",
      "location.region          object\n",
      "wealth.type              object\n",
      "wealth.how.category      object\n",
      "wealth.how.industry      object\n",
      "wealth.how.inherited     object\n",
      "dtype: object\n",
      "\n",
      "The \u001b[1mnumerical\u001b[0m features include:\n",
      "────────────────────────────────────────────────────────────\n",
      "rank                          int64\n",
      "year                          int64\n",
      "company.founded               int64\n",
      "demographics.age              int64\n",
      "location.gdp                float64\n",
      "wealth.worth in billions    float64\n",
      "dtype: object\n",
      "\n",
      "There are also several \u001b[1mboolean\u001b[0m features, including:\n",
      "────────────────────────────────────────────────────────────\n",
      "wealth.how.from emerging    bool\n",
      "wealth.how.was founder      bool\n",
      "wealth.how.was political    bool\n",
      "dtype: object\n",
      "\n"
     ]
    }
   ],
   "source": [
    "print((f\"The {F_BOLD}string{F_END} and/or {F_BOLD}categorical{F_END} features\" +\n",
    "       f\" include:\\n{F_DIV}\\n{df.select_dtypes(include=['object']).dtypes}\\n\"))\n",
    "\n",
    "print((f\"The {F_BOLD}numerical{F_END} features include:\\n{F_DIV}\\n\" +\n",
    "       f\"{df.select_dtypes(include=['int64', 'float64']).dtypes}\\n\"))\n",
    "\n",
    "print((f\"There are also several {F_BOLD}boolean{F_END} features, including:\\n\" +\n",
    "       f\"{F_DIV}\\n{df.select_dtypes(include=['bool']).dtypes}\\n\"))"
   ]
  },
  {
   "cell_type": "markdown",
   "metadata": {},
   "source": [
    "# Data cleaning up\n",
    "This includes all data cleanse measures, including:\n",
    "<ul>\n",
    "    <li>Identification and correction of spelling errors</li>\n",
    "    <li>Making common categories (values in categorical features) consistent</li>\n",
    "    <li>Filling in missing data</li>\n",
    "    <li>Removing duplicates</li>\n",
    "    <li>Inspecting outliers</li>\n",
    "    <li>Casting features to the suitable types according to the data that they contain</li>\n",
    "</ul>"
   ]
  },
  {
   "cell_type": "markdown",
   "metadata": {},
   "source": [
    "## Processing the Boolean features\n",
    "All of these features contain only a single value (True), and as a result, they do not mandate any data cleanse tasks."
   ]
  },
  {
   "cell_type": "markdown",
   "metadata": {},
   "source": [
    "### wealth.how.from emerging"
   ]
  },
  {
   "cell_type": "code",
   "execution_count": 127,
   "metadata": {},
   "outputs": [
    {
     "data": {
      "text/plain": [
       "array([ True])"
      ]
     },
     "execution_count": 127,
     "metadata": {},
     "output_type": "execute_result"
    }
   ],
   "source": [
    "df['wealth.how.from emerging'].unique()"
   ]
  },
  {
   "cell_type": "markdown",
   "metadata": {},
   "source": [
    "### wealth.how.was political"
   ]
  },
  {
   "cell_type": "code",
   "execution_count": 128,
   "metadata": {},
   "outputs": [
    {
     "data": {
      "text/plain": [
       "array([ True])"
      ]
     },
     "execution_count": 128,
     "metadata": {},
     "output_type": "execute_result"
    }
   ],
   "source": [
    "df['wealth.how.was political'].unique()"
   ]
  },
  {
   "cell_type": "markdown",
   "metadata": {},
   "source": [
    "### wealth.how.was founder"
   ]
  },
  {
   "cell_type": "code",
   "execution_count": 129,
   "metadata": {},
   "outputs": [
    {
     "data": {
      "text/plain": [
       "array([ True])"
      ]
     },
     "execution_count": 129,
     "metadata": {},
     "output_type": "execute_result"
    }
   ],
   "source": [
    "df['wealth.how.was founder'].unique()"
   ]
  },
  {
   "cell_type": "markdown",
   "metadata": {},
   "source": [
    "## Processing the categorical features\n",
    "These features generally need the following retouches:\n",
    "<ul>\n",
    "    <li>Correcting the spelling errors and typos</li>\n",
    "    <li>Removing trailing and leading spaces from names</li>\n",
    "    <li>Removing all consecutive spaces in the middle of the names</li>\n",
    "    <li>Removing all extra dots</li>\n",
    "    <li>Capitalizing the first letter of each word</li>\n",
    "    <li>Transforming 'and' and '/' to ','\n",
    "    <li>Filling in the missing values (NAs) with 'Unspecified'</li>\n",
    "    <li>Filling in the value '0' with 'Unspecified'</li>\n",
    "    <li>Casting the variable from string (object) to categorical</li>\n",
    "</ul>"
   ]
  },
  {
   "cell_type": "code",
   "execution_count": 130,
   "metadata": {},
   "outputs": [],
   "source": [
    "# The piece of code below performs all mentioned refactorings except for\n",
    "# Spelling errors correction which needs to be done case by case\n",
    "\n",
    "for col in df.select_dtypes(include=['object']).columns:\n",
    "    df[col] = df[col].apply(\n",
    "        lambda x: ' '.join(\n",
    "            x.replace('..', '.')\n",
    "             .title()\n",
    "             .replace(' And ', ', ')\n",
    "             .replace('/', ', ')\n",
    "             .split())\n",
    "            if isinstance(x, str) else x\n",
    "    )"
   ]
  },
  {
   "cell_type": "code",
   "execution_count": 131,
   "metadata": {},
   "outputs": [],
   "source": [
    "from difflib import SequenceMatcher\n",
    "\n",
    "# The following function receives a lists of words and maps the similar ones\n",
    "# together; it is used to clean up categorical features by pinpointing the\n",
    "# 'almost' similar words and consequently helping in the identification of the\n",
    "# spelling errors.\n",
    "\n",
    "def similar(word_list, similarity_degree = .8):\n",
    "    for i in range(len(word_list)):\n",
    "        first_word = word_list[i]\n",
    "        if pd.isna(first_word):\n",
    "            continue\n",
    "        res = []\n",
    "        for j in range(i+1, len(word_list)):\n",
    "            second_word = word_list[j]\n",
    "            if pd.isna(second_word):\n",
    "                continue\n",
    "            if SequenceMatcher(\n",
    "                None, \n",
    "                first_word, second_word).ratio() > similarity_degree:\n",
    "                res = res + [second_word]\n",
    "        if len(res) > 0:\n",
    "            print(first_word, '\\n', '-'*30)\n",
    "            print(res, '\\n\\n')"
   ]
  },
  {
   "cell_type": "markdown",
   "metadata": {},
   "source": [
    "### wealth.how.inherited"
   ]
  },
  {
   "cell_type": "code",
   "execution_count": 132,
   "metadata": {},
   "outputs": [
    {
     "data": {
      "text/plain": [
       "Not Inherited               1688\n",
       "Father                       558\n",
       "3Rd Generation               210\n",
       "4Th Generation                68\n",
       "Spouse, Widow                 59\n",
       "5Th Generation Or Longer      31\n",
       "Name: wealth.how.inherited, dtype: int64"
      ]
     },
     "execution_count": 132,
     "metadata": {},
     "output_type": "execute_result"
    }
   ],
   "source": [
    "df['wealth.how.inherited'].value_counts(dropna=False)"
   ]
  },
  {
   "cell_type": "code",
   "execution_count": 133,
   "metadata": {},
   "outputs": [
    {
     "data": {
      "text/plain": [
       "CategoricalDtype(categories=['3Rd Generation', '4Th Generation',\n",
       "                  '5Th Generation Or Longer', 'Father', 'Not Inherited',\n",
       "                  'Spouse, Widow'],\n",
       ", ordered=False)"
      ]
     },
     "execution_count": 133,
     "metadata": {},
     "output_type": "execute_result"
    }
   ],
   "source": [
    "# Casting the feature into categorical type\n",
    "df['wealth.how.inherited'] = df['wealth.how.inherited'].astype('category')\n",
    "\n",
    "df['wealth.how.inherited'].dtype"
   ]
  },
  {
   "cell_type": "markdown",
   "metadata": {},
   "source": [
    "### wealth.how.industry"
   ]
  },
  {
   "cell_type": "code",
   "execution_count": 134,
   "metadata": {},
   "outputs": [
    {
     "data": {
      "text/plain": [
       "Consumer                            471\n",
       "Retail, Restaurant                  281\n",
       "Real Estate                         280\n",
       "Money Management                    249\n",
       "Media                               219\n",
       "Technology-Computer                 208\n",
       "Diversified Financial               167\n",
       "Energy                              132\n",
       "Technology-Medical                  111\n",
       "Non-Consumer Industrial             107\n",
       "Constrution                          97\n",
       "Mining, Metals                       90\n",
       "Other                                83\n",
       "Hedge Funds                          67\n",
       "Private Equity, Leveraged Buyout     25\n",
       "0                                    16\n",
       "Venture Capital                       8\n",
       "Banking                               1\n",
       "Services                              1\n",
       "NaN                                   1\n",
       "Name: wealth.how.industry, dtype: int64"
      ]
     },
     "execution_count": 134,
     "metadata": {},
     "output_type": "execute_result"
    }
   ],
   "source": [
    "df['wealth.how.industry'].value_counts(dropna=False)"
   ]
  },
  {
   "cell_type": "code",
   "execution_count": 135,
   "metadata": {},
   "outputs": [
    {
     "data": {
      "text/plain": [
       "CategoricalDtype(categories=['Banking', 'Constrution', 'Consumer',\n",
       "                  'Diversified Financial', 'Energy', 'Hedge Funds', 'Media',\n",
       "                  'Mining, Metals', 'Money Management',\n",
       "                  'Non-Consumer Industrial', 'Other',\n",
       "                  'Private Equity, Leveraged Buyout', 'Real Estate',\n",
       "                  'Retail, Restaurant', 'Services', 'Technology-Computer',\n",
       "                  'Technology-Medical', 'Unspecified', 'Venture Capital'],\n",
       ", ordered=False)"
      ]
     },
     "execution_count": 135,
     "metadata": {},
     "output_type": "execute_result"
    }
   ],
   "source": [
    "# Replacing the value of '0' with 'Unspecified'\n",
    "df['wealth.how.industry'] = df['wealth.how.industry'].replace(\n",
    "    {\n",
    "        '0': 'Unspecified',\n",
    "    }\n",
    ")\n",
    "\n",
    "# Filling Null values with the value 'Unspecified'\n",
    "df['wealth.how.industry'] = df['wealth.how.industry'].fillna('Unspecified')\n",
    "\n",
    "# Casting the feature into categorical type\n",
    "df['wealth.how.industry'] = df['wealth.how.industry'].astype('category')\n",
    "\n",
    "df['wealth.how.industry'].dtype"
   ]
  },
  {
   "cell_type": "markdown",
   "metadata": {},
   "source": [
    "### wealth.how.category"
   ]
  },
  {
   "cell_type": "code",
   "execution_count": 136,
   "metadata": {},
   "outputs": [
    {
     "data": {
      "text/plain": [
       "Financial             800\n",
       "Non-Traded Sectors    597\n",
       "Traded Sectors        564\n",
       "New Sectors           319\n",
       "Resource Related      245\n",
       "0                      85\n",
       "NaN                     1\n",
       "Finance                 1\n",
       "Trucking                1\n",
       "Energy                  1\n",
       "Name: wealth.how.category, dtype: int64"
      ]
     },
     "execution_count": 136,
     "metadata": {},
     "output_type": "execute_result"
    }
   ],
   "source": [
    "df['wealth.how.category'].value_counts(dropna=False)"
   ]
  },
  {
   "cell_type": "code",
   "execution_count": 137,
   "metadata": {},
   "outputs": [
    {
     "data": {
      "text/plain": [
       "CategoricalDtype(categories=['Energy', 'Finance', 'Financial', 'New Sectors',\n",
       "                  'Non-Traded Sectors', 'Resource Related', 'Traded Sectors',\n",
       "                  'Trucking', 'Unspecified'],\n",
       ", ordered=False)"
      ]
     },
     "execution_count": 137,
     "metadata": {},
     "output_type": "execute_result"
    }
   ],
   "source": [
    "# Replacing the value of '0' with 'Unspecified'\n",
    "df['wealth.how.category'] = df['wealth.how.category'].replace(\n",
    "    {\n",
    "        '0': 'Unspecified',\n",
    "    }\n",
    ")\n",
    "\n",
    "# Filling Null values with the value 'Unspecified'\n",
    "df['wealth.how.category'] = df['wealth.how.category'].fillna('Unspecified')\n",
    "\n",
    "# Casting the feature into categorical type\n",
    "df['wealth.how.category'] = df['wealth.how.category'].astype('category')\n",
    "\n",
    "df['wealth.how.category'].dtype"
   ]
  },
  {
   "cell_type": "markdown",
   "metadata": {},
   "source": [
    "### wealth.type"
   ]
  },
  {
   "cell_type": "code",
   "execution_count": 138,
   "metadata": {},
   "outputs": [
    {
     "data": {
      "text/plain": [
       "Inherited                953\n",
       "Founder Non-Finance      713\n",
       "Self-Made Finance        500\n",
       "Privatized, Resources    236\n",
       "Executive                190\n",
       "NaN                       22\n",
       "Name: wealth.type, dtype: int64"
      ]
     },
     "execution_count": 138,
     "metadata": {},
     "output_type": "execute_result"
    }
   ],
   "source": [
    "df['wealth.type'].value_counts(dropna=False)"
   ]
  },
  {
   "cell_type": "code",
   "execution_count": 139,
   "metadata": {},
   "outputs": [
    {
     "data": {
      "text/plain": [
       "CategoricalDtype(categories=['Executive', 'Founder Non-Finance', 'Inherited',\n",
       "                  'Privatized, Resources', 'Self-Made Finance', 'Unspecified'],\n",
       ", ordered=False)"
      ]
     },
     "execution_count": 139,
     "metadata": {},
     "output_type": "execute_result"
    }
   ],
   "source": [
    "# Filling Null values with the value 'Unspecified'\n",
    "df['wealth.type'] = df['wealth.type'].fillna('Unspecified')\n",
    "\n",
    "# Casting the feature into categorical type\n",
    "df['wealth.type'] = df['wealth.type'].astype('category')\n",
    "\n",
    "df['wealth.type'].dtype"
   ]
  },
  {
   "cell_type": "markdown",
   "metadata": {},
   "source": [
    "### location.region"
   ]
  },
  {
   "cell_type": "code",
   "execution_count": 140,
   "metadata": {},
   "outputs": [
    {
     "data": {
      "text/plain": [
       "North America                992\n",
       "Europe                       698\n",
       "East Asia                    535\n",
       "Latin America                182\n",
       "Middle East, North Africa    117\n",
       "South Asia                    69\n",
       "Sub-Saharan Africa            20\n",
       "0                              1\n",
       "Name: location.region, dtype: int64"
      ]
     },
     "execution_count": 140,
     "metadata": {},
     "output_type": "execute_result"
    }
   ],
   "source": [
    "df['location.region'].value_counts(dropna=False)"
   ]
  },
  {
   "cell_type": "code",
   "execution_count": 141,
   "metadata": {},
   "outputs": [
    {
     "data": {
      "text/plain": [
       "CategoricalDtype(categories=['East Asia', 'Europe', 'Latin America',\n",
       "                  'Middle East, North Africa', 'North America', 'South Asia',\n",
       "                  'Sub-Saharan Africa', 'Unspecified'],\n",
       ", ordered=False)"
      ]
     },
     "execution_count": 141,
     "metadata": {},
     "output_type": "execute_result"
    }
   ],
   "source": [
    "df['location.region'] = df['location.region'].replace(\n",
    "    {\n",
    "        '0': 'Unspecified'\n",
    "    }\n",
    ")\n",
    "\n",
    "# Casting the feature into categorical type\n",
    "df['location.region'] = df['location.region'].astype('category')\n",
    "\n",
    "df['location.region'].dtype"
   ]
  },
  {
   "cell_type": "markdown",
   "metadata": {},
   "source": [
    "### location.country code"
   ]
  },
  {
   "cell_type": "code",
   "execution_count": 142,
   "metadata": {},
   "outputs": [
    {
     "data": {
      "text/plain": [
       "Usa    903\n",
       "Deu    160\n",
       "Chn    153\n",
       "Rus    119\n",
       "Jpn     96\n",
       "      ... \n",
       "Bmu      1\n",
       "Swz      1\n",
       "Ago      1\n",
       "Bhr      1\n",
       "Tza      1\n",
       "Name: location.country code, Length: 74, dtype: int64"
      ]
     },
     "execution_count": 142,
     "metadata": {},
     "output_type": "execute_result"
    }
   ],
   "source": [
    "df['location.country code'].value_counts(dropna=False)"
   ]
  },
  {
   "cell_type": "code",
   "execution_count": 143,
   "metadata": {},
   "outputs": [
    {
     "data": {
      "text/plain": [
       "CategoricalDtype(categories=['Ago', 'Are', 'Arg', 'Aus', 'Aut', 'Bel', 'Bhr', 'Bmu',\n",
       "                  'Bra', 'Can', 'Che', 'Chl', 'Chn', 'Col', 'Cyp', 'Cze',\n",
       "                  'Den', 'Deu', 'Dnk', 'Dza', 'Ecu', 'Egy', 'Esp', 'Fin',\n",
       "                  'Fra', 'Gbr', 'Geo', 'Ggy', 'Grc', 'Hkg', 'Idn', 'Ind',\n",
       "                  'Irl', 'Isr', 'Ita', 'Jpn', 'Kaz', 'Kna', 'Kor', 'Kwt',\n",
       "                  'Lbn', 'Lie', 'Ltu', 'Mac', 'Mar', 'Mco', 'Mex', 'Mys',\n",
       "                  'Nga', 'Nld', 'Nor', 'Npl', 'Nzl', 'Omn', 'Per', 'Phl',\n",
       "                  'Pol', 'Prt', 'Rou', 'Rus', 'Sau', 'Sgp', 'Swe', 'Swz',\n",
       "                  'Taiwan', 'Tha', 'Tur', 'Tza', 'Uga', 'Ukr', 'Usa', 'Ven',\n",
       "                  'Vnm', 'Zaf'],\n",
       ", ordered=False)"
      ]
     },
     "execution_count": 143,
     "metadata": {},
     "output_type": "execute_result"
    }
   ],
   "source": [
    "# Casting the feature into categorical type\n",
    "df['location.country code'] = df['location.country code'].astype('category')\n",
    "\n",
    "df['location.country code'].dtype"
   ]
  },
  {
   "cell_type": "markdown",
   "metadata": {},
   "source": [
    "### location.citizenship"
   ]
  },
  {
   "cell_type": "code",
   "execution_count": 144,
   "metadata": {},
   "outputs": [
    {
     "data": {
      "text/plain": [
       "United States    903\n",
       "Germany          160\n",
       "China            153\n",
       "Russia           119\n",
       "Japan             96\n",
       "                ... \n",
       "Bahrain            1\n",
       "Ecuador            1\n",
       "Georgia            1\n",
       "Bermuda            1\n",
       "Tanzania           1\n",
       "Name: location.citizenship, Length: 73, dtype: int64"
      ]
     },
     "execution_count": 144,
     "metadata": {},
     "output_type": "execute_result"
    }
   ],
   "source": [
    "df['location.citizenship'].value_counts(dropna=False)"
   ]
  },
  {
   "cell_type": "code",
   "execution_count": 145,
   "metadata": {
    "tags": []
   },
   "outputs": [
    {
     "data": {
      "text/plain": [
       "CategoricalDtype(categories=['Algeria', 'Angola', 'Argentina', 'Australia', 'Austria',\n",
       "                  'Bahrain', 'Belgium', 'Bermuda', 'Brazil', 'Canada', 'Chile',\n",
       "                  'China', 'Colombia', 'Cyprus', 'Czech Republic', 'Denmark',\n",
       "                  'Ecuador', 'Egypt', 'Finland', 'France', 'Georgia',\n",
       "                  'Germany', 'Greece', 'Guernsey', 'Hong Kong', 'India',\n",
       "                  'Indonesia', 'Ireland', 'Israel', 'Italy', 'Japan',\n",
       "                  'Kazakhstan', 'Kuwait', 'Lebanon', 'Liechtenstein',\n",
       "                  'Lithuania', 'Macau', 'Malaysia', 'Mexico', 'Monaco',\n",
       "                  'Morocco', 'Nepal', 'Netherlands', 'New Zealand', 'Nigeria',\n",
       "                  'Norway', 'Oman', 'Peru', 'Philippines', 'Poland',\n",
       "                  'Portugal', 'Romania', 'Russia', 'Saudi Arabia', 'Singapore',\n",
       "                  'South Africa', 'South Korea', 'Spain', 'St. Kitts, Nevis',\n",
       "                  'Swaziland', 'Sweden', 'Switzerland', 'Taiwan', 'Tanzania',\n",
       "                  'Thailand', 'Turkey', 'Uganda', 'Ukraine',\n",
       "                  'United Arab Emirates', 'United Kingdom', 'United States',\n",
       "                  'Venezuela', 'Vietnam'],\n",
       ", ordered=False)"
      ]
     },
     "execution_count": 145,
     "metadata": {},
     "output_type": "execute_result"
    }
   ],
   "source": [
    "# Casting the feature into categorical type\n",
    "df['location.citizenship'] = df['location.citizenship'].astype('category')\n",
    "\n",
    "df['location.citizenship'].dtype"
   ]
  },
  {
   "cell_type": "markdown",
   "metadata": {},
   "source": [
    "### demographics.gender"
   ]
  },
  {
   "cell_type": "code",
   "execution_count": 146,
   "metadata": {},
   "outputs": [
    {
     "data": {
      "text/plain": [
       "Male              2328\n",
       "Female             249\n",
       "NaN                 34\n",
       "Married Couple       3\n",
       "Name: demographics.gender, dtype: int64"
      ]
     },
     "execution_count": 146,
     "metadata": {},
     "output_type": "execute_result"
    }
   ],
   "source": [
    "df['demographics.gender'].value_counts(dropna=False)"
   ]
  },
  {
   "cell_type": "code",
   "execution_count": 147,
   "metadata": {},
   "outputs": [
    {
     "data": {
      "text/plain": [
       "CategoricalDtype(categories=['Female', 'Male', 'Married Couple', 'Unspecified'], ordered=False)"
      ]
     },
     "execution_count": 147,
     "metadata": {},
     "output_type": "execute_result"
    }
   ],
   "source": [
    "# Filling Null values with the value 'Unspecified'\n",
    "df['demographics.gender'] = df['demographics.gender'].fillna('Unspecified')\n",
    "\n",
    "# Casting the feature into categorical type\n",
    "df['demographics.gender'] = df['demographics.gender'].astype('category')\n",
    "\n",
    "df['demographics.gender'].dtype"
   ]
  },
  {
   "cell_type": "markdown",
   "metadata": {},
   "source": [
    "### company.type"
   ]
  },
  {
   "cell_type": "code",
   "execution_count": 148,
   "metadata": {},
   "outputs": [
    {
     "data": {
      "text/plain": [
       "New                       2302\n",
       "Aquired                    196\n",
       "Privatization               42\n",
       "NaN                         36\n",
       "Subsidiary                   9\n",
       "Acquired                     7\n",
       "State Owned Enterprise       7\n",
       "New, Aquired                 3\n",
       "Merger                       3\n",
       "Franchise                    2\n",
       "New, Privitization           2\n",
       "New Division                 1\n",
       "Privatized                   1\n",
       "Neew                         1\n",
       "Franchise Rights             1\n",
       "Joint Venture                1\n",
       "Name: company.type, dtype: int64"
      ]
     },
     "execution_count": 148,
     "metadata": {},
     "output_type": "execute_result"
    }
   ],
   "source": [
    "df['company.type'].value_counts(dropna=False)"
   ]
  },
  {
   "cell_type": "code",
   "execution_count": 149,
   "metadata": {},
   "outputs": [],
   "source": [
    "df['company.type'] = df['company.type'].replace(\n",
    "    {\n",
    "        'Aquired': 'Acquired',\n",
    "        'Neew': 'New',\n",
    "        'New, Privitization': 'New, Privatization',\n",
    "    }\n",
    ")"
   ]
  },
  {
   "cell_type": "code",
   "execution_count": 150,
   "metadata": {},
   "outputs": [
    {
     "data": {
      "text/plain": [
       "36"
      ]
     },
     "execution_count": 150,
     "metadata": {},
     "output_type": "execute_result"
    }
   ],
   "source": [
    "df['company.type'].isna().sum()"
   ]
  },
  {
   "cell_type": "code",
   "execution_count": 151,
   "metadata": {},
   "outputs": [],
   "source": [
    "df['company.type'] = df['company.type'].fillna('Unspecified')"
   ]
  },
  {
   "cell_type": "markdown",
   "metadata": {},
   "source": [
    "### company.sector"
   ]
  },
  {
   "cell_type": "code",
   "execution_count": 152,
   "metadata": {},
   "outputs": [
    {
     "data": {
      "text/plain": [
       "array(['Advertising', 'Aerospace, Defense', 'Agribusiness',\n",
       "       'Agriculteral', 'Agricultural Products', 'Agriculture',\n",
       "       'Aigriculture', 'Air Compressors', 'Aircraft Leasing', 'Airline',\n",
       "       'Airplanes', 'Airport', 'Airport Maintenance', 'Airports',\n",
       "       'Alcohol', 'Aluminum', 'Aluminum, Oil', 'Animal Feed', 'Animation',\n",
       "       'Antennas', 'Aplliances', 'Apparel', 'Apparel Retail',\n",
       "       'Apparel, Eyewear', 'Appliances', 'Architectural Products',\n",
       "       'Armaments', 'Art Dealing', 'Asset Management', 'Auto Components',\n",
       "       'Auto Dealerships', 'Auto Engines', 'Auto Glass', 'Auto Parts',\n",
       "       'Auto Repair', 'Auto Retail', 'Auto Sales, Energy',\n",
       "       'Automobile Dealers', 'Automobiles', 'Automotive',\n",
       "       'Automotive Components', 'Automotive Parts', 'Automotives',\n",
       "       'Autos', 'Aviation', 'Banannas', 'Bank', 'Banking',\n",
       "       'Banking, Insurance', 'Banking, Media', 'Banking, Oil, Aluminum',\n",
       "       'Banking, Publishing', 'Banking, Real Estate',\n",
       "       'Beauty, Health Care Products', 'Beer', 'Beer, Food Distribution',\n",
       "       'Beverages', 'Beverages, Food', 'Bicycles', 'Biopharmaceutical',\n",
       "       'Biotech', 'Biotech Investing', 'Boats', 'Bottled Water',\n",
       "       'Brake Systems', 'Braking Systems', 'Brewery', 'Bridge To Canada',\n",
       "       'Broadcasting', 'Brokerage, Banking', 'Building Materials',\n",
       "       'Business Centers', 'Cable', 'Cameras', 'Candy', 'Cans', 'Cars',\n",
       "       'Cars, Finance', 'Casinos', 'Catering', 'Cell Phones', 'Cement',\n",
       "       'Cheese', 'Chemicals', 'Chocolate, Coffee', 'Chocolates',\n",
       "       'Cigarette', 'Cigarettes', 'Cleaning Products',\n",
       "       'Cleaning Supplies', 'Clothing', 'Cloud Computing', 'Coal',\n",
       "       'Coffee', 'Cogeneration', 'Commercial Pilot Training',\n",
       "       'Commodities', 'Commodities (Sugar, Cement Flour)',\n",
       "       'Commodities (Wheat, Oil, Shipping)', 'Commodities Trading',\n",
       "       'Commodity Trading', 'Communications', 'Comodities',\n",
       "       'Computer Parts', 'Computer Services', 'Computers',\n",
       "       'Confectionary', 'Construcion', 'Construction',\n",
       "       'Construction, Hotels, Gaming', 'Construction, Insurance',\n",
       "       'Construction, Real Estate', 'Construction, Real Estate, Banking',\n",
       "       'Construction, Utilities', 'Construction,Banking',\n",
       "       'Consumer Goods', 'Consumer Loans', 'Consumer Retail', 'Copper',\n",
       "       'Copper, Mining', 'Copper, Poultry', 'Cork', 'Cosmetics',\n",
       "       'Cotton Yarn', 'Cranes', 'Credit Cards', 'Cruises',\n",
       "       'Currency Trading', 'Dairy', 'Dairy Products', 'Data Processing',\n",
       "       'Data Storage', 'Dental Implants', 'Diamond Jewelry', 'Diamonds',\n",
       "       'Diapers', 'Diversified Investments', 'Domestic Appliances',\n",
       "       'Drinks', 'Drug Stores', 'E-Commerce',\n",
       "       'E-Commerce, Venture Capital', 'Education',\n",
       "       'Education, Language Schools', 'Electonics',\n",
       "       'Electonics Components', 'Electric Motors', 'Electricity',\n",
       "       'Electronic Componants', 'Electronic Interconnectors',\n",
       "       'Electronics', 'Elevators', 'Elevators, Escalators, Engineering',\n",
       "       'Energy', 'Energy (Coal, Oil, Gas)',\n",
       "       'Energy, Retail, Manufacturing', 'Engineering', 'Entertainment',\n",
       "       'Ethanol', 'Express Delivery Services', 'Eyeglasses', 'Fashion',\n",
       "       'Fashion Retail', 'Fashion, Oil', 'Fertalizers', 'Fertilizer',\n",
       "       'Fertilizers', 'Fiber Optic Cables', 'Film', 'Finace', 'Finance',\n",
       "       'Financial Information', 'Financial Services', 'Flavorings',\n",
       "       'Flooring', 'Food', 'Food Distribution', 'Food Manufacturing',\n",
       "       'Food Packaging', 'Food Processing',\n",
       "       'Food Processing, Commodities', 'Food Production', 'Food Products',\n",
       "       'Food Retail', 'Food Sweeteners', 'Food, Energy Processess',\n",
       "       'Food, Entertainment', 'Footwear', 'Forestry, Mining',\n",
       "       'Frozen Foods', 'Furniture', 'Gambing', 'Gambling Software',\n",
       "       'Gaming', 'Gas', 'Gas Pipeline', 'Gas, Petrochemicals',\n",
       "       'Gas, Propane', 'Glass', 'Glasses', 'Golf Courses',\n",
       "       'Gps Technology', 'Grain', 'Greeting Cards', 'Groceries', 'Gum',\n",
       "       'Hair Care', 'Hair Care Products', 'Hair Care Products, Tequila',\n",
       "       'Hardware Stores', 'Healthcare', 'Healthcare It',\n",
       "       'Healthcare Management', 'Heating Systems', 'Heavy Equipment',\n",
       "       'Heavy Equiptment (Excavators, Backhoes, Tractors)',\n",
       "       'Heavy Manufacturing', 'Hedge Funds', 'Holding Company',\n",
       "       'Home Building Materials', 'Home Furnishings',\n",
       "       'Home Improvement Retail', 'Hospitality',\n",
       "       'Hospitality, Food Service', 'Hospitals', 'Hostile Takeovers',\n",
       "       'Hotels', 'Hotels, Supermarkets', 'Hr Consulting',\n",
       "       'Industrial Automation', 'Industrial Equipment',\n",
       "       'Industrial Goods', 'Industrial Manufacturing, Banking',\n",
       "       'Industrial Software', 'Industrial Tools', 'Infant Formula',\n",
       "       'Information Services', 'Infrastructure', 'Insurance',\n",
       "       'Insurancei, Power', 'Internet', 'Internet Companies',\n",
       "       'Internet Company', 'Internet Domain, Web Hosting',\n",
       "       'Internet Provider', 'Internet Service Company',\n",
       "       'Internet Service Provider', 'Investment',\n",
       "       'Investment (Via Holding Company)', 'Investment Banking',\n",
       "       'Investment Banking, Beer', 'Investment Mangagment', 'Investments',\n",
       "       'Investments, Real Estate, Sports Teams', 'Invetsments', 'Iron',\n",
       "       'Iron Ore', 'Iron, Steel', 'It Consulting', 'Jeans', 'Jewelry',\n",
       "       'Kitchen Appliances', 'Laboratory Services',\n",
       "       'Landscape Architecture', 'Laptops', 'Laundry Soap', 'Lawsuits',\n",
       "       'Leather', 'Leveraged Buyout', 'Leveraged Buyouts',\n",
       "       'Life Insurance', 'Linear Actuators', 'Liquor',\n",
       "       'Locomotive Manufacturing', 'Logging', 'Logistics', 'Lumber',\n",
       "       'Lumber, Real Estate', 'Luxury Fashion', 'Luxury Goods',\n",
       "       'Mail Order Retail', 'Makeup', 'Manufacturing',\n",
       "       'Manufacturing (Agriculture, Steel, Electronics)',\n",
       "       'Manufacturing, Real Estate, Aviation', 'Mass Transit',\n",
       "       'Measuring Instruments', 'Meat Processing', 'Meat Products',\n",
       "       'Media', 'Media, Exports', 'Media, Pipelines', 'Medical Devices',\n",
       "       'Medical Equipment', 'Medical Supplies', 'Medical Technology',\n",
       "       'Metals', 'Metals, Banking', 'Metals, Mining',\n",
       "       'Metals, Paper, Cement', 'Mettallurgy', 'Microchips', 'Milk',\n",
       "       'Mining', 'Mining, Banking', 'Mining, Investments',\n",
       "       'Mining, Steel', 'Mobile App', 'Mobile Phone Batteries',\n",
       "       'Mobile Phones', 'Money Management', 'Mortgage Banking',\n",
       "       'Mortgages', 'Motorcycles', 'Movie Theatres', 'Movies', 'Music',\n",
       "       'Mutal Funds', 'Mutual Funds', 'Natural Flavors', 'Natural Gas',\n",
       "       'Networking Equipment', 'New Technology', 'Nutrition Supplements',\n",
       "       'Oil', 'Oil Exploration Equipment', 'Oil Field Services',\n",
       "       'Oil Infrastructure', 'Oil Refining', 'Oil Services',\n",
       "       'Oil Tankers', 'Oil Trading', 'Oil, Gas', 'Oil, Investments',\n",
       "       'Oil, Natural Gas', 'Oil, Railroad, Investments',\n",
       "       'Oil, Telecommunications', 'Oilfield Equipment',\n",
       "       'Oilfield Services', 'Oleochemicals, Palm Oil', 'Online Gaming',\n",
       "       'Outsourcing', 'Pachinko', 'Pachinko Gaming Machines', 'Paint',\n",
       "       'Palm Oil', 'Palm Oil, Mining', 'Palm Oil, Real Estate', 'Paper',\n",
       "       'Paper Manufacturing, Investment', 'Paper Products',\n",
       "       'Payroll Processing', 'Pet Food', 'Pet Supplies, Real Estate',\n",
       "       'Petrochemicals', 'Petrochemicals, Textiles', 'Petroleum',\n",
       "       'Pharmaceuticals', 'Pipelines', 'Pipes', 'Plastic', 'Plastics',\n",
       "       'Polymers', 'Port', 'Port Containers', 'Port Logistics',\n",
       "       'Ports, Gas', 'Postal Service, Beverages', 'Power Engineering',\n",
       "       'Precious Metals', 'Printers', 'Printing', 'Printing, Electronics',\n",
       "       'Private Equity', 'Private Investment Company',\n",
       "       'Processing Machinary', 'Property Development',\n",
       "       'Property, Textile Manufacturing', 'Publishing', 'Racing',\n",
       "       'Real Estate', 'Real Estate (Shopping Malls)',\n",
       "       'Real Estate, Banking',\n",
       "       'Real Estate, Financial Services, Computers',\n",
       "       'Real Estate, Metals', 'Real Estate, Retail',\n",
       "       'Real Estate, Sports Teams', 'Relocation Services', 'Rental Cars',\n",
       "       'Restaurant', 'Restaurants', 'Retail',\n",
       "       'Retail, Financial Services, Real Estate',\n",
       "       'Retail, Home Appliances', 'Rice Trading, Mining, Infrastructure',\n",
       "       'Risk Management', 'Roller Bearings', 'Roofing', 'Salsa',\n",
       "       'Satallite Communications', 'Screws', 'Security',\n",
       "       'Security Equipment', 'Security, Surveillance Technology', 'Seeds',\n",
       "       'Self Storage', 'Self-Storage', 'Semiconductors',\n",
       "       'Service Assurance Instruments', 'Sewage Treatment',\n",
       "       'Sewing Machines', 'Shale', 'Shipbuilding', 'Shipping',\n",
       "       'Shoe Retail', 'Shoes', 'Shopping Centers',\n",
       "       'Small-Company Lending', 'Snack Foods', 'Social Network',\n",
       "       'Soft Drinks', 'Software', 'Solar Energy', 'Soup', 'Soy Sauce',\n",
       "       'Spirits', 'Sporting Goods', 'Sports', 'Sports Equipment',\n",
       "       'Sports Retail', 'Sports Team', 'Sportswear', 'Staffing Company',\n",
       "       'Staffing Services', 'Star Wars', 'Steel', 'Steel, Banking',\n",
       "       'Steel, Oil', 'Stock Broker', 'Stock Brokerage',\n",
       "       'Sugar, Flour, Cement', 'Supermarkets', 'Supply Chain',\n",
       "       'Technology', 'Technology Consulting', 'Technology Publishing',\n",
       "       'Telecom', 'Telecom, Finance', 'Telecom, Investments',\n",
       "       'Telecom, Oil, Beer', 'Telecomm', 'Telecommunications',\n",
       "       'Television', 'Textiles', 'Textiles, Industrial Goods, Media',\n",
       "       'Timber', 'Timber, Paper', 'Timber, Plantations',\n",
       "       'Tire Manufacturing', 'Tires', 'Tobacco', 'Tobacco, Luxury Brands',\n",
       "       'Toll Roads', 'Tools', 'Tortillas', 'Toys', 'Tractors',\n",
       "       'Trade Fairs', 'Trade Investment', 'Trading', 'Trading Company',\n",
       "       'Transportation', 'Travel Company', 'Truck Stop', 'Truck Stops',\n",
       "       'Trucking', 'Trucking, Logistics', 'Uniforms', 'Utilities',\n",
       "       'Utilities, Financial Services', 'Vacuum Cleaners',\n",
       "       'Venture Capitalist', 'Video Games', 'Video Technology',\n",
       "       'Waste Management', 'Watch Retail', 'Watches', 'Web Broadcasting',\n",
       "       'Wind Energy', 'Wine', 'Wine, Spirits', 'Winter Jackets',\n",
       "       'Wireless Products', 'Wool', 'Wrestling Promotion', 'Yogurt',\n",
       "       'Zippers', nan], dtype=object)"
      ]
     },
     "execution_count": 152,
     "metadata": {},
     "output_type": "execute_result"
    }
   ],
   "source": [
    "df['company.sector'].sort_values().unique()"
   ]
  },
  {
   "cell_type": "code",
   "execution_count": 153,
   "metadata": {},
   "outputs": [
    {
     "name": "stdout",
     "output_type": "stream",
     "text": [
      "Agricultural Products \n",
      " ------------------------------\n",
      "['Architectural Products'] \n",
      "\n",
      "\n",
      "Agriculture \n",
      " ------------------------------\n",
      "['Aigriculture'] \n",
      "\n",
      "\n",
      "Airport \n",
      " ------------------------------\n",
      "['Airports'] \n",
      "\n",
      "\n",
      "Animation \n",
      " ------------------------------\n",
      "['Aviation'] \n",
      "\n",
      "\n",
      "Aplliances \n",
      " ------------------------------\n",
      "['Appliances'] \n",
      "\n",
      "\n",
      "Asset Management \n",
      " ------------------------------\n",
      "['Waste Management'] \n",
      "\n",
      "\n",
      "Auto Components \n",
      " ------------------------------\n",
      "['Automotive Components'] \n",
      "\n",
      "\n",
      "Auto Repair \n",
      " ------------------------------\n",
      "['Auto Retail'] \n",
      "\n",
      "\n",
      "Automobiles \n",
      " ------------------------------\n",
      "['Automotives'] \n",
      "\n",
      "\n",
      "Automotive \n",
      " ------------------------------\n",
      "['Automotives'] \n",
      "\n",
      "\n",
      "Automotive Parts \n",
      " ------------------------------\n",
      "['Automotives'] \n",
      "\n",
      "\n",
      "Beer, Food Distribution \n",
      " ------------------------------\n",
      "['Food Distribution'] \n",
      "\n",
      "\n",
      "Biopharmaceutical \n",
      " ------------------------------\n",
      "['Pharmaceuticals'] \n",
      "\n",
      "\n",
      "Brake Systems \n",
      " ------------------------------\n",
      "['Braking Systems'] \n",
      "\n",
      "\n",
      "Broadcasting \n",
      " ------------------------------\n",
      "['Web Broadcasting'] \n",
      "\n",
      "\n",
      "Building Materials \n",
      " ------------------------------\n",
      "['Home Building Materials'] \n",
      "\n",
      "\n",
      "Cigarette \n",
      " ------------------------------\n",
      "['Cigarettes'] \n",
      "\n",
      "\n",
      "Commodities \n",
      " ------------------------------\n",
      "['Comodities'] \n",
      "\n",
      "\n",
      "Commodities Trading \n",
      " ------------------------------\n",
      "['Commodity Trading'] \n",
      "\n",
      "\n",
      "Communications \n",
      " ------------------------------\n",
      "['Telecommunications'] \n",
      "\n",
      "\n",
      "Construcion \n",
      " ------------------------------\n",
      "['Construction'] \n",
      "\n",
      "\n",
      "Construction, Real Estate \n",
      " ------------------------------\n",
      "['Construction, Real Estate, Banking'] \n",
      "\n",
      "\n",
      "Data Processing \n",
      " ------------------------------\n",
      "['Meat Processing'] \n",
      "\n",
      "\n",
      "Electonics \n",
      " ------------------------------\n",
      "['Electronics'] \n",
      "\n",
      "\n",
      "Electonics Components \n",
      " ------------------------------\n",
      "['Electronic Componants'] \n",
      "\n",
      "\n",
      "Entertainment \n",
      " ------------------------------\n",
      "['Food, Entertainment'] \n",
      "\n",
      "\n",
      "Fertalizers \n",
      " ------------------------------\n",
      "['Fertilizer', 'Fertilizers'] \n",
      "\n",
      "\n",
      "Fertilizer \n",
      " ------------------------------\n",
      "['Fertilizers'] \n",
      "\n",
      "\n",
      "Finace \n",
      " ------------------------------\n",
      "['Finance'] \n",
      "\n",
      "\n",
      "Food Manufacturing \n",
      " ------------------------------\n",
      "['Manufacturing'] \n",
      "\n",
      "\n",
      "Food Production \n",
      " ------------------------------\n",
      "['Food Products'] \n",
      "\n",
      "\n",
      "Gambing \n",
      " ------------------------------\n",
      "['Gaming'] \n",
      "\n",
      "\n",
      "Gas, Petrochemicals \n",
      " ------------------------------\n",
      "['Petrochemicals'] \n",
      "\n",
      "\n",
      "Glass \n",
      " ------------------------------\n",
      "['Glasses'] \n",
      "\n",
      "\n",
      "Gps Technology \n",
      " ------------------------------\n",
      "['Technology'] \n",
      "\n",
      "\n",
      "Healthcare \n",
      " ------------------------------\n",
      "['Healthcare It'] \n",
      "\n",
      "\n",
      "Heavy Manufacturing \n",
      " ------------------------------\n",
      "['Manufacturing', 'Tire Manufacturing'] \n",
      "\n",
      "\n",
      "Hr Consulting \n",
      " ------------------------------\n",
      "['It Consulting'] \n",
      "\n",
      "\n",
      "Industrial Goods \n",
      " ------------------------------\n",
      "['Industrial Tools'] \n",
      "\n",
      "\n",
      "Infrastructure \n",
      " ------------------------------\n",
      "['Oil Infrastructure'] \n",
      "\n",
      "\n",
      "Internet Companies \n",
      " ------------------------------\n",
      "['Internet Company'] \n",
      "\n",
      "\n",
      "Internet Provider \n",
      " ------------------------------\n",
      "['Internet Service Provider'] \n",
      "\n",
      "\n",
      "Investment \n",
      " ------------------------------\n",
      "['Investments', 'Invetsments'] \n",
      "\n",
      "\n",
      "Investment Banking \n",
      " ------------------------------\n",
      "['Investment Banking, Beer'] \n",
      "\n",
      "\n",
      "Investments \n",
      " ------------------------------\n",
      "['Invetsments', 'Oil, Investments'] \n",
      "\n",
      "\n",
      "Leveraged Buyout \n",
      " ------------------------------\n",
      "['Leveraged Buyouts'] \n",
      "\n",
      "\n",
      "Manufacturing \n",
      " ------------------------------\n",
      "['Tire Manufacturing'] \n",
      "\n",
      "\n",
      "Metals, Banking \n",
      " ------------------------------\n",
      "['Metals, Mining'] \n",
      "\n",
      "\n",
      "Mutal Funds \n",
      " ------------------------------\n",
      "['Mutual Funds'] \n",
      "\n",
      "\n",
      "Natural Gas \n",
      " ------------------------------\n",
      "['Oil, Natural Gas'] \n",
      "\n",
      "\n",
      "New Technology \n",
      " ------------------------------\n",
      "['Technology'] \n",
      "\n",
      "\n",
      "Oil Field Services \n",
      " ------------------------------\n",
      "['Oilfield Services'] \n",
      "\n",
      "\n",
      "Oil Services \n",
      " ------------------------------\n",
      "['Oilfield Services'] \n",
      "\n",
      "\n",
      "Oil, Telecommunications \n",
      " ------------------------------\n",
      "['Telecommunications'] \n",
      "\n",
      "\n",
      "Plastic \n",
      " ------------------------------\n",
      "['Plastics'] \n",
      "\n",
      "\n",
      "Real Estate, Metals \n",
      " ------------------------------\n",
      "['Real Estate, Retail'] \n",
      "\n",
      "\n",
      "Restaurant \n",
      " ------------------------------\n",
      "['Restaurants'] \n",
      "\n",
      "\n",
      "Self Storage \n",
      " ------------------------------\n",
      "['Self-Storage'] \n",
      "\n",
      "\n",
      "Stock Broker \n",
      " ------------------------------\n",
      "['Stock Brokerage'] \n",
      "\n",
      "\n",
      "Telecom \n",
      " ------------------------------\n",
      "['Telecomm'] \n",
      "\n",
      "\n",
      "Truck Stop \n",
      " ------------------------------\n",
      "['Truck Stops'] \n",
      "\n",
      "\n"
     ]
    }
   ],
   "source": [
    "similar(df[\"company.sector\"].sort_values().unique())"
   ]
  },
  {
   "cell_type": "code",
   "execution_count": 154,
   "metadata": {},
   "outputs": [],
   "source": [
    "df['company.sector'] = df['company.sector'].replace(\n",
    "    {\n",
    "        'Agriculteral': 'Agricultural',\n",
    "        'Aigriculture': 'Agriculture',\n",
    "        'Aplliances': 'Appliances',\n",
    "        'Comodities': 'Commodities',\n",
    "        'Construcion': 'Construction',\n",
    "        'Electonics': 'Electronics',\n",
    "        'Electonics Components': 'Electronic Components',\n",
    "        'Fertalizers': 'Fertilizers',\n",
    "        'Finace': 'Finance',\n",
    "        'Gambing': 'Gambling',\n",
    "        'Invetsments': 'Investments',\n",
    "        'Mutal Funds': 'Mutual Funds',\n",
    "        'Telecomm': 'Telecom',\n",
    "        'Electronic Componants': 'Electronic Components',\n",
    "        'Food And Energy Processess': 'Food And Energy Processes',\n",
    "        'Insurancei, Power': 'Insurance, Power',\n",
    "    }\n",
    ")"
   ]
  },
  {
   "cell_type": "markdown",
   "metadata": {},
   "source": [
    "### company.relationship"
   ]
  },
  {
   "cell_type": "code",
   "execution_count": 163,
   "metadata": {
    "tags": []
   },
   "outputs": [
    {
     "name": "stdout",
     "output_type": "stream",
     "text": [
      "Director                                             1\n",
      "Coo                                                  1\n",
      "Head Of High-Yield Bond Trading Dept                 1\n",
      "Owner, Former Ceo                                    1\n",
      "Deputy Chairman                                      1\n",
      "Chairwomen                                           1\n",
      "Founder, Executive Vice Chairman                     1\n",
      "Inventor                                             1\n",
      "Founder, Chairwoman                                  1\n",
      "Vice President Of Infrastructure Software            1\n",
      "Co-Director Of Zinc, Copper, Lead                    1\n",
      "Global Head Of Real Estate                           1\n",
      "Supervisory Board Or Directors                       1\n",
      "Head Of Board Of Directors                           1\n",
      "Founder, President                                   1\n",
      "Founder, Chairwoman, Ceo                             1\n",
      "Relation, Ceo                                        1\n",
      "Shareholder                                          1\n",
      "Exectuitve Director                                  1\n",
      "Relation, Vice Chairman                              1\n",
      "Owner, Vice Chair                                    1\n",
      "Inherited                                            1\n",
      "Honorary President For Life                          1\n",
      "Chairman Of The Board                                1\n",
      "Vice President                                       1\n",
      "Chairman, Shareholder                                1\n",
      "Investor, Founder                                    1\n",
      "Chairman, Founder                                    1\n",
      "Founder, Executive Chairman                          1\n",
      "Chairman Of Management Committee                     1\n",
      "Founder, Chairman, Ceo                               2\n",
      "Founder Ceo Owner                                    2\n",
      "Founder, Vice Chairman                               2\n",
      "Investor, Ceo                                        2\n",
      "Leadership                                           2\n",
      "Vice-Chairman                                        2\n",
      "Relative                                             2\n",
      "President, Ceo                                       2\n",
      "Head Of Microsoft'S Application Software Group       2\n",
      "Chairman, Ceo                                        2\n",
      "Chief Executive                                      2\n",
      "Co-Chairman                                          2\n",
      "Lawyer                                               2\n",
      "General Director                                     2\n",
      "Executive Chairman                                   3\n",
      "Founder, Relation                                    3\n",
      "Employee                                             3\n",
      "Former Chairman, Ceo                                 3\n",
      "Partner                                              4\n",
      "Vice Chairman                                        4\n",
      "Relation, Chairman                                   5\n",
      "Former Ceo                                           8\n",
      "Founder, Ceo                                         9\n",
      "President                                           13\n",
      "Founder, Chairman                                   14\n",
      "Ceo                                                 25\n",
      "Chairman, Chief Executive Officer                   30\n",
      "Investor                                            41\n",
      "Chairman                                            86\n",
      "Owner                                               94\n",
      "Relation                                           951\n",
      "Founder                                           1214\n",
      "Name: company.relationship, dtype: int64\n"
     ]
    }
   ],
   "source": [
    "print(df['company.relationship'].value_counts().sort_values())"
   ]
  },
  {
   "cell_type": "code",
   "execution_count": 156,
   "metadata": {},
   "outputs": [
    {
     "name": "stdout",
     "output_type": "stream",
     "text": [
      "Chairman \n",
      " ------------------------------\n",
      "['Chariman', 'Co-Chairman'] \n",
      "\n",
      "\n",
      "Former Chairman, Ceo \n",
      " ------------------------------\n",
      "['Founder, Chairman, Ceo', 'Founder, Chairwoman, Ceo'] \n",
      "\n",
      "\n",
      "Founder, Chairman \n",
      " ------------------------------\n",
      "['Founder, Chairman, Ceo', 'Founder, Chairwoman', 'Founder, Chairwoman, Ceo', 'Founder, Vice Chairman'] \n",
      "\n",
      "\n",
      "Founder, Chairman, Ceo \n",
      " ------------------------------\n",
      "['Founder, Chairwoman', 'Founder, Chairwoman, Ceo'] \n",
      "\n",
      "\n",
      "Founder, Chairwoman \n",
      " ------------------------------\n",
      "['Founder, Chairwoman, Ceo', 'Founder, Vice Chairman'] \n",
      "\n",
      "\n",
      "Founder, Executive Chairman \n",
      " ------------------------------\n",
      "['Founder, Executive Vice Chairman', 'Founder, Vice Chairman'] \n",
      "\n",
      "\n",
      "Founder, Executive Vice Chairman \n",
      " ------------------------------\n",
      "['Founder, Vice Chairman'] \n",
      "\n",
      "\n",
      "Inventor \n",
      " ------------------------------\n",
      "['Investor'] \n",
      "\n",
      "\n",
      "Lawer \n",
      " ------------------------------\n",
      "['Lawyer'] \n",
      "\n",
      "\n",
      "Relation, Chairman \n",
      " ------------------------------\n",
      "['Relation, Vice Chairman'] \n",
      "\n",
      "\n",
      "Vice Chairman \n",
      " ------------------------------\n",
      "['Vice-Chairman'] \n",
      "\n",
      "\n"
     ]
    }
   ],
   "source": [
    "similar(df[\"company.relationship\"].sort_values().unique())"
   ]
  },
  {
   "cell_type": "code",
   "execution_count": 157,
   "metadata": {},
   "outputs": [],
   "source": [
    "df['company.relationship'] = df['company.relationship'].replace(\n",
    "    {\n",
    "        'Chariman': 'Chairman',\n",
    "        'Lawer': 'Lawyer',\n",
    "        'Vice-Chairman': 'Vice Chairman',\n",
    "    }\n",
    ")"
   ]
  },
  {
   "cell_type": "markdown",
   "metadata": {},
   "source": [
    "### name"
   ]
  },
  {
   "cell_type": "markdown",
   "metadata": {},
   "source": [
    "Listing possible inconsistancies where the names are different, but the following features are the same:\n",
    "<ul>\n",
    "    <li>company.founded</li>\n",
    "    <li>company.name</li>\n",
    "    <li>company.relationship</li>\n",
    "    <li>company.sector</li>\n",
    "    <li>company.type</li>\n",
    "    <li>demographics.gender</li>\n",
    "    <li>location.citizenship</li>\n",
    "    <li>location.country code</li>\n",
    "    <li>location.region</li>\n",
    "    <li>wealth.type</li>\n",
    "    <li>wealth.how.category</li>\n",
    "    <li>wealth.how.from emerging</li>\n",
    "    <li>wealth.how.industry</li>\n",
    "    <li>wealth.how.inherited</li>\n",
    "</ul>"
   ]
  },
  {
   "cell_type": "code",
   "execution_count": null,
   "metadata": {
    "execution": {
     "iopub.execute_input": "2022-11-10T10:29:55.947293Z",
     "iopub.status.busy": "2022-11-10T10:29:55.946420Z",
     "iopub.status.idle": "2022-11-10T10:29:55.959434Z",
     "shell.execute_reply": "2022-11-10T10:29:55.957855Z",
     "shell.execute_reply.started": "2022-11-10T10:29:55.947247Z"
    }
   },
   "outputs": [],
   "source": [
    "dup_cols = ['company.founded',\n",
    "            'company.name',\n",
    "            'company.relationship',\n",
    "            'company.sector',\n",
    "            'company.type',\n",
    "            'demographics.gender',\n",
    "            'location.citizenship',\n",
    "            'location.country code',\n",
    "            'location.region',\n",
    "            'wealth.type',\n",
    "            'wealth.how.category',\n",
    "            'wealth.how.from emerging',\n",
    "            'wealth.how.industry',\n",
    "            'wealth.how.inherited']\n",
    "\n",
    "dup_rows = df[df.duplicated(subset=dup_cols)]\n",
    "dup_rows[duprows[]]"
   ]
  },
  {
   "cell_type": "code",
   "execution_count": null,
   "metadata": {
    "execution": {
     "iopub.status.busy": "2022-11-10T10:29:55.961011Z",
     "iopub.status.idle": "2022-11-10T10:29:55.961480Z",
     "shell.execute_reply": "2022-11-10T10:29:55.961269Z",
     "shell.execute_reply.started": "2022-11-10T10:29:55.961245Z"
    }
   },
   "outputs": [],
   "source": [
    "import re\n",
    "\n",
    "df[df['name'].apply(lambda x: (re.search('abraham', x, re.IGNORECASE) is not None))]"
   ]
  },
  {
   "cell_type": "code",
   "execution_count": null,
   "metadata": {
    "execution": {
     "iopub.status.busy": "2022-11-10T10:29:55.963033Z",
     "iopub.status.idle": "2022-11-10T10:29:55.963879Z",
     "shell.execute_reply": "2022-11-10T10:29:55.963674Z",
     "shell.execute_reply.started": "2022-11-10T10:29:55.963650Z"
    }
   },
   "outputs": [],
   "source": [
    "import re\n",
    "\n",
    "df[df['name'].apply(lambda x: (re.search('abraham', x, re.IGNORECASE) is not None))]"
   ]
  }
 ],
 "metadata": {
  "kernelspec": {
   "display_name": "Python 3 (ipykernel)",
   "language": "python",
   "name": "python3"
  },
  "language_info": {
   "codemirror_mode": {
    "name": "ipython",
    "version": 3
   },
   "file_extension": ".py",
   "mimetype": "text/x-python",
   "name": "python",
   "nbconvert_exporter": "python",
   "pygments_lexer": "ipython3",
   "version": "3.10.9"
  }
 },
 "nbformat": 4,
 "nbformat_minor": 4
}
