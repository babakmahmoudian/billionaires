{
 "cells": [
  {
   "cell_type": "code",
   "execution_count": 1322,
   "metadata": {},
   "outputs": [],
   "source": [
    "import numpy as np\n",
    "import pandas as pd\n",
    "import matplotlib.pyplot as plt"
   ]
  },
  {
   "cell_type": "code",
   "execution_count": 1323,
   "metadata": {},
   "outputs": [],
   "source": [
    "# Defining some text formatting constants:\n",
    "\n",
    "# Start making the text bold\n",
    "F_BOLD = '\\033[1m'\n",
    "\n",
    "# Start underlining the text\n",
    "F_UNDERLINE = '\\033[4m'\n",
    "\n",
    "# End text formatting\n",
    "F_END = '\\033[0m'\n",
    "\n",
    "# Divider line beneath text\n",
    "F_DIV = '─'*60"
   ]
  },
  {
   "cell_type": "markdown",
   "metadata": {},
   "source": [
    "# Loading the dataset"
   ]
  },
  {
   "cell_type": "code",
   "execution_count": 1324,
   "metadata": {},
   "outputs": [],
   "source": [
    "df = pd.read_csv('./billionaires.csv')"
   ]
  },
  {
   "cell_type": "code",
   "execution_count": 1325,
   "metadata": {},
   "outputs": [
    {
     "name": "stdout",
     "output_type": "stream",
     "text": [
      "\n",
      "The dataset consists of \u001b[1m2614 instances\u001b[0m and \u001b[1m22 features\u001b[0m:\n",
      "────────────────────────────────────────────────────────────\n",
      "\n"
     ]
    },
    {
     "data": {
      "text/html": [
       "<div>\n",
       "<style scoped>\n",
       "    .dataframe tbody tr th:only-of-type {\n",
       "        vertical-align: middle;\n",
       "    }\n",
       "\n",
       "    .dataframe tbody tr th {\n",
       "        vertical-align: top;\n",
       "    }\n",
       "\n",
       "    .dataframe thead th {\n",
       "        text-align: right;\n",
       "    }\n",
       "</style>\n",
       "<table border=\"1\" class=\"dataframe\">\n",
       "  <thead>\n",
       "    <tr style=\"text-align: right;\">\n",
       "      <th></th>\n",
       "      <th>name</th>\n",
       "      <th>rank</th>\n",
       "      <th>year</th>\n",
       "      <th>company.founded</th>\n",
       "      <th>company.name</th>\n",
       "      <th>company.relationship</th>\n",
       "      <th>company.sector</th>\n",
       "      <th>company.type</th>\n",
       "      <th>demographics.age</th>\n",
       "      <th>demographics.gender</th>\n",
       "      <th>location.citizenship</th>\n",
       "      <th>location.country code</th>\n",
       "      <th>location.gdp</th>\n",
       "      <th>location.region</th>\n",
       "      <th>wealth.type</th>\n",
       "      <th>wealth.worth in billions</th>\n",
       "      <th>wealth.how.category</th>\n",
       "      <th>wealth.how.from emerging</th>\n",
       "      <th>wealth.how.industry</th>\n",
       "      <th>wealth.how.inherited</th>\n",
       "      <th>wealth.how.was founder</th>\n",
       "      <th>wealth.how.was political</th>\n",
       "    </tr>\n",
       "  </thead>\n",
       "  <tbody>\n",
       "    <tr>\n",
       "      <th>1271</th>\n",
       "      <td>Dirk Ziff</td>\n",
       "      <td>421</td>\n",
       "      <td>2001</td>\n",
       "      <td>1928</td>\n",
       "      <td>Ziff Davis Inc</td>\n",
       "      <td>relation</td>\n",
       "      <td>publishing</td>\n",
       "      <td>new</td>\n",
       "      <td>36</td>\n",
       "      <td>male</td>\n",
       "      <td>United States</td>\n",
       "      <td>USA</td>\n",
       "      <td>1.060000e+13</td>\n",
       "      <td>North America</td>\n",
       "      <td>inherited</td>\n",
       "      <td>1.2</td>\n",
       "      <td>Financial</td>\n",
       "      <td>True</td>\n",
       "      <td>Hedge funds</td>\n",
       "      <td>3rd generation</td>\n",
       "      <td>True</td>\n",
       "      <td>True</td>\n",
       "    </tr>\n",
       "    <tr>\n",
       "      <th>1364</th>\n",
       "      <td>Thomas Flatley</td>\n",
       "      <td>452</td>\n",
       "      <td>2001</td>\n",
       "      <td>1958</td>\n",
       "      <td>The Flatley Co</td>\n",
       "      <td>founder</td>\n",
       "      <td>real estate</td>\n",
       "      <td>new</td>\n",
       "      <td>68</td>\n",
       "      <td>male</td>\n",
       "      <td>United States</td>\n",
       "      <td>USA</td>\n",
       "      <td>1.060000e+13</td>\n",
       "      <td>North America</td>\n",
       "      <td>self-made finance</td>\n",
       "      <td>1.1</td>\n",
       "      <td>Financial</td>\n",
       "      <td>True</td>\n",
       "      <td>Real Estate</td>\n",
       "      <td>not inherited</td>\n",
       "      <td>True</td>\n",
       "      <td>True</td>\n",
       "    </tr>\n",
       "    <tr>\n",
       "      <th>520</th>\n",
       "      <td>R Budi Hartono</td>\n",
       "      <td>173</td>\n",
       "      <td>2014</td>\n",
       "      <td>1951</td>\n",
       "      <td>Djarum</td>\n",
       "      <td>relation</td>\n",
       "      <td>tobacco</td>\n",
       "      <td>new</td>\n",
       "      <td>73</td>\n",
       "      <td>male</td>\n",
       "      <td>Indonesia</td>\n",
       "      <td>IDN</td>\n",
       "      <td>0.000000e+00</td>\n",
       "      <td>East Asia</td>\n",
       "      <td>self-made finance</td>\n",
       "      <td>7.6</td>\n",
       "      <td>Financial</td>\n",
       "      <td>True</td>\n",
       "      <td>Money Management</td>\n",
       "      <td>not inherited</td>\n",
       "      <td>True</td>\n",
       "      <td>True</td>\n",
       "    </tr>\n",
       "    <tr>\n",
       "      <th>1141</th>\n",
       "      <td>Lars Larsen</td>\n",
       "      <td>375</td>\n",
       "      <td>2014</td>\n",
       "      <td>1979</td>\n",
       "      <td>JYSK</td>\n",
       "      <td>founder and CEO</td>\n",
       "      <td>retail</td>\n",
       "      <td>new</td>\n",
       "      <td>65</td>\n",
       "      <td>male</td>\n",
       "      <td>Denmark</td>\n",
       "      <td>DEN</td>\n",
       "      <td>0.000000e+00</td>\n",
       "      <td>Europe</td>\n",
       "      <td>founder non-finance</td>\n",
       "      <td>4.0</td>\n",
       "      <td>Non-Traded Sectors</td>\n",
       "      <td>True</td>\n",
       "      <td>Retail, Restaurant</td>\n",
       "      <td>not inherited</td>\n",
       "      <td>True</td>\n",
       "      <td>True</td>\n",
       "    </tr>\n",
       "    <tr>\n",
       "      <th>103</th>\n",
       "      <td>Charles Ergen</td>\n",
       "      <td>35</td>\n",
       "      <td>2001</td>\n",
       "      <td>1980</td>\n",
       "      <td>dish networtk</td>\n",
       "      <td>founder</td>\n",
       "      <td>media</td>\n",
       "      <td>new</td>\n",
       "      <td>48</td>\n",
       "      <td>male</td>\n",
       "      <td>United States</td>\n",
       "      <td>USA</td>\n",
       "      <td>1.060000e+13</td>\n",
       "      <td>North America</td>\n",
       "      <td>founder non-finance</td>\n",
       "      <td>8.8</td>\n",
       "      <td>Non-Traded Sectors</td>\n",
       "      <td>True</td>\n",
       "      <td>Media</td>\n",
       "      <td>not inherited</td>\n",
       "      <td>True</td>\n",
       "      <td>True</td>\n",
       "    </tr>\n",
       "  </tbody>\n",
       "</table>\n",
       "</div>"
      ],
      "text/plain": [
       "                name  rank  year  company.founded    company.name  \\\n",
       "1271       Dirk Ziff   421  2001             1928  Ziff Davis Inc   \n",
       "1364  Thomas Flatley   452  2001             1958  The Flatley Co   \n",
       "520   R Budi Hartono   173  2014             1951          Djarum   \n",
       "1141     Lars Larsen   375  2014             1979            JYSK   \n",
       "103    Charles Ergen    35  2001             1980   dish networtk   \n",
       "\n",
       "     company.relationship company.sector company.type  demographics.age  \\\n",
       "1271             relation     publishing          new                36   \n",
       "1364              founder    real estate          new                68   \n",
       "520              relation        tobacco          new                73   \n",
       "1141      founder and CEO         retail          new                65   \n",
       "103               founder          media          new                48   \n",
       "\n",
       "     demographics.gender location.citizenship location.country code  \\\n",
       "1271                male        United States                   USA   \n",
       "1364                male        United States                   USA   \n",
       "520                 male            Indonesia                   IDN   \n",
       "1141                male              Denmark                   DEN   \n",
       "103                 male        United States                   USA   \n",
       "\n",
       "      location.gdp location.region          wealth.type  \\\n",
       "1271  1.060000e+13   North America            inherited   \n",
       "1364  1.060000e+13   North America    self-made finance   \n",
       "520   0.000000e+00       East Asia    self-made finance   \n",
       "1141  0.000000e+00          Europe  founder non-finance   \n",
       "103   1.060000e+13   North America  founder non-finance   \n",
       "\n",
       "      wealth.worth in billions wealth.how.category  wealth.how.from emerging  \\\n",
       "1271                       1.2           Financial                      True   \n",
       "1364                       1.1           Financial                      True   \n",
       "520                        7.6           Financial                      True   \n",
       "1141                       4.0  Non-Traded Sectors                      True   \n",
       "103                        8.8  Non-Traded Sectors                      True   \n",
       "\n",
       "     wealth.how.industry wealth.how.inherited  wealth.how.was founder  \\\n",
       "1271         Hedge funds       3rd generation                    True   \n",
       "1364         Real Estate        not inherited                    True   \n",
       "520     Money Management        not inherited                    True   \n",
       "1141  Retail, Restaurant        not inherited                    True   \n",
       "103                Media        not inherited                    True   \n",
       "\n",
       "      wealth.how.was political  \n",
       "1271                      True  \n",
       "1364                      True  \n",
       "520                       True  \n",
       "1141                      True  \n",
       "103                       True  "
      ]
     },
     "metadata": {},
     "output_type": "display_data"
    }
   ],
   "source": [
    "print((f\"\\nThe dataset consists of {F_BOLD}%d instances{F_END}\" +\n",
    "       f\" and {F_BOLD}%d features{F_END}:\\n{F_DIV}\\n\")\n",
    "      %df.shape)\n",
    "\n",
    "# Setting this option enables the presentation of all features instead of\n",
    "# omitting the middle ones:\n",
    "from IPython.display import display\n",
    "with pd.option_context('display.max_columns', None):\n",
    "    display(df.sample(5)) # Retrieves random instances from the dataset"
   ]
  },
  {
   "cell_type": "markdown",
   "metadata": {},
   "source": [
    "## Features and their initial types"
   ]
  },
  {
   "cell_type": "code",
   "execution_count": 1326,
   "metadata": {},
   "outputs": [
    {
     "name": "stdout",
     "output_type": "stream",
     "text": [
      "The \u001b[1mstring\u001b[0m features include:\n",
      "────────────────────────────────────────────────────────────\n",
      "name                     object\n",
      "company.name             object\n",
      "company.relationship     object\n",
      "company.sector           object\n",
      "company.type             object\n",
      "demographics.gender      object\n",
      "location.citizenship     object\n",
      "location.country code    object\n",
      "location.region          object\n",
      "wealth.type              object\n",
      "wealth.how.category      object\n",
      "wealth.how.industry      object\n",
      "wealth.how.inherited     object\n",
      "dtype: object\n",
      "\n",
      "The \u001b[1mnumerical\u001b[0m features include:\n",
      "────────────────────────────────────────────────────────────\n",
      "rank                          int64\n",
      "year                          int64\n",
      "company.founded               int64\n",
      "demographics.age              int64\n",
      "location.gdp                float64\n",
      "wealth.worth in billions    float64\n",
      "dtype: object\n",
      "\n",
      "There are also several \u001b[1mboolean\u001b[0m features, including:\n",
      "────────────────────────────────────────────────────────────\n",
      "wealth.how.from emerging    bool\n",
      "wealth.how.was founder      bool\n",
      "wealth.how.was political    bool\n",
      "dtype: object\n",
      "\n"
     ]
    }
   ],
   "source": [
    "print(f\"The {F_BOLD}string{F_END} features include:\\n{F_DIV}\\n\" +\n",
    "      f\"{df.select_dtypes(include=['object']).dtypes}\\n\")\n",
    "\n",
    "print(f\"The {F_BOLD}numerical{F_END} features include:\\n{F_DIV}\\n\" +\n",
    "      f\"{df.select_dtypes(include=['int64', 'float64']).dtypes}\\n\")\n",
    "\n",
    "print(f\"There are also several {F_BOLD}boolean{F_END} features, including:\\n\" +\n",
    "      f\"{F_DIV}\\n{df.select_dtypes(include=['bool']).dtypes}\\n\")"
   ]
  },
  {
   "cell_type": "markdown",
   "metadata": {},
   "source": [
    "# Data cleaning up\n",
    "This includes all data cleanse measures, including:\n",
    "<ul>\n",
    "    <li>Identification and correction of spelling errors</li>\n",
    "    <li>Making common categories (values in categorical features) consistent</li>\n",
    "    <li>Identifying the missing data (sometimes denoted by value '0')</li>\n",
    "    <li>Inspecting outliers</li>\n",
    "    <li>Casting features to the suitable types according to the data that they contain</li>\n",
    "</ul>"
   ]
  },
  {
   "cell_type": "markdown",
   "metadata": {},
   "source": [
    "## Processing the Boolean features\n",
    "All of these features contain only a single value (True), and as a result, they do not mandate any data cleanse tasks."
   ]
  },
  {
   "cell_type": "markdown",
   "metadata": {},
   "source": [
    "### wealth.how.from emerging"
   ]
  },
  {
   "cell_type": "code",
   "execution_count": 1327,
   "metadata": {},
   "outputs": [
    {
     "data": {
      "text/plain": [
       "True    2614\n",
       "Name: wealth.how.from emerging, dtype: int64"
      ]
     },
     "execution_count": 1327,
     "metadata": {},
     "output_type": "execute_result"
    }
   ],
   "source": [
    "df['wealth.how.from emerging'].value_counts(dropna=False)"
   ]
  },
  {
   "cell_type": "markdown",
   "metadata": {},
   "source": [
    "### wealth.how.was political"
   ]
  },
  {
   "cell_type": "code",
   "execution_count": 1328,
   "metadata": {},
   "outputs": [
    {
     "data": {
      "text/plain": [
       "True    2614\n",
       "Name: wealth.how.was political, dtype: int64"
      ]
     },
     "execution_count": 1328,
     "metadata": {},
     "output_type": "execute_result"
    }
   ],
   "source": [
    "df['wealth.how.was political'].value_counts(dropna=False)"
   ]
  },
  {
   "cell_type": "markdown",
   "metadata": {},
   "source": [
    "### wealth.how.was founder"
   ]
  },
  {
   "cell_type": "code",
   "execution_count": 1329,
   "metadata": {},
   "outputs": [
    {
     "data": {
      "text/plain": [
       "True    2614\n",
       "Name: wealth.how.was founder, dtype: int64"
      ]
     },
     "execution_count": 1329,
     "metadata": {},
     "output_type": "execute_result"
    }
   ],
   "source": [
    "df['wealth.how.was founder'].value_counts(dropna=False)"
   ]
  },
  {
   "cell_type": "markdown",
   "metadata": {},
   "source": [
    "## Processing the categorical features"
   ]
  },
  {
   "cell_type": "markdown",
   "metadata": {},
   "source": [
    "### Common pre-processings\n",
    "These features generally need the following <b>pre-processings</b>:\n",
    "<ul>\n",
    "    <li>Removing trailing and leading spaces from names</li>\n",
    "    <li>Removing all consecutive spaces in the middle of the names</li>\n",
    "    <li>Removing all extra dots</li>\n",
    "    <li>Capitalizing the first letter of each word</li>\n",
    "    <li>Transforming 'and' and '/' to ','\n",
    "    <li>Correcting the spelling errors and typos</li>\n",
    "</ul>"
   ]
  },
  {
   "cell_type": "code",
   "execution_count": 164,
   "metadata": {},
   "outputs": [],
   "source": [
    "# The piece of code below performs all mentioned refactorings except for\n",
    "# Spelling errors correction which needs to be done case by case\n",
    "\n",
    "for col in df.select_dtypes(include=['object']).columns:\n",
    "    df[col] = df[col].apply(\n",
    "        lambda x: ' '.join(\n",
    "            x.replace('..', '.')\n",
    "             .title()\n",
    "             .replace(' And ', ', ')\n",
    "             .replace('/', ', ')\n",
    "             .split())\n",
    "            if isinstance(x, str) else x\n",
    "    )"
   ]
  },
  {
   "cell_type": "markdown",
   "metadata": {},
   "source": [
    "### Checking and correcting spelling errors"
   ]
  },
  {
   "cell_type": "code",
   "execution_count": 1331,
   "metadata": {},
   "outputs": [],
   "source": [
    "# The following function receives a lists of words and maps the similar ones\n",
    "# together; it is used to clean up categorical features by pinpointing the\n",
    "# 'almost' similar words and consequently helping in the identification of the\n",
    "# spelling errors.\n",
    "\n",
    "from difflib import SequenceMatcher\n",
    "\n",
    "def similar(word_list, min_similarity = .9):\n",
    "    for i in range(len(word_list)):\n",
    "        first_word = word_list[i]\n",
    "        if pd.isna(first_word):\n",
    "            continue\n",
    "        res = set()\n",
    "        for j in range(i+1, len(word_list)):\n",
    "            second_word = word_list[j]\n",
    "            if pd.isna(second_word):\n",
    "                continue\n",
    "            similarity = SequenceMatcher(None, first_word, second_word).ratio()\n",
    "            if min_similarity <= similarity < 1:\n",
    "                res.add(second_word)\n",
    "        if len(res) > 0:\n",
    "            print(first_word, '\\n', '-'*30)\n",
    "            print(res, '\\n\\n')"
   ]
  },
  {
   "cell_type": "markdown",
   "metadata": {},
   "source": [
    "#### wealth.how.inherited"
   ]
  },
  {
   "cell_type": "code",
   "execution_count": 1332,
   "metadata": {},
   "outputs": [
    {
     "data": {
      "text/plain": [
       "Not Inherited               1688\n",
       "Father                       558\n",
       "3Rd Generation               210\n",
       "4Th Generation                68\n",
       "Spouse, Widow                 59\n",
       "5Th Generation Or Longer      31\n",
       "Name: wealth.how.inherited, dtype: int64"
      ]
     },
     "execution_count": 1332,
     "metadata": {},
     "output_type": "execute_result"
    }
   ],
   "source": [
    "df['wealth.how.inherited'].value_counts(dropna=False)"
   ]
  },
  {
   "cell_type": "markdown",
   "metadata": {},
   "source": [
    "#### wealth.how.industry"
   ]
  },
  {
   "cell_type": "code",
   "execution_count": 1333,
   "metadata": {},
   "outputs": [
    {
     "data": {
      "text/plain": [
       "Consumer                            471\n",
       "Retail, Restaurant                  281\n",
       "Real Estate                         280\n",
       "Money Management                    249\n",
       "Media                               219\n",
       "Technology-Computer                 208\n",
       "Diversified Financial               167\n",
       "Energy                              132\n",
       "Technology-Medical                  111\n",
       "Non-Consumer Industrial             107\n",
       "Constrution                          97\n",
       "Mining, Metals                       90\n",
       "Other                                83\n",
       "Hedge Funds                          67\n",
       "Private Equity, Leveraged Buyout     25\n",
       "0                                    16\n",
       "Venture Capital                       8\n",
       "Banking                               1\n",
       "Services                              1\n",
       "NaN                                   1\n",
       "Name: wealth.how.industry, dtype: int64"
      ]
     },
     "execution_count": 1333,
     "metadata": {},
     "output_type": "execute_result"
    }
   ],
   "source": [
    "df['wealth.how.industry'].value_counts(dropna=False)"
   ]
  },
  {
   "cell_type": "markdown",
   "metadata": {},
   "source": [
    "#### wealth.how.category"
   ]
  },
  {
   "cell_type": "code",
   "execution_count": 1334,
   "metadata": {},
   "outputs": [
    {
     "data": {
      "text/plain": [
       "Financial             800\n",
       "Non-Traded Sectors    597\n",
       "Traded Sectors        564\n",
       "New Sectors           319\n",
       "Resource Related      245\n",
       "0                      85\n",
       "NaN                     1\n",
       "Finance                 1\n",
       "Trucking                1\n",
       "Energy                  1\n",
       "Name: wealth.how.category, dtype: int64"
      ]
     },
     "execution_count": 1334,
     "metadata": {},
     "output_type": "execute_result"
    }
   ],
   "source": [
    "df['wealth.how.category'].value_counts(dropna=False)"
   ]
  },
  {
   "cell_type": "markdown",
   "metadata": {},
   "source": [
    "#### wealth.type"
   ]
  },
  {
   "cell_type": "code",
   "execution_count": 1335,
   "metadata": {},
   "outputs": [
    {
     "data": {
      "text/plain": [
       "Inherited                953\n",
       "Founder Non-Finance      713\n",
       "Self-Made Finance        500\n",
       "Privatized, Resources    236\n",
       "Executive                190\n",
       "NaN                       22\n",
       "Name: wealth.type, dtype: int64"
      ]
     },
     "execution_count": 1335,
     "metadata": {},
     "output_type": "execute_result"
    }
   ],
   "source": [
    "df['wealth.type'].value_counts(dropna=False)"
   ]
  },
  {
   "cell_type": "markdown",
   "metadata": {},
   "source": [
    "#### location.region"
   ]
  },
  {
   "cell_type": "code",
   "execution_count": 1336,
   "metadata": {},
   "outputs": [
    {
     "data": {
      "text/plain": [
       "North America                992\n",
       "Europe                       698\n",
       "East Asia                    535\n",
       "Latin America                182\n",
       "Middle East, North Africa    117\n",
       "South Asia                    69\n",
       "Sub-Saharan Africa            20\n",
       "0                              1\n",
       "Name: location.region, dtype: int64"
      ]
     },
     "execution_count": 1336,
     "metadata": {},
     "output_type": "execute_result"
    }
   ],
   "source": [
    "df['location.region'].value_counts(dropna=False)"
   ]
  },
  {
   "cell_type": "markdown",
   "metadata": {},
   "source": [
    "#### location.country code"
   ]
  },
  {
   "cell_type": "code",
   "execution_count": 1337,
   "metadata": {},
   "outputs": [
    {
     "data": {
      "text/plain": [
       "array(['Ago', 'Are', 'Arg', 'Aus', 'Aut', 'Bel', 'Bhr', 'Bmu', 'Bra',\n",
       "       'Can', 'Che', 'Chl', 'Chn', 'Col', 'Cyp', 'Cze', 'Den', 'Deu',\n",
       "       'Dnk', 'Dza', 'Ecu', 'Egy', 'Esp', 'Fin', 'Fra', 'Gbr', 'Geo',\n",
       "       'Ggy', 'Grc', 'Hkg', 'Idn', 'Ind', 'Irl', 'Isr', 'Ita', 'Jpn',\n",
       "       'Kaz', 'Kna', 'Kor', 'Kwt', 'Lbn', 'Lie', 'Ltu', 'Mac', 'Mar',\n",
       "       'Mco', 'Mex', 'Mys', 'Nga', 'Nld', 'Nor', 'Npl', 'Nzl', 'Omn',\n",
       "       'Per', 'Phl', 'Pol', 'Prt', 'Rou', 'Rus', 'Sau', 'Sgp', 'Swe',\n",
       "       'Swz', 'Taiwan', 'Tha', 'Tur', 'Tza', 'Uga', 'Ukr', 'Usa', 'Ven',\n",
       "       'Vnm', 'Zaf'], dtype=object)"
      ]
     },
     "execution_count": 1337,
     "metadata": {},
     "output_type": "execute_result"
    }
   ],
   "source": [
    "df['location.country code'].sort_values().unique()"
   ]
  },
  {
   "cell_type": "markdown",
   "metadata": {},
   "source": [
    "#### location.citizenship"
   ]
  },
  {
   "cell_type": "code",
   "execution_count": 1338,
   "metadata": {},
   "outputs": [
    {
     "data": {
      "text/plain": [
       "United States    903\n",
       "Germany          160\n",
       "China            153\n",
       "Russia           119\n",
       "Japan             96\n",
       "                ... \n",
       "Bahrain            1\n",
       "Ecuador            1\n",
       "Georgia            1\n",
       "Bermuda            1\n",
       "Tanzania           1\n",
       "Name: location.citizenship, Length: 73, dtype: int64"
      ]
     },
     "execution_count": 1338,
     "metadata": {},
     "output_type": "execute_result"
    }
   ],
   "source": [
    "df['location.citizenship'].value_counts(dropna=False)"
   ]
  },
  {
   "cell_type": "markdown",
   "metadata": {},
   "source": [
    "#### demographics.gender"
   ]
  },
  {
   "cell_type": "code",
   "execution_count": 1339,
   "metadata": {},
   "outputs": [
    {
     "data": {
      "text/plain": [
       "Male              2328\n",
       "Female             249\n",
       "NaN                 34\n",
       "Married Couple       3\n",
       "Name: demographics.gender, dtype: int64"
      ]
     },
     "execution_count": 1339,
     "metadata": {},
     "output_type": "execute_result"
    }
   ],
   "source": [
    "df['demographics.gender'].value_counts(dropna=False)"
   ]
  },
  {
   "cell_type": "markdown",
   "metadata": {},
   "source": [
    "#### company.type"
   ]
  },
  {
   "cell_type": "code",
   "execution_count": 1340,
   "metadata": {},
   "outputs": [
    {
     "data": {
      "text/plain": [
       "New                       2302\n",
       "Aquired                    196\n",
       "Privatization               42\n",
       "NaN                         36\n",
       "Subsidiary                   9\n",
       "Acquired                     7\n",
       "State Owned Enterprise       7\n",
       "New, Aquired                 3\n",
       "Merger                       3\n",
       "Franchise                    2\n",
       "New, Privitization           2\n",
       "New Division                 1\n",
       "Privatized                   1\n",
       "Neew                         1\n",
       "Franchise Rights             1\n",
       "Joint Venture                1\n",
       "Name: company.type, dtype: int64"
      ]
     },
     "execution_count": 1340,
     "metadata": {},
     "output_type": "execute_result"
    }
   ],
   "source": [
    "df['company.type'].value_counts(dropna=False)"
   ]
  },
  {
   "cell_type": "code",
   "execution_count": 1341,
   "metadata": {},
   "outputs": [],
   "source": [
    "df['company.type'] = df['company.type'].replace(\n",
    "    {\n",
    "        'Aquired': 'Acquired',\n",
    "        'Neew': 'New',\n",
    "        'New, Privitization': 'New, Privatization',\n",
    "    }\n",
    ")"
   ]
  },
  {
   "cell_type": "markdown",
   "metadata": {},
   "source": [
    "#### company.sector"
   ]
  },
  {
   "cell_type": "code",
   "execution_count": 1342,
   "metadata": {},
   "outputs": [
    {
     "data": {
      "text/plain": [
       "array(['Advertising', 'Aerospace, Defense', 'Agribusiness',\n",
       "       'Agriculteral', 'Agricultural Products', 'Agriculture',\n",
       "       'Aigriculture', 'Air Compressors', 'Aircraft Leasing', 'Airline',\n",
       "       'Airplanes', 'Airport', 'Airport Maintenance', 'Airports',\n",
       "       'Alcohol', 'Aluminum', 'Aluminum, Oil', 'Animal Feed', 'Animation',\n",
       "       'Antennas', 'Aplliances', 'Apparel', 'Apparel Retail',\n",
       "       'Apparel, Eyewear', 'Appliances', 'Architectural Products',\n",
       "       'Armaments', 'Art Dealing', 'Asset Management', 'Auto Components',\n",
       "       'Auto Dealerships', 'Auto Engines', 'Auto Glass', 'Auto Parts',\n",
       "       'Auto Repair', 'Auto Retail', 'Auto Sales, Energy',\n",
       "       'Automobile Dealers', 'Automobiles', 'Automotive',\n",
       "       'Automotive Components', 'Automotive Parts', 'Automotives',\n",
       "       'Autos', 'Aviation', 'Banannas', 'Bank', 'Banking',\n",
       "       'Banking, Insurance', 'Banking, Media', 'Banking, Oil, Aluminum',\n",
       "       'Banking, Publishing', 'Banking, Real Estate',\n",
       "       'Beauty, Health Care Products', 'Beer', 'Beer, Food Distribution',\n",
       "       'Beverages', 'Beverages, Food', 'Bicycles', 'Biopharmaceutical',\n",
       "       'Biotech', 'Biotech Investing', 'Boats', 'Bottled Water',\n",
       "       'Brake Systems', 'Braking Systems', 'Brewery', 'Bridge To Canada',\n",
       "       'Broadcasting', 'Brokerage, Banking', 'Building Materials',\n",
       "       'Business Centers', 'Cable', 'Cameras', 'Candy', 'Cans', 'Cars',\n",
       "       'Cars, Finance', 'Casinos', 'Catering', 'Cell Phones', 'Cement',\n",
       "       'Cheese', 'Chemicals', 'Chocolate, Coffee', 'Chocolates',\n",
       "       'Cigarette', 'Cigarettes', 'Cleaning Products',\n",
       "       'Cleaning Supplies', 'Clothing', 'Cloud Computing', 'Coal',\n",
       "       'Coffee', 'Cogeneration', 'Commercial Pilot Training',\n",
       "       'Commodities', 'Commodities (Sugar, Cement Flour)',\n",
       "       'Commodities (Wheat, Oil, Shipping)', 'Commodities Trading',\n",
       "       'Commodity Trading', 'Communications', 'Comodities',\n",
       "       'Computer Parts', 'Computer Services', 'Computers',\n",
       "       'Confectionary', 'Construcion', 'Construction',\n",
       "       'Construction, Hotels, Gaming', 'Construction, Insurance',\n",
       "       'Construction, Real Estate', 'Construction, Real Estate, Banking',\n",
       "       'Construction, Utilities', 'Construction,Banking',\n",
       "       'Consumer Goods', 'Consumer Loans', 'Consumer Retail', 'Copper',\n",
       "       'Copper, Mining', 'Copper, Poultry', 'Cork', 'Cosmetics',\n",
       "       'Cotton Yarn', 'Cranes', 'Credit Cards', 'Cruises',\n",
       "       'Currency Trading', 'Dairy', 'Dairy Products', 'Data Processing',\n",
       "       'Data Storage', 'Dental Implants', 'Diamond Jewelry', 'Diamonds',\n",
       "       'Diapers', 'Diversified Investments', 'Domestic Appliances',\n",
       "       'Drinks', 'Drug Stores', 'E-Commerce',\n",
       "       'E-Commerce, Venture Capital', 'Education',\n",
       "       'Education, Language Schools', 'Electonics',\n",
       "       'Electonics Components', 'Electric Motors', 'Electricity',\n",
       "       'Electronic Componants', 'Electronic Interconnectors',\n",
       "       'Electronics', 'Elevators', 'Elevators, Escalators, Engineering',\n",
       "       'Energy', 'Energy (Coal, Oil, Gas)',\n",
       "       'Energy, Retail, Manufacturing', 'Engineering', 'Entertainment',\n",
       "       'Ethanol', 'Express Delivery Services', 'Eyeglasses', 'Fashion',\n",
       "       'Fashion Retail', 'Fashion, Oil', 'Fertalizers', 'Fertilizer',\n",
       "       'Fertilizers', 'Fiber Optic Cables', 'Film', 'Finace', 'Finance',\n",
       "       'Financial Information', 'Financial Services', 'Flavorings',\n",
       "       'Flooring', 'Food', 'Food Distribution', 'Food Manufacturing',\n",
       "       'Food Packaging', 'Food Processing',\n",
       "       'Food Processing, Commodities', 'Food Production', 'Food Products',\n",
       "       'Food Retail', 'Food Sweeteners', 'Food, Energy Processess',\n",
       "       'Food, Entertainment', 'Footwear', 'Forestry, Mining',\n",
       "       'Frozen Foods', 'Furniture', 'Gambing', 'Gambling Software',\n",
       "       'Gaming', 'Gas', 'Gas Pipeline', 'Gas, Petrochemicals',\n",
       "       'Gas, Propane', 'Glass', 'Glasses', 'Golf Courses',\n",
       "       'Gps Technology', 'Grain', 'Greeting Cards', 'Groceries', 'Gum',\n",
       "       'Hair Care', 'Hair Care Products', 'Hair Care Products, Tequila',\n",
       "       'Hardware Stores', 'Healthcare', 'Healthcare It',\n",
       "       'Healthcare Management', 'Heating Systems', 'Heavy Equipment',\n",
       "       'Heavy Equiptment (Excavators, Backhoes, Tractors)',\n",
       "       'Heavy Manufacturing', 'Hedge Funds', 'Holding Company',\n",
       "       'Home Building Materials', 'Home Furnishings',\n",
       "       'Home Improvement Retail', 'Hospitality',\n",
       "       'Hospitality, Food Service', 'Hospitals', 'Hostile Takeovers',\n",
       "       'Hotels', 'Hotels, Supermarkets', 'Hr Consulting',\n",
       "       'Industrial Automation', 'Industrial Equipment',\n",
       "       'Industrial Goods', 'Industrial Manufacturing, Banking',\n",
       "       'Industrial Software', 'Industrial Tools', 'Infant Formula',\n",
       "       'Information Services', 'Infrastructure', 'Insurance',\n",
       "       'Insurancei, Power', 'Internet', 'Internet Companies',\n",
       "       'Internet Company', 'Internet Domain, Web Hosting',\n",
       "       'Internet Provider', 'Internet Service Company',\n",
       "       'Internet Service Provider', 'Investment',\n",
       "       'Investment (Via Holding Company)', 'Investment Banking',\n",
       "       'Investment Banking, Beer', 'Investment Mangagment', 'Investments',\n",
       "       'Investments, Real Estate, Sports Teams', 'Invetsments', 'Iron',\n",
       "       'Iron Ore', 'Iron, Steel', 'It Consulting', 'Jeans', 'Jewelry',\n",
       "       'Kitchen Appliances', 'Laboratory Services',\n",
       "       'Landscape Architecture', 'Laptops', 'Laundry Soap', 'Lawsuits',\n",
       "       'Leather', 'Leveraged Buyout', 'Leveraged Buyouts',\n",
       "       'Life Insurance', 'Linear Actuators', 'Liquor',\n",
       "       'Locomotive Manufacturing', 'Logging', 'Logistics', 'Lumber',\n",
       "       'Lumber, Real Estate', 'Luxury Fashion', 'Luxury Goods',\n",
       "       'Mail Order Retail', 'Makeup', 'Manufacturing',\n",
       "       'Manufacturing (Agriculture, Steel, Electronics)',\n",
       "       'Manufacturing, Real Estate, Aviation', 'Mass Transit',\n",
       "       'Measuring Instruments', 'Meat Processing', 'Meat Products',\n",
       "       'Media', 'Media, Exports', 'Media, Pipelines', 'Medical Devices',\n",
       "       'Medical Equipment', 'Medical Supplies', 'Medical Technology',\n",
       "       'Metals', 'Metals, Banking', 'Metals, Mining',\n",
       "       'Metals, Paper, Cement', 'Mettallurgy', 'Microchips', 'Milk',\n",
       "       'Mining', 'Mining, Banking', 'Mining, Investments',\n",
       "       'Mining, Steel', 'Mobile App', 'Mobile Phone Batteries',\n",
       "       'Mobile Phones', 'Money Management', 'Mortgage Banking',\n",
       "       'Mortgages', 'Motorcycles', 'Movie Theatres', 'Movies', 'Music',\n",
       "       'Mutal Funds', 'Mutual Funds', 'Natural Flavors', 'Natural Gas',\n",
       "       'Networking Equipment', 'New Technology', 'Nutrition Supplements',\n",
       "       'Oil', 'Oil Exploration Equipment', 'Oil Field Services',\n",
       "       'Oil Infrastructure', 'Oil Refining', 'Oil Services',\n",
       "       'Oil Tankers', 'Oil Trading', 'Oil, Gas', 'Oil, Investments',\n",
       "       'Oil, Natural Gas', 'Oil, Railroad, Investments',\n",
       "       'Oil, Telecommunications', 'Oilfield Equipment',\n",
       "       'Oilfield Services', 'Oleochemicals, Palm Oil', 'Online Gaming',\n",
       "       'Outsourcing', 'Pachinko', 'Pachinko Gaming Machines', 'Paint',\n",
       "       'Palm Oil', 'Palm Oil, Mining', 'Palm Oil, Real Estate', 'Paper',\n",
       "       'Paper Manufacturing, Investment', 'Paper Products',\n",
       "       'Payroll Processing', 'Pet Food', 'Pet Supplies, Real Estate',\n",
       "       'Petrochemicals', 'Petrochemicals, Textiles', 'Petroleum',\n",
       "       'Pharmaceuticals', 'Pipelines', 'Pipes', 'Plastic', 'Plastics',\n",
       "       'Polymers', 'Port', 'Port Containers', 'Port Logistics',\n",
       "       'Ports, Gas', 'Postal Service, Beverages', 'Power Engineering',\n",
       "       'Precious Metals', 'Printers', 'Printing', 'Printing, Electronics',\n",
       "       'Private Equity', 'Private Investment Company',\n",
       "       'Processing Machinary', 'Property Development',\n",
       "       'Property, Textile Manufacturing', 'Publishing', 'Racing',\n",
       "       'Real Estate', 'Real Estate (Shopping Malls)',\n",
       "       'Real Estate, Banking',\n",
       "       'Real Estate, Financial Services, Computers',\n",
       "       'Real Estate, Metals', 'Real Estate, Retail',\n",
       "       'Real Estate, Sports Teams', 'Relocation Services', 'Rental Cars',\n",
       "       'Restaurant', 'Restaurants', 'Retail',\n",
       "       'Retail, Financial Services, Real Estate',\n",
       "       'Retail, Home Appliances', 'Rice Trading, Mining, Infrastructure',\n",
       "       'Risk Management', 'Roller Bearings', 'Roofing', 'Salsa',\n",
       "       'Satallite Communications', 'Screws', 'Security',\n",
       "       'Security Equipment', 'Security, Surveillance Technology', 'Seeds',\n",
       "       'Self Storage', 'Self-Storage', 'Semiconductors',\n",
       "       'Service Assurance Instruments', 'Sewage Treatment',\n",
       "       'Sewing Machines', 'Shale', 'Shipbuilding', 'Shipping',\n",
       "       'Shoe Retail', 'Shoes', 'Shopping Centers',\n",
       "       'Small-Company Lending', 'Snack Foods', 'Social Network',\n",
       "       'Soft Drinks', 'Software', 'Solar Energy', 'Soup', 'Soy Sauce',\n",
       "       'Spirits', 'Sporting Goods', 'Sports', 'Sports Equipment',\n",
       "       'Sports Retail', 'Sports Team', 'Sportswear', 'Staffing Company',\n",
       "       'Staffing Services', 'Star Wars', 'Steel', 'Steel, Banking',\n",
       "       'Steel, Oil', 'Stock Broker', 'Stock Brokerage',\n",
       "       'Sugar, Flour, Cement', 'Supermarkets', 'Supply Chain',\n",
       "       'Technology', 'Technology Consulting', 'Technology Publishing',\n",
       "       'Telecom', 'Telecom, Finance', 'Telecom, Investments',\n",
       "       'Telecom, Oil, Beer', 'Telecomm', 'Telecommunications',\n",
       "       'Television', 'Textiles', 'Textiles, Industrial Goods, Media',\n",
       "       'Timber', 'Timber, Paper', 'Timber, Plantations',\n",
       "       'Tire Manufacturing', 'Tires', 'Tobacco', 'Tobacco, Luxury Brands',\n",
       "       'Toll Roads', 'Tools', 'Tortillas', 'Toys', 'Tractors',\n",
       "       'Trade Fairs', 'Trade Investment', 'Trading', 'Trading Company',\n",
       "       'Transportation', 'Travel Company', 'Truck Stop', 'Truck Stops',\n",
       "       'Trucking', 'Trucking, Logistics', 'Uniforms', 'Utilities',\n",
       "       'Utilities, Financial Services', 'Vacuum Cleaners',\n",
       "       'Venture Capitalist', 'Video Games', 'Video Technology',\n",
       "       'Waste Management', 'Watch Retail', 'Watches', 'Web Broadcasting',\n",
       "       'Wind Energy', 'Wine', 'Wine, Spirits', 'Winter Jackets',\n",
       "       'Wireless Products', 'Wool', 'Wrestling Promotion', 'Yogurt',\n",
       "       'Zippers', nan], dtype=object)"
      ]
     },
     "execution_count": 1342,
     "metadata": {},
     "output_type": "execute_result"
    }
   ],
   "source": [
    "df['company.sector'].sort_values().unique()"
   ]
  },
  {
   "cell_type": "code",
   "execution_count": 1343,
   "metadata": {},
   "outputs": [
    {
     "name": "stdout",
     "output_type": "stream",
     "text": [
      "Agriculture \n",
      " ------------------------------\n",
      "{'Aigriculture'} \n",
      "\n",
      "\n",
      "Airport \n",
      " ------------------------------\n",
      "{'Airports'} \n",
      "\n",
      "\n",
      "Aplliances \n",
      " ------------------------------\n",
      "{'Appliances'} \n",
      "\n",
      "\n",
      "Automotive \n",
      " ------------------------------\n",
      "{'Automotives'} \n",
      "\n",
      "\n",
      "Cigarette \n",
      " ------------------------------\n",
      "{'Cigarettes'} \n",
      "\n",
      "\n",
      "Commodities \n",
      " ------------------------------\n",
      "{'Comodities'} \n",
      "\n",
      "\n",
      "Construcion \n",
      " ------------------------------\n",
      "{'Construction'} \n",
      "\n",
      "\n",
      "Electonics \n",
      " ------------------------------\n",
      "{'Electronics'} \n",
      "\n",
      "\n",
      "Electonics Components \n",
      " ------------------------------\n",
      "{'Electronic Componants'} \n",
      "\n",
      "\n",
      "Fertalizers \n",
      " ------------------------------\n",
      "{'Fertilizers'} \n",
      "\n",
      "\n",
      "Fertilizer \n",
      " ------------------------------\n",
      "{'Fertilizers'} \n",
      "\n",
      "\n",
      "Finace \n",
      " ------------------------------\n",
      "{'Finance'} \n",
      "\n",
      "\n",
      "Gambing \n",
      " ------------------------------\n",
      "{'Gaming'} \n",
      "\n",
      "\n",
      "Investment \n",
      " ------------------------------\n",
      "{'Investments'} \n",
      "\n",
      "\n",
      "Investments \n",
      " ------------------------------\n",
      "{'Invetsments'} \n",
      "\n",
      "\n",
      "Leveraged Buyout \n",
      " ------------------------------\n",
      "{'Leveraged Buyouts'} \n",
      "\n",
      "\n",
      "Mutal Funds \n",
      " ------------------------------\n",
      "{'Mutual Funds'} \n",
      "\n",
      "\n",
      "Oil Field Services \n",
      " ------------------------------\n",
      "{'Oilfield Services'} \n",
      "\n",
      "\n",
      "Plastic \n",
      " ------------------------------\n",
      "{'Plastics'} \n",
      "\n",
      "\n",
      "Restaurant \n",
      " ------------------------------\n",
      "{'Restaurants'} \n",
      "\n",
      "\n",
      "Self Storage \n",
      " ------------------------------\n",
      "{'Self-Storage'} \n",
      "\n",
      "\n",
      "Telecom \n",
      " ------------------------------\n",
      "{'Telecomm'} \n",
      "\n",
      "\n",
      "Truck Stop \n",
      " ------------------------------\n",
      "{'Truck Stops'} \n",
      "\n",
      "\n"
     ]
    }
   ],
   "source": [
    "similar(df[\"company.sector\"].sort_values().unique())"
   ]
  },
  {
   "cell_type": "code",
   "execution_count": 1344,
   "metadata": {},
   "outputs": [],
   "source": [
    "df['company.sector'] = df['company.sector'].replace(\n",
    "    {\n",
    "        'Agriculteral': 'Agricultural',\n",
    "        'Aigriculture': 'Agriculture',\n",
    "        'Aplliances': 'Appliances',\n",
    "        'Comodities': 'Commodities',\n",
    "        'Construcion': 'Construction',\n",
    "        'Electonics': 'Electronics',\n",
    "        'Electonics Components': 'Electronic Components',\n",
    "        'Fertalizers': 'Fertilizers',\n",
    "        'Finace': 'Finance',\n",
    "        'Gambing': 'Gambling',\n",
    "        'Invetsments': 'Investments',\n",
    "        'Mutal Funds': 'Mutual Funds',\n",
    "        'Telecomm': 'Telecom',\n",
    "        'Electronic Componants': 'Electronic Components',\n",
    "        'Food And Energy Processess': 'Food And Energy Processes',\n",
    "        'Insurancei, Power': 'Insurance, Power',\n",
    "    }\n",
    ")"
   ]
  },
  {
   "cell_type": "markdown",
   "metadata": {},
   "source": [
    "#### company.relationship"
   ]
  },
  {
   "cell_type": "code",
   "execution_count": 1345,
   "metadata": {
    "tags": []
   },
   "outputs": [
    {
     "data": {
      "text/plain": [
       "array(['Ceo', 'Chairman', 'Chairman Of Management Committee',\n",
       "       'Chairman Of The Board', 'Chairman, Ceo',\n",
       "       'Chairman, Chief Executive Officer', 'Chairman, Founder',\n",
       "       'Chairman, Shareholder', 'Chairwomen', 'Chariman',\n",
       "       'Chief Executive', 'Co-Chairman',\n",
       "       'Co-Director Of Zinc, Copper, Lead', 'Coo', 'Deputy Chairman',\n",
       "       'Director', 'Employee', 'Exectuitve Director',\n",
       "       'Executive Chairman', 'Former Ceo', 'Former Chairman, Ceo',\n",
       "       'Founder', 'Founder Ceo Owner', 'Founder, Ceo',\n",
       "       'Founder, Chairman', 'Founder, Chairman, Ceo',\n",
       "       'Founder, Chairwoman', 'Founder, Chairwoman, Ceo',\n",
       "       'Founder, Executive Chairman', 'Founder, Executive Vice Chairman',\n",
       "       'Founder, President', 'Founder, Relation',\n",
       "       'Founder, Vice Chairman', 'General Director',\n",
       "       'Global Head Of Real Estate', 'Head Of Board Of Directors',\n",
       "       'Head Of High-Yield Bond Trading Dept',\n",
       "       \"Head Of Microsoft'S Application Software Group\",\n",
       "       'Honorary President For Life', 'Inherited', 'Inventor', 'Investor',\n",
       "       'Investor, Ceo', 'Investor, Founder', 'Lawer', 'Lawyer',\n",
       "       'Leadership', 'Owner', 'Owner, Former Ceo', 'Owner, Vice Chair',\n",
       "       'Partner', 'President', 'President, Ceo', 'Relation',\n",
       "       'Relation, Ceo', 'Relation, Chairman', 'Relation, Vice Chairman',\n",
       "       'Relative', 'Shareholder', 'Supervisory Board Or Directors',\n",
       "       'Vice Chairman', 'Vice President',\n",
       "       'Vice President Of Infrastructure Software', 'Vice-Chairman', nan],\n",
       "      dtype=object)"
      ]
     },
     "execution_count": 1345,
     "metadata": {},
     "output_type": "execute_result"
    }
   ],
   "source": [
    "df['company.relationship'].sort_values().unique()"
   ]
  },
  {
   "cell_type": "code",
   "execution_count": 1346,
   "metadata": {},
   "outputs": [
    {
     "name": "stdout",
     "output_type": "stream",
     "text": [
      "Founder, Chairman \n",
      " ------------------------------\n",
      "{'Founder, Chairwoman'} \n",
      "\n",
      "\n",
      "Founder, Chairman, Ceo \n",
      " ------------------------------\n",
      "{'Founder, Chairwoman, Ceo'} \n",
      "\n",
      "\n",
      "Founder, Executive Chairman \n",
      " ------------------------------\n",
      "{'Founder, Executive Vice Chairman'} \n",
      "\n",
      "\n",
      "Lawer \n",
      " ------------------------------\n",
      "{'Lawyer'} \n",
      "\n",
      "\n",
      "Vice Chairman \n",
      " ------------------------------\n",
      "{'Vice-Chairman'} \n",
      "\n",
      "\n"
     ]
    }
   ],
   "source": [
    "similar(df[\"company.relationship\"].sort_values().unique())"
   ]
  },
  {
   "cell_type": "code",
   "execution_count": 1347,
   "metadata": {},
   "outputs": [],
   "source": [
    "df['company.relationship'] = df['company.relationship'].replace(\n",
    "    {\n",
    "        'Chariman': 'Chairman',\n",
    "        'Lawer': 'Lawyer',\n",
    "        'Vice-Chairman': 'Vice Chairman',\n",
    "    }\n",
    ")"
   ]
  },
  {
   "cell_type": "markdown",
   "metadata": {},
   "source": [
    "### Common post-processings\n",
    "The features require the following <b>post-processings</b>:\n",
    "<ul>\n",
    "    <li>Replacing the value '0' with Null</li>\n",
    "    <li>Casting the variable from string (object) to categorical</li>\n",
    "</ul>"
   ]
  },
  {
   "cell_type": "code",
   "execution_count": 1348,
   "metadata": {},
   "outputs": [],
   "source": [
    "# The piece of code below performs all mentioned post-processings for all the\n",
    "# string features except for 'name' which is not supposed to be transformed\n",
    "# to categorical\n",
    "\n",
    "\n",
    "for col in df.select_dtypes(include=['object']).columns:\n",
    "    if col == 'name':\n",
    "        continue\n",
    "    \n",
    "    # Replacing the value of '0' with Null\n",
    "    df[col] = df[col].replace(\n",
    "        {\n",
    "            '0': None,\n",
    "        }\n",
    "    )\n",
    "\n",
    "    # Casting the feature into categorical type\n",
    "    df[col] = df[col].astype('category')"
   ]
  },
  {
   "cell_type": "markdown",
   "metadata": {},
   "source": [
    "### Cleaning the 'name' feature\n",
    "This task includes:\n",
    "<ul>\n",
    "    <li>Converting every 'Jr' and 'Sr' to 'Jr.' and 'Sr.'</li>\n",
    "    <li>Converting every [initial] to [initial + '.']s</li>\n",
    "    <li>Converting every 'And' to ','</li>\n",
    "    <li>In some names 'Jr' and 'Sr' are separated by ',' and in some they are not; they should be unified</li>\n",
    "</ul>"
   ]
  },
  {
   "cell_type": "code",
   "execution_count": 1349,
   "metadata": {},
   "outputs": [],
   "source": [
    "import re\n",
    "\n",
    "df['name'] = (df['name'].replace(to_replace=r'\\bSr$', regex=True, value='Sr.')\n",
    "                        .replace(to_replace=r'\\bJr$', regex=True, value='Jr.')\n",
    "                        .replace(to_replace=r'\\b\\w\\b(?!\\.)', regex=True, value=r'\\g<0>.')\n",
    "                        .replace(to_replace=r', Jr\\.$', regex=True, value=' Jr.')\n",
    "                        .replace(to_replace=r', Sr\\.$', regex=True, value=' Sr.')\n",
    "             )"
   ]
  },
  {
   "cell_type": "code",
   "execution_count": 1350,
   "metadata": {},
   "outputs": [],
   "source": [
    "# similar(df['name'])"
   ]
  },
  {
   "cell_type": "markdown",
   "metadata": {},
   "source": [
    "## Processing the numerical features"
   ]
  },
  {
   "cell_type": "code",
   "execution_count": 1351,
   "metadata": {},
   "outputs": [],
   "source": [
    "# rank                          int64\n",
    "# year                          int64\n",
    "# company.founded               int64\n",
    "# demographics.age              int64\n",
    "# location.gdp                float64\n",
    "# wealth.worth in billions    float64\n",
    "\n"
   ]
  },
  {
   "cell_type": "code",
   "execution_count": 1352,
   "metadata": {},
   "outputs": [
    {
     "data": {
      "text/plain": [
       "Index(['rank', 'year', 'company.founded', 'demographics.age', 'location.gdp',\n",
       "       'wealth.worth in billions'],\n",
       "      dtype='object')"
      ]
     },
     "execution_count": 1352,
     "metadata": {},
     "output_type": "execute_result"
    }
   ],
   "source": [
    "num_cols = df.select_dtypes(include=['int64', 'float64']).columns\n",
    "\n",
    "num_cols"
   ]
  },
  {
   "cell_type": "markdown",
   "metadata": {},
   "source": [
    "### Missing values\n",
    "None of the numberic features by definition can contain 0; hence, all 0s must be transformed to Null"
   ]
  },
  {
   "cell_type": "code",
   "execution_count": 1354,
   "metadata": {},
   "outputs": [
    {
     "name": "stdout",
     "output_type": "stream",
     "text": [
      "Numerical columns contain a total of 0 NA values\n"
     ]
    }
   ],
   "source": [
    "total_na = df[num_cols].isna().sum().sum()\n",
    "\n",
    "print(f\"Numerical columns contain a total of {total_na} NA values\")"
   ]
  },
  {
   "cell_type": "code",
   "execution_count": 1355,
   "metadata": {},
   "outputs": [],
   "source": [
    "df[num_cols] = df[num_cols].replace(0, np.nan)"
   ]
  },
  {
   "cell_type": "markdown",
   "metadata": {},
   "source": [
    "### Identifying outliers"
   ]
  },
  {
   "cell_type": "code",
   "execution_count": 1358,
   "metadata": {},
   "outputs": [
    {
     "data": {
      "text/html": [
       "<div>\n",
       "<style scoped>\n",
       "    .dataframe tbody tr th:only-of-type {\n",
       "        vertical-align: middle;\n",
       "    }\n",
       "\n",
       "    .dataframe tbody tr th {\n",
       "        vertical-align: top;\n",
       "    }\n",
       "\n",
       "    .dataframe thead th {\n",
       "        text-align: right;\n",
       "    }\n",
       "</style>\n",
       "<table border=\"1\" class=\"dataframe\">\n",
       "  <thead>\n",
       "    <tr style=\"text-align: right;\">\n",
       "      <th></th>\n",
       "      <th>rank</th>\n",
       "      <th>year</th>\n",
       "      <th>company.founded</th>\n",
       "      <th>demographics.age</th>\n",
       "      <th>location.gdp</th>\n",
       "      <th>wealth.worth in billions</th>\n",
       "    </tr>\n",
       "  </thead>\n",
       "  <tbody>\n",
       "    <tr>\n",
       "      <th>count</th>\n",
       "      <td>2614.000000</td>\n",
       "      <td>2614.000000</td>\n",
       "      <td>2574.000000</td>\n",
       "      <td>2231.000000</td>\n",
       "      <td>9.490000e+02</td>\n",
       "      <td>2614.000000</td>\n",
       "    </tr>\n",
       "    <tr>\n",
       "      <th>mean</th>\n",
       "      <td>599.672533</td>\n",
       "      <td>2008.411630</td>\n",
       "      <td>1954.621989</td>\n",
       "      <td>62.498431</td>\n",
       "      <td>4.872956e+12</td>\n",
       "      <td>3.531943</td>\n",
       "    </tr>\n",
       "    <tr>\n",
       "      <th>std</th>\n",
       "      <td>467.885695</td>\n",
       "      <td>7.483598</td>\n",
       "      <td>43.189003</td>\n",
       "      <td>13.395330</td>\n",
       "      <td>4.420257e+12</td>\n",
       "      <td>5.088813</td>\n",
       "    </tr>\n",
       "    <tr>\n",
       "      <th>min</th>\n",
       "      <td>1.000000</td>\n",
       "      <td>1996.000000</td>\n",
       "      <td>1610.000000</td>\n",
       "      <td>-42.000000</td>\n",
       "      <td>2.491801e+09</td>\n",
       "      <td>1.000000</td>\n",
       "    </tr>\n",
       "    <tr>\n",
       "      <th>25%</th>\n",
       "      <td>215.000000</td>\n",
       "      <td>2001.000000</td>\n",
       "      <td>1938.250000</td>\n",
       "      <td>53.000000</td>\n",
       "      <td>3.970000e+11</td>\n",
       "      <td>1.400000</td>\n",
       "    </tr>\n",
       "    <tr>\n",
       "      <th>50%</th>\n",
       "      <td>430.000000</td>\n",
       "      <td>2014.000000</td>\n",
       "      <td>1963.000000</td>\n",
       "      <td>62.000000</td>\n",
       "      <td>2.500000e+12</td>\n",
       "      <td>2.000000</td>\n",
       "    </tr>\n",
       "    <tr>\n",
       "      <th>75%</th>\n",
       "      <td>988.000000</td>\n",
       "      <td>2014.000000</td>\n",
       "      <td>1985.000000</td>\n",
       "      <td>72.000000</td>\n",
       "      <td>1.060000e+13</td>\n",
       "      <td>3.500000</td>\n",
       "    </tr>\n",
       "    <tr>\n",
       "      <th>max</th>\n",
       "      <td>1565.000000</td>\n",
       "      <td>2014.000000</td>\n",
       "      <td>2012.000000</td>\n",
       "      <td>98.000000</td>\n",
       "      <td>1.060000e+13</td>\n",
       "      <td>76.000000</td>\n",
       "    </tr>\n",
       "  </tbody>\n",
       "</table>\n",
       "</div>"
      ],
      "text/plain": [
       "              rank         year  company.founded  demographics.age  \\\n",
       "count  2614.000000  2614.000000      2574.000000       2231.000000   \n",
       "mean    599.672533  2008.411630      1954.621989         62.498431   \n",
       "std     467.885695     7.483598        43.189003         13.395330   \n",
       "min       1.000000  1996.000000      1610.000000        -42.000000   \n",
       "25%     215.000000  2001.000000      1938.250000         53.000000   \n",
       "50%     430.000000  2014.000000      1963.000000         62.000000   \n",
       "75%     988.000000  2014.000000      1985.000000         72.000000   \n",
       "max    1565.000000  2014.000000      2012.000000         98.000000   \n",
       "\n",
       "       location.gdp  wealth.worth in billions  \n",
       "count  9.490000e+02               2614.000000  \n",
       "mean   4.872956e+12                  3.531943  \n",
       "std    4.420257e+12                  5.088813  \n",
       "min    2.491801e+09                  1.000000  \n",
       "25%    3.970000e+11                  1.400000  \n",
       "50%    2.500000e+12                  2.000000  \n",
       "75%    1.060000e+13                  3.500000  \n",
       "max    1.060000e+13                 76.000000  "
      ]
     },
     "execution_count": 1358,
     "metadata": {},
     "output_type": "execute_result"
    }
   ],
   "source": [
    "df[num_cols].describe()"
   ]
  },
  {
   "cell_type": "code",
   "execution_count": 1357,
   "metadata": {},
   "outputs": [
    {
     "name": "stdout",
     "output_type": "stream",
     "text": [
      "The \u001b[1mcompany.founded\u001b[0m feature contains 512 outliers.\n",
      "The outliers include:\n",
      "────────────────────────────────────────────────────────────\n",
      "1081    1610.0\n",
      "1454    1610.0\n",
      "2058    1615.0\n",
      "1092    1615.0\n",
      "788     1615.0\n",
      "         ...  \n",
      "1510    2009.0\n",
      "2542    2010.0\n",
      "1142    2010.0\n",
      "2243    2010.0\n",
      "1913    2012.0\n",
      "Name: company.founded, Length: 512, dtype: float64\n",
      "\n",
      "\n",
      "The \u001b[1mdemographics.age\u001b[0m feature contains 763 outliers.\n",
      "The outliers include:\n",
      "────────────────────────────────────────────────────────────\n",
      "748    -42.0\n",
      "1065    -7.0\n",
      "788     12.0\n",
      "1262    21.0\n",
      "1263    24.0\n",
      "        ... \n",
      "1663    95.0\n",
      "2127    95.0\n",
      "993     96.0\n",
      "924     96.0\n",
      "1539    98.0\n",
      "Name: demographics.age, Length: 763, dtype: float64\n",
      "\n",
      "\n"
     ]
    }
   ],
   "source": [
    "# The following function recerves a columns name and returns the index and\n",
    "# values of all the instances outside the boundary of 2 standard deviations\n",
    "# away from the mean.\n",
    "def get_outliers(col):\n",
    "    return col[np.abs(col-col.mean()) > (1*col.std())]\n",
    "\n",
    "cols = [\n",
    "    'company.founded',\n",
    "    'demographics.age',\n",
    "]\n",
    "for col in cols:\n",
    "    outliers = get_outliers(df[col])\n",
    "    outliers_count = outliers.shape[0]\n",
    "    print(f\"The {F_BOLD}{col}{F_END} feature contains\" +\n",
    "          f\" {outliers_count} outliers.\")\n",
    "    if outliers_count > 0:\n",
    "        print(f\"The outliers include:\\n{F_DIV}\\n{outliers.sort_values()}\")\n",
    "    print(\"\\n\")"
   ]
  },
  {
   "cell_type": "markdown",
   "metadata": {},
   "source": [
    "#### demographics.age"
   ]
  },
  {
   "cell_type": "code",
   "execution_count": 1281,
   "metadata": {},
   "outputs": [
    {
     "data": {
      "text/html": [
       "<div>\n",
       "<style scoped>\n",
       "    .dataframe tbody tr th:only-of-type {\n",
       "        vertical-align: middle;\n",
       "    }\n",
       "\n",
       "    .dataframe tbody tr th {\n",
       "        vertical-align: top;\n",
       "    }\n",
       "\n",
       "    .dataframe thead th {\n",
       "        text-align: right;\n",
       "    }\n",
       "</style>\n",
       "<table border=\"1\" class=\"dataframe\">\n",
       "  <thead>\n",
       "    <tr style=\"text-align: right;\">\n",
       "      <th></th>\n",
       "      <th>name</th>\n",
       "      <th>rank</th>\n",
       "      <th>year</th>\n",
       "      <th>company.founded</th>\n",
       "      <th>company.name</th>\n",
       "      <th>company.relationship</th>\n",
       "      <th>company.sector</th>\n",
       "      <th>company.type</th>\n",
       "      <th>demographics.age</th>\n",
       "      <th>demographics.gender</th>\n",
       "      <th>...</th>\n",
       "      <th>location.gdp</th>\n",
       "      <th>location.region</th>\n",
       "      <th>wealth.type</th>\n",
       "      <th>wealth.worth in billions</th>\n",
       "      <th>wealth.how.category</th>\n",
       "      <th>wealth.how.from emerging</th>\n",
       "      <th>wealth.how.industry</th>\n",
       "      <th>wealth.how.inherited</th>\n",
       "      <th>wealth.how.was founder</th>\n",
       "      <th>wealth.how.was political</th>\n",
       "    </tr>\n",
       "  </thead>\n",
       "  <tbody>\n",
       "    <tr>\n",
       "      <th>748</th>\n",
       "      <td>Kunio Busujima</td>\n",
       "      <td>249</td>\n",
       "      <td>1996</td>\n",
       "      <td>1950.0</td>\n",
       "      <td>Sankyo</td>\n",
       "      <td>Founder</td>\n",
       "      <td>Pachinko Gaming Machines</td>\n",
       "      <td>New</td>\n",
       "      <td>-42.0</td>\n",
       "      <td>Male</td>\n",
       "      <td>...</td>\n",
       "      <td>4710000000000.0</td>\n",
       "      <td>East Asia</td>\n",
       "      <td>Founder Non-Finance</td>\n",
       "      <td>1.6</td>\n",
       "      <td>Non-Traded Sectors</td>\n",
       "      <td>True</td>\n",
       "      <td>Retail, Restaurant</td>\n",
       "      <td>Not Inherited</td>\n",
       "      <td>True</td>\n",
       "      <td>True</td>\n",
       "    </tr>\n",
       "    <tr>\n",
       "      <th>1065</th>\n",
       "      <td>Kenichi Mabuchi</td>\n",
       "      <td>354</td>\n",
       "      <td>1996</td>\n",
       "      <td>1946.0</td>\n",
       "      <td>Mabuchi Motor Company</td>\n",
       "      <td>Founder</td>\n",
       "      <td>Electric Motors</td>\n",
       "      <td>New</td>\n",
       "      <td>-7.0</td>\n",
       "      <td>Male</td>\n",
       "      <td>...</td>\n",
       "      <td>4710000000000.0</td>\n",
       "      <td>East Asia</td>\n",
       "      <td>Founder Non-Finance</td>\n",
       "      <td>1.1</td>\n",
       "      <td>Traded Sectors</td>\n",
       "      <td>True</td>\n",
       "      <td>Non-Consumer Industrial</td>\n",
       "      <td>Not Inherited</td>\n",
       "      <td>True</td>\n",
       "      <td>True</td>\n",
       "    </tr>\n",
       "  </tbody>\n",
       "</table>\n",
       "<p>2 rows × 22 columns</p>\n",
       "</div>"
      ],
      "text/plain": [
       "                 name  rank  year company.founded           company.name  \\\n",
       "748    Kunio Busujima   249  1996          1950.0                 Sankyo   \n",
       "1065  Kenichi Mabuchi   354  1996          1946.0  Mabuchi Motor Company   \n",
       "\n",
       "     company.relationship            company.sector company.type  \\\n",
       "748               Founder  Pachinko Gaming Machines          New   \n",
       "1065              Founder           Electric Motors          New   \n",
       "\n",
       "     demographics.age demographics.gender  ...     location.gdp  \\\n",
       "748             -42.0                Male  ...  4710000000000.0   \n",
       "1065             -7.0                Male  ...  4710000000000.0   \n",
       "\n",
       "     location.region          wealth.type wealth.worth in billions  \\\n",
       "748        East Asia  Founder Non-Finance                      1.6   \n",
       "1065       East Asia  Founder Non-Finance                      1.1   \n",
       "\n",
       "     wealth.how.category  wealth.how.from emerging      wealth.how.industry  \\\n",
       "748   Non-Traded Sectors                      True       Retail, Restaurant   \n",
       "1065      Traded Sectors                      True  Non-Consumer Industrial   \n",
       "\n",
       "      wealth.how.inherited wealth.how.was founder wealth.how.was political  \n",
       "748          Not Inherited                   True                     True  \n",
       "1065         Not Inherited                   True                     True  \n",
       "\n",
       "[2 rows x 22 columns]"
      ]
     },
     "execution_count": 1281,
     "metadata": {},
     "output_type": "execute_result"
    }
   ],
   "source": [
    "df.loc[[748, 1065]]"
   ]
  },
  {
   "cell_type": "code",
   "execution_count": 1282,
   "metadata": {},
   "outputs": [],
   "source": [
    "df.loc[748, ['demographics.age']] = 71\n",
    "df.loc[1065, ['demographics.age']] = 63"
   ]
  }
 ],
 "metadata": {
  "kernelspec": {
   "display_name": "Python 3 (ipykernel)",
   "language": "python",
   "name": "python3"
  },
  "language_info": {
   "codemirror_mode": {
    "name": "ipython",
    "version": 3
   },
   "file_extension": ".py",
   "mimetype": "text/x-python",
   "name": "python",
   "nbconvert_exporter": "python",
   "pygments_lexer": "ipython3",
   "version": "3.10.9"
  }
 },
 "nbformat": 4,
 "nbformat_minor": 4
}
