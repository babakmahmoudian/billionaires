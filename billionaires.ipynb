{
 "cells": [
  {
   "cell_type": "code",
   "execution_count": 5,
   "metadata": {},
   "outputs": [],
   "source": [
    "import numpy as np\n",
    "import pandas as pd\n",
    "import matplotlib.pyplot as plt\n",
    "\n",
    "import re # The RegEx module used for string operations"
   ]
  },
  {
   "cell_type": "code",
   "execution_count": 6,
   "metadata": {},
   "outputs": [],
   "source": [
    "# Some font formatting constants:\n",
    "\n",
    "FONT_BOLD = '\\033[1m'\n",
    "FONT_UNDERLINE = '\\033[4m'\n",
    "FONT_FORMAT_END = '\\033[0m'"
   ]
  },
  {
   "cell_type": "markdown",
   "metadata": {},
   "source": [
    "# Loading and observing the data"
   ]
  },
  {
   "cell_type": "code",
   "execution_count": 7,
   "metadata": {},
   "outputs": [],
   "source": [
    "df = pd.read_csv('./billionaires.csv')"
   ]
  },
  {
   "cell_type": "code",
   "execution_count": 8,
   "metadata": {},
   "outputs": [
    {
     "name": "stdout",
     "output_type": "stream",
     "text": [
      "\n",
      "The dataset consists of \u001b[1m2614 instances\u001b[0m and \u001b[1m22 features\u001b[0m:\n",
      "────────────────────────────────────────────────────────────────────────────────\n",
      "\n"
     ]
    },
    {
     "data": {
      "text/html": [
       "<div>\n",
       "<style scoped>\n",
       "    .dataframe tbody tr th:only-of-type {\n",
       "        vertical-align: middle;\n",
       "    }\n",
       "\n",
       "    .dataframe tbody tr th {\n",
       "        vertical-align: top;\n",
       "    }\n",
       "\n",
       "    .dataframe thead th {\n",
       "        text-align: right;\n",
       "    }\n",
       "</style>\n",
       "<table border=\"1\" class=\"dataframe\">\n",
       "  <thead>\n",
       "    <tr style=\"text-align: right;\">\n",
       "      <th></th>\n",
       "      <th>name</th>\n",
       "      <th>rank</th>\n",
       "      <th>year</th>\n",
       "      <th>company.founded</th>\n",
       "      <th>company.name</th>\n",
       "      <th>company.relationship</th>\n",
       "      <th>company.sector</th>\n",
       "      <th>company.type</th>\n",
       "      <th>demographics.age</th>\n",
       "      <th>demographics.gender</th>\n",
       "      <th>location.citizenship</th>\n",
       "      <th>location.country code</th>\n",
       "      <th>location.gdp</th>\n",
       "      <th>location.region</th>\n",
       "      <th>wealth.type</th>\n",
       "      <th>wealth.worth in billions</th>\n",
       "      <th>wealth.how.category</th>\n",
       "      <th>wealth.how.from emerging</th>\n",
       "      <th>wealth.how.industry</th>\n",
       "      <th>wealth.how.inherited</th>\n",
       "      <th>wealth.how.was founder</th>\n",
       "      <th>wealth.how.was political</th>\n",
       "    </tr>\n",
       "  </thead>\n",
       "  <tbody>\n",
       "    <tr>\n",
       "      <th>1134</th>\n",
       "      <td>Chairul Tanjung</td>\n",
       "      <td>375</td>\n",
       "      <td>2014</td>\n",
       "      <td>1987</td>\n",
       "      <td>Para Group (aka CT Corp)</td>\n",
       "      <td>founder</td>\n",
       "      <td>investment banking</td>\n",
       "      <td>new</td>\n",
       "      <td>51</td>\n",
       "      <td>male</td>\n",
       "      <td>Indonesia</td>\n",
       "      <td>IDN</td>\n",
       "      <td>0.000000e+00</td>\n",
       "      <td>East Asia</td>\n",
       "      <td>privatized and resources</td>\n",
       "      <td>4.0</td>\n",
       "      <td>Financial</td>\n",
       "      <td>True</td>\n",
       "      <td>Diversified financial</td>\n",
       "      <td>not inherited</td>\n",
       "      <td>True</td>\n",
       "      <td>True</td>\n",
       "    </tr>\n",
       "    <tr>\n",
       "      <th>1294</th>\n",
       "      <td>Sydell Miller</td>\n",
       "      <td>421</td>\n",
       "      <td>2001</td>\n",
       "      <td>1980</td>\n",
       "      <td>Matrix</td>\n",
       "      <td>founder</td>\n",
       "      <td>hair care products</td>\n",
       "      <td>new</td>\n",
       "      <td>0</td>\n",
       "      <td>female</td>\n",
       "      <td>United States</td>\n",
       "      <td>USA</td>\n",
       "      <td>1.060000e+13</td>\n",
       "      <td>North America</td>\n",
       "      <td>founder non-finance</td>\n",
       "      <td>1.2</td>\n",
       "      <td>Traded Sectors</td>\n",
       "      <td>True</td>\n",
       "      <td>Consumer</td>\n",
       "      <td>not inherited</td>\n",
       "      <td>True</td>\n",
       "      <td>True</td>\n",
       "    </tr>\n",
       "    <tr>\n",
       "      <th>1974</th>\n",
       "      <td>M.A. Yusuff Ali</td>\n",
       "      <td>988</td>\n",
       "      <td>2014</td>\n",
       "      <td>1973</td>\n",
       "      <td>EMKE Group (Lulu Hypermarket)</td>\n",
       "      <td>relation</td>\n",
       "      <td>groceries</td>\n",
       "      <td>new</td>\n",
       "      <td>58</td>\n",
       "      <td>male</td>\n",
       "      <td>India</td>\n",
       "      <td>IND</td>\n",
       "      <td>0.000000e+00</td>\n",
       "      <td>South Asia</td>\n",
       "      <td>executive</td>\n",
       "      <td>1.8</td>\n",
       "      <td>Non-Traded Sectors</td>\n",
       "      <td>True</td>\n",
       "      <td>Retail, Restaurant</td>\n",
       "      <td>not inherited</td>\n",
       "      <td>True</td>\n",
       "      <td>True</td>\n",
       "    </tr>\n",
       "    <tr>\n",
       "      <th>471</th>\n",
       "      <td>Michele Ferrero</td>\n",
       "      <td>154</td>\n",
       "      <td>1996</td>\n",
       "      <td>1946</td>\n",
       "      <td>Ferrero spa</td>\n",
       "      <td>relation</td>\n",
       "      <td>chocolates</td>\n",
       "      <td>new</td>\n",
       "      <td>69</td>\n",
       "      <td>male</td>\n",
       "      <td>Italy</td>\n",
       "      <td>ITA</td>\n",
       "      <td>1.310000e+12</td>\n",
       "      <td>Europe</td>\n",
       "      <td>executive</td>\n",
       "      <td>2.3</td>\n",
       "      <td>Traded Sectors</td>\n",
       "      <td>True</td>\n",
       "      <td>Consumer</td>\n",
       "      <td>not inherited</td>\n",
       "      <td>True</td>\n",
       "      <td>True</td>\n",
       "    </tr>\n",
       "    <tr>\n",
       "      <th>2258</th>\n",
       "      <td>Bruce Cheng</td>\n",
       "      <td>1284</td>\n",
       "      <td>2014</td>\n",
       "      <td>1971</td>\n",
       "      <td>Delta Electronics</td>\n",
       "      <td>founder</td>\n",
       "      <td>electronics</td>\n",
       "      <td>new</td>\n",
       "      <td>78</td>\n",
       "      <td>male</td>\n",
       "      <td>Taiwan</td>\n",
       "      <td>Taiwan</td>\n",
       "      <td>0.000000e+00</td>\n",
       "      <td>East Asia</td>\n",
       "      <td>founder non-finance</td>\n",
       "      <td>1.3</td>\n",
       "      <td>New Sectors</td>\n",
       "      <td>True</td>\n",
       "      <td>Technology-Computer</td>\n",
       "      <td>not inherited</td>\n",
       "      <td>True</td>\n",
       "      <td>True</td>\n",
       "    </tr>\n",
       "    <tr>\n",
       "      <th>669</th>\n",
       "      <td>Charles Johnson</td>\n",
       "      <td>222</td>\n",
       "      <td>2001</td>\n",
       "      <td>1947</td>\n",
       "      <td>Franklin Resources</td>\n",
       "      <td>relation</td>\n",
       "      <td>mutal funds</td>\n",
       "      <td>new</td>\n",
       "      <td>68</td>\n",
       "      <td>male</td>\n",
       "      <td>United States</td>\n",
       "      <td>USA</td>\n",
       "      <td>1.060000e+13</td>\n",
       "      <td>North America</td>\n",
       "      <td>inherited</td>\n",
       "      <td>2.1</td>\n",
       "      <td>Financial</td>\n",
       "      <td>True</td>\n",
       "      <td>Money Management</td>\n",
       "      <td>father</td>\n",
       "      <td>True</td>\n",
       "      <td>True</td>\n",
       "    </tr>\n",
       "    <tr>\n",
       "      <th>1191</th>\n",
       "      <td>Adolf Merckle</td>\n",
       "      <td>388</td>\n",
       "      <td>1996</td>\n",
       "      <td>1881</td>\n",
       "      <td>Ratiopharm</td>\n",
       "      <td>relation</td>\n",
       "      <td>pharmaceuticals</td>\n",
       "      <td>new</td>\n",
       "      <td>61</td>\n",
       "      <td>male</td>\n",
       "      <td>Germany</td>\n",
       "      <td>DEU</td>\n",
       "      <td>2.500000e+12</td>\n",
       "      <td>Europe</td>\n",
       "      <td>inherited</td>\n",
       "      <td>1.0</td>\n",
       "      <td>New Sectors</td>\n",
       "      <td>True</td>\n",
       "      <td>Technology-Medical</td>\n",
       "      <td>4th generation</td>\n",
       "      <td>True</td>\n",
       "      <td>True</td>\n",
       "    </tr>\n",
       "    <tr>\n",
       "      <th>416</th>\n",
       "      <td>David Koch</td>\n",
       "      <td>138</td>\n",
       "      <td>2001</td>\n",
       "      <td>1940</td>\n",
       "      <td>Koch industries</td>\n",
       "      <td>relation</td>\n",
       "      <td>Oil refining</td>\n",
       "      <td>new</td>\n",
       "      <td>60</td>\n",
       "      <td>male</td>\n",
       "      <td>United States</td>\n",
       "      <td>USA</td>\n",
       "      <td>1.060000e+13</td>\n",
       "      <td>North America</td>\n",
       "      <td>inherited</td>\n",
       "      <td>3.2</td>\n",
       "      <td>Resource Related</td>\n",
       "      <td>True</td>\n",
       "      <td>Energy</td>\n",
       "      <td>father</td>\n",
       "      <td>True</td>\n",
       "      <td>True</td>\n",
       "    </tr>\n",
       "    <tr>\n",
       "      <th>886</th>\n",
       "      <td>Lawrence Flinn Jr</td>\n",
       "      <td>292</td>\n",
       "      <td>2001</td>\n",
       "      <td>1975</td>\n",
       "      <td>UVSG</td>\n",
       "      <td>investor</td>\n",
       "      <td>media</td>\n",
       "      <td>aquired</td>\n",
       "      <td>0</td>\n",
       "      <td>male</td>\n",
       "      <td>United States</td>\n",
       "      <td>USA</td>\n",
       "      <td>1.060000e+13</td>\n",
       "      <td>North America</td>\n",
       "      <td>executive</td>\n",
       "      <td>1.7</td>\n",
       "      <td>Non-Traded Sectors</td>\n",
       "      <td>True</td>\n",
       "      <td>Media</td>\n",
       "      <td>not inherited</td>\n",
       "      <td>True</td>\n",
       "      <td>True</td>\n",
       "    </tr>\n",
       "    <tr>\n",
       "      <th>869</th>\n",
       "      <td>Ayhan Sahenk</td>\n",
       "      <td>288</td>\n",
       "      <td>1996</td>\n",
       "      <td>1951</td>\n",
       "      <td>Dogus Holding</td>\n",
       "      <td>founder</td>\n",
       "      <td>construction</td>\n",
       "      <td>new</td>\n",
       "      <td>0</td>\n",
       "      <td>male</td>\n",
       "      <td>Turkey</td>\n",
       "      <td>TUR</td>\n",
       "      <td>1.810000e+11</td>\n",
       "      <td>Middle East/North Africa</td>\n",
       "      <td>self-made finance</td>\n",
       "      <td>1.4</td>\n",
       "      <td>Financial</td>\n",
       "      <td>True</td>\n",
       "      <td>Money Management</td>\n",
       "      <td>not inherited</td>\n",
       "      <td>True</td>\n",
       "      <td>True</td>\n",
       "    </tr>\n",
       "  </tbody>\n",
       "</table>\n",
       "</div>"
      ],
      "text/plain": [
       "                   name  rank  year  company.founded  \\\n",
       "1134    Chairul Tanjung   375  2014             1987   \n",
       "1294      Sydell Miller   421  2001             1980   \n",
       "1974    M.A. Yusuff Ali   988  2014             1973   \n",
       "471     Michele Ferrero   154  1996             1946   \n",
       "2258        Bruce Cheng  1284  2014             1971   \n",
       "669     Charles Johnson   222  2001             1947   \n",
       "1191      Adolf Merckle   388  1996             1881   \n",
       "416          David Koch   138  2001             1940   \n",
       "886   Lawrence Flinn Jr   292  2001             1975   \n",
       "869        Ayhan Sahenk   288  1996             1951   \n",
       "\n",
       "                       company.name company.relationship      company.sector  \\\n",
       "1134       Para Group (aka CT Corp)              founder  investment banking   \n",
       "1294                         Matrix              founder  hair care products   \n",
       "1974  EMKE Group (Lulu Hypermarket)             relation           groceries   \n",
       "471                     Ferrero spa             relation          chocolates   \n",
       "2258              Delta Electronics              founder         electronics   \n",
       "669              Franklin Resources             relation         mutal funds   \n",
       "1191                     Ratiopharm             relation     pharmaceuticals   \n",
       "416                 Koch industries             relation        Oil refining   \n",
       "886                            UVSG            investor                media   \n",
       "869                   Dogus Holding              founder        construction   \n",
       "\n",
       "     company.type  demographics.age demographics.gender location.citizenship  \\\n",
       "1134          new                51                male            Indonesia   \n",
       "1294          new                 0              female        United States   \n",
       "1974          new                58                male                India   \n",
       "471           new                69                male                Italy   \n",
       "2258          new                78                male               Taiwan   \n",
       "669           new                68                male        United States   \n",
       "1191          new                61                male              Germany   \n",
       "416           new                60                male        United States   \n",
       "886       aquired                 0                male        United States   \n",
       "869           new                 0                male               Turkey   \n",
       "\n",
       "     location.country code  location.gdp           location.region  \\\n",
       "1134                   IDN  0.000000e+00                 East Asia   \n",
       "1294                   USA  1.060000e+13             North America   \n",
       "1974                   IND  0.000000e+00                South Asia   \n",
       "471                    ITA  1.310000e+12                    Europe   \n",
       "2258                Taiwan  0.000000e+00                 East Asia   \n",
       "669                    USA  1.060000e+13             North America   \n",
       "1191                   DEU  2.500000e+12                    Europe   \n",
       "416                    USA  1.060000e+13             North America   \n",
       "886                    USA  1.060000e+13             North America   \n",
       "869                    TUR  1.810000e+11  Middle East/North Africa   \n",
       "\n",
       "                   wealth.type  wealth.worth in billions wealth.how.category  \\\n",
       "1134  privatized and resources                       4.0           Financial   \n",
       "1294       founder non-finance                       1.2      Traded Sectors   \n",
       "1974                 executive                       1.8  Non-Traded Sectors   \n",
       "471                  executive                       2.3      Traded Sectors   \n",
       "2258       founder non-finance                       1.3         New Sectors   \n",
       "669                  inherited                       2.1           Financial   \n",
       "1191                 inherited                       1.0         New Sectors   \n",
       "416                  inherited                       3.2    Resource Related   \n",
       "886                  executive                       1.7  Non-Traded Sectors   \n",
       "869          self-made finance                       1.4           Financial   \n",
       "\n",
       "      wealth.how.from emerging    wealth.how.industry wealth.how.inherited  \\\n",
       "1134                      True  Diversified financial        not inherited   \n",
       "1294                      True               Consumer        not inherited   \n",
       "1974                      True     Retail, Restaurant        not inherited   \n",
       "471                       True               Consumer        not inherited   \n",
       "2258                      True    Technology-Computer        not inherited   \n",
       "669                       True       Money Management               father   \n",
       "1191                      True     Technology-Medical       4th generation   \n",
       "416                       True                 Energy               father   \n",
       "886                       True                  Media        not inherited   \n",
       "869                       True       Money Management        not inherited   \n",
       "\n",
       "      wealth.how.was founder  wealth.how.was political  \n",
       "1134                    True                      True  \n",
       "1294                    True                      True  \n",
       "1974                    True                      True  \n",
       "471                     True                      True  \n",
       "2258                    True                      True  \n",
       "669                     True                      True  \n",
       "1191                    True                      True  \n",
       "416                     True                      True  \n",
       "886                     True                      True  \n",
       "869                     True                      True  "
      ]
     },
     "metadata": {},
     "output_type": "display_data"
    }
   ],
   "source": [
    "print(f\"\\nThe dataset consists of {FONT_BOLD}%d instances{FONT_FORMAT_END} and {FONT_BOLD}%d features{FONT_FORMAT_END}:\\n{'─'*80}\\n\"\n",
    "      %df.shape)\n",
    "\n",
    "# Setting this option enables the presentation of all features instead of omitting the middle ones:\n",
    "from IPython.display import display\n",
    "with pd.option_context('display.max_columns', None):\n",
    "    display(df.sample(10)) # Retrieves random instances from the dataset"
   ]
  },
  {
   "cell_type": "markdown",
   "metadata": {},
   "source": [
    "## Features and their types"
   ]
  },
  {
   "cell_type": "code",
   "execution_count": 9,
   "metadata": {},
   "outputs": [
    {
     "name": "stdout",
     "output_type": "stream",
     "text": [
      "The \u001b[1mstring\u001b[0m and/or \u001b[1mcategorical\u001b[0m features include:\n",
      "────────────────────────────────────────────────────────────────────────────────\n",
      "name                     object\n",
      "company.name             object\n",
      "company.relationship     object\n",
      "company.sector           object\n",
      "company.type             object\n",
      "demographics.gender      object\n",
      "location.citizenship     object\n",
      "location.country code    object\n",
      "location.region          object\n",
      "wealth.type              object\n",
      "wealth.how.category      object\n",
      "wealth.how.industry      object\n",
      "wealth.how.inherited     object\n",
      "dtype: object\n",
      "\n",
      "The \u001b[1mnumerical\u001b[0m features include:\n",
      "────────────────────────────────────────────────────────────────────────────────\n",
      "rank                          int64\n",
      "year                          int64\n",
      "company.founded               int64\n",
      "demographics.age              int64\n",
      "location.gdp                float64\n",
      "wealth.worth in billions    float64\n",
      "dtype: object\n",
      "\n",
      "There are also several \u001b[1mboolean\u001b[0m features, including:\n",
      "────────────────────────────────────────────────────────────────────────────────\n",
      "wealth.how.from emerging    bool\n",
      "wealth.how.was founder      bool\n",
      "wealth.how.was political    bool\n",
      "dtype: object\n",
      "\n"
     ]
    }
   ],
   "source": [
    "print(f\"The {FONT_BOLD}string{FONT_FORMAT_END} and/or {FONT_BOLD}categorical{FONT_FORMAT_END} features include:\\n{'─'*80}\\n{df.select_dtypes(include=['object']).dtypes}\\n\")\n",
    "\n",
    "print(f\"The {FONT_BOLD}numerical{FONT_FORMAT_END} features include:\\n{'─'*80}\\n{df.select_dtypes(include=['int64', 'float64']).dtypes}\\n\")\n",
    "\n",
    "print(f\"There are also several {FONT_BOLD}boolean{FONT_FORMAT_END} features, including:\\n{'─'*80}\\n{df.select_dtypes(include=['bool']).dtypes}\\n\")"
   ]
  },
  {
   "cell_type": "markdown",
   "metadata": {},
   "source": [
    "# Preprocessing\n",
    "This includes all data cleanse measures, including:\n",
    "<ul>\n",
    "    <li>Identification and correction of spelling errors</li>\n",
    "    <li>Making common categories (values in categorical features) consistent</li>\n",
    "    <li>Filling in missing data</li>\n",
    "    <li>Removing duplicates</li>\n",
    "    <li>Inspecting outliers</li>\n",
    "    <li>Casting features to the suitable types according to the data that they contain</li>\n",
    "</ul>"
   ]
  },
  {
   "cell_type": "markdown",
   "metadata": {},
   "source": [
    "# Cleaning up features"
   ]
  },
  {
   "cell_type": "code",
   "execution_count": 10,
   "metadata": {},
   "outputs": [],
   "source": [
    "from difflib import SequenceMatcher\n",
    "\n",
    "# The following function receives two lists of words and maps the similar ones together;\n",
    "# It is used to clean up categorical features by pinpointing the 'almost' similar words and\n",
    "# consequently identifying the spelling errors.\n",
    "def similar(word_list):\n",
    "    for i in range(len(word_list)):\n",
    "        first_word = word_list[i]\n",
    "        if pd.isna(first_word):\n",
    "            continue\n",
    "        print(first_word, '\\n', '-'*30)\n",
    "        res = []\n",
    "        for j in range(i+1, len(word_list)):\n",
    "            second_word = word_list[j]\n",
    "            if pd.isna(second_word):\n",
    "                continue\n",
    "            if SequenceMatcher(None, first_word, second_word).ratio() > .7:\n",
    "                res = res + [second_word]\n",
    "        if len(res) > 0:\n",
    "            print(res, '\\n\\n')"
   ]
  },
  {
   "cell_type": "markdown",
   "metadata": {},
   "source": [
    "## Common touches\n",
    "These refactorings are applicable to all string features and they include:\n",
    "<ul>\n",
    "    <li>Removing trailing and leading spaces from names</li>\n",
    "    <li>Removing all consecutive spaces in the middle of the names</li>\n",
    "    <li>Removing all extra dots</li>\n",
    "    <li>Capitalizing the first letter of each word</li>\n",
    "</ul>"
   ]
  },
  {
   "cell_type": "code",
   "execution_count": 11,
   "metadata": {},
   "outputs": [],
   "source": [
    "for col in df.select_dtypes(include=['object']).columns:\n",
    "    df[col] = df[col].apply(\n",
    "        lambda x: x.strip()\n",
    "                   .replace('..', '.')\n",
    "                   .replace('  ', ' ')\n",
    "                   .title()\n",
    "                  if isinstance(x, str) else x\n",
    "    )"
   ]
  },
  {
   "cell_type": "markdown",
   "metadata": {},
   "source": [
    "## Processing the Boolean features\n",
    "All of these features contain only a single value (True), and as a result, they do not mandate any data cleanse tasks."
   ]
  },
  {
   "cell_type": "markdown",
   "metadata": {},
   "source": [
    "### wealth.how.from emerging"
   ]
  },
  {
   "cell_type": "code",
   "execution_count": 12,
   "metadata": {},
   "outputs": [
    {
     "data": {
      "text/plain": [
       "array([ True])"
      ]
     },
     "execution_count": 12,
     "metadata": {},
     "output_type": "execute_result"
    }
   ],
   "source": [
    "df['wealth.how.from emerging'].unique()"
   ]
  },
  {
   "cell_type": "markdown",
   "metadata": {},
   "source": [
    "### wealth.how.was political"
   ]
  },
  {
   "cell_type": "code",
   "execution_count": 13,
   "metadata": {},
   "outputs": [
    {
     "data": {
      "text/plain": [
       "array([ True])"
      ]
     },
     "execution_count": 13,
     "metadata": {},
     "output_type": "execute_result"
    }
   ],
   "source": [
    "df['wealth.how.was political'].unique()"
   ]
  },
  {
   "cell_type": "markdown",
   "metadata": {},
   "source": [
    "### wealth.how.was founder"
   ]
  },
  {
   "cell_type": "code",
   "execution_count": 14,
   "metadata": {},
   "outputs": [
    {
     "data": {
      "text/plain": [
       "array([ True])"
      ]
     },
     "execution_count": 14,
     "metadata": {},
     "output_type": "execute_result"
    }
   ],
   "source": [
    "df['wealth.how.was founder'].unique()"
   ]
  },
  {
   "cell_type": "markdown",
   "metadata": {},
   "source": [
    "## Processing the categorical features\n",
    "These features generally need the following retouches:\n",
    "<ul>\n",
    "    <li>Correcting the spelling errors and typos</li>\n",
    "    <li>Filling in the missing values (NAs) with 'Unspecified'</li>\n",
    "    <li>Filling in the value '0' with 'Unspecified'</li>\n",
    "    <li>Casting the variable from string (object) to categorical</li>\n",
    "</ul>\n",
    "For some of these variables, one or more of the mentioned tasks might not be necessary."
   ]
  },
  {
   "cell_type": "markdown",
   "metadata": {},
   "source": [
    "### wealth.how.inherited"
   ]
  },
  {
   "cell_type": "code",
   "execution_count": 15,
   "metadata": {},
   "outputs": [
    {
     "data": {
      "text/plain": [
       "Not Inherited               1688\n",
       "Father                       558\n",
       "3Rd Generation               210\n",
       "4Th Generation                68\n",
       "Spouse/Widow                  59\n",
       "5Th Generation Or Longer      31\n",
       "Name: wealth.how.inherited, dtype: int64"
      ]
     },
     "execution_count": 15,
     "metadata": {},
     "output_type": "execute_result"
    }
   ],
   "source": [
    "df['wealth.how.inherited'].value_counts(dropna=False)"
   ]
  },
  {
   "cell_type": "code",
   "execution_count": 16,
   "metadata": {},
   "outputs": [
    {
     "data": {
      "text/plain": [
       "CategoricalDtype(categories=['3Rd Generation', '4Th Generation',\n",
       "                  '5Th Generation Or Longer', 'Father', 'Not Inherited',\n",
       "                  'Spouse/Widow'],\n",
       ", ordered=False)"
      ]
     },
     "execution_count": 16,
     "metadata": {},
     "output_type": "execute_result"
    }
   ],
   "source": [
    "# Casting the feature into categorical type\n",
    "df['wealth.how.inherited'] = df['wealth.how.inherited'].astype('category')\n",
    "\n",
    "df['wealth.how.inherited'].dtype"
   ]
  },
  {
   "cell_type": "markdown",
   "metadata": {},
   "source": [
    "### wealth.how.industry"
   ]
  },
  {
   "cell_type": "code",
   "execution_count": 17,
   "metadata": {},
   "outputs": [
    {
     "data": {
      "text/plain": [
       "Consumer                           471\n",
       "Retail, Restaurant                 281\n",
       "Real Estate                        280\n",
       "Money Management                   249\n",
       "Media                              219\n",
       "Technology-Computer                208\n",
       "Diversified Financial              167\n",
       "Energy                             132\n",
       "Technology-Medical                 111\n",
       "Non-Consumer Industrial            107\n",
       "Constrution                         97\n",
       "Mining And Metals                   90\n",
       "Other                               83\n",
       "Hedge Funds                         67\n",
       "Private Equity/Leveraged Buyout     25\n",
       "0                                   16\n",
       "Venture Capital                      8\n",
       "Banking                              1\n",
       "Services                             1\n",
       "NaN                                  1\n",
       "Name: wealth.how.industry, dtype: int64"
      ]
     },
     "execution_count": 17,
     "metadata": {},
     "output_type": "execute_result"
    }
   ],
   "source": [
    "df['wealth.how.industry'].value_counts(dropna=False)"
   ]
  },
  {
   "cell_type": "code",
   "execution_count": 18,
   "metadata": {},
   "outputs": [
    {
     "data": {
      "text/plain": [
       "CategoricalDtype(categories=['Banking', 'Constrution', 'Consumer',\n",
       "                  'Diversified Financial', 'Energy', 'Hedge Funds', 'Media',\n",
       "                  'Mining And Metals', 'Money Management',\n",
       "                  'Non-Consumer Industrial', 'Other',\n",
       "                  'Private Equity/Leveraged Buyout', 'Real Estate',\n",
       "                  'Retail, Restaurant', 'Services', 'Technology-Computer',\n",
       "                  'Technology-Medical', 'Unspecified', 'Venture Capital'],\n",
       ", ordered=False)"
      ]
     },
     "execution_count": 18,
     "metadata": {},
     "output_type": "execute_result"
    }
   ],
   "source": [
    "# Replacing the value of '0' with 'Unspecified'\n",
    "df['wealth.how.industry'] = df['wealth.how.industry'].replace(\n",
    "    {\n",
    "        '0': 'Unspecified',\n",
    "    }\n",
    ")\n",
    "\n",
    "# Filling Null values with the value 'Unspecified'\n",
    "df['wealth.how.industry'] = df['wealth.how.industry'].fillna('Unspecified')\n",
    "\n",
    "# Casting the feature into categorical type\n",
    "df['wealth.how.industry'] = df['wealth.how.industry'].astype('category')\n",
    "\n",
    "df['wealth.how.industry'].dtype"
   ]
  },
  {
   "cell_type": "markdown",
   "metadata": {},
   "source": [
    "### wealth.how.category"
   ]
  },
  {
   "cell_type": "code",
   "execution_count": 19,
   "metadata": {},
   "outputs": [
    {
     "data": {
      "text/plain": [
       "Financial             800\n",
       "Non-Traded Sectors    597\n",
       "Traded Sectors        564\n",
       "New Sectors           319\n",
       "Resource Related      245\n",
       "0                      85\n",
       "NaN                     1\n",
       "Finance                 1\n",
       "Trucking                1\n",
       "Energy                  1\n",
       "Name: wealth.how.category, dtype: int64"
      ]
     },
     "execution_count": 19,
     "metadata": {},
     "output_type": "execute_result"
    }
   ],
   "source": [
    "df['wealth.how.category'].value_counts(dropna=False)"
   ]
  },
  {
   "cell_type": "code",
   "execution_count": 20,
   "metadata": {},
   "outputs": [
    {
     "data": {
      "text/plain": [
       "CategoricalDtype(categories=['Energy', 'Finance', 'Financial', 'New Sectors',\n",
       "                  'Non-Traded Sectors', 'Resource Related', 'Traded Sectors',\n",
       "                  'Trucking', 'Unspecified'],\n",
       ", ordered=False)"
      ]
     },
     "execution_count": 20,
     "metadata": {},
     "output_type": "execute_result"
    }
   ],
   "source": [
    "# Replacing the value of '0' with 'Unspecified'\n",
    "df['wealth.how.category'] = df['wealth.how.category'].replace(\n",
    "    {\n",
    "        '0': 'Unspecified',\n",
    "    }\n",
    ")\n",
    "\n",
    "# Filling Null values with the value 'Unspecified'\n",
    "df['wealth.how.category'] = df['wealth.how.category'].fillna('Unspecified')\n",
    "\n",
    "# Casting the feature into categorical type\n",
    "df['wealth.how.category'] = df['wealth.how.category'].astype('category')\n",
    "\n",
    "df['wealth.how.category'].dtype"
   ]
  },
  {
   "cell_type": "markdown",
   "metadata": {},
   "source": [
    "### wealth.type"
   ]
  },
  {
   "cell_type": "code",
   "execution_count": 21,
   "metadata": {},
   "outputs": [
    {
     "data": {
      "text/plain": [
       "Inherited                   953\n",
       "Founder Non-Finance         713\n",
       "Self-Made Finance           500\n",
       "Privatized And Resources    236\n",
       "Executive                   190\n",
       "NaN                          22\n",
       "Name: wealth.type, dtype: int64"
      ]
     },
     "execution_count": 21,
     "metadata": {},
     "output_type": "execute_result"
    }
   ],
   "source": [
    "df['wealth.type'].value_counts(dropna=False)"
   ]
  },
  {
   "cell_type": "code",
   "execution_count": 22,
   "metadata": {},
   "outputs": [
    {
     "data": {
      "text/plain": [
       "CategoricalDtype(categories=['Executive', 'Founder Non-Finance', 'Inherited',\n",
       "                  'Privatized And Resources', 'Self-Made Finance',\n",
       "                  'Unspecified'],\n",
       ", ordered=False)"
      ]
     },
     "execution_count": 22,
     "metadata": {},
     "output_type": "execute_result"
    }
   ],
   "source": [
    "# Filling Null values with the value 'Unspecified'\n",
    "df['wealth.type'] = df['wealth.type'].fillna('Unspecified')\n",
    "\n",
    "# Casting the feature into categorical type\n",
    "df['wealth.type'] = df['wealth.type'].astype('category')\n",
    "\n",
    "df['wealth.type'].dtype"
   ]
  },
  {
   "cell_type": "markdown",
   "metadata": {},
   "source": [
    "### location.region"
   ]
  },
  {
   "cell_type": "code",
   "execution_count": 23,
   "metadata": {},
   "outputs": [
    {
     "data": {
      "text/plain": [
       "North America               992\n",
       "Europe                      698\n",
       "East Asia                   535\n",
       "Latin America               182\n",
       "Middle East/North Africa    117\n",
       "South Asia                   69\n",
       "Sub-Saharan Africa           20\n",
       "0                             1\n",
       "Name: location.region, dtype: int64"
      ]
     },
     "execution_count": 23,
     "metadata": {},
     "output_type": "execute_result"
    }
   ],
   "source": [
    "df['location.region'].value_counts(dropna=False)"
   ]
  },
  {
   "cell_type": "code",
   "execution_count": 24,
   "metadata": {},
   "outputs": [
    {
     "data": {
      "text/plain": [
       "CategoricalDtype(categories=['East Asia', 'Europe', 'Latin America',\n",
       "                  'Middle East/North Africa', 'North America', 'South Asia',\n",
       "                  'Sub-Saharan Africa', 'Unspecified'],\n",
       ", ordered=False)"
      ]
     },
     "execution_count": 24,
     "metadata": {},
     "output_type": "execute_result"
    }
   ],
   "source": [
    "df['location.region'] = df['location.region'].replace(\n",
    "    {\n",
    "        '0': 'Unspecified'\n",
    "    }\n",
    ")\n",
    "\n",
    "# Casting the feature into categorical type\n",
    "df['location.region'] = df['location.region'].astype('category')\n",
    "\n",
    "df['location.region'].dtype"
   ]
  },
  {
   "cell_type": "markdown",
   "metadata": {},
   "source": [
    "### location.country code"
   ]
  },
  {
   "cell_type": "code",
   "execution_count": 25,
   "metadata": {},
   "outputs": [
    {
     "data": {
      "text/plain": [
       "Usa    903\n",
       "Deu    160\n",
       "Chn    153\n",
       "Rus    119\n",
       "Jpn     96\n",
       "      ... \n",
       "Bmu      1\n",
       "Swz      1\n",
       "Ago      1\n",
       "Bhr      1\n",
       "Tza      1\n",
       "Name: location.country code, Length: 74, dtype: int64"
      ]
     },
     "execution_count": 25,
     "metadata": {},
     "output_type": "execute_result"
    }
   ],
   "source": [
    "df['location.country code'].value_counts(dropna=False)"
   ]
  },
  {
   "cell_type": "code",
   "execution_count": 26,
   "metadata": {},
   "outputs": [
    {
     "data": {
      "text/plain": [
       "CategoricalDtype(categories=['Ago', 'Are', 'Arg', 'Aus', 'Aut', 'Bel', 'Bhr', 'Bmu',\n",
       "                  'Bra', 'Can', 'Che', 'Chl', 'Chn', 'Col', 'Cyp', 'Cze',\n",
       "                  'Den', 'Deu', 'Dnk', 'Dza', 'Ecu', 'Egy', 'Esp', 'Fin',\n",
       "                  'Fra', 'Gbr', 'Geo', 'Ggy', 'Grc', 'Hkg', 'Idn', 'Ind',\n",
       "                  'Irl', 'Isr', 'Ita', 'Jpn', 'Kaz', 'Kna', 'Kor', 'Kwt',\n",
       "                  'Lbn', 'Lie', 'Ltu', 'Mac', 'Mar', 'Mco', 'Mex', 'Mys',\n",
       "                  'Nga', 'Nld', 'Nor', 'Npl', 'Nzl', 'Omn', 'Per', 'Phl',\n",
       "                  'Pol', 'Prt', 'Rou', 'Rus', 'Sau', 'Sgp', 'Swe', 'Swz',\n",
       "                  'Taiwan', 'Tha', 'Tur', 'Tza', 'Uga', 'Ukr', 'Usa', 'Ven',\n",
       "                  'Vnm', 'Zaf'],\n",
       ", ordered=False)"
      ]
     },
     "execution_count": 26,
     "metadata": {},
     "output_type": "execute_result"
    }
   ],
   "source": [
    "# Casting the feature into categorical type\n",
    "df['location.country code'] = df['location.country code'].astype('category')\n",
    "\n",
    "df['location.country code'].dtype"
   ]
  },
  {
   "cell_type": "markdown",
   "metadata": {},
   "source": [
    "### location.citizenship"
   ]
  },
  {
   "cell_type": "code",
   "execution_count": 27,
   "metadata": {},
   "outputs": [
    {
     "data": {
      "text/plain": [
       "United States    903\n",
       "Germany          160\n",
       "China            153\n",
       "Russia           119\n",
       "Japan             96\n",
       "                ... \n",
       "Bahrain            1\n",
       "Ecuador            1\n",
       "Georgia            1\n",
       "Bermuda            1\n",
       "Tanzania           1\n",
       "Name: location.citizenship, Length: 73, dtype: int64"
      ]
     },
     "execution_count": 27,
     "metadata": {},
     "output_type": "execute_result"
    }
   ],
   "source": [
    "df['location.citizenship'].value_counts(dropna=False)"
   ]
  },
  {
   "cell_type": "code",
   "execution_count": 28,
   "metadata": {
    "tags": []
   },
   "outputs": [
    {
     "data": {
      "text/plain": [
       "CategoricalDtype(categories=['Algeria', 'Angola', 'Argentina', 'Australia', 'Austria',\n",
       "                  'Bahrain', 'Belgium', 'Bermuda', 'Brazil', 'Canada', 'Chile',\n",
       "                  'China', 'Colombia', 'Cyprus', 'Czech Republic', 'Denmark',\n",
       "                  'Ecuador', 'Egypt', 'Finland', 'France', 'Georgia',\n",
       "                  'Germany', 'Greece', 'Guernsey', 'Hong Kong', 'India',\n",
       "                  'Indonesia', 'Ireland', 'Israel', 'Italy', 'Japan',\n",
       "                  'Kazakhstan', 'Kuwait', 'Lebanon', 'Liechtenstein',\n",
       "                  'Lithuania', 'Macau', 'Malaysia', 'Mexico', 'Monaco',\n",
       "                  'Morocco', 'Nepal', 'Netherlands', 'New Zealand', 'Nigeria',\n",
       "                  'Norway', 'Oman', 'Peru', 'Philippines', 'Poland',\n",
       "                  'Portugal', 'Romania', 'Russia', 'Saudi Arabia', 'Singapore',\n",
       "                  'South Africa', 'South Korea', 'Spain',\n",
       "                  'St. Kitts And Nevis', 'Swaziland', 'Sweden', 'Switzerland',\n",
       "                  'Taiwan', 'Tanzania', 'Thailand', 'Turkey', 'Uganda',\n",
       "                  'Ukraine', 'United Arab Emirates', 'United Kingdom',\n",
       "                  'United States', 'Venezuela', 'Vietnam'],\n",
       ", ordered=False)"
      ]
     },
     "execution_count": 28,
     "metadata": {},
     "output_type": "execute_result"
    }
   ],
   "source": [
    "# Casting the feature into categorical type\n",
    "df['location.citizenship'] = df['location.citizenship'].astype('category')\n",
    "\n",
    "df['location.citizenship'].dtype"
   ]
  },
  {
   "cell_type": "markdown",
   "metadata": {},
   "source": [
    "### demographics.gender"
   ]
  },
  {
   "cell_type": "code",
   "execution_count": null,
   "metadata": {},
   "outputs": [],
   "source": [
    "df['demographics.gender'].value_counts()"
   ]
  },
  {
   "cell_type": "code",
   "execution_count": null,
   "metadata": {},
   "outputs": [],
   "source": [
    "df['demographics.gender'].isna().sum()"
   ]
  },
  {
   "cell_type": "code",
   "execution_count": null,
   "metadata": {},
   "outputs": [],
   "source": [
    "df['demographics.gender'] = df['demographics.gender'].fillna('Unspecified')"
   ]
  },
  {
   "cell_type": "markdown",
   "metadata": {},
   "source": [
    "### company.type"
   ]
  },
  {
   "cell_type": "code",
   "execution_count": null,
   "metadata": {},
   "outputs": [],
   "source": [
    "df['company.type'].sort_values().unique()"
   ]
  },
  {
   "cell_type": "code",
   "execution_count": null,
   "metadata": {},
   "outputs": [],
   "source": [
    "df['company.type'] = df['company.type'].replace(\n",
    "    {\n",
    "        'aquired': 'acquired',\n",
    "        'franchise rights': 'franchise',\n",
    "        'neew': 'new',\n",
    "        'new division': 'new',\n",
    "        'new, privitization': 'new/privatized',\n",
    "        'privatization': 'privatized'\n",
    "    }\n",
    ")"
   ]
  },
  {
   "cell_type": "code",
   "execution_count": null,
   "metadata": {},
   "outputs": [],
   "source": [
    "df['company.type'].isna().sum()"
   ]
  },
  {
   "cell_type": "code",
   "execution_count": null,
   "metadata": {},
   "outputs": [],
   "source": [
    "df['company.type'] = df['company.type'].fillna('Unspecified')"
   ]
  },
  {
   "cell_type": "markdown",
   "metadata": {},
   "source": [
    "### company.sector"
   ]
  },
  {
   "cell_type": "code",
   "execution_count": null,
   "metadata": {},
   "outputs": [],
   "source": [
    "df['company.sector'].sort_values().unique()"
   ]
  },
  {
   "cell_type": "code",
   "execution_count": null,
   "metadata": {},
   "outputs": [],
   "source": [
    "\n",
    "df['company.sector'] = df['company.sector'].replace(\n",
    "    {\n",
    "        'Banking': 'banking',\n",
    "        'Communications': 'communications',\n",
    "        'Fashion': 'fashion',\n",
    "        'Finance': 'finance',\n",
    "        'Oil refining': 'oil refining',\n",
    "        'Software': 'software',\n",
    "        'agriculture': 'agricultural',\n",
    "        'agriculteral': 'agricultural',\n",
    "        'aigriculture': 'agricultural',\n",
    "        'airports': 'airport',\n",
    "        'aluminum, oil': 'aluminum/oil',\n",
    "        'aplliances': 'appliances',\n",
    "        'automobile dealers': 'auto dealerships',\n",
    "        'automotive parts': 'auto parts',\n",
    "        'automotive components': 'auto components',\n",
    "        'automotive': 'autos',\n",
    "        'automotives': 'autos',\n",
    "        'bank': 'banking',\n",
    "        'banking and insurance': 'banking/insurance',\n",
    "        'banking, real estate': 'banking/real estate',\n",
    "        'banking and real estate': 'banking/real estate',\n",
    "        'banking, media': 'banking/media',\n",
    "        'banking, oil, aluminum': 'banking/oil/aluminum',\n",
    "        'braking systems': 'brake systems',\n",
    "        'cars, finance': 'cars/finance',\n",
    "        'cigarette': 'cigarettes',\n",
    "        'comodities': 'commodities',\n",
    "        'commodity trading': 'commodities trading',\n",
    "        'construcion': 'construction',\n",
    "        'construction, hotels, gaming': 'construction/hotels/gaming',\n",
    "        'construction, utilities': 'construction/utilities',\n",
    "        'construction,banking': 'construction/banking',\n",
    "        'copper, poultry': 'copper/poultry',\n",
    "        'e-commerce, venture capital': 'e-commerce/venture capital',\n",
    "        'education, language schools': 'education/language schools',\n",
    "        'electonics': 'electronics',\n",
    "        'electonics components': 'electronic components',\n",
    "        'energy, retail, manufacturing': 'energy/retail/manufacturing',\n",
    "        'property, textile manufacturing': 'property/textile manufacturing',\n",
    "        'eyeglasses': 'glasses',\n",
    "        'fertalizers': 'fertilizers',\n",
    "        'fertilizer': 'fertilizers',\n",
    "        'finace': 'finance',\n",
    "        'forestry and mining': 'forestry/mining',\n",
    "        'metals and mining': 'metals/mining',\n",
    "        'gambing': 'gambling',\n",
    "        'media, pipelines': 'media/pipelines',\n",
    "        'gas, petrochemicals': 'gas/petrochemicals',\n",
    "        'internet companies': 'internet company',\n",
    "        'internet provider': 'internet service provider',\n",
    "        'investments': 'investment',\n",
    "        'invetsments': 'investment',\n",
    "        'investments/real estate, sports teams': 'investments/real estate/sports teams',\n",
    "        'iron and steel': 'iron/steel',\n",
    "        'leveraged buyout': 'leveraged buyouts',\n",
    "        'lumber, real estate': 'lumber/real estate',\n",
    "        'manufacturing, real estate, aviation': 'manufacturing/real estate/aviation',\n",
    "        'mining, investments': 'mining/investments',\n",
    "        'mining, steel': 'mining/steel',\n",
    "        'mutal funds': 'mutual funds',\n",
    "        'oil and gas': 'oil/gas',\n",
    "        'oil and natural gas': 'oil/gas',\n",
    "        'oil, railroad, investments': 'oil/railroad/investments',\n",
    "        'oil field services': 'oilfield services',\n",
    "        'petrochemicals and textiles': 'petrochemicals/textiles',\n",
    "        'petrochemicals, textiles': 'petrochemicals/textiles',\n",
    "        'plastic': 'plastics',\n",
    "        'ports, gas': 'ports/gas',\n",
    "        'postal service, beverages': 'postal service/beverages',\n",
    "        'real estate and metals': 'real estate/metals',\n",
    "        'real estate, financial services and computers': 'real estate/financial services/computers',\n",
    "        'real estate, retail': 'real estate/retail',\n",
    "        'restaurant': 'restaurants',\n",
    "        'retail, financial services, real estate': 'retail/financial services/real estate',\n",
    "        'retail, home appliances': 'retail/home appliances',\n",
    "        'rice trading, mining, infrastructure': 'rice trading/mining/infrastructure',\n",
    "        'self storage': 'self-storage',\n",
    "        'stock brokerage': 'stock broker',\n",
    "        'sugar, flour, cement': 'sugar/flour/cement',\n",
    "        'telecom, finance': 'telecom/finance',\n",
    "        'telecom, oil, beer': 'telecom/oil/beer',\n",
    "        'telecomm': 'telecom',\n",
    "        'textiles, industrial goods, media': 'textiles/industrial goods/media',\n",
    "        'timber and paper': 'timber/paper',\n",
    "        'timber, plantations': 'timber/plantations',\n",
    "        'trading company': 'trading',\n",
    "        'truck stop': 'truck stops',\n",
    "        'trucking and logistics': 'trucking/logistics',\n",
    "        'apparel and eyewear': 'apparel/eyewear',\n",
    "        'brokerage/banking': 'broker/banking',\n",
    "        'chocolate and coffee': 'chocolates/coffee',\n",
    "        'electronic componants': 'electronic components',\n",
    "        'elevators, escalators, engineering': 'elevators/escalators/engineering',\n",
    "        'food and energy processess': 'food and energy processes',\n",
    "        'food, entertainment': 'food/entertainment',\n",
    "        'gas and propane': 'gas/propane',\n",
    "        'hospitality and food service': 'hospitality/food service',\n",
    "        'hotels and supermarkets': 'hotels/supermarkets',\n",
    "        'industrial manufacturing and banking': 'industrial manufacturing/banking',\n",
    "        'insurancei, power': 'insurance/power',\n",
    "        'media, exports': 'media/exports',\n",
    "        'metals, paper, cement': 'metals/paper/cement',\n",
    "        'mining, banking': 'mining/banking',\n",
    "        'oleochemicals and palm oil': 'oleochemicals/palm oil',\n",
    "        'palm oil, mining': 'palm oil/mining',\n",
    "        'pet supplies, real estate': 'pet supplies/real estate',\n",
    "        'printing and electronics': 'printing/electronics'\n",
    "    }\n",
    ")"
   ]
  },
  {
   "cell_type": "raw",
   "metadata": {},
   "source": [
    "similar(df[\"company.sector\"].sort_values().unique())"
   ]
  },
  {
   "cell_type": "markdown",
   "metadata": {},
   "source": [
    "### company.relationship"
   ]
  },
  {
   "cell_type": "code",
   "execution_count": null,
   "metadata": {
    "tags": []
   },
   "outputs": [],
   "source": [
    "df['company.relationship'].sort_values().unique()"
   ]
  },
  {
   "cell_type": "code",
   "execution_count": null,
   "metadata": {},
   "outputs": [],
   "source": [
    "similar(df[\"company.relationship\"].sort_values().unique())"
   ]
  },
  {
   "cell_type": "markdown",
   "metadata": {},
   "source": [
    "### name"
   ]
  },
  {
   "cell_type": "markdown",
   "metadata": {},
   "source": [
    "Listing possible inconsistancies where the names are different, but the following features are the same:\n",
    "<ul>\n",
    "    <li>company.founded</li>\n",
    "    <li>company.name</li>\n",
    "    <li>company.relationship</li>\n",
    "    <li>company.sector</li>\n",
    "    <li>company.type</li>\n",
    "    <li>demographics.gender</li>\n",
    "    <li>location.citizenship</li>\n",
    "    <li>location.country code</li>\n",
    "    <li>location.region</li>\n",
    "    <li>wealth.type</li>\n",
    "    <li>wealth.how.category</li>\n",
    "    <li>wealth.how.from emerging</li>\n",
    "    <li>wealth.how.industry</li>\n",
    "    <li>wealth.how.inherited</li>\n",
    "</ul>"
   ]
  },
  {
   "cell_type": "code",
   "execution_count": null,
   "metadata": {
    "execution": {
     "iopub.execute_input": "2022-11-10T10:29:55.947293Z",
     "iopub.status.busy": "2022-11-10T10:29:55.946420Z",
     "iopub.status.idle": "2022-11-10T10:29:55.959434Z",
     "shell.execute_reply": "2022-11-10T10:29:55.957855Z",
     "shell.execute_reply.started": "2022-11-10T10:29:55.947247Z"
    }
   },
   "outputs": [],
   "source": [
    "dup_cols = ['company.founded',\n",
    "            'company.name',\n",
    "            'company.relationship',\n",
    "            'company.sector',\n",
    "            'company.type',\n",
    "            'demographics.gender',\n",
    "            'location.citizenship',\n",
    "            'location.country code',\n",
    "            'location.region',\n",
    "            'wealth.type',\n",
    "            'wealth.how.category',\n",
    "            'wealth.how.from emerging',\n",
    "            'wealth.how.industry',\n",
    "            'wealth.how.inherited']\n",
    "\n",
    "dup_rows = df[df.duplicated(subset=dup_cols)]\n",
    "dup_rows[duprows[]]"
   ]
  },
  {
   "cell_type": "code",
   "execution_count": null,
   "metadata": {
    "execution": {
     "iopub.status.busy": "2022-11-10T10:29:55.961011Z",
     "iopub.status.idle": "2022-11-10T10:29:55.961480Z",
     "shell.execute_reply": "2022-11-10T10:29:55.961269Z",
     "shell.execute_reply.started": "2022-11-10T10:29:55.961245Z"
    }
   },
   "outputs": [],
   "source": [
    "import re\n",
    "\n",
    "df[df['name'].apply(lambda x: (re.search('abraham', x, re.IGNORECASE) is not None))]"
   ]
  },
  {
   "cell_type": "code",
   "execution_count": null,
   "metadata": {
    "execution": {
     "iopub.status.busy": "2022-11-10T10:29:55.963033Z",
     "iopub.status.idle": "2022-11-10T10:29:55.963879Z",
     "shell.execute_reply": "2022-11-10T10:29:55.963674Z",
     "shell.execute_reply.started": "2022-11-10T10:29:55.963650Z"
    }
   },
   "outputs": [],
   "source": [
    "import re\n",
    "\n",
    "df[df['name'].apply(lambda x: (re.search('abraham', x, re.IGNORECASE) is not None))]"
   ]
  }
 ],
 "metadata": {
  "kernelspec": {
   "display_name": "Python 3 (ipykernel)",
   "language": "python",
   "name": "python3"
  },
  "language_info": {
   "codemirror_mode": {
    "name": "ipython",
    "version": 3
   },
   "file_extension": ".py",
   "mimetype": "text/x-python",
   "name": "python",
   "nbconvert_exporter": "python",
   "pygments_lexer": "ipython3",
   "version": "3.10.6"
  }
 },
 "nbformat": 4,
 "nbformat_minor": 4
}
