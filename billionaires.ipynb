{
 "cells": [
  {
   "cell_type": "code",
   "execution_count": 1,
   "metadata": {},
   "outputs": [],
   "source": [
    "import numpy as np\n",
    "import pandas as pd\n",
    "import matplotlib.pyplot as plt\n",
    "\n",
    "import re # The RegEx module used for string operations"
   ]
  },
  {
   "cell_type": "code",
   "execution_count": 2,
   "metadata": {},
   "outputs": [],
   "source": [
    "# Some font formatting constants:\n",
    "\n",
    "FONT_BOLD = '\\033[1m'\n",
    "FONT_UNDERLINE = '\\033[4m'\n",
    "FONT_FORMAT_END = '\\033[0m'"
   ]
  },
  {
   "cell_type": "markdown",
   "metadata": {},
   "source": [
    "# Loading and observing the data"
   ]
  },
  {
   "cell_type": "code",
   "execution_count": 3,
   "metadata": {},
   "outputs": [],
   "source": [
    "df = pd.read_csv('./billionaires.csv')"
   ]
  },
  {
   "cell_type": "code",
   "execution_count": 4,
   "metadata": {},
   "outputs": [
    {
     "name": "stdout",
     "output_type": "stream",
     "text": [
      "\n",
      "The dataset consists of \u001b[1m2614 instances\u001b[0m and \u001b[1m22 features\u001b[0m:\n",
      "────────────────────────────────────────────────────────────────────────────────\n",
      "\n"
     ]
    },
    {
     "data": {
      "text/html": [
       "<div>\n",
       "<style scoped>\n",
       "    .dataframe tbody tr th:only-of-type {\n",
       "        vertical-align: middle;\n",
       "    }\n",
       "\n",
       "    .dataframe tbody tr th {\n",
       "        vertical-align: top;\n",
       "    }\n",
       "\n",
       "    .dataframe thead th {\n",
       "        text-align: right;\n",
       "    }\n",
       "</style>\n",
       "<table border=\"1\" class=\"dataframe\">\n",
       "  <thead>\n",
       "    <tr style=\"text-align: right;\">\n",
       "      <th></th>\n",
       "      <th>name</th>\n",
       "      <th>rank</th>\n",
       "      <th>year</th>\n",
       "      <th>company.founded</th>\n",
       "      <th>company.name</th>\n",
       "      <th>company.relationship</th>\n",
       "      <th>company.sector</th>\n",
       "      <th>company.type</th>\n",
       "      <th>demographics.age</th>\n",
       "      <th>demographics.gender</th>\n",
       "      <th>location.citizenship</th>\n",
       "      <th>location.country code</th>\n",
       "      <th>location.gdp</th>\n",
       "      <th>location.region</th>\n",
       "      <th>wealth.type</th>\n",
       "      <th>wealth.worth in billions</th>\n",
       "      <th>wealth.how.category</th>\n",
       "      <th>wealth.how.from emerging</th>\n",
       "      <th>wealth.how.industry</th>\n",
       "      <th>wealth.how.inherited</th>\n",
       "      <th>wealth.how.was founder</th>\n",
       "      <th>wealth.how.was political</th>\n",
       "    </tr>\n",
       "  </thead>\n",
       "  <tbody>\n",
       "    <tr>\n",
       "      <th>524</th>\n",
       "      <td>Cheng Yu-tung</td>\n",
       "      <td>174</td>\n",
       "      <td>2001</td>\n",
       "      <td>1929</td>\n",
       "      <td>Chow Tai Fook Enterprises</td>\n",
       "      <td>relation</td>\n",
       "      <td>real estate</td>\n",
       "      <td>new</td>\n",
       "      <td>75</td>\n",
       "      <td>male</td>\n",
       "      <td>Hong Kong</td>\n",
       "      <td>HKG</td>\n",
       "      <td>1.690000e+11</td>\n",
       "      <td>East Asia</td>\n",
       "      <td>inherited</td>\n",
       "      <td>2.7</td>\n",
       "      <td>Financial</td>\n",
       "      <td>True</td>\n",
       "      <td>Real Estate</td>\n",
       "      <td>father</td>\n",
       "      <td>True</td>\n",
       "      <td>True</td>\n",
       "    </tr>\n",
       "    <tr>\n",
       "      <th>526</th>\n",
       "      <td>Samuel LeFrak</td>\n",
       "      <td>174</td>\n",
       "      <td>2001</td>\n",
       "      <td>1905</td>\n",
       "      <td>LeFrack</td>\n",
       "      <td>relation</td>\n",
       "      <td>real estate</td>\n",
       "      <td>new</td>\n",
       "      <td>0</td>\n",
       "      <td>male</td>\n",
       "      <td>United States</td>\n",
       "      <td>USA</td>\n",
       "      <td>1.060000e+13</td>\n",
       "      <td>North America</td>\n",
       "      <td>inherited</td>\n",
       "      <td>2.7</td>\n",
       "      <td>Financial</td>\n",
       "      <td>True</td>\n",
       "      <td>Real Estate</td>\n",
       "      <td>3rd generation</td>\n",
       "      <td>True</td>\n",
       "      <td>True</td>\n",
       "    </tr>\n",
       "    <tr>\n",
       "      <th>2510</th>\n",
       "      <td>Deniz Sahenk</td>\n",
       "      <td>1540</td>\n",
       "      <td>2014</td>\n",
       "      <td>1951</td>\n",
       "      <td>Dogus Holding</td>\n",
       "      <td>relation</td>\n",
       "      <td>construction,banking</td>\n",
       "      <td>new</td>\n",
       "      <td>68</td>\n",
       "      <td>female</td>\n",
       "      <td>Turkey</td>\n",
       "      <td>TUR</td>\n",
       "      <td>0.000000e+00</td>\n",
       "      <td>Middle East/North Africa</td>\n",
       "      <td>inherited</td>\n",
       "      <td>1.1</td>\n",
       "      <td>Financial</td>\n",
       "      <td>True</td>\n",
       "      <td>Money Management</td>\n",
       "      <td>spouse/widow</td>\n",
       "      <td>True</td>\n",
       "      <td>True</td>\n",
       "    </tr>\n",
       "    <tr>\n",
       "      <th>2402</th>\n",
       "      <td>Wong Man Li</td>\n",
       "      <td>1372</td>\n",
       "      <td>2014</td>\n",
       "      <td>1992</td>\n",
       "      <td>Man Wah Holdings</td>\n",
       "      <td>founder</td>\n",
       "      <td>furniture</td>\n",
       "      <td>new</td>\n",
       "      <td>49</td>\n",
       "      <td>male</td>\n",
       "      <td>Hong Kong</td>\n",
       "      <td>HKG</td>\n",
       "      <td>0.000000e+00</td>\n",
       "      <td>East Asia</td>\n",
       "      <td>founder non-finance</td>\n",
       "      <td>1.2</td>\n",
       "      <td>Traded Sectors</td>\n",
       "      <td>True</td>\n",
       "      <td>Consumer</td>\n",
       "      <td>not inherited</td>\n",
       "      <td>True</td>\n",
       "      <td>True</td>\n",
       "    </tr>\n",
       "    <tr>\n",
       "      <th>432</th>\n",
       "      <td>Banyong Lamsam</td>\n",
       "      <td>143</td>\n",
       "      <td>1996</td>\n",
       "      <td>1945</td>\n",
       "      <td>Kasikornbank</td>\n",
       "      <td>relation</td>\n",
       "      <td>banking</td>\n",
       "      <td>new</td>\n",
       "      <td>0</td>\n",
       "      <td>male</td>\n",
       "      <td>Thailand</td>\n",
       "      <td>THA</td>\n",
       "      <td>1.820000e+11</td>\n",
       "      <td>East Asia</td>\n",
       "      <td>inherited</td>\n",
       "      <td>2.5</td>\n",
       "      <td>Financial</td>\n",
       "      <td>True</td>\n",
       "      <td>Money Management</td>\n",
       "      <td>not inherited</td>\n",
       "      <td>True</td>\n",
       "      <td>True</td>\n",
       "    </tr>\n",
       "  </tbody>\n",
       "</table>\n",
       "</div>"
      ],
      "text/plain": [
       "                name  rank  year  company.founded               company.name  \\\n",
       "524    Cheng Yu-tung   174  2001             1929  Chow Tai Fook Enterprises   \n",
       "526    Samuel LeFrak   174  2001             1905                   LeFrack    \n",
       "2510    Deniz Sahenk  1540  2014             1951              Dogus Holding   \n",
       "2402     Wong Man Li  1372  2014             1992           Man Wah Holdings   \n",
       "432   Banyong Lamsam   143  1996             1945               Kasikornbank   \n",
       "\n",
       "     company.relationship        company.sector company.type  \\\n",
       "524              relation           real estate          new   \n",
       "526              relation           real estate          new   \n",
       "2510             relation  construction,banking          new   \n",
       "2402              founder             furniture          new   \n",
       "432              relation               banking          new   \n",
       "\n",
       "      demographics.age demographics.gender location.citizenship  \\\n",
       "524                 75                male            Hong Kong   \n",
       "526                  0                male        United States   \n",
       "2510                68              female               Turkey   \n",
       "2402                49                male            Hong Kong   \n",
       "432                  0                male             Thailand   \n",
       "\n",
       "     location.country code  location.gdp           location.region  \\\n",
       "524                    HKG  1.690000e+11                 East Asia   \n",
       "526                    USA  1.060000e+13             North America   \n",
       "2510                   TUR  0.000000e+00  Middle East/North Africa   \n",
       "2402                   HKG  0.000000e+00                 East Asia   \n",
       "432                    THA  1.820000e+11                 East Asia   \n",
       "\n",
       "              wealth.type  wealth.worth in billions wealth.how.category  \\\n",
       "524             inherited                       2.7           Financial   \n",
       "526             inherited                       2.7           Financial   \n",
       "2510            inherited                       1.1           Financial   \n",
       "2402  founder non-finance                       1.2      Traded Sectors   \n",
       "432             inherited                       2.5           Financial   \n",
       "\n",
       "      wealth.how.from emerging wealth.how.industry wealth.how.inherited  \\\n",
       "524                       True         Real Estate               father   \n",
       "526                       True         Real Estate       3rd generation   \n",
       "2510                      True    Money Management         spouse/widow   \n",
       "2402                      True            Consumer        not inherited   \n",
       "432                       True    Money Management        not inherited   \n",
       "\n",
       "      wealth.how.was founder  wealth.how.was political  \n",
       "524                     True                      True  \n",
       "526                     True                      True  \n",
       "2510                    True                      True  \n",
       "2402                    True                      True  \n",
       "432                     True                      True  "
      ]
     },
     "metadata": {},
     "output_type": "display_data"
    }
   ],
   "source": [
    "print(f\"\\nThe dataset consists of {FONT_BOLD}%d instances{FONT_FORMAT_END} and {FONT_BOLD}%d features{FONT_FORMAT_END}:\\n{'─'*80}\\n\"\n",
    "      %df.shape)\n",
    "\n",
    "# Setting this option enables the presentation of all features instead of omitting the middle ones:\n",
    "from IPython.display import display\n",
    "with pd.option_context('display.max_columns', None):\n",
    "    display(df.sample(5)) # Retrieves random instances from the dataset"
   ]
  },
  {
   "cell_type": "markdown",
   "metadata": {},
   "source": [
    "## Features and their types"
   ]
  },
  {
   "cell_type": "code",
   "execution_count": 5,
   "metadata": {},
   "outputs": [
    {
     "name": "stdout",
     "output_type": "stream",
     "text": [
      "The \u001b[1mstring\u001b[0m and/or \u001b[1mcategorical\u001b[0m features include:\n",
      "────────────────────────────────────────────────────────────────────────────────\n",
      "name                     object\n",
      "company.name             object\n",
      "company.relationship     object\n",
      "company.sector           object\n",
      "company.type             object\n",
      "demographics.gender      object\n",
      "location.citizenship     object\n",
      "location.country code    object\n",
      "location.region          object\n",
      "wealth.type              object\n",
      "wealth.how.category      object\n",
      "wealth.how.industry      object\n",
      "wealth.how.inherited     object\n",
      "dtype: object\n",
      "\n",
      "The \u001b[1mnumerical\u001b[0m features include:\n",
      "────────────────────────────────────────────────────────────────────────────────\n",
      "rank                          int64\n",
      "year                          int64\n",
      "company.founded               int64\n",
      "demographics.age              int64\n",
      "location.gdp                float64\n",
      "wealth.worth in billions    float64\n",
      "dtype: object\n",
      "\n",
      "There are also several \u001b[1mboolean\u001b[0m features, including:\n",
      "────────────────────────────────────────────────────────────────────────────────\n",
      "wealth.how.from emerging    bool\n",
      "wealth.how.was founder      bool\n",
      "wealth.how.was political    bool\n",
      "dtype: object\n",
      "\n"
     ]
    }
   ],
   "source": [
    "print(f\"The {FONT_BOLD}string{FONT_FORMAT_END} and/or {FONT_BOLD}categorical{FONT_FORMAT_END} features include:\\n{'─'*80}\\n{df.select_dtypes(include=['object']).dtypes}\\n\")\n",
    "\n",
    "print(f\"The {FONT_BOLD}numerical{FONT_FORMAT_END} features include:\\n{'─'*80}\\n{df.select_dtypes(include=['int64', 'float64']).dtypes}\\n\")\n",
    "\n",
    "print(f\"There are also several {FONT_BOLD}boolean{FONT_FORMAT_END} features, including:\\n{'─'*80}\\n{df.select_dtypes(include=['bool']).dtypes}\\n\")"
   ]
  },
  {
   "cell_type": "markdown",
   "metadata": {},
   "source": [
    "# Preprocessing\n",
    "This includes all data cleanse measures, including:\n",
    "<ul>\n",
    "    <li>Identification and correction of spelling errors</li>\n",
    "    <li>Making common categories (values in categorical features) consistent</li>\n",
    "    <li>Filling in missing data</li>\n",
    "    <li>Removing duplicates</li>\n",
    "    <li>Inspecting outliers</li>\n",
    "    <li>Casting features to the suitable types according to the data that they contain</li>\n",
    "</ul>"
   ]
  },
  {
   "cell_type": "markdown",
   "metadata": {},
   "source": [
    "# Cleaning up features"
   ]
  },
  {
   "cell_type": "code",
   "execution_count": 6,
   "metadata": {},
   "outputs": [],
   "source": [
    "from difflib import SequenceMatcher\n",
    "\n",
    "# The following function receives two lists of words and maps the similar ones together;\n",
    "# It is used to clean up categorical features by pinpointing the 'almost' similar words and\n",
    "# consequently identifying the spelling errors.\n",
    "def similar(word_list):\n",
    "    for i in range(len(word_list)):\n",
    "        first_word = word_list[i]\n",
    "        if pd.isna(first_word):\n",
    "            continue\n",
    "        print(first_word, '\\n', '-'*30)\n",
    "        res = []\n",
    "        for j in range(i+1, len(word_list)):\n",
    "            second_word = word_list[j]\n",
    "            if pd.isna(second_word):\n",
    "                continue\n",
    "            if SequenceMatcher(None, first_word, second_word).ratio() > .7:\n",
    "                res = res + [second_word]\n",
    "        if len(res) > 0:\n",
    "            print(res, '\\n\\n')"
   ]
  },
  {
   "cell_type": "markdown",
   "metadata": {},
   "source": [
    "## Common touches\n",
    "These refactorings are applicable to all string features and they include:\n",
    "<ul>\n",
    "    <li>Removing trailing and leading spaces from names</li>\n",
    "    <li>Removing all consecutive spaces in the middle of the names</li>\n",
    "    <li>Removing all extra dots</li>\n",
    "    <li>Capitalizing the first letter of each word</li>\n",
    "</ul>"
   ]
  },
  {
   "cell_type": "code",
   "execution_count": 7,
   "metadata": {},
   "outputs": [],
   "source": [
    "for col in df.select_dtypes(include=['object']).columns:\n",
    "    df[col] = df[col].apply(\n",
    "        lambda x: x.strip()\n",
    "                   .replace('..', '.')\n",
    "                   .replace('  ', ' ')\n",
    "                   .title()\n",
    "                  if isinstance(x, str) else x\n",
    "    )"
   ]
  },
  {
   "cell_type": "markdown",
   "metadata": {},
   "source": [
    "## Processing the Boolean features\n",
    "All of these features contain only a single value (True), and as a result, they do not mandate any data cleanse tasks."
   ]
  },
  {
   "cell_type": "markdown",
   "metadata": {},
   "source": [
    "### wealth.how.from emerging"
   ]
  },
  {
   "cell_type": "code",
   "execution_count": 8,
   "metadata": {},
   "outputs": [
    {
     "data": {
      "text/plain": [
       "array([ True])"
      ]
     },
     "execution_count": 8,
     "metadata": {},
     "output_type": "execute_result"
    }
   ],
   "source": [
    "df['wealth.how.from emerging'].unique()"
   ]
  },
  {
   "cell_type": "markdown",
   "metadata": {},
   "source": [
    "### wealth.how.was political"
   ]
  },
  {
   "cell_type": "code",
   "execution_count": 9,
   "metadata": {},
   "outputs": [
    {
     "data": {
      "text/plain": [
       "array([ True])"
      ]
     },
     "execution_count": 9,
     "metadata": {},
     "output_type": "execute_result"
    }
   ],
   "source": [
    "df['wealth.how.was political'].unique()"
   ]
  },
  {
   "cell_type": "markdown",
   "metadata": {},
   "source": [
    "### wealth.how.was founder"
   ]
  },
  {
   "cell_type": "code",
   "execution_count": 10,
   "metadata": {},
   "outputs": [
    {
     "data": {
      "text/plain": [
       "array([ True])"
      ]
     },
     "execution_count": 10,
     "metadata": {},
     "output_type": "execute_result"
    }
   ],
   "source": [
    "df['wealth.how.was founder'].unique()"
   ]
  },
  {
   "cell_type": "markdown",
   "metadata": {},
   "source": [
    "## Processing the categorical features\n",
    "These features generally need the following retouches:\n",
    "<ul>\n",
    "    <li>Correcting the spelling errors and typos</li>\n",
    "    <li>Filling in the missing values (NAs) with 'Unspecified'</li>\n",
    "    <li>Filling in the value '0' with 'Unspecified'</li>\n",
    "    <li>Casting the variable from string (object) to categorical</li>\n",
    "</ul>\n",
    "For some of these variables, one or more of the mentioned tasks might not be necessary."
   ]
  },
  {
   "cell_type": "markdown",
   "metadata": {},
   "source": [
    "### wealth.how.inherited"
   ]
  },
  {
   "cell_type": "code",
   "execution_count": 11,
   "metadata": {},
   "outputs": [
    {
     "data": {
      "text/plain": [
       "Not Inherited               1688\n",
       "Father                       558\n",
       "3Rd Generation               210\n",
       "4Th Generation                68\n",
       "Spouse/Widow                  59\n",
       "5Th Generation Or Longer      31\n",
       "Name: wealth.how.inherited, dtype: int64"
      ]
     },
     "execution_count": 11,
     "metadata": {},
     "output_type": "execute_result"
    }
   ],
   "source": [
    "df['wealth.how.inherited'].value_counts(dropna=False)"
   ]
  },
  {
   "cell_type": "code",
   "execution_count": 12,
   "metadata": {},
   "outputs": [
    {
     "data": {
      "text/plain": [
       "CategoricalDtype(categories=['3Rd Generation', '4Th Generation',\n",
       "                  '5Th Generation Or Longer', 'Father', 'Not Inherited',\n",
       "                  'Spouse/Widow'],\n",
       ", ordered=False)"
      ]
     },
     "execution_count": 12,
     "metadata": {},
     "output_type": "execute_result"
    }
   ],
   "source": [
    "# Casting the feature into categorical type\n",
    "df['wealth.how.inherited'] = df['wealth.how.inherited'].astype('category')\n",
    "\n",
    "df['wealth.how.inherited'].dtype"
   ]
  },
  {
   "cell_type": "markdown",
   "metadata": {},
   "source": [
    "### wealth.how.industry"
   ]
  },
  {
   "cell_type": "code",
   "execution_count": 13,
   "metadata": {},
   "outputs": [
    {
     "data": {
      "text/plain": [
       "Consumer                           471\n",
       "Retail, Restaurant                 281\n",
       "Real Estate                        280\n",
       "Money Management                   249\n",
       "Media                              219\n",
       "Technology-Computer                208\n",
       "Diversified Financial              167\n",
       "Energy                             132\n",
       "Technology-Medical                 111\n",
       "Non-Consumer Industrial            107\n",
       "Constrution                         97\n",
       "Mining And Metals                   90\n",
       "Other                               83\n",
       "Hedge Funds                         67\n",
       "Private Equity/Leveraged Buyout     25\n",
       "0                                   16\n",
       "Venture Capital                      8\n",
       "Banking                              1\n",
       "Services                             1\n",
       "NaN                                  1\n",
       "Name: wealth.how.industry, dtype: int64"
      ]
     },
     "execution_count": 13,
     "metadata": {},
     "output_type": "execute_result"
    }
   ],
   "source": [
    "df['wealth.how.industry'].value_counts(dropna=False)"
   ]
  },
  {
   "cell_type": "code",
   "execution_count": 14,
   "metadata": {},
   "outputs": [
    {
     "data": {
      "text/plain": [
       "CategoricalDtype(categories=['Banking', 'Constrution', 'Consumer',\n",
       "                  'Diversified Financial', 'Energy', 'Hedge Funds', 'Media',\n",
       "                  'Mining And Metals', 'Money Management',\n",
       "                  'Non-Consumer Industrial', 'Other',\n",
       "                  'Private Equity/Leveraged Buyout', 'Real Estate',\n",
       "                  'Retail, Restaurant', 'Services', 'Technology-Computer',\n",
       "                  'Technology-Medical', 'Unspecified', 'Venture Capital'],\n",
       ", ordered=False)"
      ]
     },
     "execution_count": 14,
     "metadata": {},
     "output_type": "execute_result"
    }
   ],
   "source": [
    "# Replacing the value of '0' with 'Unspecified'\n",
    "df['wealth.how.industry'] = df['wealth.how.industry'].replace(\n",
    "    {\n",
    "        '0': 'Unspecified',\n",
    "    }\n",
    ")\n",
    "\n",
    "# Filling Null values with the value 'Unspecified'\n",
    "df['wealth.how.industry'] = df['wealth.how.industry'].fillna('Unspecified')\n",
    "\n",
    "# Casting the feature into categorical type\n",
    "df['wealth.how.industry'] = df['wealth.how.industry'].astype('category')\n",
    "\n",
    "df['wealth.how.industry'].dtype"
   ]
  },
  {
   "cell_type": "markdown",
   "metadata": {},
   "source": [
    "### wealth.how.category"
   ]
  },
  {
   "cell_type": "code",
   "execution_count": 15,
   "metadata": {},
   "outputs": [
    {
     "data": {
      "text/plain": [
       "Financial             800\n",
       "Non-Traded Sectors    597\n",
       "Traded Sectors        564\n",
       "New Sectors           319\n",
       "Resource Related      245\n",
       "0                      85\n",
       "NaN                     1\n",
       "Finance                 1\n",
       "Trucking                1\n",
       "Energy                  1\n",
       "Name: wealth.how.category, dtype: int64"
      ]
     },
     "execution_count": 15,
     "metadata": {},
     "output_type": "execute_result"
    }
   ],
   "source": [
    "df['wealth.how.category'].value_counts(dropna=False)"
   ]
  },
  {
   "cell_type": "code",
   "execution_count": 16,
   "metadata": {},
   "outputs": [
    {
     "data": {
      "text/plain": [
       "CategoricalDtype(categories=['Energy', 'Finance', 'Financial', 'New Sectors',\n",
       "                  'Non-Traded Sectors', 'Resource Related', 'Traded Sectors',\n",
       "                  'Trucking', 'Unspecified'],\n",
       ", ordered=False)"
      ]
     },
     "execution_count": 16,
     "metadata": {},
     "output_type": "execute_result"
    }
   ],
   "source": [
    "# Replacing the value of '0' with 'Unspecified'\n",
    "df['wealth.how.category'] = df['wealth.how.category'].replace(\n",
    "    {\n",
    "        '0': 'Unspecified',\n",
    "    }\n",
    ")\n",
    "\n",
    "# Filling Null values with the value 'Unspecified'\n",
    "df['wealth.how.category'] = df['wealth.how.category'].fillna('Unspecified')\n",
    "\n",
    "# Casting the feature into categorical type\n",
    "df['wealth.how.category'] = df['wealth.how.category'].astype('category')\n",
    "\n",
    "df['wealth.how.category'].dtype"
   ]
  },
  {
   "cell_type": "markdown",
   "metadata": {},
   "source": [
    "### wealth.type"
   ]
  },
  {
   "cell_type": "code",
   "execution_count": 17,
   "metadata": {},
   "outputs": [
    {
     "data": {
      "text/plain": [
       "Inherited                   953\n",
       "Founder Non-Finance         713\n",
       "Self-Made Finance           500\n",
       "Privatized And Resources    236\n",
       "Executive                   190\n",
       "NaN                          22\n",
       "Name: wealth.type, dtype: int64"
      ]
     },
     "execution_count": 17,
     "metadata": {},
     "output_type": "execute_result"
    }
   ],
   "source": [
    "df['wealth.type'].value_counts(dropna=False)"
   ]
  },
  {
   "cell_type": "code",
   "execution_count": 18,
   "metadata": {},
   "outputs": [
    {
     "data": {
      "text/plain": [
       "CategoricalDtype(categories=['Executive', 'Founder Non-Finance', 'Inherited',\n",
       "                  'Privatized And Resources', 'Self-Made Finance',\n",
       "                  'Unspecified'],\n",
       ", ordered=False)"
      ]
     },
     "execution_count": 18,
     "metadata": {},
     "output_type": "execute_result"
    }
   ],
   "source": [
    "# Filling Null values with the value 'Unspecified'\n",
    "df['wealth.type'] = df['wealth.type'].fillna('Unspecified')\n",
    "\n",
    "# Casting the feature into categorical type\n",
    "df['wealth.type'] = df['wealth.type'].astype('category')\n",
    "\n",
    "df['wealth.type'].dtype"
   ]
  },
  {
   "cell_type": "markdown",
   "metadata": {},
   "source": [
    "### location.region"
   ]
  },
  {
   "cell_type": "code",
   "execution_count": 19,
   "metadata": {},
   "outputs": [
    {
     "data": {
      "text/plain": [
       "North America               992\n",
       "Europe                      698\n",
       "East Asia                   535\n",
       "Latin America               182\n",
       "Middle East/North Africa    117\n",
       "South Asia                   69\n",
       "Sub-Saharan Africa           20\n",
       "0                             1\n",
       "Name: location.region, dtype: int64"
      ]
     },
     "execution_count": 19,
     "metadata": {},
     "output_type": "execute_result"
    }
   ],
   "source": [
    "df['location.region'].value_counts(dropna=False)"
   ]
  },
  {
   "cell_type": "code",
   "execution_count": 20,
   "metadata": {},
   "outputs": [
    {
     "data": {
      "text/plain": [
       "CategoricalDtype(categories=['East Asia', 'Europe', 'Latin America',\n",
       "                  'Middle East/North Africa', 'North America', 'South Asia',\n",
       "                  'Sub-Saharan Africa', 'Unspecified'],\n",
       ", ordered=False)"
      ]
     },
     "execution_count": 20,
     "metadata": {},
     "output_type": "execute_result"
    }
   ],
   "source": [
    "df['location.region'] = df['location.region'].replace(\n",
    "    {\n",
    "        '0': 'Unspecified'\n",
    "    }\n",
    ")\n",
    "\n",
    "# Casting the feature into categorical type\n",
    "df['location.region'] = df['location.region'].astype('category')\n",
    "\n",
    "df['location.region'].dtype"
   ]
  },
  {
   "cell_type": "markdown",
   "metadata": {},
   "source": [
    "### location.country code"
   ]
  },
  {
   "cell_type": "code",
   "execution_count": 21,
   "metadata": {},
   "outputs": [
    {
     "data": {
      "text/plain": [
       "Usa    903\n",
       "Deu    160\n",
       "Chn    153\n",
       "Rus    119\n",
       "Jpn     96\n",
       "      ... \n",
       "Bmu      1\n",
       "Swz      1\n",
       "Ago      1\n",
       "Bhr      1\n",
       "Tza      1\n",
       "Name: location.country code, Length: 74, dtype: int64"
      ]
     },
     "execution_count": 21,
     "metadata": {},
     "output_type": "execute_result"
    }
   ],
   "source": [
    "df['location.country code'].value_counts(dropna=False)"
   ]
  },
  {
   "cell_type": "code",
   "execution_count": 22,
   "metadata": {},
   "outputs": [
    {
     "data": {
      "text/plain": [
       "CategoricalDtype(categories=['Ago', 'Are', 'Arg', 'Aus', 'Aut', 'Bel', 'Bhr', 'Bmu',\n",
       "                  'Bra', 'Can', 'Che', 'Chl', 'Chn', 'Col', 'Cyp', 'Cze',\n",
       "                  'Den', 'Deu', 'Dnk', 'Dza', 'Ecu', 'Egy', 'Esp', 'Fin',\n",
       "                  'Fra', 'Gbr', 'Geo', 'Ggy', 'Grc', 'Hkg', 'Idn', 'Ind',\n",
       "                  'Irl', 'Isr', 'Ita', 'Jpn', 'Kaz', 'Kna', 'Kor', 'Kwt',\n",
       "                  'Lbn', 'Lie', 'Ltu', 'Mac', 'Mar', 'Mco', 'Mex', 'Mys',\n",
       "                  'Nga', 'Nld', 'Nor', 'Npl', 'Nzl', 'Omn', 'Per', 'Phl',\n",
       "                  'Pol', 'Prt', 'Rou', 'Rus', 'Sau', 'Sgp', 'Swe', 'Swz',\n",
       "                  'Taiwan', 'Tha', 'Tur', 'Tza', 'Uga', 'Ukr', 'Usa', 'Ven',\n",
       "                  'Vnm', 'Zaf'],\n",
       ", ordered=False)"
      ]
     },
     "execution_count": 22,
     "metadata": {},
     "output_type": "execute_result"
    }
   ],
   "source": [
    "# Casting the feature into categorical type\n",
    "df['location.country code'] = df['location.country code'].astype('category')\n",
    "\n",
    "df['location.country code'].dtype"
   ]
  },
  {
   "cell_type": "markdown",
   "metadata": {},
   "source": [
    "### location.citizenship"
   ]
  },
  {
   "cell_type": "code",
   "execution_count": 23,
   "metadata": {},
   "outputs": [
    {
     "data": {
      "text/plain": [
       "United States    903\n",
       "Germany          160\n",
       "China            153\n",
       "Russia           119\n",
       "Japan             96\n",
       "                ... \n",
       "Bahrain            1\n",
       "Ecuador            1\n",
       "Georgia            1\n",
       "Bermuda            1\n",
       "Tanzania           1\n",
       "Name: location.citizenship, Length: 73, dtype: int64"
      ]
     },
     "execution_count": 23,
     "metadata": {},
     "output_type": "execute_result"
    }
   ],
   "source": [
    "df['location.citizenship'].value_counts(dropna=False)"
   ]
  },
  {
   "cell_type": "code",
   "execution_count": 24,
   "metadata": {
    "tags": []
   },
   "outputs": [
    {
     "data": {
      "text/plain": [
       "CategoricalDtype(categories=['Algeria', 'Angola', 'Argentina', 'Australia', 'Austria',\n",
       "                  'Bahrain', 'Belgium', 'Bermuda', 'Brazil', 'Canada', 'Chile',\n",
       "                  'China', 'Colombia', 'Cyprus', 'Czech Republic', 'Denmark',\n",
       "                  'Ecuador', 'Egypt', 'Finland', 'France', 'Georgia',\n",
       "                  'Germany', 'Greece', 'Guernsey', 'Hong Kong', 'India',\n",
       "                  'Indonesia', 'Ireland', 'Israel', 'Italy', 'Japan',\n",
       "                  'Kazakhstan', 'Kuwait', 'Lebanon', 'Liechtenstein',\n",
       "                  'Lithuania', 'Macau', 'Malaysia', 'Mexico', 'Monaco',\n",
       "                  'Morocco', 'Nepal', 'Netherlands', 'New Zealand', 'Nigeria',\n",
       "                  'Norway', 'Oman', 'Peru', 'Philippines', 'Poland',\n",
       "                  'Portugal', 'Romania', 'Russia', 'Saudi Arabia', 'Singapore',\n",
       "                  'South Africa', 'South Korea', 'Spain',\n",
       "                  'St. Kitts And Nevis', 'Swaziland', 'Sweden', 'Switzerland',\n",
       "                  'Taiwan', 'Tanzania', 'Thailand', 'Turkey', 'Uganda',\n",
       "                  'Ukraine', 'United Arab Emirates', 'United Kingdom',\n",
       "                  'United States', 'Venezuela', 'Vietnam'],\n",
       ", ordered=False)"
      ]
     },
     "execution_count": 24,
     "metadata": {},
     "output_type": "execute_result"
    }
   ],
   "source": [
    "# Casting the feature into categorical type\n",
    "df['location.citizenship'] = df['location.citizenship'].astype('category')\n",
    "\n",
    "df['location.citizenship'].dtype"
   ]
  },
  {
   "cell_type": "markdown",
   "metadata": {},
   "source": [
    "### demographics.gender"
   ]
  },
  {
   "cell_type": "code",
   "execution_count": 25,
   "metadata": {},
   "outputs": [
    {
     "data": {
      "text/plain": [
       "Male              2328\n",
       "Female             249\n",
       "NaN                 34\n",
       "Married Couple       3\n",
       "Name: demographics.gender, dtype: int64"
      ]
     },
     "execution_count": 25,
     "metadata": {},
     "output_type": "execute_result"
    }
   ],
   "source": [
    "df['demographics.gender'].value_counts(dropna=False)"
   ]
  },
  {
   "cell_type": "code",
   "execution_count": 26,
   "metadata": {},
   "outputs": [
    {
     "data": {
      "text/plain": [
       "CategoricalDtype(categories=['Female', 'Male', 'Married Couple', 'Unspecified'], ordered=False)"
      ]
     },
     "execution_count": 26,
     "metadata": {},
     "output_type": "execute_result"
    }
   ],
   "source": [
    "# Filling Null values with the value 'Unspecified'\n",
    "df['demographics.gender'] = df['demographics.gender'].fillna('Unspecified')\n",
    "\n",
    "# Casting the feature into categorical type\n",
    "df['demographics.gender'] = df['demographics.gender'].astype('category')\n",
    "\n",
    "df['demographics.gender'].dtype"
   ]
  },
  {
   "cell_type": "markdown",
   "metadata": {},
   "source": [
    "### company.type"
   ]
  },
  {
   "cell_type": "code",
   "execution_count": null,
   "metadata": {},
   "outputs": [],
   "source": [
    "df['company.type'].sort_values().unique()"
   ]
  },
  {
   "cell_type": "code",
   "execution_count": null,
   "metadata": {},
   "outputs": [],
   "source": [
    "df['company.type'] = df['company.type'].replace(\n",
    "    {\n",
    "        'aquired': 'acquired',\n",
    "        'franchise rights': 'franchise',\n",
    "        'neew': 'new',\n",
    "        'new division': 'new',\n",
    "        'new, privitization': 'new/privatized',\n",
    "        'privatization': 'privatized'\n",
    "    }\n",
    ")"
   ]
  },
  {
   "cell_type": "code",
   "execution_count": null,
   "metadata": {},
   "outputs": [],
   "source": [
    "df['company.type'].isna().sum()"
   ]
  },
  {
   "cell_type": "code",
   "execution_count": null,
   "metadata": {},
   "outputs": [],
   "source": [
    "df['company.type'] = df['company.type'].fillna('Unspecified')"
   ]
  },
  {
   "cell_type": "markdown",
   "metadata": {},
   "source": [
    "### company.sector"
   ]
  },
  {
   "cell_type": "code",
   "execution_count": null,
   "metadata": {},
   "outputs": [],
   "source": [
    "df['company.sector'].sort_values().unique()"
   ]
  },
  {
   "cell_type": "code",
   "execution_count": null,
   "metadata": {},
   "outputs": [],
   "source": [
    "\n",
    "df['company.sector'] = df['company.sector'].replace(\n",
    "    {\n",
    "        'Banking': 'banking',\n",
    "        'Communications': 'communications',\n",
    "        'Fashion': 'fashion',\n",
    "        'Finance': 'finance',\n",
    "        'Oil refining': 'oil refining',\n",
    "        'Software': 'software',\n",
    "        'agriculture': 'agricultural',\n",
    "        'agriculteral': 'agricultural',\n",
    "        'aigriculture': 'agricultural',\n",
    "        'airports': 'airport',\n",
    "        'aluminum, oil': 'aluminum/oil',\n",
    "        'aplliances': 'appliances',\n",
    "        'automobile dealers': 'auto dealerships',\n",
    "        'automotive parts': 'auto parts',\n",
    "        'automotive components': 'auto components',\n",
    "        'automotive': 'autos',\n",
    "        'automotives': 'autos',\n",
    "        'bank': 'banking',\n",
    "        'banking and insurance': 'banking/insurance',\n",
    "        'banking, real estate': 'banking/real estate',\n",
    "        'banking and real estate': 'banking/real estate',\n",
    "        'banking, media': 'banking/media',\n",
    "        'banking, oil, aluminum': 'banking/oil/aluminum',\n",
    "        'braking systems': 'brake systems',\n",
    "        'cars, finance': 'cars/finance',\n",
    "        'cigarette': 'cigarettes',\n",
    "        'comodities': 'commodities',\n",
    "        'commodity trading': 'commodities trading',\n",
    "        'construcion': 'construction',\n",
    "        'construction, hotels, gaming': 'construction/hotels/gaming',\n",
    "        'construction, utilities': 'construction/utilities',\n",
    "        'construction,banking': 'construction/banking',\n",
    "        'copper, poultry': 'copper/poultry',\n",
    "        'e-commerce, venture capital': 'e-commerce/venture capital',\n",
    "        'education, language schools': 'education/language schools',\n",
    "        'electonics': 'electronics',\n",
    "        'electonics components': 'electronic components',\n",
    "        'energy, retail, manufacturing': 'energy/retail/manufacturing',\n",
    "        'property, textile manufacturing': 'property/textile manufacturing',\n",
    "        'eyeglasses': 'glasses',\n",
    "        'fertalizers': 'fertilizers',\n",
    "        'fertilizer': 'fertilizers',\n",
    "        'finace': 'finance',\n",
    "        'forestry and mining': 'forestry/mining',\n",
    "        'metals and mining': 'metals/mining',\n",
    "        'gambing': 'gambling',\n",
    "        'media, pipelines': 'media/pipelines',\n",
    "        'gas, petrochemicals': 'gas/petrochemicals',\n",
    "        'internet companies': 'internet company',\n",
    "        'internet provider': 'internet service provider',\n",
    "        'investments': 'investment',\n",
    "        'invetsments': 'investment',\n",
    "        'investments/real estate, sports teams': 'investments/real estate/sports teams',\n",
    "        'iron and steel': 'iron/steel',\n",
    "        'leveraged buyout': 'leveraged buyouts',\n",
    "        'lumber, real estate': 'lumber/real estate',\n",
    "        'manufacturing, real estate, aviation': 'manufacturing/real estate/aviation',\n",
    "        'mining, investments': 'mining/investments',\n",
    "        'mining, steel': 'mining/steel',\n",
    "        'mutal funds': 'mutual funds',\n",
    "        'oil and gas': 'oil/gas',\n",
    "        'oil and natural gas': 'oil/gas',\n",
    "        'oil, railroad, investments': 'oil/railroad/investments',\n",
    "        'oil field services': 'oilfield services',\n",
    "        'petrochemicals and textiles': 'petrochemicals/textiles',\n",
    "        'petrochemicals, textiles': 'petrochemicals/textiles',\n",
    "        'plastic': 'plastics',\n",
    "        'ports, gas': 'ports/gas',\n",
    "        'postal service, beverages': 'postal service/beverages',\n",
    "        'real estate and metals': 'real estate/metals',\n",
    "        'real estate, financial services and computers': 'real estate/financial services/computers',\n",
    "        'real estate, retail': 'real estate/retail',\n",
    "        'restaurant': 'restaurants',\n",
    "        'retail, financial services, real estate': 'retail/financial services/real estate',\n",
    "        'retail, home appliances': 'retail/home appliances',\n",
    "        'rice trading, mining, infrastructure': 'rice trading/mining/infrastructure',\n",
    "        'self storage': 'self-storage',\n",
    "        'stock brokerage': 'stock broker',\n",
    "        'sugar, flour, cement': 'sugar/flour/cement',\n",
    "        'telecom, finance': 'telecom/finance',\n",
    "        'telecom, oil, beer': 'telecom/oil/beer',\n",
    "        'telecomm': 'telecom',\n",
    "        'textiles, industrial goods, media': 'textiles/industrial goods/media',\n",
    "        'timber and paper': 'timber/paper',\n",
    "        'timber, plantations': 'timber/plantations',\n",
    "        'trading company': 'trading',\n",
    "        'truck stop': 'truck stops',\n",
    "        'trucking and logistics': 'trucking/logistics',\n",
    "        'apparel and eyewear': 'apparel/eyewear',\n",
    "        'brokerage/banking': 'broker/banking',\n",
    "        'chocolate and coffee': 'chocolates/coffee',\n",
    "        'electronic componants': 'electronic components',\n",
    "        'elevators, escalators, engineering': 'elevators/escalators/engineering',\n",
    "        'food and energy processess': 'food and energy processes',\n",
    "        'food, entertainment': 'food/entertainment',\n",
    "        'gas and propane': 'gas/propane',\n",
    "        'hospitality and food service': 'hospitality/food service',\n",
    "        'hotels and supermarkets': 'hotels/supermarkets',\n",
    "        'industrial manufacturing and banking': 'industrial manufacturing/banking',\n",
    "        'insurancei, power': 'insurance/power',\n",
    "        'media, exports': 'media/exports',\n",
    "        'metals, paper, cement': 'metals/paper/cement',\n",
    "        'mining, banking': 'mining/banking',\n",
    "        'oleochemicals and palm oil': 'oleochemicals/palm oil',\n",
    "        'palm oil, mining': 'palm oil/mining',\n",
    "        'pet supplies, real estate': 'pet supplies/real estate',\n",
    "        'printing and electronics': 'printing/electronics'\n",
    "    }\n",
    ")"
   ]
  },
  {
   "cell_type": "raw",
   "metadata": {},
   "source": [
    "similar(df[\"company.sector\"].sort_values().unique())"
   ]
  },
  {
   "cell_type": "markdown",
   "metadata": {},
   "source": [
    "### company.relationship"
   ]
  },
  {
   "cell_type": "code",
   "execution_count": null,
   "metadata": {
    "tags": []
   },
   "outputs": [],
   "source": [
    "df['company.relationship'].sort_values().unique()"
   ]
  },
  {
   "cell_type": "code",
   "execution_count": null,
   "metadata": {},
   "outputs": [],
   "source": [
    "similar(df[\"company.relationship\"].sort_values().unique())"
   ]
  },
  {
   "cell_type": "markdown",
   "metadata": {},
   "source": [
    "### name"
   ]
  },
  {
   "cell_type": "markdown",
   "metadata": {},
   "source": [
    "Listing possible inconsistancies where the names are different, but the following features are the same:\n",
    "<ul>\n",
    "    <li>company.founded</li>\n",
    "    <li>company.name</li>\n",
    "    <li>company.relationship</li>\n",
    "    <li>company.sector</li>\n",
    "    <li>company.type</li>\n",
    "    <li>demographics.gender</li>\n",
    "    <li>location.citizenship</li>\n",
    "    <li>location.country code</li>\n",
    "    <li>location.region</li>\n",
    "    <li>wealth.type</li>\n",
    "    <li>wealth.how.category</li>\n",
    "    <li>wealth.how.from emerging</li>\n",
    "    <li>wealth.how.industry</li>\n",
    "    <li>wealth.how.inherited</li>\n",
    "</ul>"
   ]
  },
  {
   "cell_type": "code",
   "execution_count": null,
   "metadata": {
    "execution": {
     "iopub.execute_input": "2022-11-10T10:29:55.947293Z",
     "iopub.status.busy": "2022-11-10T10:29:55.946420Z",
     "iopub.status.idle": "2022-11-10T10:29:55.959434Z",
     "shell.execute_reply": "2022-11-10T10:29:55.957855Z",
     "shell.execute_reply.started": "2022-11-10T10:29:55.947247Z"
    }
   },
   "outputs": [],
   "source": [
    "dup_cols = ['company.founded',\n",
    "            'company.name',\n",
    "            'company.relationship',\n",
    "            'company.sector',\n",
    "            'company.type',\n",
    "            'demographics.gender',\n",
    "            'location.citizenship',\n",
    "            'location.country code',\n",
    "            'location.region',\n",
    "            'wealth.type',\n",
    "            'wealth.how.category',\n",
    "            'wealth.how.from emerging',\n",
    "            'wealth.how.industry',\n",
    "            'wealth.how.inherited']\n",
    "\n",
    "dup_rows = df[df.duplicated(subset=dup_cols)]\n",
    "dup_rows[duprows[]]"
   ]
  },
  {
   "cell_type": "code",
   "execution_count": null,
   "metadata": {
    "execution": {
     "iopub.status.busy": "2022-11-10T10:29:55.961011Z",
     "iopub.status.idle": "2022-11-10T10:29:55.961480Z",
     "shell.execute_reply": "2022-11-10T10:29:55.961269Z",
     "shell.execute_reply.started": "2022-11-10T10:29:55.961245Z"
    }
   },
   "outputs": [],
   "source": [
    "import re\n",
    "\n",
    "df[df['name'].apply(lambda x: (re.search('abraham', x, re.IGNORECASE) is not None))]"
   ]
  },
  {
   "cell_type": "code",
   "execution_count": null,
   "metadata": {
    "execution": {
     "iopub.status.busy": "2022-11-10T10:29:55.963033Z",
     "iopub.status.idle": "2022-11-10T10:29:55.963879Z",
     "shell.execute_reply": "2022-11-10T10:29:55.963674Z",
     "shell.execute_reply.started": "2022-11-10T10:29:55.963650Z"
    }
   },
   "outputs": [],
   "source": [
    "import re\n",
    "\n",
    "df[df['name'].apply(lambda x: (re.search('abraham', x, re.IGNORECASE) is not None))]"
   ]
  }
 ],
 "metadata": {
  "kernelspec": {
   "display_name": "Python 3 (ipykernel)",
   "language": "python",
   "name": "python3"
  },
  "language_info": {
   "codemirror_mode": {
    "name": "ipython",
    "version": 3
   },
   "file_extension": ".py",
   "mimetype": "text/x-python",
   "name": "python",
   "nbconvert_exporter": "python",
   "pygments_lexer": "ipython3",
   "version": "3.10.9"
  }
 },
 "nbformat": 4,
 "nbformat_minor": 4
}
