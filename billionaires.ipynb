{
 "cells": [
  {
   "cell_type": "code",
   "execution_count": 32,
   "metadata": {
    "execution": {
     "iopub.execute_input": "2022-12-14T14:22:25.112605Z",
     "iopub.status.busy": "2022-12-14T14:22:25.112103Z",
     "iopub.status.idle": "2022-12-14T14:22:25.119750Z",
     "shell.execute_reply": "2022-12-14T14:22:25.117969Z",
     "shell.execute_reply.started": "2022-12-14T14:22:25.112563Z"
    }
   },
   "outputs": [],
   "source": [
    "import numpy as np\n",
    "import pandas as pd\n",
    "import matplotlib.pyplot as plt\n",
    "\n",
    "import re # The RegEx module used for string operations"
   ]
  },
  {
   "cell_type": "code",
   "execution_count": 33,
   "metadata": {
    "execution": {
     "iopub.execute_input": "2022-12-14T14:22:25.124935Z",
     "iopub.status.busy": "2022-12-14T14:22:25.123906Z",
     "iopub.status.idle": "2022-12-14T14:22:25.132975Z",
     "shell.execute_reply": "2022-12-14T14:22:25.131646Z",
     "shell.execute_reply.started": "2022-12-14T14:22:25.124873Z"
    }
   },
   "outputs": [],
   "source": [
    "# Some font formatting constants:\n",
    "\n",
    "FONT_BOLD = '\\033[1m'\n",
    "FONT_UNDERLINE = '\\033[4m'\n",
    "FONT_FORMAT_END = '\\033[0m'"
   ]
  },
  {
   "cell_type": "markdown",
   "metadata": {},
   "source": [
    "# Loading and observing the data"
   ]
  },
  {
   "cell_type": "code",
   "execution_count": 34,
   "metadata": {
    "execution": {
     "iopub.execute_input": "2022-12-14T14:22:25.136804Z",
     "iopub.status.busy": "2022-12-14T14:22:25.135107Z",
     "iopub.status.idle": "2022-12-14T14:22:25.170876Z",
     "shell.execute_reply": "2022-12-14T14:22:25.169656Z",
     "shell.execute_reply.started": "2022-12-14T14:22:25.136757Z"
    }
   },
   "outputs": [],
   "source": [
    "df = pd.read_csv('/kaggle/input/billioners-dataset/billionaires.csv')"
   ]
  },
  {
   "cell_type": "code",
   "execution_count": 35,
   "metadata": {
    "execution": {
     "iopub.execute_input": "2022-12-14T14:22:25.174551Z",
     "iopub.status.busy": "2022-12-14T14:22:25.173263Z",
     "iopub.status.idle": "2022-12-14T14:22:25.209774Z",
     "shell.execute_reply": "2022-12-14T14:22:25.208442Z",
     "shell.execute_reply.started": "2022-12-14T14:22:25.174485Z"
    }
   },
   "outputs": [
    {
     "name": "stdout",
     "output_type": "stream",
     "text": [
      "\n",
      "The dataset consists of \u001b[1m2614 instances\u001b[0m and \u001b[1m22 features\u001b[0m:\n",
      "────────────────────────────────────────────────────────────────────────────────\n",
      "\n"
     ]
    },
    {
     "data": {
      "text/html": [
       "<div>\n",
       "<style scoped>\n",
       "    .dataframe tbody tr th:only-of-type {\n",
       "        vertical-align: middle;\n",
       "    }\n",
       "\n",
       "    .dataframe tbody tr th {\n",
       "        vertical-align: top;\n",
       "    }\n",
       "\n",
       "    .dataframe thead th {\n",
       "        text-align: right;\n",
       "    }\n",
       "</style>\n",
       "<table border=\"1\" class=\"dataframe\">\n",
       "  <thead>\n",
       "    <tr style=\"text-align: right;\">\n",
       "      <th></th>\n",
       "      <th>name</th>\n",
       "      <th>rank</th>\n",
       "      <th>year</th>\n",
       "      <th>company.founded</th>\n",
       "      <th>company.name</th>\n",
       "      <th>company.relationship</th>\n",
       "      <th>company.sector</th>\n",
       "      <th>company.type</th>\n",
       "      <th>demographics.age</th>\n",
       "      <th>demographics.gender</th>\n",
       "      <th>location.citizenship</th>\n",
       "      <th>location.country code</th>\n",
       "      <th>location.gdp</th>\n",
       "      <th>location.region</th>\n",
       "      <th>wealth.type</th>\n",
       "      <th>wealth.worth in billions</th>\n",
       "      <th>wealth.how.category</th>\n",
       "      <th>wealth.how.from emerging</th>\n",
       "      <th>wealth.how.industry</th>\n",
       "      <th>wealth.how.inherited</th>\n",
       "      <th>wealth.how.was founder</th>\n",
       "      <th>wealth.how.was political</th>\n",
       "    </tr>\n",
       "  </thead>\n",
       "  <tbody>\n",
       "    <tr>\n",
       "      <th>1337</th>\n",
       "      <td>Charlotte Colket Weber</td>\n",
       "      <td>452</td>\n",
       "      <td>2001</td>\n",
       "      <td>1869</td>\n",
       "      <td>Campbell Soup</td>\n",
       "      <td>relation</td>\n",
       "      <td>soup</td>\n",
       "      <td>aquired</td>\n",
       "      <td>50</td>\n",
       "      <td>female</td>\n",
       "      <td>United States</td>\n",
       "      <td>USA</td>\n",
       "      <td>1.060000e+13</td>\n",
       "      <td>North America</td>\n",
       "      <td>inherited</td>\n",
       "      <td>1.1</td>\n",
       "      <td>Traded Sectors</td>\n",
       "      <td>True</td>\n",
       "      <td>Consumer</td>\n",
       "      <td>3rd generation</td>\n",
       "      <td>True</td>\n",
       "      <td>True</td>\n",
       "    </tr>\n",
       "    <tr>\n",
       "      <th>2582</th>\n",
       "      <td>Monika Schoeller</td>\n",
       "      <td>1565</td>\n",
       "      <td>2014</td>\n",
       "      <td>1948</td>\n",
       "      <td>Verlagsgruppe Holtzbrinck</td>\n",
       "      <td>relation</td>\n",
       "      <td>publishing</td>\n",
       "      <td>new</td>\n",
       "      <td>75</td>\n",
       "      <td>female</td>\n",
       "      <td>Germany</td>\n",
       "      <td>DEU</td>\n",
       "      <td>0.000000e+00</td>\n",
       "      <td>Europe</td>\n",
       "      <td>inherited</td>\n",
       "      <td>1.0</td>\n",
       "      <td>Non-Traded Sectors</td>\n",
       "      <td>True</td>\n",
       "      <td>Media</td>\n",
       "      <td>father</td>\n",
       "      <td>True</td>\n",
       "      <td>True</td>\n",
       "    </tr>\n",
       "    <tr>\n",
       "      <th>1600</th>\n",
       "      <td>Dagmar Dolby</td>\n",
       "      <td>642</td>\n",
       "      <td>2014</td>\n",
       "      <td>1965</td>\n",
       "      <td>Dolby Laboratories</td>\n",
       "      <td>relation</td>\n",
       "      <td>video technology</td>\n",
       "      <td>new</td>\n",
       "      <td>72</td>\n",
       "      <td>female</td>\n",
       "      <td>United States</td>\n",
       "      <td>USA</td>\n",
       "      <td>0.000000e+00</td>\n",
       "      <td>North America</td>\n",
       "      <td>inherited</td>\n",
       "      <td>2.7</td>\n",
       "      <td>New Sectors</td>\n",
       "      <td>True</td>\n",
       "      <td>Technology-Computer</td>\n",
       "      <td>spouse/widow</td>\n",
       "      <td>True</td>\n",
       "      <td>True</td>\n",
       "    </tr>\n",
       "    <tr>\n",
       "      <th>807</th>\n",
       "      <td>Sergio Mantegazza</td>\n",
       "      <td>270</td>\n",
       "      <td>1996</td>\n",
       "      <td>1928</td>\n",
       "      <td>Globus</td>\n",
       "      <td>relation</td>\n",
       "      <td>travel company</td>\n",
       "      <td>new</td>\n",
       "      <td>68</td>\n",
       "      <td>male</td>\n",
       "      <td>Switzerland</td>\n",
       "      <td>CHE</td>\n",
       "      <td>3.300000e+11</td>\n",
       "      <td>Europe</td>\n",
       "      <td>inherited</td>\n",
       "      <td>1.5</td>\n",
       "      <td>0</td>\n",
       "      <td>True</td>\n",
       "      <td>Other</td>\n",
       "      <td>father</td>\n",
       "      <td>True</td>\n",
       "      <td>True</td>\n",
       "    </tr>\n",
       "    <tr>\n",
       "      <th>2416</th>\n",
       "      <td>Fernando Roig</td>\n",
       "      <td>1442</td>\n",
       "      <td>2014</td>\n",
       "      <td>1977</td>\n",
       "      <td>Mercadona</td>\n",
       "      <td>relation</td>\n",
       "      <td>groceries</td>\n",
       "      <td>new</td>\n",
       "      <td>66</td>\n",
       "      <td>male</td>\n",
       "      <td>Spain</td>\n",
       "      <td>ESP</td>\n",
       "      <td>0.000000e+00</td>\n",
       "      <td>Europe</td>\n",
       "      <td>inherited</td>\n",
       "      <td>1.2</td>\n",
       "      <td>Non-Traded Sectors</td>\n",
       "      <td>True</td>\n",
       "      <td>Retail, Restaurant</td>\n",
       "      <td>father</td>\n",
       "      <td>True</td>\n",
       "      <td>True</td>\n",
       "    </tr>\n",
       "    <tr>\n",
       "      <th>318</th>\n",
       "      <td>William Hewlett</td>\n",
       "      <td>106</td>\n",
       "      <td>1996</td>\n",
       "      <td>1939</td>\n",
       "      <td>Hewlett-Packard</td>\n",
       "      <td>founder</td>\n",
       "      <td>printers</td>\n",
       "      <td>new</td>\n",
       "      <td>0</td>\n",
       "      <td>male</td>\n",
       "      <td>United States</td>\n",
       "      <td>USA</td>\n",
       "      <td>8.100000e+12</td>\n",
       "      <td>North America</td>\n",
       "      <td>founder non-finance</td>\n",
       "      <td>2.9</td>\n",
       "      <td>New Sectors</td>\n",
       "      <td>True</td>\n",
       "      <td>Technology-Computer</td>\n",
       "      <td>not inherited</td>\n",
       "      <td>True</td>\n",
       "      <td>True</td>\n",
       "    </tr>\n",
       "    <tr>\n",
       "      <th>275</th>\n",
       "      <td>Maurice Greenberg</td>\n",
       "      <td>92</td>\n",
       "      <td>2001</td>\n",
       "      <td>1919</td>\n",
       "      <td>AIG</td>\n",
       "      <td>Chairman and Chief Executive Officer</td>\n",
       "      <td>insurance</td>\n",
       "      <td>new</td>\n",
       "      <td>75</td>\n",
       "      <td>male</td>\n",
       "      <td>United States</td>\n",
       "      <td>USA</td>\n",
       "      <td>1.060000e+13</td>\n",
       "      <td>North America</td>\n",
       "      <td>self-made finance</td>\n",
       "      <td>4.3</td>\n",
       "      <td>Financial</td>\n",
       "      <td>True</td>\n",
       "      <td>Money Management</td>\n",
       "      <td>not inherited</td>\n",
       "      <td>True</td>\n",
       "      <td>True</td>\n",
       "    </tr>\n",
       "    <tr>\n",
       "      <th>576</th>\n",
       "      <td>Graeme Hart</td>\n",
       "      <td>191</td>\n",
       "      <td>2014</td>\n",
       "      <td>1987</td>\n",
       "      <td>Rank Group</td>\n",
       "      <td>founder</td>\n",
       "      <td>private equity</td>\n",
       "      <td>new</td>\n",
       "      <td>58</td>\n",
       "      <td>male</td>\n",
       "      <td>New Zealand</td>\n",
       "      <td>NZL</td>\n",
       "      <td>0.000000e+00</td>\n",
       "      <td>North America</td>\n",
       "      <td>self-made finance</td>\n",
       "      <td>7.0</td>\n",
       "      <td>Financial</td>\n",
       "      <td>True</td>\n",
       "      <td>Diversified financial</td>\n",
       "      <td>not inherited</td>\n",
       "      <td>True</td>\n",
       "      <td>True</td>\n",
       "    </tr>\n",
       "    <tr>\n",
       "      <th>2176</th>\n",
       "      <td>Alberto Cortina</td>\n",
       "      <td>1210</td>\n",
       "      <td>2014</td>\n",
       "      <td>1952</td>\n",
       "      <td>Construcciones y Contratas</td>\n",
       "      <td>owner</td>\n",
       "      <td>construction</td>\n",
       "      <td>aquired</td>\n",
       "      <td>68</td>\n",
       "      <td>male</td>\n",
       "      <td>Spain</td>\n",
       "      <td>ESP</td>\n",
       "      <td>0.000000e+00</td>\n",
       "      <td>Europe</td>\n",
       "      <td>self-made finance</td>\n",
       "      <td>1.4</td>\n",
       "      <td>Financial</td>\n",
       "      <td>True</td>\n",
       "      <td>Diversified financial</td>\n",
       "      <td>not inherited</td>\n",
       "      <td>True</td>\n",
       "      <td>True</td>\n",
       "    </tr>\n",
       "    <tr>\n",
       "      <th>1353</th>\n",
       "      <td>Mary Anselmo</td>\n",
       "      <td>452</td>\n",
       "      <td>2001</td>\n",
       "      <td>1984</td>\n",
       "      <td>PanAmSat</td>\n",
       "      <td>relation</td>\n",
       "      <td>satallite communications</td>\n",
       "      <td>new</td>\n",
       "      <td>72</td>\n",
       "      <td>female</td>\n",
       "      <td>United States</td>\n",
       "      <td>USA</td>\n",
       "      <td>1.060000e+13</td>\n",
       "      <td>North America</td>\n",
       "      <td>inherited</td>\n",
       "      <td>1.1</td>\n",
       "      <td>Non-Traded Sectors</td>\n",
       "      <td>True</td>\n",
       "      <td>Media</td>\n",
       "      <td>spouse/widow</td>\n",
       "      <td>True</td>\n",
       "      <td>True</td>\n",
       "    </tr>\n",
       "  </tbody>\n",
       "</table>\n",
       "</div>"
      ],
      "text/plain": [
       "                        name  rank  year  company.founded  \\\n",
       "1337  Charlotte Colket Weber   452  2001             1869   \n",
       "2582        Monika Schoeller  1565  2014             1948   \n",
       "1600            Dagmar Dolby   642  2014             1965   \n",
       "807        Sergio Mantegazza   270  1996             1928   \n",
       "2416           Fernando Roig  1442  2014             1977   \n",
       "318          William Hewlett   106  1996             1939   \n",
       "275        Maurice Greenberg    92  2001             1919   \n",
       "576              Graeme Hart   191  2014             1987   \n",
       "2176         Alberto Cortina  1210  2014             1952   \n",
       "1353            Mary Anselmo   452  2001             1984   \n",
       "\n",
       "                    company.name                  company.relationship  \\\n",
       "1337               Campbell Soup                              relation   \n",
       "2582   Verlagsgruppe Holtzbrinck                              relation   \n",
       "1600          Dolby Laboratories                              relation   \n",
       "807                       Globus                              relation   \n",
       "2416                   Mercadona                              relation   \n",
       "318              Hewlett-Packard                               founder   \n",
       "275                          AIG  Chairman and Chief Executive Officer   \n",
       "576                   Rank Group                               founder   \n",
       "2176  Construcciones y Contratas                                 owner   \n",
       "1353                    PanAmSat                              relation   \n",
       "\n",
       "                company.sector company.type  demographics.age  \\\n",
       "1337                      soup      aquired                50   \n",
       "2582                publishing          new                75   \n",
       "1600          video technology          new                72   \n",
       "807             travel company          new                68   \n",
       "2416                 groceries          new                66   \n",
       "318                   printers          new                 0   \n",
       "275                  insurance          new                75   \n",
       "576             private equity          new                58   \n",
       "2176              construction      aquired                68   \n",
       "1353  satallite communications          new                72   \n",
       "\n",
       "     demographics.gender location.citizenship location.country code  \\\n",
       "1337              female        United States                   USA   \n",
       "2582              female              Germany                   DEU   \n",
       "1600              female        United States                   USA   \n",
       "807                 male          Switzerland                   CHE   \n",
       "2416                male                Spain                   ESP   \n",
       "318                 male        United States                   USA   \n",
       "275                 male        United States                   USA   \n",
       "576                 male          New Zealand                   NZL   \n",
       "2176                male                Spain                   ESP   \n",
       "1353              female        United States                   USA   \n",
       "\n",
       "      location.gdp location.region          wealth.type  \\\n",
       "1337  1.060000e+13   North America            inherited   \n",
       "2582  0.000000e+00          Europe            inherited   \n",
       "1600  0.000000e+00   North America            inherited   \n",
       "807   3.300000e+11          Europe            inherited   \n",
       "2416  0.000000e+00          Europe            inherited   \n",
       "318   8.100000e+12   North America  founder non-finance   \n",
       "275   1.060000e+13   North America    self-made finance   \n",
       "576   0.000000e+00   North America    self-made finance   \n",
       "2176  0.000000e+00          Europe    self-made finance   \n",
       "1353  1.060000e+13   North America            inherited   \n",
       "\n",
       "      wealth.worth in billions wealth.how.category  wealth.how.from emerging  \\\n",
       "1337                       1.1      Traded Sectors                      True   \n",
       "2582                       1.0  Non-Traded Sectors                      True   \n",
       "1600                       2.7         New Sectors                      True   \n",
       "807                        1.5                   0                      True   \n",
       "2416                       1.2  Non-Traded Sectors                      True   \n",
       "318                        2.9         New Sectors                      True   \n",
       "275                        4.3           Financial                      True   \n",
       "576                        7.0           Financial                      True   \n",
       "2176                       1.4           Financial                      True   \n",
       "1353                       1.1  Non-Traded Sectors                      True   \n",
       "\n",
       "        wealth.how.industry wealth.how.inherited  wealth.how.was founder  \\\n",
       "1337               Consumer       3rd generation                    True   \n",
       "2582                  Media               father                    True   \n",
       "1600    Technology-Computer         spouse/widow                    True   \n",
       "807                   Other               father                    True   \n",
       "2416     Retail, Restaurant               father                    True   \n",
       "318     Technology-Computer        not inherited                    True   \n",
       "275        Money Management        not inherited                    True   \n",
       "576   Diversified financial        not inherited                    True   \n",
       "2176  Diversified financial        not inherited                    True   \n",
       "1353                  Media         spouse/widow                    True   \n",
       "\n",
       "      wealth.how.was political  \n",
       "1337                      True  \n",
       "2582                      True  \n",
       "1600                      True  \n",
       "807                       True  \n",
       "2416                      True  \n",
       "318                       True  \n",
       "275                       True  \n",
       "576                       True  \n",
       "2176                      True  \n",
       "1353                      True  "
      ]
     },
     "metadata": {},
     "output_type": "display_data"
    }
   ],
   "source": [
    "print(f\"\\nThe dataset consists of {FONT_BOLD}%d instances{FONT_FORMAT_END} and {FONT_BOLD}%d features{FONT_FORMAT_END}:\\n{'─'*80}\\n\"\n",
    "      %df.shape)\n",
    "\n",
    "# Setting this option enables the presentation of all features instead of omitting the middle ones:\n",
    "from IPython.display import display\n",
    "with pd.option_context('display.max_columns', None):\n",
    "    display(df.sample(10)) # Retrieves random instances from the dataset"
   ]
  },
  {
   "cell_type": "markdown",
   "metadata": {},
   "source": [
    "## Features and their types"
   ]
  },
  {
   "cell_type": "code",
   "execution_count": 36,
   "metadata": {
    "execution": {
     "iopub.execute_input": "2022-12-14T14:22:25.212032Z",
     "iopub.status.busy": "2022-12-14T14:22:25.211578Z",
     "iopub.status.idle": "2022-12-14T14:22:25.230271Z",
     "shell.execute_reply": "2022-12-14T14:22:25.228746Z",
     "shell.execute_reply.started": "2022-12-14T14:22:25.211991Z"
    }
   },
   "outputs": [
    {
     "name": "stdout",
     "output_type": "stream",
     "text": [
      "The \u001b[1mstring\u001b[0m and/or \u001b[1mcategorical\u001b[0m features include:\n",
      "────────────────────────────────────────────────────────────────────────────────\n",
      "name                     object\n",
      "company.name             object\n",
      "company.relationship     object\n",
      "company.sector           object\n",
      "company.type             object\n",
      "demographics.gender      object\n",
      "location.citizenship     object\n",
      "location.country code    object\n",
      "location.region          object\n",
      "wealth.type              object\n",
      "wealth.how.category      object\n",
      "wealth.how.industry      object\n",
      "wealth.how.inherited     object\n",
      "dtype: object\n",
      "\n",
      "The \u001b[1mnumerical\u001b[0m features include:\n",
      "────────────────────────────────────────────────────────────────────────────────\n",
      "rank                          int64\n",
      "year                          int64\n",
      "company.founded               int64\n",
      "demographics.age              int64\n",
      "location.gdp                float64\n",
      "wealth.worth in billions    float64\n",
      "dtype: object\n",
      "\n",
      "There are also several \u001b[1mboolean\u001b[0m features, including:\n",
      "────────────────────────────────────────────────────────────────────────────────\n",
      "wealth.how.from emerging    bool\n",
      "wealth.how.was founder      bool\n",
      "wealth.how.was political    bool\n",
      "dtype: object\n",
      "\n"
     ]
    }
   ],
   "source": [
    "print(f\"The {FONT_BOLD}string{FONT_FORMAT_END} and/or {FONT_BOLD}categorical{FONT_FORMAT_END} features include:\\n{'─'*80}\\n{df.select_dtypes(include=['object']).dtypes}\\n\")\n",
    "\n",
    "print(f\"The {FONT_BOLD}numerical{FONT_FORMAT_END} features include:\\n{'─'*80}\\n{df.select_dtypes(include=['int64', 'float64']).dtypes}\\n\")\n",
    "\n",
    "print(f\"There are also several {FONT_BOLD}boolean{FONT_FORMAT_END} features, including:\\n{'─'*80}\\n{df.select_dtypes(include=['bool']).dtypes}\\n\")"
   ]
  },
  {
   "cell_type": "markdown",
   "metadata": {},
   "source": [
    "# Preprocessing\n",
    "This includes all data cleanse measures, including:\n",
    "<ul>\n",
    "    <li>Identification and correction of spelling errors</li>\n",
    "    <li>Making common categories (values in categorical features) consistent</li>\n",
    "    <li>Filling in missing data</li>\n",
    "    <li>Removing duplicates</li>\n",
    "    <li>Inspecting outliers</li>\n",
    "    <li>Casting features to the suitable types according to the data that they contain</li>\n",
    "</ul>"
   ]
  },
  {
   "cell_type": "markdown",
   "metadata": {},
   "source": [
    "# Cleaning up features"
   ]
  },
  {
   "cell_type": "code",
   "execution_count": 37,
   "metadata": {
    "execution": {
     "iopub.execute_input": "2022-12-14T14:22:25.233513Z",
     "iopub.status.busy": "2022-12-14T14:22:25.232795Z",
     "iopub.status.idle": "2022-12-14T14:22:25.242757Z",
     "shell.execute_reply": "2022-12-14T14:22:25.241350Z",
     "shell.execute_reply.started": "2022-12-14T14:22:25.233468Z"
    }
   },
   "outputs": [],
   "source": [
    "from difflib import SequenceMatcher\n",
    "\n",
    "# The following function receives two lists of words and maps the similar ones together;\n",
    "# It is used to clean up categorical features by pinpointing the 'almost' similar words and\n",
    "# consequently identifying the spelling errors.\n",
    "def similar(word_list):\n",
    "    for i in range(len(word_list)):\n",
    "        first_word = word_list[i]\n",
    "        if pd.isna(first_word):\n",
    "            continue\n",
    "        print(first_word, '\\n', '-'*30)\n",
    "        res = []\n",
    "        for j in range(i+1, len(word_list)):\n",
    "            second_word = word_list[j]\n",
    "            if pd.isna(second_word):\n",
    "                continue\n",
    "            if SequenceMatcher(None, first_word, second_word).ratio() > .7:\n",
    "                res = res + [second_word]\n",
    "        if len(res) > 0:\n",
    "            print(res, '\\n\\n')"
   ]
  },
  {
   "cell_type": "markdown",
   "metadata": {},
   "source": [
    "## Common touches\n",
    "These refactorings are applicable to all string features and they include:\n",
    "<ul>\n",
    "    <li>Removing trailing and leading spaces from names</li>\n",
    "    <li>Removing all consecutive spaces in the middle of the names</li>\n",
    "    <li>Removing all extra dots</li>\n",
    "    <li>Capitalizing the first letter of each word</li>\n",
    "</ul>"
   ]
  },
  {
   "cell_type": "code",
   "execution_count": 38,
   "metadata": {
    "execution": {
     "iopub.execute_input": "2022-12-14T14:22:25.245654Z",
     "iopub.status.busy": "2022-12-14T14:22:25.244766Z",
     "iopub.status.idle": "2022-12-14T14:22:25.296355Z",
     "shell.execute_reply": "2022-12-14T14:22:25.295125Z",
     "shell.execute_reply.started": "2022-12-14T14:22:25.245606Z"
    }
   },
   "outputs": [],
   "source": [
    "for col in df.select_dtypes(include=['object']).columns:\n",
    "    df[col] = df[col].apply(\n",
    "        lambda x: x.strip()\n",
    "                   .replace('..', '.')\n",
    "                   .replace('  ', ' ')\n",
    "                   .title()\n",
    "                  if isinstance(x, str) else x\n",
    "    )"
   ]
  },
  {
   "cell_type": "markdown",
   "metadata": {},
   "source": [
    "## Processing the Boolean features\n",
    "All of these features contain only a single value (True), and as a result, they do not mandate any data cleanse tasks."
   ]
  },
  {
   "cell_type": "markdown",
   "metadata": {},
   "source": [
    "### wealth.how.from emerging"
   ]
  },
  {
   "cell_type": "code",
   "execution_count": 101,
   "metadata": {
    "execution": {
     "iopub.execute_input": "2022-12-09T12:04:22.254784Z",
     "iopub.status.busy": "2022-12-09T12:04:22.254442Z",
     "iopub.status.idle": "2022-12-09T12:04:22.266307Z",
     "shell.execute_reply": "2022-12-09T12:04:22.265101Z",
     "shell.execute_reply.started": "2022-12-09T12:04:22.254754Z"
    }
   },
   "outputs": [
    {
     "data": {
      "text/plain": [
       "array([ True])"
      ]
     },
     "execution_count": 101,
     "metadata": {},
     "output_type": "execute_result"
    }
   ],
   "source": [
    "df['wealth.how.from emerging'].unique()"
   ]
  },
  {
   "cell_type": "markdown",
   "metadata": {},
   "source": [
    "### wealth.how.was political"
   ]
  },
  {
   "cell_type": "code",
   "execution_count": 102,
   "metadata": {
    "execution": {
     "iopub.execute_input": "2022-12-09T12:04:22.267638Z",
     "iopub.status.busy": "2022-12-09T12:04:22.267316Z",
     "iopub.status.idle": "2022-12-09T12:04:22.278536Z",
     "shell.execute_reply": "2022-12-09T12:04:22.277355Z",
     "shell.execute_reply.started": "2022-12-09T12:04:22.267610Z"
    }
   },
   "outputs": [
    {
     "data": {
      "text/plain": [
       "array([ True])"
      ]
     },
     "execution_count": 102,
     "metadata": {},
     "output_type": "execute_result"
    }
   ],
   "source": [
    "df['wealth.how.was political'].unique()"
   ]
  },
  {
   "cell_type": "markdown",
   "metadata": {},
   "source": [
    "### wealth.how.was founder"
   ]
  },
  {
   "cell_type": "code",
   "execution_count": 103,
   "metadata": {
    "execution": {
     "iopub.execute_input": "2022-12-09T12:04:22.280674Z",
     "iopub.status.busy": "2022-12-09T12:04:22.280252Z",
     "iopub.status.idle": "2022-12-09T12:04:22.289773Z",
     "shell.execute_reply": "2022-12-09T12:04:22.288567Z",
     "shell.execute_reply.started": "2022-12-09T12:04:22.280607Z"
    }
   },
   "outputs": [
    {
     "data": {
      "text/plain": [
       "array([ True])"
      ]
     },
     "execution_count": 103,
     "metadata": {},
     "output_type": "execute_result"
    }
   ],
   "source": [
    "df['wealth.how.was founder'].unique()"
   ]
  },
  {
   "cell_type": "markdown",
   "metadata": {},
   "source": [
    "## Processing the categorical features"
   ]
  },
  {
   "cell_type": "markdown",
   "metadata": {},
   "source": [
    "### wealth.how.inherited\n",
    "This feature is already clean and does not contain any null values either. So, the only clean up it needs is to convert it from string to categorical."
   ]
  },
  {
   "cell_type": "code",
   "execution_count": 104,
   "metadata": {
    "execution": {
     "iopub.execute_input": "2022-12-09T12:04:22.352468Z",
     "iopub.status.busy": "2022-12-09T12:04:22.352080Z",
     "iopub.status.idle": "2022-12-09T12:04:22.362408Z",
     "shell.execute_reply": "2022-12-09T12:04:22.361188Z",
     "shell.execute_reply.started": "2022-12-09T12:04:22.352438Z"
    }
   },
   "outputs": [
    {
     "data": {
      "text/plain": [
       "Not Inherited               1688\n",
       "Father                       558\n",
       "3Rd Generation               210\n",
       "4Th Generation                68\n",
       "Spouse/Widow                  59\n",
       "5Th Generation Or Longer      31\n",
       "Name: wealth.how.inherited, dtype: int64"
      ]
     },
     "execution_count": 104,
     "metadata": {},
     "output_type": "execute_result"
    }
   ],
   "source": [
    "df['wealth.how.inherited'].value_counts(dropna=False)"
   ]
  },
  {
   "cell_type": "code",
   "execution_count": 105,
   "metadata": {
    "execution": {
     "iopub.execute_input": "2022-12-09T12:04:22.366099Z",
     "iopub.status.busy": "2022-12-09T12:04:22.365100Z",
     "iopub.status.idle": "2022-12-09T12:04:22.378735Z",
     "shell.execute_reply": "2022-12-09T12:04:22.377327Z",
     "shell.execute_reply.started": "2022-12-09T12:04:22.366049Z"
    }
   },
   "outputs": [
    {
     "data": {
      "text/plain": [
       "CategoricalDtype(categories=['3Rd Generation', '4Th Generation',\n",
       "                  '5Th Generation Or Longer', 'Father', 'Not Inherited',\n",
       "                  'Spouse/Widow'],\n",
       ", ordered=False)"
      ]
     },
     "execution_count": 105,
     "metadata": {},
     "output_type": "execute_result"
    }
   ],
   "source": [
    "# Casting the feature into categorical type\n",
    "df['wealth.how.inherited'] = df['wealth.how.inherited'].astype('category')\n",
    "\n",
    "df['wealth.how.inherited'].dtype"
   ]
  },
  {
   "cell_type": "markdown",
   "metadata": {},
   "source": [
    "### wealth.how.industry\n",
    "This feature contains one NaN and one value of '0'; both of which should be replaced by 'Unspecified' value; furthurmore, the feature should be converted to categorical."
   ]
  },
  {
   "cell_type": "code",
   "execution_count": 106,
   "metadata": {
    "execution": {
     "iopub.execute_input": "2022-12-09T12:04:22.380634Z",
     "iopub.status.busy": "2022-12-09T12:04:22.380257Z",
     "iopub.status.idle": "2022-12-09T12:04:22.390606Z",
     "shell.execute_reply": "2022-12-09T12:04:22.389179Z",
     "shell.execute_reply.started": "2022-12-09T12:04:22.380605Z"
    }
   },
   "outputs": [
    {
     "data": {
      "text/plain": [
       "Consumer                           471\n",
       "Retail, Restaurant                 281\n",
       "Real Estate                        280\n",
       "Money Management                   249\n",
       "Media                              219\n",
       "Technology-Computer                208\n",
       "Diversified Financial              167\n",
       "Energy                             132\n",
       "Technology-Medical                 111\n",
       "Non-Consumer Industrial            107\n",
       "Constrution                         97\n",
       "Mining And Metals                   90\n",
       "Other                               83\n",
       "Hedge Funds                         67\n",
       "Private Equity/Leveraged Buyout     25\n",
       "0                                   16\n",
       "Venture Capital                      8\n",
       "Banking                              1\n",
       "Services                             1\n",
       "NaN                                  1\n",
       "Name: wealth.how.industry, dtype: int64"
      ]
     },
     "execution_count": 106,
     "metadata": {},
     "output_type": "execute_result"
    }
   ],
   "source": [
    "df['wealth.how.industry'].value_counts(dropna=False)"
   ]
  },
  {
   "cell_type": "code",
   "execution_count": 107,
   "metadata": {
    "execution": {
     "iopub.execute_input": "2022-12-09T12:04:22.392343Z",
     "iopub.status.busy": "2022-12-09T12:04:22.391974Z",
     "iopub.status.idle": "2022-12-09T12:04:22.404069Z",
     "shell.execute_reply": "2022-12-09T12:04:22.403136Z",
     "shell.execute_reply.started": "2022-12-09T12:04:22.392311Z"
    }
   },
   "outputs": [],
   "source": [
    "# Replacing the value of '0' with 'Unspecified'\n",
    "df['wealth.how.industry'] = df['wealth.how.industry'].replace(\n",
    "    {\n",
    "        '0': 'Unspecified',\n",
    "    }\n",
    ")\n",
    "\n",
    "# Filling Null values with the value 'Unspecified'\n",
    "df['wealth.how.industry'] = df['wealth.how.industry'].fillna('Unspecified')\n",
    "\n",
    "# Casting the feature into categorical type\n",
    "df['wealth.how.industry'] = df['wealth.how.industry'].astype('category')\n",
    "\n",
    "df['wealth.how.industry'].dtype"
   ]
  },
  {
   "cell_type": "markdown",
   "metadata": {},
   "source": [
    "### wealth.how.category\n",
    "This feature contains one NaN and one value of '0'; both of which should be replaced by 'Unspecified' value; furthurmore, the feature should be converted to categorical."
   ]
  },
  {
   "cell_type": "code",
   "execution_count": 109,
   "metadata": {
    "execution": {
     "iopub.execute_input": "2022-12-09T12:04:22.422160Z",
     "iopub.status.busy": "2022-12-09T12:04:22.420972Z",
     "iopub.status.idle": "2022-12-09T12:04:22.433434Z",
     "shell.execute_reply": "2022-12-09T12:04:22.432137Z",
     "shell.execute_reply.started": "2022-12-09T12:04:22.422124Z"
    }
   },
   "outputs": [
    {
     "data": {
      "text/plain": [
       "Financial             800\n",
       "Non-Traded Sectors    597\n",
       "Traded Sectors        564\n",
       "New Sectors           319\n",
       "Resource Related      245\n",
       "0                      85\n",
       "NaN                     1\n",
       "Finance                 1\n",
       "Trucking                1\n",
       "Energy                  1\n",
       "Name: wealth.how.category, dtype: int64"
      ]
     },
     "execution_count": 109,
     "metadata": {},
     "output_type": "execute_result"
    }
   ],
   "source": [
    "df['wealth.how.category'].value_counts(dropna=False)"
   ]
  },
  {
   "cell_type": "code",
   "execution_count": 110,
   "metadata": {
    "execution": {
     "iopub.execute_input": "2022-12-09T12:04:22.435600Z",
     "iopub.status.busy": "2022-12-09T12:04:22.435276Z",
     "iopub.status.idle": "2022-12-09T12:04:22.445529Z",
     "shell.execute_reply": "2022-12-09T12:04:22.444205Z",
     "shell.execute_reply.started": "2022-12-09T12:04:22.435566Z"
    }
   },
   "outputs": [],
   "source": [
    "# Replacing the value of '0' with 'Unspecified'\n",
    "df['wealth.how.category'] = df['wealth.how.category'].replace(\n",
    "    {\n",
    "        '0': 'Unspecified',\n",
    "    }\n",
    ")\n",
    "\n",
    "# Filling Null values with the value 'Unspecified'\n",
    "df['wealth.how.category'] = df['wealth.how.category'].fillna('Unspecified')\n",
    "\n",
    "# Casting the feature into categorical type\n",
    "df['wealth.how.category'] = df['wealth.how.category'].astype('category')\n",
    "\n",
    "df['wealth.how.category'].dtype"
   ]
  },
  {
   "cell_type": "markdown",
   "metadata": {},
   "source": [
    "### wealth.type\n",
    "This feature contains several Null values"
   ]
  },
  {
   "cell_type": "code",
   "execution_count": 112,
   "metadata": {
    "execution": {
     "iopub.execute_input": "2022-12-09T12:04:22.460104Z",
     "iopub.status.busy": "2022-12-09T12:04:22.459699Z",
     "iopub.status.idle": "2022-12-09T12:04:22.471994Z",
     "shell.execute_reply": "2022-12-09T12:04:22.471040Z",
     "shell.execute_reply.started": "2022-12-09T12:04:22.460070Z"
    }
   },
   "outputs": [
    {
     "data": {
      "text/plain": [
       "Inherited                   953\n",
       "Founder Non-Finance         713\n",
       "Self-Made Finance           500\n",
       "Privatized And Resources    236\n",
       "Executive                   190\n",
       "NaN                          22\n",
       "Name: wealth.type, dtype: int64"
      ]
     },
     "execution_count": 112,
     "metadata": {},
     "output_type": "execute_result"
    }
   ],
   "source": [
    "df['wealth.type'].value_counts(dropna=False)"
   ]
  },
  {
   "cell_type": "code",
   "execution_count": 113,
   "metadata": {
    "execution": {
     "iopub.execute_input": "2022-12-09T12:04:22.474454Z",
     "iopub.status.busy": "2022-12-09T12:04:22.473511Z",
     "iopub.status.idle": "2022-12-09T12:04:22.486328Z",
     "shell.execute_reply": "2022-12-09T12:04:22.485063Z",
     "shell.execute_reply.started": "2022-12-09T12:04:22.474395Z"
    }
   },
   "outputs": [],
   "source": [
    "# Filling Null values with the value 'Unspecified'\n",
    "df['wealth.type'] = df['wealth.type'].fillna('Unspecified')\n",
    "\n",
    "# Casting the feature into categorical type\n",
    "df['wealth.type'] = df['wealth.type'].astype('category')\n",
    "\n",
    "df['wealth.type'].dtype"
   ]
  },
  {
   "cell_type": "markdown",
   "metadata": {},
   "source": [
    "### location.region\n",
    "This feature contains one '0' value which needs to be replaced with 'Unspecified'; the feature will then be converted into categorical."
   ]
  },
  {
   "cell_type": "code",
   "execution_count": 125,
   "metadata": {
    "execution": {
     "iopub.execute_input": "2022-12-09T12:11:34.433370Z",
     "iopub.status.busy": "2022-12-09T12:11:34.432713Z",
     "iopub.status.idle": "2022-12-09T12:11:34.447147Z",
     "shell.execute_reply": "2022-12-09T12:11:34.445986Z",
     "shell.execute_reply.started": "2022-12-09T12:11:34.433319Z"
    }
   },
   "outputs": [
    {
     "data": {
      "text/plain": [
       "North America               992\n",
       "Europe                      698\n",
       "East Asia                   535\n",
       "Latin America               182\n",
       "Middle East/North Africa    117\n",
       "South Asia                   69\n",
       "Sub-Saharan Africa           20\n",
       "Unspecified                   1\n",
       "Name: location.region, dtype: int64"
      ]
     },
     "execution_count": 125,
     "metadata": {},
     "output_type": "execute_result"
    }
   ],
   "source": [
    "df['location.region'].value_counts(dropna=False)"
   ]
  },
  {
   "cell_type": "code",
   "execution_count": 122,
   "metadata": {
    "execution": {
     "iopub.execute_input": "2022-12-09T12:08:43.222338Z",
     "iopub.status.busy": "2022-12-09T12:08:43.221952Z",
     "iopub.status.idle": "2022-12-09T12:08:43.232888Z",
     "shell.execute_reply": "2022-12-09T12:08:43.231707Z",
     "shell.execute_reply.started": "2022-12-09T12:08:43.222307Z"
    }
   },
   "outputs": [
    {
     "data": {
      "text/plain": [
       "CategoricalDtype(categories=['East Asia', 'Europe', 'Latin America',\n",
       "                  'Middle East/North Africa', 'North America', 'South Asia',\n",
       "                  'Sub-Saharan Africa', 'Unspecified'],\n",
       ", ordered=False)"
      ]
     },
     "execution_count": 122,
     "metadata": {},
     "output_type": "execute_result"
    }
   ],
   "source": [
    "df['location.region'] = df['location.region'].replace(\n",
    "    {\n",
    "        '0': 'Unspecified'\n",
    "    }\n",
    ")\n",
    "\n",
    "# Casting the feature into categorical type\n",
    "df['location.region'] = df['location.region'].astype('category')\n",
    "\n",
    "df['location.region'].dtype"
   ]
  },
  {
   "cell_type": "markdown",
   "metadata": {},
   "source": [
    "### location.country code\n",
    "This feature is clean and it only needs to be cast into categorical."
   ]
  },
  {
   "cell_type": "code",
   "execution_count": 126,
   "metadata": {
    "execution": {
     "iopub.execute_input": "2022-12-09T12:11:43.956525Z",
     "iopub.status.busy": "2022-12-09T12:11:43.956061Z",
     "iopub.status.idle": "2022-12-09T12:11:43.970737Z",
     "shell.execute_reply": "2022-12-09T12:11:43.969744Z",
     "shell.execute_reply.started": "2022-12-09T12:11:43.956489Z"
    }
   },
   "outputs": [
    {
     "data": {
      "text/plain": [
       "Usa    903\n",
       "Deu    160\n",
       "Chn    153\n",
       "Rus    119\n",
       "Jpn     96\n",
       "      ... \n",
       "Ecu      1\n",
       "Dza      1\n",
       "Bmu      1\n",
       "Bhr      1\n",
       "Kna      1\n",
       "Name: location.country code, Length: 74, dtype: int64"
      ]
     },
     "execution_count": 126,
     "metadata": {},
     "output_type": "execute_result"
    }
   ],
   "source": [
    "df['location.country code'].value_counts(dropna=False)"
   ]
  },
  {
   "cell_type": "code",
   "execution_count": 123,
   "metadata": {
    "execution": {
     "iopub.execute_input": "2022-12-09T12:10:06.687419Z",
     "iopub.status.busy": "2022-12-09T12:10:06.687021Z",
     "iopub.status.idle": "2022-12-09T12:10:06.698575Z",
     "shell.execute_reply": "2022-12-09T12:10:06.697284Z",
     "shell.execute_reply.started": "2022-12-09T12:10:06.687386Z"
    }
   },
   "outputs": [
    {
     "data": {
      "text/plain": [
       "CategoricalDtype(categories=['Ago', 'Are', 'Arg', 'Aus', 'Aut', 'Bel', 'Bhr', 'Bmu',\n",
       "                  'Bra', 'Can', 'Che', 'Chl', 'Chn', 'Col', 'Cyp', 'Cze',\n",
       "                  'Den', 'Deu', 'Dnk', 'Dza', 'Ecu', 'Egy', 'Esp', 'Fin',\n",
       "                  'Fra', 'Gbr', 'Geo', 'Ggy', 'Grc', 'Hkg', 'Idn', 'Ind',\n",
       "                  'Irl', 'Isr', 'Ita', 'Jpn', 'Kaz', 'Kna', 'Kor', 'Kwt',\n",
       "                  'Lbn', 'Lie', 'Ltu', 'Mac', 'Mar', 'Mco', 'Mex', 'Mys',\n",
       "                  'Nga', 'Nld', 'Nor', 'Npl', 'Nzl', 'Omn', 'Per', 'Phl',\n",
       "                  'Pol', 'Prt', 'Rou', 'Rus', 'Sau', 'Sgp', 'Swe', 'Swz',\n",
       "                  'Taiwan', 'Tha', 'Tur', 'Tza', 'Uga', 'Ukr', 'Usa', 'Ven',\n",
       "                  'Vnm', 'Zaf'],\n",
       ", ordered=False)"
      ]
     },
     "execution_count": 123,
     "metadata": {},
     "output_type": "execute_result"
    }
   ],
   "source": [
    "# Casting the feature into categorical type\n",
    "df['location.country code'] = df['location.country code'].astype('category')\n",
    "\n",
    "df['location.country code'].dtype"
   ]
  },
  {
   "cell_type": "markdown",
   "metadata": {},
   "source": [
    "### location.citizenship\n",
    "This feature is clean and it only needs to be cast into categorical."
   ]
  },
  {
   "cell_type": "code",
   "execution_count": 129,
   "metadata": {
    "execution": {
     "iopub.execute_input": "2022-12-09T12:12:42.316898Z",
     "iopub.status.busy": "2022-12-09T12:12:42.316332Z",
     "iopub.status.idle": "2022-12-09T12:12:42.328653Z",
     "shell.execute_reply": "2022-12-09T12:12:42.327491Z",
     "shell.execute_reply.started": "2022-12-09T12:12:42.316847Z"
    }
   },
   "outputs": [
    {
     "data": {
      "text/plain": [
       "United States    903\n",
       "Germany          160\n",
       "China            153\n",
       "Russia           119\n",
       "Japan             96\n",
       "                ... \n",
       "Georgia            1\n",
       "Ecuador            1\n",
       "Bermuda            1\n",
       "Bahrain            1\n",
       "Vietnam            1\n",
       "Name: location.citizenship, Length: 73, dtype: int64"
      ]
     },
     "execution_count": 129,
     "metadata": {},
     "output_type": "execute_result"
    }
   ],
   "source": [
    "df['location.citizenship'].value_counts(dropna=False)"
   ]
  },
  {
   "cell_type": "code",
   "execution_count": 124,
   "metadata": {
    "execution": {
     "iopub.execute_input": "2022-12-09T12:10:35.569379Z",
     "iopub.status.busy": "2022-12-09T12:10:35.568952Z",
     "iopub.status.idle": "2022-12-09T12:10:35.581946Z",
     "shell.execute_reply": "2022-12-09T12:10:35.580822Z",
     "shell.execute_reply.started": "2022-12-09T12:10:35.569344Z"
    }
   },
   "outputs": [
    {
     "data": {
      "text/plain": [
       "CategoricalDtype(categories=['Algeria', 'Angola', 'Argentina', 'Australia', 'Austria',\n",
       "                  'Bahrain', 'Belgium', 'Bermuda', 'Brazil', 'Canada', 'Chile',\n",
       "                  'China', 'Colombia', 'Cyprus', 'Czech Republic', 'Denmark',\n",
       "                  'Ecuador', 'Egypt', 'Finland', 'France', 'Georgia',\n",
       "                  'Germany', 'Greece', 'Guernsey', 'Hong Kong', 'India',\n",
       "                  'Indonesia', 'Ireland', 'Israel', 'Italy', 'Japan',\n",
       "                  'Kazakhstan', 'Kuwait', 'Lebanon', 'Liechtenstein',\n",
       "                  'Lithuania', 'Macau', 'Malaysia', 'Mexico', 'Monaco',\n",
       "                  'Morocco', 'Nepal', 'Netherlands', 'New Zealand', 'Nigeria',\n",
       "                  'Norway', 'Oman', 'Peru', 'Philippines', 'Poland',\n",
       "                  'Portugal', 'Romania', 'Russia', 'Saudi Arabia', 'Singapore',\n",
       "                  'South Africa', 'South Korea', 'Spain',\n",
       "                  'St. Kitts And Nevis', 'Swaziland', 'Sweden', 'Switzerland',\n",
       "                  'Taiwan', 'Tanzania', 'Thailand', 'Turkey', 'Uganda',\n",
       "                  'Ukraine', 'United Arab Emirates', 'United Kingdom',\n",
       "                  'United States', 'Venezuela', 'Vietnam'],\n",
       ", ordered=False)"
      ]
     },
     "execution_count": 124,
     "metadata": {},
     "output_type": "execute_result"
    }
   ],
   "source": [
    "# Casting the feature into categorical type\n",
    "df['location.citizenship'] = df['location.citizenship'].astype('category')\n",
    "\n",
    "df['location.citizenship'].dtype"
   ]
  },
  {
   "cell_type": "markdown",
   "metadata": {},
   "source": [
    "### demographics.gender"
   ]
  },
  {
   "cell_type": "code",
   "execution_count": null,
   "metadata": {},
   "outputs": [],
   "source": [
    "df['demographics.gender'].value_counts()"
   ]
  },
  {
   "cell_type": "code",
   "execution_count": null,
   "metadata": {},
   "outputs": [],
   "source": [
    "df['demographics.gender'].isna().sum()"
   ]
  },
  {
   "cell_type": "code",
   "execution_count": null,
   "metadata": {},
   "outputs": [],
   "source": [
    "df['demographics.gender'] = df['demographics.gender'].fillna('Unspecified')"
   ]
  },
  {
   "cell_type": "markdown",
   "metadata": {},
   "source": [
    "### company.type"
   ]
  },
  {
   "cell_type": "code",
   "execution_count": null,
   "metadata": {},
   "outputs": [],
   "source": [
    "df['company.type'].sort_values().unique()"
   ]
  },
  {
   "cell_type": "code",
   "execution_count": null,
   "metadata": {},
   "outputs": [],
   "source": [
    "df['company.type'] = df['company.type'].replace(\n",
    "    {\n",
    "        'aquired': 'acquired',\n",
    "        'franchise rights': 'franchise',\n",
    "        'neew': 'new',\n",
    "        'new division': 'new',\n",
    "        'new, privitization': 'new/privatized',\n",
    "        'privatization': 'privatized'\n",
    "    }\n",
    ")"
   ]
  },
  {
   "cell_type": "code",
   "execution_count": null,
   "metadata": {},
   "outputs": [],
   "source": [
    "df['company.type'].isna().sum()"
   ]
  },
  {
   "cell_type": "code",
   "execution_count": null,
   "metadata": {},
   "outputs": [],
   "source": [
    "df['company.type'] = df['company.type'].fillna('Unspecified')"
   ]
  },
  {
   "cell_type": "markdown",
   "metadata": {},
   "source": [
    "### company.sector"
   ]
  },
  {
   "cell_type": "code",
   "execution_count": null,
   "metadata": {},
   "outputs": [],
   "source": [
    "df['company.sector'].sort_values().unique()"
   ]
  },
  {
   "cell_type": "code",
   "execution_count": null,
   "metadata": {},
   "outputs": [],
   "source": [
    "\n",
    "df['company.sector'] = df['company.sector'].replace(\n",
    "    {\n",
    "        'Banking': 'banking',\n",
    "        'Communications': 'communications',\n",
    "        'Fashion': 'fashion',\n",
    "        'Finance': 'finance',\n",
    "        'Oil refining': 'oil refining',\n",
    "        'Software': 'software',\n",
    "        'agriculture': 'agricultural',\n",
    "        'agriculteral': 'agricultural',\n",
    "        'aigriculture': 'agricultural',\n",
    "        'airports': 'airport',\n",
    "        'aluminum, oil': 'aluminum/oil',\n",
    "        'aplliances': 'appliances',\n",
    "        'automobile dealers': 'auto dealerships',\n",
    "        'automotive parts': 'auto parts',\n",
    "        'automotive components': 'auto components',\n",
    "        'automotive': 'autos',\n",
    "        'automotives': 'autos',\n",
    "        'bank': 'banking',\n",
    "        'banking and insurance': 'banking/insurance',\n",
    "        'banking, real estate': 'banking/real estate',\n",
    "        'banking and real estate': 'banking/real estate',\n",
    "        'banking, media': 'banking/media',\n",
    "        'banking, oil, aluminum': 'banking/oil/aluminum',\n",
    "        'braking systems': 'brake systems',\n",
    "        'cars, finance': 'cars/finance',\n",
    "        'cigarette': 'cigarettes',\n",
    "        'comodities': 'commodities',\n",
    "        'commodity trading': 'commodities trading',\n",
    "        'construcion': 'construction',\n",
    "        'construction, hotels, gaming': 'construction/hotels/gaming',\n",
    "        'construction, utilities': 'construction/utilities',\n",
    "        'construction,banking': 'construction/banking',\n",
    "        'copper, poultry': 'copper/poultry',\n",
    "        'e-commerce, venture capital': 'e-commerce/venture capital',\n",
    "        'education, language schools': 'education/language schools',\n",
    "        'electonics': 'electronics',\n",
    "        'electonics components': 'electronic components',\n",
    "        'energy, retail, manufacturing': 'energy/retail/manufacturing',\n",
    "        'property, textile manufacturing': 'property/textile manufacturing',\n",
    "        'eyeglasses': 'glasses',\n",
    "        'fertalizers': 'fertilizers',\n",
    "        'fertilizer': 'fertilizers',\n",
    "        'finace': 'finance',\n",
    "        'forestry and mining': 'forestry/mining',\n",
    "        'metals and mining': 'metals/mining',\n",
    "        'gambing': 'gambling',\n",
    "        'media, pipelines': 'media/pipelines',\n",
    "        'gas, petrochemicals': 'gas/petrochemicals',\n",
    "        'internet companies': 'internet company',\n",
    "        'internet provider': 'internet service provider',\n",
    "        'investments': 'investment',\n",
    "        'invetsments': 'investment',\n",
    "        'investments/real estate, sports teams': 'investments/real estate/sports teams',\n",
    "        'iron and steel': 'iron/steel',\n",
    "        'leveraged buyout': 'leveraged buyouts',\n",
    "        'lumber, real estate': 'lumber/real estate',\n",
    "        'manufacturing, real estate, aviation': 'manufacturing/real estate/aviation',\n",
    "        'mining, investments': 'mining/investments',\n",
    "        'mining, steel': 'mining/steel',\n",
    "        'mutal funds': 'mutual funds',\n",
    "        'oil and gas': 'oil/gas',\n",
    "        'oil and natural gas': 'oil/gas',\n",
    "        'oil, railroad, investments': 'oil/railroad/investments',\n",
    "        'oil field services': 'oilfield services',\n",
    "        'petrochemicals and textiles': 'petrochemicals/textiles',\n",
    "        'petrochemicals, textiles': 'petrochemicals/textiles',\n",
    "        'plastic': 'plastics',\n",
    "        'ports, gas': 'ports/gas',\n",
    "        'postal service, beverages': 'postal service/beverages',\n",
    "        'real estate and metals': 'real estate/metals',\n",
    "        'real estate, financial services and computers': 'real estate/financial services/computers',\n",
    "        'real estate, retail': 'real estate/retail',\n",
    "        'restaurant': 'restaurants',\n",
    "        'retail, financial services, real estate': 'retail/financial services/real estate',\n",
    "        'retail, home appliances': 'retail/home appliances',\n",
    "        'rice trading, mining, infrastructure': 'rice trading/mining/infrastructure',\n",
    "        'self storage': 'self-storage',\n",
    "        'stock brokerage': 'stock broker',\n",
    "        'sugar, flour, cement': 'sugar/flour/cement',\n",
    "        'telecom, finance': 'telecom/finance',\n",
    "        'telecom, oil, beer': 'telecom/oil/beer',\n",
    "        'telecomm': 'telecom',\n",
    "        'textiles, industrial goods, media': 'textiles/industrial goods/media',\n",
    "        'timber and paper': 'timber/paper',\n",
    "        'timber, plantations': 'timber/plantations',\n",
    "        'trading company': 'trading',\n",
    "        'truck stop': 'truck stops',\n",
    "        'trucking and logistics': 'trucking/logistics',\n",
    "        'apparel and eyewear': 'apparel/eyewear',\n",
    "        'brokerage/banking': 'broker/banking',\n",
    "        'chocolate and coffee': 'chocolates/coffee',\n",
    "        'electronic componants': 'electronic components',\n",
    "        'elevators, escalators, engineering': 'elevators/escalators/engineering',\n",
    "        'food and energy processess': 'food and energy processes',\n",
    "        'food, entertainment': 'food/entertainment',\n",
    "        'gas and propane': 'gas/propane',\n",
    "        'hospitality and food service': 'hospitality/food service',\n",
    "        'hotels and supermarkets': 'hotels/supermarkets',\n",
    "        'industrial manufacturing and banking': 'industrial manufacturing/banking',\n",
    "        'insurancei, power': 'insurance/power',\n",
    "        'media, exports': 'media/exports',\n",
    "        'metals, paper, cement': 'metals/paper/cement',\n",
    "        'mining, banking': 'mining/banking',\n",
    "        'oleochemicals and palm oil': 'oleochemicals/palm oil',\n",
    "        'palm oil, mining': 'palm oil/mining',\n",
    "        'pet supplies, real estate': 'pet supplies/real estate',\n",
    "        'printing and electronics': 'printing/electronics'\n",
    "    }\n",
    ")"
   ]
  },
  {
   "cell_type": "raw",
   "metadata": {},
   "source": [
    "similar(df[\"company.sector\"].sort_values().unique())"
   ]
  },
  {
   "cell_type": "markdown",
   "metadata": {},
   "source": [
    "### company.relationship"
   ]
  },
  {
   "cell_type": "code",
   "execution_count": null,
   "metadata": {
    "tags": []
   },
   "outputs": [],
   "source": [
    "df['company.relationship'].sort_values().unique()"
   ]
  },
  {
   "cell_type": "code",
   "execution_count": null,
   "metadata": {},
   "outputs": [],
   "source": [
    "similar(df[\"company.relationship\"].sort_values().unique())"
   ]
  },
  {
   "cell_type": "markdown",
   "metadata": {},
   "source": [
    "### name"
   ]
  },
  {
   "cell_type": "markdown",
   "metadata": {},
   "source": [
    "Listing possible inconsistancies where the names are different, but the following features are the same:\n",
    "<ul>\n",
    "    <li>company.founded</li>\n",
    "    <li>company.name</li>\n",
    "    <li>company.relationship</li>\n",
    "    <li>company.sector</li>\n",
    "    <li>company.type</li>\n",
    "    <li>demographics.gender</li>\n",
    "    <li>location.citizenship</li>\n",
    "    <li>location.country code</li>\n",
    "    <li>location.region</li>\n",
    "    <li>wealth.type</li>\n",
    "    <li>wealth.how.category</li>\n",
    "    <li>wealth.how.from emerging</li>\n",
    "    <li>wealth.how.industry</li>\n",
    "    <li>wealth.how.inherited</li>\n",
    "</ul>"
   ]
  },
  {
   "cell_type": "code",
   "execution_count": null,
   "metadata": {
    "execution": {
     "iopub.execute_input": "2022-11-10T10:29:55.947293Z",
     "iopub.status.busy": "2022-11-10T10:29:55.946420Z",
     "iopub.status.idle": "2022-11-10T10:29:55.959434Z",
     "shell.execute_reply": "2022-11-10T10:29:55.957855Z",
     "shell.execute_reply.started": "2022-11-10T10:29:55.947247Z"
    }
   },
   "outputs": [],
   "source": [
    "dup_cols = ['company.founded',\n",
    "            'company.name',\n",
    "            'company.relationship',\n",
    "            'company.sector',\n",
    "            'company.type',\n",
    "            'demographics.gender',\n",
    "            'location.citizenship',\n",
    "            'location.country code',\n",
    "            'location.region',\n",
    "            'wealth.type',\n",
    "            'wealth.how.category',\n",
    "            'wealth.how.from emerging',\n",
    "            'wealth.how.industry',\n",
    "            'wealth.how.inherited']\n",
    "\n",
    "dup_rows = df[df.duplicated(subset=dup_cols)]\n",
    "dup_rows[duprows[]]"
   ]
  },
  {
   "cell_type": "code",
   "execution_count": null,
   "metadata": {
    "execution": {
     "iopub.status.busy": "2022-11-10T10:29:55.961011Z",
     "iopub.status.idle": "2022-11-10T10:29:55.961480Z",
     "shell.execute_reply": "2022-11-10T10:29:55.961269Z",
     "shell.execute_reply.started": "2022-11-10T10:29:55.961245Z"
    }
   },
   "outputs": [],
   "source": [
    "import re\n",
    "\n",
    "df[df['name'].apply(lambda x: (re.search('abraham', x, re.IGNORECASE) is not None))]"
   ]
  },
  {
   "cell_type": "code",
   "execution_count": null,
   "metadata": {
    "execution": {
     "iopub.status.busy": "2022-11-10T10:29:55.963033Z",
     "iopub.status.idle": "2022-11-10T10:29:55.963879Z",
     "shell.execute_reply": "2022-11-10T10:29:55.963674Z",
     "shell.execute_reply.started": "2022-11-10T10:29:55.963650Z"
    }
   },
   "outputs": [],
   "source": [
    "import re\n",
    "\n",
    "df[df['name'].apply(lambda x: (re.search('abraham', x, re.IGNORECASE) is not None))]"
   ]
  }
 ],
 "metadata": {
  "kernelspec": {
   "display_name": "Python 3 (ipykernel)",
   "language": "python",
   "name": "python3"
  },
  "language_info": {
   "codemirror_mode": {
    "name": "ipython",
    "version": 3
   },
   "file_extension": ".py",
   "mimetype": "text/x-python",
   "name": "python",
   "nbconvert_exporter": "python",
   "pygments_lexer": "ipython3",
   "version": "3.10.6"
  }
 },
 "nbformat": 4,
 "nbformat_minor": 4
}
